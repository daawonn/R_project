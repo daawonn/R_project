{
  "nbformat": 4,
  "nbformat_minor": 0,
  "metadata": {
    "kernelspec": {
      "display_name": "R",
      "language": "R",
      "name": "ir"
    },
    "language_info": {
      "codemirror_mode": "r",
      "file_extension": ".r",
      "mimetype": "text/x-r-source",
      "name": "R",
      "pygments_lexer": "r",
      "version": "3.6.1"
    },
    "colab": {
      "name": "5.한국복지패널데이터분석.ipynb",
      "provenance": [],
      "include_colab_link": true
    }
  },
  "cells": [
    {
      "cell_type": "markdown",
      "metadata": {
        "id": "view-in-github",
        "colab_type": "text"
      },
      "source": [
        "<a href=\"https://colab.research.google.com/github/daawonn/R_project/blob/master/5_%ED%95%9C%EA%B5%AD%EB%B3%B5%EC%A7%80%ED%8C%A8%EB%84%90%EB%8D%B0%EC%9D%B4%ED%84%B0%EB%B6%84%EC%84%9D.ipynb\" target=\"_parent\"><img src=\"https://colab.research.google.com/assets/colab-badge.svg\" alt=\"Open In Colab\"/></a>"
      ]
    },
    {
      "cell_type": "markdown",
      "metadata": {
        "id": "auupvMTKxPW9",
        "colab_type": "text"
      },
      "source": [
        "# 한국복지패널데이터분석 - R"
      ]
    },
    {
      "cell_type": "code",
      "metadata": {
        "id": "zVLznDq8xPW_",
        "colab_type": "code",
        "colab": {},
        "outputId": "f0a6b07a-56c7-4a79-91d3-ba10ccfd11d8"
      },
      "source": [
        "# 패키지 준비하기 \n",
        "install.packages(\"foreign\")  # foreign 패키지 설치\n",
        "library(foreign)             # SPSS 파일 로드\n",
        "library(dplyr)               # 전처리\n",
        "library(ggplot2)             # 시각화\n",
        "library(readxl)              # 엑셀 파일 불러오기 "
      ],
      "execution_count": 0,
      "outputs": [
        {
          "output_type": "stream",
          "text": [
            "Installing package into 'C:/Users/admin/Documents/R/win-library/3.6'\n",
            "(as 'lib' is unspecified)\n"
          ],
          "name": "stderr"
        },
        {
          "output_type": "stream",
          "text": [
            "package 'foreign' successfully unpacked and MD5 sums checked\n",
            "\n",
            "The downloaded binary packages are in\n",
            "\tC:\\Users\\admin\\AppData\\Local\\Temp\\RtmpWqklX0\\downloaded_packages\n"
          ],
          "name": "stdout"
        },
        {
          "output_type": "stream",
          "text": [
            "Warning message:\n",
            "\"package 'foreign' was built under R version 3.6.2\"Warning message:\n",
            "\"package 'dplyr' was built under R version 3.6.2\"\n",
            "Attaching package: 'dplyr'\n",
            "\n",
            "The following objects are masked from 'package:stats':\n",
            "\n",
            "    filter, lag\n",
            "\n",
            "The following objects are masked from 'package:base':\n",
            "\n",
            "    intersect, setdiff, setequal, union\n",
            "\n",
            "Warning message:\n",
            "\"package 'ggplot2' was built under R version 3.6.2\"Warning message:\n",
            "\"package 'readxl' was built under R version 3.6.2\""
          ],
          "name": "stderr"
        }
      ]
    },
    {
      "cell_type": "code",
      "metadata": {
        "id": "cIVDSbb_xPXD",
        "colab_type": "code",
        "colab": {},
        "outputId": "3a8bb23b-8d60-4421-8ea5-ba63c01b9498"
      },
      "source": [
        "# 데이터 준비하기 \n",
        "# 데이터 불러오기\n",
        "raw_welfare <- read.spss(file = './Koweps_hpc10_2015_beta1.sav', to.data.frame = T) \n",
        " \n",
        "# 복사본 만들기\n",
        "welfare <- raw_welfare "
      ],
      "execution_count": 0,
      "outputs": [
        {
          "output_type": "stream",
          "text": [
            "Warning message in read.spss(file = \"./Koweps_hpc10_2015_beta1.sav\", to.data.frame = T):\n",
            "\"./Koweps_hpc10_2015_beta1.sav: Compression bias (0) is not the usual value of 100\""
          ],
          "name": "stderr"
        }
      ]
    },
    {
      "cell_type": "markdown",
      "metadata": {
        "id": "SMn1TIOnxPXG",
        "colab_type": "text"
      },
      "source": [
        "- 대규모 데이터는 변수가 많고 변수명이 코드로 되어 있어서 전체 데이터 구조를 한눈에 파악하기 어려움 \n",
        "- 변수명을 쉬운 단어로 바꾼 후 분석에 사용할 변수들 각각 파악해야 함"
      ]
    },
    {
      "cell_type": "code",
      "metadata": {
        "id": "rNobta49xPXH",
        "colab_type": "code",
        "colab": {},
        "outputId": "0478b1c6-ce63-43d8-d9e5-1c346eb89ff0"
      },
      "source": [
        "head(welfare) \n",
        "tail(welfare) \n",
        "# View(welfare) \n",
        "# dim(welfare) \n",
        "# str(welfare) \n",
        "# summary(welfare) "
      ],
      "execution_count": 0,
      "outputs": [
        {
          "output_type": "display_data",
          "data": {
            "text/html": [
              "<table>\n",
              "<thead><tr><th scope=col>h10_id</th><th scope=col>h10_ind</th><th scope=col>h10_sn</th><th scope=col>h10_merkey</th><th scope=col>h_new</th><th scope=col>h10_cobf</th><th scope=col>h10_reg5</th><th scope=col>h10_reg7</th><th scope=col>h10_din</th><th scope=col>h10_cin</th><th scope=col>...</th><th scope=col>c1007_4aq19</th><th scope=col>c1007_4aq20</th><th scope=col>c1007_4aq21</th><th scope=col>c1007_4aq22</th><th scope=col>c1007_4aq23</th><th scope=col>h10_pers_income1</th><th scope=col>h10_pers_income2</th><th scope=col>h10_pers_income3</th><th scope=col>h10_pers_income4</th><th scope=col>h10_pers_income5</th></tr></thead>\n",
              "<tbody>\n",
              "\t<tr><td>1    </td><td>1    </td><td>1    </td><td>10101</td><td>0    </td><td>NA   </td><td>1    </td><td>1    </td><td> 864 </td><td> 864 </td><td>...  </td><td>NA   </td><td>NA   </td><td>NA   </td><td>NA   </td><td>NA   </td><td>NA   </td><td>  NA </td><td>  NA </td><td>0    </td><td>NA   </td></tr>\n",
              "\t<tr><td>2    </td><td>1    </td><td>1    </td><td>20101</td><td>0    </td><td>NA   </td><td>1    </td><td>1    </td><td> 600 </td><td> 600 </td><td>...  </td><td>NA   </td><td>NA   </td><td>NA   </td><td>NA   </td><td>NA   </td><td>NA   </td><td>  NA </td><td>  NA </td><td>0    </td><td>NA   </td></tr>\n",
              "\t<tr><td>3    </td><td>1    </td><td>1    </td><td>30101</td><td>0    </td><td>NA   </td><td>1    </td><td>1    </td><td>1571 </td><td>1619 </td><td>...  </td><td>NA   </td><td>NA   </td><td>NA   </td><td>NA   </td><td>NA   </td><td>NA   </td><td>1440 </td><td>  NA </td><td>0    </td><td>NA   </td></tr>\n",
              "\t<tr><td>4    </td><td>1    </td><td>1    </td><td>40101</td><td>0    </td><td>NA   </td><td>1    </td><td>1    </td><td>3579 </td><td>3687 </td><td>...  </td><td>NA   </td><td>NA   </td><td>NA   </td><td>NA   </td><td>NA   </td><td>NA   </td><td>2400 </td><td>  NA </td><td>0    </td><td>NA   </td></tr>\n",
              "\t<tr><td>4    </td><td>1    </td><td>1    </td><td>40101</td><td>0    </td><td>NA   </td><td>1    </td><td>1    </td><td>3579 </td><td>3687 </td><td>...  </td><td>NA   </td><td>NA   </td><td>NA   </td><td>NA   </td><td>NA   </td><td>NA   </td><td>  NA </td><td>  NA </td><td>0    </td><td>NA   </td></tr>\n",
              "\t<tr><td>6    </td><td>1    </td><td>1    </td><td>60101</td><td>0    </td><td>NA   </td><td>1    </td><td>1    </td><td>3030 </td><td>3486 </td><td>...  </td><td>NA   </td><td>NA   </td><td>NA   </td><td>NA   </td><td>NA   </td><td>NA   </td><td>  NA </td><td>3000 </td><td>0    </td><td>NA   </td></tr>\n",
              "</tbody>\n",
              "</table>\n"
            ],
            "text/latex": "\\begin{tabular}{r|lllllllllllllllllllllllllllllllllllllllllllllllllllllllllllllllllllllllllllllllllllllllllllllllllllllllllllllllllllllllllllllllllllllllllllllllllllllllllllllllllllllllllllllllllllllllllllllllllllllllllllllllllllllllllllllllllllllllllllllllllllllllllllllllllllllllllllllllllllllllllllllllllllllllllllllllllllllllllllllllllllllllllllllllllllllllllllllllllllllllllllllllllllllllllllllllllllllllllllllllllllllllllllllllllllllllllllllllllllllllllllllllllllllllllllllllllllllllllllllllllllllllllllllllllllllllllllllllllllllllllllllllllllllllllllllllllllllllllllllllllllllllllllllllllllllllllllllllllllllllllllllllllllllllllllllllllllllllllllllllllllllllllllllllllllllllllllllllllllllllllllllllllllllllllllllllllllllllllllllllllllllllllllllllllllllllllllllllllllllllllllllllllllllllllllllllllllllllllllllllllllllllllllllllllllllllllllllllllllllllllllllllllllllllllllllllllllllllllllllllllllllllllllllllllllllllllllllllllllllllllllllllllllllllllllllllllllllllllllll}\n h10\\_id & h10\\_ind & h10\\_sn & h10\\_merkey & h\\_new & h10\\_cobf & h10\\_reg5 & h10\\_reg7 & h10\\_din & h10\\_cin & ... & c1007\\_4aq19 & c1007\\_4aq20 & c1007\\_4aq21 & c1007\\_4aq22 & c1007\\_4aq23 & h10\\_pers\\_income1 & h10\\_pers\\_income2 & h10\\_pers\\_income3 & h10\\_pers\\_income4 & h10\\_pers\\_income5\\\\\n\\hline\n\t 1     & 1     & 1     & 10101 & 0     & NA    & 1     & 1     &  864  &  864  & ...   & NA    & NA    & NA    & NA    & NA    & NA    &   NA  &   NA  & 0     & NA   \\\\\n\t 2     & 1     & 1     & 20101 & 0     & NA    & 1     & 1     &  600  &  600  & ...   & NA    & NA    & NA    & NA    & NA    & NA    &   NA  &   NA  & 0     & NA   \\\\\n\t 3     & 1     & 1     & 30101 & 0     & NA    & 1     & 1     & 1571  & 1619  & ...   & NA    & NA    & NA    & NA    & NA    & NA    & 1440  &   NA  & 0     & NA   \\\\\n\t 4     & 1     & 1     & 40101 & 0     & NA    & 1     & 1     & 3579  & 3687  & ...   & NA    & NA    & NA    & NA    & NA    & NA    & 2400  &   NA  & 0     & NA   \\\\\n\t 4     & 1     & 1     & 40101 & 0     & NA    & 1     & 1     & 3579  & 3687  & ...   & NA    & NA    & NA    & NA    & NA    & NA    &   NA  &   NA  & 0     & NA   \\\\\n\t 6     & 1     & 1     & 60101 & 0     & NA    & 1     & 1     & 3030  & 3486  & ...   & NA    & NA    & NA    & NA    & NA    & NA    &   NA  & 3000  & 0     & NA   \\\\\n\\end{tabular}\n",
            "text/markdown": "\n| h10_id | h10_ind | h10_sn | h10_merkey | h_new | h10_cobf | h10_reg5 | h10_reg7 | h10_din | h10_cin | ... | c1007_4aq19 | c1007_4aq20 | c1007_4aq21 | c1007_4aq22 | c1007_4aq23 | h10_pers_income1 | h10_pers_income2 | h10_pers_income3 | h10_pers_income4 | h10_pers_income5 |\n|---|---|---|---|---|---|---|---|---|---|---|---|---|---|---|---|---|---|---|---|---|\n| 1     | 1     | 1     | 10101 | 0     | NA    | 1     | 1     |  864  |  864  | ...   | NA    | NA    | NA    | NA    | NA    | NA    |   NA  |   NA  | 0     | NA    |\n| 2     | 1     | 1     | 20101 | 0     | NA    | 1     | 1     |  600  |  600  | ...   | NA    | NA    | NA    | NA    | NA    | NA    |   NA  |   NA  | 0     | NA    |\n| 3     | 1     | 1     | 30101 | 0     | NA    | 1     | 1     | 1571  | 1619  | ...   | NA    | NA    | NA    | NA    | NA    | NA    | 1440  |   NA  | 0     | NA    |\n| 4     | 1     | 1     | 40101 | 0     | NA    | 1     | 1     | 3579  | 3687  | ...   | NA    | NA    | NA    | NA    | NA    | NA    | 2400  |   NA  | 0     | NA    |\n| 4     | 1     | 1     | 40101 | 0     | NA    | 1     | 1     | 3579  | 3687  | ...   | NA    | NA    | NA    | NA    | NA    | NA    |   NA  |   NA  | 0     | NA    |\n| 6     | 1     | 1     | 60101 | 0     | NA    | 1     | 1     | 3030  | 3486  | ...   | NA    | NA    | NA    | NA    | NA    | NA    |   NA  | 3000  | 0     | NA    |\n\n",
            "text/plain": [
              "  h10_id h10_ind h10_sn h10_merkey h_new h10_cobf h10_reg5 h10_reg7 h10_din\n",
              "1 1      1       1      10101      0     NA       1        1         864   \n",
              "2 2      1       1      20101      0     NA       1        1         600   \n",
              "3 3      1       1      30101      0     NA       1        1        1571   \n",
              "4 4      1       1      40101      0     NA       1        1        3579   \n",
              "5 4      1       1      40101      0     NA       1        1        3579   \n",
              "6 6      1       1      60101      0     NA       1        1        3030   \n",
              "  h10_cin ... c1007_4aq19 c1007_4aq20 c1007_4aq21 c1007_4aq22 c1007_4aq23\n",
              "1  864    ... NA          NA          NA          NA          NA         \n",
              "2  600    ... NA          NA          NA          NA          NA         \n",
              "3 1619    ... NA          NA          NA          NA          NA         \n",
              "4 3687    ... NA          NA          NA          NA          NA         \n",
              "5 3687    ... NA          NA          NA          NA          NA         \n",
              "6 3486    ... NA          NA          NA          NA          NA         \n",
              "  h10_pers_income1 h10_pers_income2 h10_pers_income3 h10_pers_income4\n",
              "1 NA                 NA               NA             0               \n",
              "2 NA                 NA               NA             0               \n",
              "3 NA               1440               NA             0               \n",
              "4 NA               2400               NA             0               \n",
              "5 NA                 NA               NA             0               \n",
              "6 NA                 NA             3000             0               \n",
              "  h10_pers_income5\n",
              "1 NA              \n",
              "2 NA              \n",
              "3 NA              \n",
              "4 NA              \n",
              "5 NA              \n",
              "6 NA              "
            ]
          },
          "metadata": {
            "tags": []
          }
        },
        {
          "output_type": "display_data",
          "data": {
            "text/html": [
              "<table>\n",
              "<thead><tr><th></th><th scope=col>h10_id</th><th scope=col>h10_ind</th><th scope=col>h10_sn</th><th scope=col>h10_merkey</th><th scope=col>h_new</th><th scope=col>h10_cobf</th><th scope=col>h10_reg5</th><th scope=col>h10_reg7</th><th scope=col>h10_din</th><th scope=col>h10_cin</th><th scope=col>...</th><th scope=col>c1007_4aq19</th><th scope=col>c1007_4aq20</th><th scope=col>c1007_4aq21</th><th scope=col>c1007_4aq22</th><th scope=col>c1007_4aq23</th><th scope=col>h10_pers_income1</th><th scope=col>h10_pers_income2</th><th scope=col>h10_pers_income3</th><th scope=col>h10_pers_income4</th><th scope=col>h10_pers_income5</th></tr></thead>\n",
              "<tbody>\n",
              "\t<tr><th scope=row>16659</th><td>9800    </td><td>7       </td><td>1       </td><td>98000701</td><td>1       </td><td>NA      </td><td>4       </td><td>5       </td><td>9764    </td><td>11600   </td><td>...     </td><td>NA      </td><td>NA      </td><td>NA      </td><td>NA      </td><td>NA      </td><td>  NA    </td><td> NA     </td><td>7163    </td><td>0       </td><td>NA      </td></tr>\n",
              "\t<tr><th scope=row>16660</th><td>9800    </td><td>7       </td><td>1       </td><td>98000701</td><td>1       </td><td>NA      </td><td>4       </td><td>5       </td><td>9764    </td><td>11600   </td><td>...     </td><td>NA      </td><td>NA      </td><td>NA      </td><td>NA      </td><td>NA      </td><td>  NA    </td><td> NA     </td><td>  NA    </td><td>0       </td><td>NA      </td></tr>\n",
              "\t<tr><th scope=row>16661</th><td>9800    </td><td>7       </td><td>1       </td><td>98000701</td><td>1       </td><td>NA      </td><td>4       </td><td>5       </td><td>9764    </td><td>11600   </td><td>...     </td><td>NA      </td><td>NA      </td><td>NA      </td><td>NA      </td><td>NA      </td><td>3630    </td><td> NA     </td><td>  NA    </td><td>0       </td><td>NA      </td></tr>\n",
              "\t<tr><th scope=row>16662</th><td>9800    </td><td>7       </td><td>1       </td><td>98000701</td><td>1       </td><td>NA      </td><td>4       </td><td>5       </td><td>9764    </td><td>11600   </td><td>...     </td><td>NA      </td><td>NA      </td><td>NA      </td><td>NA      </td><td>NA      </td><td>  NA    </td><td>700     </td><td>  NA    </td><td>0       </td><td>NA      </td></tr>\n",
              "\t<tr><th scope=row>16663</th><td>9800    </td><td>7       </td><td>1       </td><td>98000701</td><td>1       </td><td>NA      </td><td>4       </td><td>5       </td><td>9764    </td><td>11600   </td><td>...     </td><td>NA      </td><td>NA      </td><td>NA      </td><td>NA      </td><td>NA      </td><td>  NA    </td><td> NA     </td><td>  NA    </td><td>0       </td><td>NA      </td></tr>\n",
              "\t<tr><th scope=row>16664</th><td>9800    </td><td>7       </td><td>1       </td><td>98000701</td><td>1       </td><td>NA      </td><td>4       </td><td>5       </td><td>9764    </td><td>11600   </td><td>...     </td><td>NA      </td><td>NA      </td><td>NA      </td><td>NA      </td><td>NA      </td><td>  NA    </td><td> NA     </td><td>  NA    </td><td>0       </td><td>NA      </td></tr>\n",
              "</tbody>\n",
              "</table>\n"
            ],
            "text/latex": "\\begin{tabular}{r|lllllllllllllllllllllllllllllllllllllllllllllllllllllllllllllllllllllllllllllllllllllllllllllllllllllllllllllllllllllllllllllllllllllllllllllllllllllllllllllllllllllllllllllllllllllllllllllllllllllllllllllllllllllllllllllllllllllllllllllllllllllllllllllllllllllllllllllllllllllllllllllllllllllllllllllllllllllllllllllllllllllllllllllllllllllllllllllllllllllllllllllllllllllllllllllllllllllllllllllllllllllllllllllllllllllllllllllllllllllllllllllllllllllllllllllllllllllllllllllllllllllllllllllllllllllllllllllllllllllllllllllllllllllllllllllllllllllllllllllllllllllllllllllllllllllllllllllllllllllllllllllllllllllllllllllllllllllllllllllllllllllllllllllllllllllllllllllllllllllllllllllllllllllllllllllllllllllllllllllllllllllllllllllllllllllllllllllllllllllllllllllllllllllllllllllllllllllllllllllllllllllllllllllllllllllllllllllllllllllllllllllllllllllllllllllllllllllllllllllllllllllllllllllllllllllllllllllllllllllllllllllllllllllllllllllllllllllllllllll}\n  & h10\\_id & h10\\_ind & h10\\_sn & h10\\_merkey & h\\_new & h10\\_cobf & h10\\_reg5 & h10\\_reg7 & h10\\_din & h10\\_cin & ... & c1007\\_4aq19 & c1007\\_4aq20 & c1007\\_4aq21 & c1007\\_4aq22 & c1007\\_4aq23 & h10\\_pers\\_income1 & h10\\_pers\\_income2 & h10\\_pers\\_income3 & h10\\_pers\\_income4 & h10\\_pers\\_income5\\\\\n\\hline\n\t16659 & 9800     & 7        & 1        & 98000701 & 1        & NA       & 4        & 5        & 9764     & 11600    & ...      & NA       & NA       & NA       & NA       & NA       &   NA     &  NA      & 7163     & 0        & NA      \\\\\n\t16660 & 9800     & 7        & 1        & 98000701 & 1        & NA       & 4        & 5        & 9764     & 11600    & ...      & NA       & NA       & NA       & NA       & NA       &   NA     &  NA      &   NA     & 0        & NA      \\\\\n\t16661 & 9800     & 7        & 1        & 98000701 & 1        & NA       & 4        & 5        & 9764     & 11600    & ...      & NA       & NA       & NA       & NA       & NA       & 3630     &  NA      &   NA     & 0        & NA      \\\\\n\t16662 & 9800     & 7        & 1        & 98000701 & 1        & NA       & 4        & 5        & 9764     & 11600    & ...      & NA       & NA       & NA       & NA       & NA       &   NA     & 700      &   NA     & 0        & NA      \\\\\n\t16663 & 9800     & 7        & 1        & 98000701 & 1        & NA       & 4        & 5        & 9764     & 11600    & ...      & NA       & NA       & NA       & NA       & NA       &   NA     &  NA      &   NA     & 0        & NA      \\\\\n\t16664 & 9800     & 7        & 1        & 98000701 & 1        & NA       & 4        & 5        & 9764     & 11600    & ...      & NA       & NA       & NA       & NA       & NA       &   NA     &  NA      &   NA     & 0        & NA      \\\\\n\\end{tabular}\n",
            "text/markdown": "\n| <!--/--> | h10_id | h10_ind | h10_sn | h10_merkey | h_new | h10_cobf | h10_reg5 | h10_reg7 | h10_din | h10_cin | ... | c1007_4aq19 | c1007_4aq20 | c1007_4aq21 | c1007_4aq22 | c1007_4aq23 | h10_pers_income1 | h10_pers_income2 | h10_pers_income3 | h10_pers_income4 | h10_pers_income5 |\n|---|---|---|---|---|---|---|---|---|---|---|---|---|---|---|---|---|---|---|---|---|---|\n| 16659 | 9800     | 7        | 1        | 98000701 | 1        | NA       | 4        | 5        | 9764     | 11600    | ...      | NA       | NA       | NA       | NA       | NA       |   NA     |  NA      | 7163     | 0        | NA       |\n| 16660 | 9800     | 7        | 1        | 98000701 | 1        | NA       | 4        | 5        | 9764     | 11600    | ...      | NA       | NA       | NA       | NA       | NA       |   NA     |  NA      |   NA     | 0        | NA       |\n| 16661 | 9800     | 7        | 1        | 98000701 | 1        | NA       | 4        | 5        | 9764     | 11600    | ...      | NA       | NA       | NA       | NA       | NA       | 3630     |  NA      |   NA     | 0        | NA       |\n| 16662 | 9800     | 7        | 1        | 98000701 | 1        | NA       | 4        | 5        | 9764     | 11600    | ...      | NA       | NA       | NA       | NA       | NA       |   NA     | 700      |   NA     | 0        | NA       |\n| 16663 | 9800     | 7        | 1        | 98000701 | 1        | NA       | 4        | 5        | 9764     | 11600    | ...      | NA       | NA       | NA       | NA       | NA       |   NA     |  NA      |   NA     | 0        | NA       |\n| 16664 | 9800     | 7        | 1        | 98000701 | 1        | NA       | 4        | 5        | 9764     | 11600    | ...      | NA       | NA       | NA       | NA       | NA       |   NA     |  NA      |   NA     | 0        | NA       |\n\n",
            "text/plain": [
              "      h10_id h10_ind h10_sn h10_merkey h_new h10_cobf h10_reg5 h10_reg7 h10_din\n",
              "16659 9800   7       1      98000701   1     NA       4        5        9764   \n",
              "16660 9800   7       1      98000701   1     NA       4        5        9764   \n",
              "16661 9800   7       1      98000701   1     NA       4        5        9764   \n",
              "16662 9800   7       1      98000701   1     NA       4        5        9764   \n",
              "16663 9800   7       1      98000701   1     NA       4        5        9764   \n",
              "16664 9800   7       1      98000701   1     NA       4        5        9764   \n",
              "      h10_cin ... c1007_4aq19 c1007_4aq20 c1007_4aq21 c1007_4aq22 c1007_4aq23\n",
              "16659 11600   ... NA          NA          NA          NA          NA         \n",
              "16660 11600   ... NA          NA          NA          NA          NA         \n",
              "16661 11600   ... NA          NA          NA          NA          NA         \n",
              "16662 11600   ... NA          NA          NA          NA          NA         \n",
              "16663 11600   ... NA          NA          NA          NA          NA         \n",
              "16664 11600   ... NA          NA          NA          NA          NA         \n",
              "      h10_pers_income1 h10_pers_income2 h10_pers_income3 h10_pers_income4\n",
              "16659   NA              NA              7163             0               \n",
              "16660   NA              NA                NA             0               \n",
              "16661 3630              NA                NA             0               \n",
              "16662   NA             700                NA             0               \n",
              "16663   NA              NA                NA             0               \n",
              "16664   NA              NA                NA             0               \n",
              "      h10_pers_income5\n",
              "16659 NA              \n",
              "16660 NA              \n",
              "16661 NA              \n",
              "16662 NA              \n",
              "16663 NA              \n",
              "16664 NA              "
            ]
          },
          "metadata": {
            "tags": []
          }
        }
      ]
    },
    {
      "cell_type": "code",
      "metadata": {
        "id": "W-LKk59fxPXK",
        "colab_type": "code",
        "colab": {}
      },
      "source": [
        "#변수명 바꾸기 \n",
        "welfare <- rename(welfare,                   \n",
        "                   sex = h10_g3,            # 성별\n",
        "                   birth = h10_g4,          # 태어난 연도\n",
        "                   marriage = h10_g10,      # 혼인 상태\n",
        "                   religion = h10_g11,      # 종교\n",
        "                   income = p1002_8aq1,     # 월급\n",
        "                   code_job = h10_eco9,     # 직종 코드\n",
        "                   code_region = h10_reg7)  # 지역 코드"
      ],
      "execution_count": 0,
      "outputs": []
    },
    {
      "cell_type": "markdown",
      "metadata": {
        "id": "4pQ4dkZWxPXM",
        "colab_type": "text"
      },
      "source": [
        "## 데이터 분석 절차 \n",
        "- 1단계. 변수 검토 및 전처리 \n",
        "- 2단계. 변수 간 관계 분석 "
      ]
    },
    {
      "cell_type": "markdown",
      "metadata": {
        "id": "m7fL-_fhxPXN",
        "colab_type": "text"
      },
      "source": [
        "## 성별에 따른 월급 차이 - \"성별에 따라 월급이 다를까?\" \n",
        "- 분석 절차 \n",
        "    - 1. 변수 검토 및 전처리 \n",
        "        - 성별  \n",
        "        - 월급 \n",
        "    - 2. 변수 간 관계 분석 \n",
        "        - 성별 월급 평균표 만들기 \n",
        "        - 그래프 만들기 "
      ]
    },
    {
      "cell_type": "markdown",
      "metadata": {
        "id": "awZJnQWJxPXO",
        "colab_type": "text"
      },
      "source": [
        "### 성별변수 검토 및 전처리"
      ]
    },
    {
      "cell_type": "code",
      "metadata": {
        "id": "XBDIl_g6xPXP",
        "colab_type": "code",
        "colab": {},
        "outputId": "15bb5c00-d7bb-4b19-9154-0198f48ea94e"
      },
      "source": [
        "# 1. 변수 검토하기 \n",
        "class(welfare$sex)\n",
        "table(welfare$sex) "
      ],
      "execution_count": 0,
      "outputs": [
        {
          "output_type": "display_data",
          "data": {
            "text/html": [
              "'numeric'"
            ],
            "text/latex": "'numeric'",
            "text/markdown": "'numeric'",
            "text/plain": [
              "[1] \"numeric\""
            ]
          },
          "metadata": {
            "tags": []
          }
        },
        {
          "output_type": "display_data",
          "data": {
            "text/plain": [
              "\n",
              "   1    2 \n",
              "7578 9086 "
            ]
          },
          "metadata": {
            "tags": []
          }
        }
      ]
    },
    {
      "cell_type": "code",
      "metadata": {
        "id": "iUdnok1gxPXS",
        "colab_type": "code",
        "colab": {},
        "outputId": "5d84f765-dbe0-4afc-87fd-60b402c7c01f"
      },
      "source": [
        "# 2. 전처리 \n",
        "# 이상치 확인\n",
        "table(welfare$sex) \n",
        "# 이상치 결측 처리\n",
        "welfare$sex <- ifelse(welfare$sex == 9, NA, welfare$sex) \n",
        " \n",
        "# 결측치 확인\n",
        "table(is.na(welfare$sex)) \n",
        "\n",
        "# 성별 항목 이름 부여\n",
        "welfare$sex <- ifelse(welfare$sex == 1, \"male\", \"female\") \n",
        "table(welfare$sex) "
      ],
      "execution_count": 0,
      "outputs": [
        {
          "output_type": "display_data",
          "data": {
            "text/plain": [
              "\n",
              "   1    2 \n",
              "7578 9086 "
            ]
          },
          "metadata": {
            "tags": []
          }
        },
        {
          "output_type": "display_data",
          "data": {
            "text/plain": [
              "\n",
              "FALSE \n",
              "16664 "
            ]
          },
          "metadata": {
            "tags": []
          }
        },
        {
          "output_type": "display_data",
          "data": {
            "text/plain": [
              "\n",
              "female   male \n",
              "  9086   7578 "
            ]
          },
          "metadata": {
            "tags": []
          }
        }
      ]
    },
    {
      "cell_type": "code",
      "metadata": {
        "id": "99NVGB3exPXV",
        "colab_type": "code",
        "colab": {},
        "outputId": "f59a2bcc-3783-4c0a-d34b-c8a94ebfeb4c"
      },
      "source": [
        "\n",
        "qplot(welfare$sex)"
      ],
      "execution_count": 0,
      "outputs": [
        {
          "output_type": "display_data",
          "data": {
            "image/png": "[encoded data removed]",
            "text/plain": [
              "plot without title"
            ]
          },
          "metadata": {
            "tags": []
          }
        }
      ]
    },
    {
      "cell_type": "markdown",
      "metadata": {
        "id": "IZjv3R4OxPXX",
        "colab_type": "text"
      },
      "source": [
        "### 월급 변수 검토 및 전처리"
      ]
    },
    {
      "cell_type": "code",
      "metadata": {
        "id": "WnwqK0SsxPXY",
        "colab_type": "code",
        "colab": {},
        "outputId": "7dfd50be-ce9a-4e07-cd7e-296648f4e4eb"
      },
      "source": [
        "# 1. 변수 검토하기 \n",
        "class(welfare$income) \n",
        "summary(welfare$income) "
      ],
      "execution_count": 0,
      "outputs": [
        {
          "output_type": "display_data",
          "data": {
            "text/html": [
              "'numeric'"
            ],
            "text/latex": "'numeric'",
            "text/markdown": "'numeric'",
            "text/plain": [
              "[1] \"numeric\""
            ]
          },
          "metadata": {
            "tags": []
          }
        },
        {
          "output_type": "display_data",
          "data": {
            "text/plain": [
              "   Min. 1st Qu.  Median    Mean 3rd Qu.    Max.    NA's \n",
              "    0.0   122.0   192.5   241.6   316.6  2400.0   12030 "
            ]
          },
          "metadata": {
            "tags": []
          }
        }
      ]
    },
    {
      "cell_type": "code",
      "metadata": {
        "id": "36jhPNZrxPXb",
        "colab_type": "code",
        "colab": {},
        "outputId": "6b64ec98-238a-4b8b-b869-d5c292e2630f"
      },
      "source": [
        "qplot(welfare$income)"
      ],
      "execution_count": 0,
      "outputs": [
        {
          "output_type": "stream",
          "text": [
            "`stat_bin()` using `bins = 30`. Pick better value with `binwidth`.\n",
            "Warning message:\n",
            "\"Removed 12030 rows containing non-finite values (stat_bin).\""
          ],
          "name": "stderr"
        },
        {
          "output_type": "display_data",
          "data": {
            "image/png": "[encoded data removed]",
            "text/plain": [
              "plot without title"
            ]
          },
          "metadata": {
            "tags": []
          }
        }
      ]
    },
    {
      "cell_type": "code",
      "metadata": {
        "id": "ltUBv7umxPXd",
        "colab_type": "code",
        "colab": {},
        "outputId": "233e64fb-47cb-453a-8a84-b010dd699cdd"
      },
      "source": [
        "qplot(welfare$income) + xlim(0, 1000)"
      ],
      "execution_count": 0,
      "outputs": [
        {
          "output_type": "stream",
          "text": [
            "`stat_bin()` using `bins = 30`. Pick better value with `binwidth`.\n",
            "Warning message:\n",
            "\"Removed 12051 rows containing non-finite values (stat_bin).\"Warning message:\n",
            "\"Removed 2 rows containing missing values (geom_bar).\""
          ],
          "name": "stderr"
        },
        {
          "output_type": "display_data",
          "data": {
            "image/png": "[encoded data removed]",
            "text/plain": [
              "plot without title"
            ]
          },
          "metadata": {
            "tags": []
          }
        }
      ]
    },
    {
      "cell_type": "code",
      "metadata": {
        "id": "WJ4vSWQTxPXf",
        "colab_type": "code",
        "colab": {},
        "outputId": "d2fbdfa7-cf2f-4ffc-b674-5a2e667a96fd"
      },
      "source": [
        "# 2. 전처리\n",
        "# 이상치 확인\n",
        "summary(welfare$income) \n",
        "\n",
        "# 이상치 결측 처리\n",
        "welfare$income <- ifelse(welfare$income %in% c(0, 9999), NA, welfare$income) \n",
        " \n",
        "# 결측치 확인\n",
        "table(is.na(welfare$income)) "
      ],
      "execution_count": 0,
      "outputs": [
        {
          "output_type": "display_data",
          "data": {
            "text/plain": [
              "   Min. 1st Qu.  Median    Mean 3rd Qu.    Max.    NA's \n",
              "    0.0   122.0   192.5   241.6   316.6  2400.0   12030 "
            ]
          },
          "metadata": {
            "tags": []
          }
        },
        {
          "output_type": "display_data",
          "data": {
            "text/plain": [
              "\n",
              "FALSE  TRUE \n",
              " 4620 12044 "
            ]
          },
          "metadata": {
            "tags": []
          }
        }
      ]
    },
    {
      "cell_type": "markdown",
      "metadata": {
        "id": "XQe_9X6jxPXh",
        "colab_type": "text"
      },
      "source": [
        "### 성별에 따른 월급 차이 분석하기 "
      ]
    },
    {
      "cell_type": "code",
      "metadata": {
        "id": "l0SVxlR3xPXi",
        "colab_type": "code",
        "colab": {},
        "outputId": "a6f06671-ca99-4602-a7ff-43aa595e3a9d"
      },
      "source": [
        "# 1. 성별 월급 평균표 만들기 \n",
        "sex_income <- welfare %>%   filter(!is.na(income)) %>%   group_by(sex) %>%   summarise(mean_income = mean(income)) \n",
        " \n",
        "sex_income  "
      ],
      "execution_count": 0,
      "outputs": [
        {
          "output_type": "display_data",
          "data": {
            "text/html": [
              "<table>\n",
              "<thead><tr><th scope=col>sex</th><th scope=col>mean_income</th></tr></thead>\n",
              "<tbody>\n",
              "\t<tr><td>female  </td><td>163.2471</td></tr>\n",
              "\t<tr><td>male    </td><td>312.2932</td></tr>\n",
              "</tbody>\n",
              "</table>\n"
            ],
            "text/latex": "\\begin{tabular}{r|ll}\n sex & mean\\_income\\\\\n\\hline\n\t female   & 163.2471\\\\\n\t male     & 312.2932\\\\\n\\end{tabular}\n",
            "text/markdown": "\n| sex | mean_income |\n|---|---|\n| female   | 163.2471 |\n| male     | 312.2932 |\n\n",
            "text/plain": [
              "  sex    mean_income\n",
              "1 female 163.2471   \n",
              "2 male   312.2932   "
            ]
          },
          "metadata": {
            "tags": []
          }
        }
      ]
    },
    {
      "cell_type": "code",
      "metadata": {
        "id": "lA3crThaxPXk",
        "colab_type": "code",
        "colab": {},
        "outputId": "2f40d22c-4fbd-4e73-f9a3-33280572c73f"
      },
      "source": [
        "# 2. 그래프 만들기 \n",
        "ggplot(data = sex_income, aes(x = sex, y = mean_income)) + geom_col() "
      ],
      "execution_count": 0,
      "outputs": [
        {
          "output_type": "display_data",
          "data": {
            "image/png": "[encoded data removed]",
            "text/plain": [
              "plot without title"
            ]
          },
          "metadata": {
            "tags": []
          }
        }
      ]
    },
    {
      "cell_type": "markdown",
      "metadata": {
        "id": "clMQVI8rxPXn",
        "colab_type": "text"
      },
      "source": [
        "## 나이와 월급의 관계 - \"몇 살 때 월급을 가장 많이 받을까?\" "
      ]
    },
    {
      "cell_type": "markdown",
      "metadata": {
        "id": "dZ1e3pQVxPXo",
        "colab_type": "text"
      },
      "source": [
        "- 분석 절차 \n",
        "    - 1. 변수 검토 및 전처리 \n",
        "        - 나이 \n",
        "        - 월급 \n",
        "    - 2. 변수 간 관계 분석 \n",
        "        - 나이에 따른 월급 평균표 만들기 \n",
        "        - 그래프 만들기 "
      ]
    },
    {
      "cell_type": "code",
      "metadata": {
        "id": "NOHTbv5qxPXp",
        "colab_type": "code",
        "colab": {},
        "outputId": "90c675ee-a867-491a-f653-cad529c1df8c"
      },
      "source": [
        "# 1. 변수 검토하기 \n",
        "class(welfare$birth) \n",
        "\n",
        "summary(welfare$birth) \n",
        "\n",
        "qplot(welfare$birth) "
      ],
      "execution_count": 0,
      "outputs": [
        {
          "output_type": "display_data",
          "data": {
            "text/html": [
              "'numeric'"
            ],
            "text/latex": "'numeric'",
            "text/markdown": "'numeric'",
            "text/plain": [
              "[1] \"numeric\""
            ]
          },
          "metadata": {
            "tags": []
          }
        },
        {
          "output_type": "display_data",
          "data": {
            "text/plain": [
              "   Min. 1st Qu.  Median    Mean 3rd Qu.    Max. \n",
              "   1907    1946    1966    1968    1988    2014 "
            ]
          },
          "metadata": {
            "tags": []
          }
        },
        {
          "output_type": "stream",
          "text": [
            "`stat_bin()` using `bins = 30`. Pick better value with `binwidth`.\n"
          ],
          "name": "stderr"
        },
        {
          "output_type": "display_data",
          "data": {
            "image/png": "[encoded data removed]",
            "text/plain": [
              "plot without title"
            ]
          },
          "metadata": {
            "tags": []
          }
        }
      ]
    },
    {
      "cell_type": "code",
      "metadata": {
        "id": "h9hn6n2vxPXr",
        "colab_type": "code",
        "colab": {},
        "outputId": "81688b53-6c17-4512-c9e7-fb8279af241e"
      },
      "source": [
        "# 2. 전처리 \n",
        "# 이상치 확인\n",
        "summary(welfare$birth) \n",
        "\n",
        "# 결측치 확인\n",
        "table(is.na(welfare$birth)) \n",
        "\n",
        "# 이상치 결측 처리\n",
        "welfare$birth <- ifelse(welfare$birth == 9999, NA, welfare$birth) \n",
        "table(is.na(welfare$birth)) "
      ],
      "execution_count": 0,
      "outputs": [
        {
          "output_type": "display_data",
          "data": {
            "text/plain": [
              "   Min. 1st Qu.  Median    Mean 3rd Qu.    Max. \n",
              "   1907    1946    1966    1968    1988    2014 "
            ]
          },
          "metadata": {
            "tags": []
          }
        },
        {
          "output_type": "display_data",
          "data": {
            "text/plain": [
              "\n",
              "FALSE \n",
              "16664 "
            ]
          },
          "metadata": {
            "tags": []
          }
        },
        {
          "output_type": "display_data",
          "data": {
            "text/plain": [
              "\n",
              "FALSE \n",
              "16664 "
            ]
          },
          "metadata": {
            "tags": []
          }
        }
      ]
    },
    {
      "cell_type": "code",
      "metadata": {
        "id": "ZcxbbojyxPXt",
        "colab_type": "code",
        "colab": {},
        "outputId": "13f9a73d-4c01-4926-fb66-0478e3322be6"
      },
      "source": [
        "# 3. 파생변수 만들기 - 나이 \n",
        "welfare$age <- 2015 - welfare$birth + 1 \n",
        "summary(welfare$age) \n",
        "\n",
        "qplot(welfare$age) "
      ],
      "execution_count": 0,
      "outputs": [
        {
          "output_type": "display_data",
          "data": {
            "text/plain": [
              "   Min. 1st Qu.  Median    Mean 3rd Qu.    Max. \n",
              "   2.00   28.00   50.00   48.43   70.00  109.00 "
            ]
          },
          "metadata": {
            "tags": []
          }
        },
        {
          "output_type": "stream",
          "text": [
            "`stat_bin()` using `bins = 30`. Pick better value with `binwidth`.\n"
          ],
          "name": "stderr"
        },
        {
          "output_type": "display_data",
          "data": {
            "image/png": "[encoded data removed]",
            "text/plain": [
              "plot without title"
            ]
          },
          "metadata": {
            "tags": []
          }
        }
      ]
    },
    {
      "cell_type": "markdown",
      "metadata": {
        "id": "kq4a1uryxPXw",
        "colab_type": "text"
      },
      "source": [
        "## 나이와 월급의 관계 분석하기 "
      ]
    },
    {
      "cell_type": "code",
      "metadata": {
        "id": "Ka3mpGkTxPXw",
        "colab_type": "code",
        "colab": {},
        "outputId": "511a9e5a-a486-4d9c-9a93-f9e4cbc9f7af"
      },
      "source": [
        "# 1. 나이에 따른 월급 평균표 만들기 \n",
        "age_income <- welfare %>%   filter(!is.na(income)) %>%   group_by(age) %>%   summarise(mean_income = mean(income)) \n",
        " \n",
        "head(age_income)"
      ],
      "execution_count": 0,
      "outputs": [
        {
          "output_type": "display_data",
          "data": {
            "text/html": [
              "<table>\n",
              "<thead><tr><th scope=col>age</th><th scope=col>mean_income</th></tr></thead>\n",
              "<tbody>\n",
              "\t<tr><td>20      </td><td>121.3000</td></tr>\n",
              "\t<tr><td>21      </td><td>105.5185</td></tr>\n",
              "\t<tr><td>22      </td><td>130.0923</td></tr>\n",
              "\t<tr><td>23      </td><td>141.7157</td></tr>\n",
              "\t<tr><td>24      </td><td>134.0877</td></tr>\n",
              "\t<tr><td>25      </td><td>144.6559</td></tr>\n",
              "</tbody>\n",
              "</table>\n"
            ],
            "text/latex": "\\begin{tabular}{r|ll}\n age & mean\\_income\\\\\n\\hline\n\t 20       & 121.3000\\\\\n\t 21       & 105.5185\\\\\n\t 22       & 130.0923\\\\\n\t 23       & 141.7157\\\\\n\t 24       & 134.0877\\\\\n\t 25       & 144.6559\\\\\n\\end{tabular}\n",
            "text/markdown": "\n| age | mean_income |\n|---|---|\n| 20       | 121.3000 |\n| 21       | 105.5185 |\n| 22       | 130.0923 |\n| 23       | 141.7157 |\n| 24       | 134.0877 |\n| 25       | 144.6559 |\n\n",
            "text/plain": [
              "  age mean_income\n",
              "1 20  121.3000   \n",
              "2 21  105.5185   \n",
              "3 22  130.0923   \n",
              "4 23  141.7157   \n",
              "5 24  134.0877   \n",
              "6 25  144.6559   "
            ]
          },
          "metadata": {
            "tags": []
          }
        }
      ]
    },
    {
      "cell_type": "code",
      "metadata": {
        "id": "7uO6-uHYxPXy",
        "colab_type": "code",
        "colab": {},
        "outputId": "6a7ecca8-abf3-4ded-8068-d01822d1caf9"
      },
      "source": [
        "# 2. 그래프 만들기 \n",
        "ggplot(data = age_income, aes(x = age, y = mean_income)) + geom_line() "
      ],
      "execution_count": 0,
      "outputs": [
        {
          "output_type": "display_data",
          "data": {
            "image/png": "[encoded data removed]",
            "text/plain": [
              "plot without title"
            ]
          },
          "metadata": {
            "tags": []
          }
        }
      ]
    },
    {
      "cell_type": "markdown",
      "metadata": {
        "id": "wYQPdJ3pxPX1",
        "colab_type": "text"
      },
      "source": [
        "# 연령대에 따른 월급 차이 - \"어떤 연령대의 월급이 가장 많을까?\" "
      ]
    },
    {
      "cell_type": "markdown",
      "metadata": {
        "id": "Vlxus_wcxPX1",
        "colab_type": "text"
      },
      "source": [
        "- 분석 절차 \n",
        "    - 1. 변수 검토 및 전처리 \n",
        "        - 연령대 \n",
        "        - 월급 \n",
        "    - 2. 변수 간 관계 분석 \n",
        "        - 연령대별 월급 평균표 만들기 \n",
        "        - 그래프 만들기 "
      ]
    },
    {
      "cell_type": "markdown",
      "metadata": {
        "id": "KfQZ3FSdxPX2",
        "colab_type": "text"
      },
      "source": [
        "## 연령대 변수 검토 및 전처리하기 "
      ]
    },
    {
      "cell_type": "code",
      "metadata": {
        "id": "NL6PvH6GxPX3",
        "colab_type": "code",
        "colab": {},
        "outputId": "8041ed93-bf6a-445f-d84c-5f9e913285dd"
      },
      "source": [
        "# 파생변수 만들기 - 연령대 \n",
        "# mutate 함수 사용 -> 새로운 열을 만들거나 조건에 따라 열을 변경할때 사용\n",
        "welfare <- welfare %>%   mutate(ageg = ifelse(age < 30, \"young\",\n",
        "                                              ifelse(age <= 59, \"middle\", \"old\"))) \n",
        " \n",
        "table(welfare$ageg)"
      ],
      "execution_count": 0,
      "outputs": [
        {
          "output_type": "display_data",
          "data": {
            "text/plain": [
              "\n",
              "middle    old  young \n",
              "  6049   6281   4334 "
            ]
          },
          "metadata": {
            "tags": []
          }
        }
      ]
    },
    {
      "cell_type": "code",
      "metadata": {
        "id": "zjivVgJQxPX5",
        "colab_type": "code",
        "colab": {},
        "outputId": "a1ba95ad-a930-4fd4-9824-0affd9456001"
      },
      "source": [
        "qplot(welfare$ageg)"
      ],
      "execution_count": 0,
      "outputs": [
        {
          "output_type": "display_data",
          "data": {
            "image/png": "[encoded data removed]",
            "text/plain": [
              "plot without title"
            ]
          },
          "metadata": {
            "tags": []
          }
        }
      ]
    },
    {
      "cell_type": "markdown",
      "metadata": {
        "id": "ZI1BF4N4xPX7",
        "colab_type": "text"
      },
      "source": [
        "## 연령대에 따른 월급 차이 분석하기 "
      ]
    },
    {
      "cell_type": "code",
      "metadata": {
        "id": "GwZ8aqCDxPX8",
        "colab_type": "code",
        "colab": {},
        "outputId": "592afa16-04a4-44ac-9ed6-cb3cec336c17"
      },
      "source": [
        "# 1. 연령대별 월급 평균표 만들기 \n",
        "# group_by & summarise 같이 사용하는것!\n",
        "ageg_income <- welfare %>%\n",
        "    filter(!is.na(income)) %>% \n",
        "    group_by(ageg) %>% \n",
        "    summarise(mean_income = mean(income)) \n",
        " \n",
        "ageg_income "
      ],
      "execution_count": 0,
      "outputs": [
        {
          "output_type": "display_data",
          "data": {
            "text/html": [
              "<table>\n",
              "<thead><tr><th scope=col>ageg</th><th scope=col>mean_income</th></tr></thead>\n",
              "<tbody>\n",
              "\t<tr><td>middle  </td><td>281.8871</td></tr>\n",
              "\t<tr><td>old     </td><td>125.3295</td></tr>\n",
              "\t<tr><td>young   </td><td>163.5953</td></tr>\n",
              "</tbody>\n",
              "</table>\n"
            ],
            "text/latex": "\\begin{tabular}{r|ll}\n ageg & mean\\_income\\\\\n\\hline\n\t middle   & 281.8871\\\\\n\t old      & 125.3295\\\\\n\t young    & 163.5953\\\\\n\\end{tabular}\n",
            "text/markdown": "\n| ageg | mean_income |\n|---|---|\n| middle   | 281.8871 |\n| old      | 125.3295 |\n| young    | 163.5953 |\n\n",
            "text/plain": [
              "  ageg   mean_income\n",
              "1 middle 281.8871   \n",
              "2 old    125.3295   \n",
              "3 young  163.5953   "
            ]
          },
          "metadata": {
            "tags": []
          }
        }
      ]
    },
    {
      "cell_type": "code",
      "metadata": {
        "id": "R2S9HT74xPX_",
        "colab_type": "code",
        "colab": {},
        "outputId": "1bd7a929-12cc-4fd0-eda0-35089681ce76"
      },
      "source": [
        "# 2. 그래프 만들기 \n",
        "ggplot(data = ageg_income, aes(x = ageg, y = mean_income)) + geom_col() "
      ],
      "execution_count": 0,
      "outputs": [
        {
          "output_type": "display_data",
          "data": {
            "image/png": "[encoded data removed]",
            "text/plain": [
              "plot without title"
            ]
          },
          "metadata": {
            "tags": []
          }
        }
      ]
    },
    {
      "cell_type": "code",
      "metadata": {
        "id": "trf2aDmUxPYB",
        "colab_type": "code",
        "colab": {},
        "outputId": "fc8842a6-6867-474a-b7ff-f626b0890103"
      },
      "source": [
        "# 막대 정렬 : 초년, 중년, 노년 나이 순 \n",
        "ggplot(data = ageg_income, aes(x = ageg, y = mean_income)) +   geom_col() +   scale_x_discrete(limits = c(\"young\", \"middle\", \"old\")) "
      ],
      "execution_count": 0,
      "outputs": [
        {
          "output_type": "display_data",
          "data": {
            "image/png": "[encoded data removed]",
            "text/plain": [
              "plot without title"
            ]
          },
          "metadata": {
            "tags": []
          }
        }
      ]
    },
    {
      "cell_type": "markdown",
      "metadata": {
        "id": "I-h_opIfxPYD",
        "colab_type": "text"
      },
      "source": [
        "## 연령대 및 성별 월급 차이 - \"성별 월급 차이는 연령대별로 다를까?\" "
      ]
    },
    {
      "cell_type": "markdown",
      "metadata": {
        "id": "67w0P4TXxPYE",
        "colab_type": "text"
      },
      "source": [
        "- 분석 절차 \n",
        "    - 1. 변수 검토 및 전처리 \n",
        "         -연령대 \n",
        "         - 성별 \n",
        "         - 월급 \n",
        "    - 2. 변수 간 관계 분석 \n",
        "         - 연령대 및 성별 월급 평균표 만들기 \n",
        "         - 그래프 만들기 "
      ]
    },
    {
      "cell_type": "markdown",
      "metadata": {
        "id": "iLmh_hnRxPYF",
        "colab_type": "text"
      },
      "source": [
        "### 연령대 및 성별 월급 차이 분석하기 "
      ]
    },
    {
      "cell_type": "code",
      "metadata": {
        "id": "fw7P0JUwxPYF",
        "colab_type": "code",
        "colab": {},
        "outputId": "e05de10e-94b4-45ab-af79-02f8c3649073"
      },
      "source": [
        "# 1. 연령대 및 성별 월급 평균표 만들기 \n",
        "sex_income <- welfare %>%\n",
        "    filter(!is.na(income)) %>% \n",
        "    group_by(ageg, sex) %>%  \n",
        "    summarise(mean_income = mean(income)) \n",
        " \n",
        "sex_income\n",
        "# 각 연령대별 3구간이 남녀 별로 6구간으로 나뉘어짐"
      ],
      "execution_count": 0,
      "outputs": [
        {
          "output_type": "display_data",
          "data": {
            "text/html": [
              "<table>\n",
              "<thead><tr><th scope=col>ageg</th><th scope=col>sex</th><th scope=col>mean_income</th></tr></thead>\n",
              "<tbody>\n",
              "\t<tr><td>middle   </td><td>female   </td><td>187.97552</td></tr>\n",
              "\t<tr><td>middle   </td><td>male     </td><td>353.07574</td></tr>\n",
              "\t<tr><td>old      </td><td>female   </td><td> 81.52917</td></tr>\n",
              "\t<tr><td>old      </td><td>male     </td><td>173.85558</td></tr>\n",
              "\t<tr><td>young    </td><td>female   </td><td>159.50518</td></tr>\n",
              "\t<tr><td>young    </td><td>male     </td><td>170.81737</td></tr>\n",
              "</tbody>\n",
              "</table>\n"
            ],
            "text/latex": "\\begin{tabular}{r|lll}\n ageg & sex & mean\\_income\\\\\n\\hline\n\t middle    & female    & 187.97552\\\\\n\t middle    & male      & 353.07574\\\\\n\t old       & female    &  81.52917\\\\\n\t old       & male      & 173.85558\\\\\n\t young     & female    & 159.50518\\\\\n\t young     & male      & 170.81737\\\\\n\\end{tabular}\n",
            "text/markdown": "\n| ageg | sex | mean_income |\n|---|---|---|\n| middle    | female    | 187.97552 |\n| middle    | male      | 353.07574 |\n| old       | female    |  81.52917 |\n| old       | male      | 173.85558 |\n| young     | female    | 159.50518 |\n| young     | male      | 170.81737 |\n\n",
            "text/plain": [
              "  ageg   sex    mean_income\n",
              "1 middle female 187.97552  \n",
              "2 middle male   353.07574  \n",
              "3 old    female  81.52917  \n",
              "4 old    male   173.85558  \n",
              "5 young  female 159.50518  \n",
              "6 young  male   170.81737  "
            ]
          },
          "metadata": {
            "tags": []
          }
        }
      ]
    },
    {
      "cell_type": "code",
      "metadata": {
        "id": "-t2dZq3fxPYI",
        "colab_type": "code",
        "colab": {},
        "outputId": "44005d93-6fa1-4966-baab-6e1b756cbd54"
      },
      "source": [
        "# 2. 그래프 만들기 \n",
        "# 색을 성별로 나눠서 채우기 fill = sex 사용\n",
        "ggplot(data = sex_income, aes(x = ageg, y = mean_income, fill = sex)) +   geom_col() +   scale_x_discrete(limits = c(\"young\", \"middle\", \"old\")) "
      ],
      "execution_count": 0,
      "outputs": [
        {
          "output_type": "display_data",
          "data": {
            "image/png": "[encoded data removed]",
            "text/plain": [
              "plot without title"
            ]
          },
          "metadata": {
            "tags": []
          }
        }
      ]
    },
    {
      "cell_type": "code",
      "metadata": {
        "id": "bels_8zLxPYK",
        "colab_type": "code",
        "colab": {},
        "outputId": "76c1ba20-ad7e-4491-e5a8-929643b523e5"
      },
      "source": [
        "# 성별 막대 분리 \n",
        "# 성별로 막대를 분리하기 위해서 position = \"dodge\" 사용\n",
        "ggplot(data = sex_income, aes(x = ageg, y = mean_income, fill = sex)) +\n",
        "        geom_col(position = \"dodge\") + \n",
        "        scale_x_discrete(limits = c(\"young\", \"middle\", \"old\")) "
      ],
      "execution_count": 0,
      "outputs": [
        {
          "output_type": "display_data",
          "data": {
            "image/png": "[encoded data removed]",
            "text/plain": [
              "plot without title"
            ]
          },
          "metadata": {
            "tags": []
          }
        }
      ]
    },
    {
      "cell_type": "markdown",
      "metadata": {
        "id": "gQcLTuJKxPYM",
        "colab_type": "text"
      },
      "source": [
        "### 나이 및 성별 월급 차이 분석하기 "
      ]
    },
    {
      "cell_type": "code",
      "metadata": {
        "id": "2PyxehpLxPYN",
        "colab_type": "code",
        "colab": {},
        "outputId": "183809ad-f074-424a-af96-2e23a6239abb"
      },
      "source": [
        "# 성별 연령별 월급 평균표 만들기\n",
        "sex_age <- welfare %>%   \n",
        "    filter(!is.na(income)) %>% \n",
        "    group_by(age, sex) %>% \n",
        "    summarise(mean_income = mean(income)) \n",
        " \n",
        "head(sex_age) "
      ],
      "execution_count": 0,
      "outputs": [
        {
          "output_type": "display_data",
          "data": {
            "text/html": [
              "<table>\n",
              "<thead><tr><th scope=col>age</th><th scope=col>sex</th><th scope=col>mean_income</th></tr></thead>\n",
              "<tbody>\n",
              "\t<tr><td>20      </td><td>female  </td><td>147.4500</td></tr>\n",
              "\t<tr><td>20      </td><td>male    </td><td> 69.0000</td></tr>\n",
              "\t<tr><td>21      </td><td>female  </td><td>106.9789</td></tr>\n",
              "\t<tr><td>21      </td><td>male    </td><td>102.0500</td></tr>\n",
              "\t<tr><td>22      </td><td>female  </td><td>139.8547</td></tr>\n",
              "\t<tr><td>22      </td><td>male    </td><td>118.2379</td></tr>\n",
              "</tbody>\n",
              "</table>\n"
            ],
            "text/latex": "\\begin{tabular}{r|lll}\n age & sex & mean\\_income\\\\\n\\hline\n\t 20       & female   & 147.4500\\\\\n\t 20       & male     &  69.0000\\\\\n\t 21       & female   & 106.9789\\\\\n\t 21       & male     & 102.0500\\\\\n\t 22       & female   & 139.8547\\\\\n\t 22       & male     & 118.2379\\\\\n\\end{tabular}\n",
            "text/markdown": "\n| age | sex | mean_income |\n|---|---|---|\n| 20       | female   | 147.4500 |\n| 20       | male     |  69.0000 |\n| 21       | female   | 106.9789 |\n| 21       | male     | 102.0500 |\n| 22       | female   | 139.8547 |\n| 22       | male     | 118.2379 |\n\n",
            "text/plain": [
              "  age sex    mean_income\n",
              "1 20  female 147.4500   \n",
              "2 20  male    69.0000   \n",
              "3 21  female 106.9789   \n",
              "4 21  male   102.0500   \n",
              "5 22  female 139.8547   \n",
              "6 22  male   118.2379   "
            ]
          },
          "metadata": {
            "tags": []
          }
        }
      ]
    },
    {
      "cell_type": "code",
      "metadata": {
        "id": "O0SmUFbMxPYP",
        "colab_type": "code",
        "colab": {},
        "outputId": "d62126c7-724e-4b23-ff72-184adfb811a6"
      },
      "source": [
        "# 2. 그래프 만들기 \n",
        "ggplot(data = sex_age, aes(x = age, y = mean_income, col = sex)) + geom_line() "
      ],
      "execution_count": 0,
      "outputs": [
        {
          "output_type": "display_data",
          "data": {
            "image/png": "[encoded data removed]",
            "text/plain": [
              "plot without title"
            ]
          },
          "metadata": {
            "tags": []
          }
        }
      ]
    },
    {
      "cell_type": "markdown",
      "metadata": {
        "id": "7n_wqnSsxPYQ",
        "colab_type": "text"
      },
      "source": [
        "## 직업별 월급 차이 - \"어떤 직업이 월급을 가장 많이 받을까?\" "
      ]
    },
    {
      "cell_type": "markdown",
      "metadata": {
        "id": "NvxVkQEvxPYR",
        "colab_type": "text"
      },
      "source": [
        "- 분석 절차 \n",
        "    - 1. 변수 검토 및 전처리 \n",
        "        - 직업 \n",
        "        - 월급 \n",
        "    - 2. 변수 간 관계 분석 \n",
        "         - 직업별 월급 평균표 만들기 \n",
        "         - 그래프 만들기 "
      ]
    },
    {
      "cell_type": "code",
      "metadata": {
        "id": "OReQcQdNxPYR",
        "colab_type": "code",
        "colab": {},
        "outputId": "105d0680-ff35-41a4-a030-706e6a5f85ca"
      },
      "source": [
        "# 1. 변수 검토하기 \n",
        "class(welfare$code_job) \n",
        "\n",
        "table(welfare$code_job)"
      ],
      "execution_count": 0,
      "outputs": [
        {
          "output_type": "display_data",
          "data": {
            "text/html": [
              "'numeric'"
            ],
            "text/latex": "'numeric'",
            "text/markdown": "'numeric'",
            "text/plain": [
              "[1] \"numeric\""
            ]
          },
          "metadata": {
            "tags": []
          }
        },
        {
          "output_type": "display_data",
          "data": {
            "text/plain": [
              "\n",
              " 111  120  131  132  133  134  135  139  141  149  151  152  153  159  211  212 \n",
              "   2   16   10   11    9    3    7   10   35   20   26   18   15   16    8    4 \n",
              " 213  221  222  223  224  231  232  233  234  235  236  237  239  241  242  243 \n",
              "   3   17   31   12    4   41    5    3    6   48   14    2   29   12    4   63 \n",
              " 244  245  246  247  248  251  252  253  254  259  261  271  272  273  274  281 \n",
              "   4   33   59   77   38   14  111   24   67  109    4   15   11    4   36   17 \n",
              " 283  284  285  286  289  311  312  313  314  320  330  391  392  399  411  412 \n",
              "   8   10   26   16    5  140  260  220   84   75   15    4   13   87   47   12 \n",
              " 421  422  423  429  431  432  441  442  510  521  522  530  611  612  613  620 \n",
              " 124   71    5   14   20   33  154  197  192  353    5  106 1320   11   40    2 \n",
              " 630  710  721  722  730  741  742  743  751  752  753  761  762  771  772  773 \n",
              "  20   29   30   22   16   27    3   34   34    5   49   69   27   11   61   86 \n",
              " 774  780  791  792  799  811  812  819  821  822  823  831  832  841  842  843 \n",
              "   7   17    5   21   45   16    1    6    9    9   23    5   17   32   10    4 \n",
              " 851  852  853  854  855  861  862  863  864  871  873  874  875  876  881  882 \n",
              "  19   13    7   33    9    3   14   17   31    2  257   34   37    2    2    3 \n",
              " 891  892  899  910  921  922  930  941  942  951  952  953  991  992  999 1011 \n",
              "   8   19   16  102   31   74  289  325   99  125  122   73   45   12  141    2 \n",
              "1012 \n",
              "  17 "
            ]
          },
          "metadata": {
            "tags": []
          }
        }
      ]
    },
    {
      "cell_type": "code",
      "metadata": {
        "id": "ctUw5ZeNxPYU",
        "colab_type": "code",
        "colab": {},
        "outputId": "eda5de95-3d01-4b0e-a795-f43351534ab9"
      },
      "source": [
        "# 2. 전처리 \n",
        "# 직업분류코드 목록 불러오기 \n",
        "library(readxl) \n",
        "list_job <- read_excel(\"./Koweps_Codebook.xlsx\", col_names = T, sheet = 2) \n",
        "head(list_job) "
      ],
      "execution_count": 0,
      "outputs": [
        {
          "output_type": "display_data",
          "data": {
            "text/html": [
              "<table>\n",
              "<thead><tr><th scope=col>code_job</th><th scope=col>job</th></tr></thead>\n",
              "<tbody>\n",
              "\t<tr><td>111                                </td><td>의회의원 고위공무원 및 공공단체임원</td></tr>\n",
              "\t<tr><td>112                                </td><td>기업고위임원                       </td></tr>\n",
              "\t<tr><td>120                                </td><td>행정 및 경영지원 관리자            </td></tr>\n",
              "\t<tr><td>131                                </td><td>연구 교육 및 법률 관련 관리자      </td></tr>\n",
              "\t<tr><td>132                                </td><td>보험 및 금융 관리자                </td></tr>\n",
              "\t<tr><td>133                                </td><td>보건 및 사회복지 관련 관리자       </td></tr>\n",
              "</tbody>\n",
              "</table>\n"
            ],
            "text/latex": "\\begin{tabular}{r|ll}\n code\\_job & job\\\\\n\\hline\n\t 111                                 & 의회의원 고위공무원 및 공공단체임원\\\\\n\t 112                                 & 기업고위임원                       \\\\\n\t 120                                 & 행정 및 경영지원 관리자            \\\\\n\t 131                                 & 연구 교육 및 법률 관련 관리자      \\\\\n\t 132                                 & 보험 및 금융 관리자                \\\\\n\t 133                                 & 보건 및 사회복지 관련 관리자       \\\\\n\\end{tabular}\n",
            "text/markdown": "\n| code_job | job |\n|---|---|\n| 111                                 | 의회의원 고위공무원 및 공공단체임원 |\n| 112                                 | 기업고위임원                        |\n| 120                                 | 행정 및 경영지원 관리자             |\n| 131                                 | 연구 교육 및 법률 관련 관리자       |\n| 132                                 | 보험 및 금융 관리자                 |\n| 133                                 | 보건 및 사회복지 관련 관리자        |\n\n",
            "text/plain": [
              "  code_job job                                \n",
              "1 111      의회의원 고위공무원 및 공공단체임원\n",
              "2 112      기업고위임원                       \n",
              "3 120      행정 및 경영지원 관리자            \n",
              "4 131      연구 교육 및 법률 관련 관리자      \n",
              "5 132      보험 및 금융 관리자                \n",
              "6 133      보건 및 사회복지 관련 관리자       "
            ]
          },
          "metadata": {
            "tags": []
          }
        }
      ]
    },
    {
      "cell_type": "code",
      "metadata": {
        "id": "uHnO64nzxPYV",
        "colab_type": "code",
        "colab": {},
        "outputId": "3c17bc27-bfb7-43fa-be92-2c11a43ea7bf"
      },
      "source": [
        "# welfare에 직업명 결합 \n",
        "welfare <- left_join(welfare, list_job, id = \"code_job\") \n",
        "# Joining, by = \"code_job\" \n",
        "welfare %>%   filter(!is.na(code_job)) %>%   select(code_job, job) %>%   head(10)"
      ],
      "execution_count": 0,
      "outputs": [
        {
          "output_type": "stream",
          "text": [
            "Joining, by = \"code_job\"\n"
          ],
          "name": "stderr"
        },
        {
          "output_type": "display_data",
          "data": {
            "text/html": [
              "<table>\n",
              "<thead><tr><th scope=col>code_job</th><th scope=col>job</th></tr></thead>\n",
              "<tbody>\n",
              "\t<tr><td>942                               </td><td>경비원 및 검표원                  </td></tr>\n",
              "\t<tr><td>762                               </td><td>전기공                            </td></tr>\n",
              "\t<tr><td>530                               </td><td>방문 노점 및 통신 판매 관련 종사자</td></tr>\n",
              "\t<tr><td>999                               </td><td>기타 서비스관련 단순 종사원       </td></tr>\n",
              "\t<tr><td>312                               </td><td>경영관련 사무원                   </td></tr>\n",
              "\t<tr><td>254                               </td><td>문리 기술 및 예능 강사            </td></tr>\n",
              "\t<tr><td>510                               </td><td>영업 종사자                       </td></tr>\n",
              "\t<tr><td>530                               </td><td>방문 노점 및 통신 판매 관련 종사자</td></tr>\n",
              "\t<tr><td>286                               </td><td>스포츠 및 레크레이션 관련 전문가  </td></tr>\n",
              "\t<tr><td>521                               </td><td>매장 판매 종사자                  </td></tr>\n",
              "</tbody>\n",
              "</table>\n"
            ],
            "text/latex": "\\begin{tabular}{r|ll}\n code\\_job & job\\\\\n\\hline\n\t 942                                & 경비원 및 검표원                  \\\\\n\t 762                                & 전기공                            \\\\\n\t 530                                & 방문 노점 및 통신 판매 관련 종사자\\\\\n\t 999                                & 기타 서비스관련 단순 종사원       \\\\\n\t 312                                & 경영관련 사무원                   \\\\\n\t 254                                & 문리 기술 및 예능 강사            \\\\\n\t 510                                & 영업 종사자                       \\\\\n\t 530                                & 방문 노점 및 통신 판매 관련 종사자\\\\\n\t 286                                & 스포츠 및 레크레이션 관련 전문가  \\\\\n\t 521                                & 매장 판매 종사자                  \\\\\n\\end{tabular}\n",
            "text/markdown": "\n| code_job | job |\n|---|---|\n| 942                                | 경비원 및 검표원                   |\n| 762                                | 전기공                             |\n| 530                                | 방문 노점 및 통신 판매 관련 종사자 |\n| 999                                | 기타 서비스관련 단순 종사원        |\n| 312                                | 경영관련 사무원                    |\n| 254                                | 문리 기술 및 예능 강사             |\n| 510                                | 영업 종사자                        |\n| 530                                | 방문 노점 및 통신 판매 관련 종사자 |\n| 286                                | 스포츠 및 레크레이션 관련 전문가   |\n| 521                                | 매장 판매 종사자                   |\n\n",
            "text/plain": [
              "   code_job job                               \n",
              "1  942      경비원 및 검표원                  \n",
              "2  762      전기공                            \n",
              "3  530      방문 노점 및 통신 판매 관련 종사자\n",
              "4  999      기타 서비스관련 단순 종사원       \n",
              "5  312      경영관련 사무원                   \n",
              "6  254      문리 기술 및 예능 강사            \n",
              "7  510      영업 종사자                       \n",
              "8  530      방문 노점 및 통신 판매 관련 종사자\n",
              "9  286      스포츠 및 레크레이션 관련 전문가  \n",
              "10 521      매장 판매 종사자                  "
            ]
          },
          "metadata": {
            "tags": []
          }
        }
      ]
    },
    {
      "cell_type": "markdown",
      "metadata": {
        "id": "aqt02QDLxPYY",
        "colab_type": "text"
      },
      "source": [
        "### 직업별 월급 차이 분석하기"
      ]
    },
    {
      "cell_type": "code",
      "metadata": {
        "id": "nfF84GP8xPYZ",
        "colab_type": "code",
        "colab": {},
        "outputId": "5f663a07-7f44-44f2-df6c-6336a56e9a3e"
      },
      "source": [
        "# 1. 직업별 월급 평균표 만들기 \n",
        "job_income <- welfare %>%   filter(!is.na(job) & !is.na(income)) %>%   group_by(job) %>%   summarise(mean_income = mean(income)) \n",
        " \n",
        "head(job_income)"
      ],
      "execution_count": 0,
      "outputs": [
        {
          "output_type": "display_data",
          "data": {
            "text/html": [
              "<table>\n",
              "<thead><tr><th scope=col>job</th><th scope=col>mean_income</th></tr></thead>\n",
              "<tbody>\n",
              "\t<tr><td>가사 및 육아 도우미          </td><td> 80.16648                    </td></tr>\n",
              "\t<tr><td>간호사                       </td><td>240.68127                    </td></tr>\n",
              "\t<tr><td>건설 및 광업 단순 종사원     </td><td>190.12974                    </td></tr>\n",
              "\t<tr><td>건설 및 채굴 기계운전원      </td><td>357.97000                    </td></tr>\n",
              "\t<tr><td>건설 전기 및 생산 관련 관리자</td><td>535.80556                    </td></tr>\n",
              "\t<tr><td>건설관련 기능 종사자         </td><td>246.63214                    </td></tr>\n",
              "</tbody>\n",
              "</table>\n"
            ],
            "text/latex": "\\begin{tabular}{r|ll}\n job & mean\\_income\\\\\n\\hline\n\t 가사 및 육아 도우미           &  80.16648                    \\\\\n\t 간호사                        & 240.68127                    \\\\\n\t 건설 및 광업 단순 종사원      & 190.12974                    \\\\\n\t 건설 및 채굴 기계운전원       & 357.97000                    \\\\\n\t 건설 전기 및 생산 관련 관리자 & 535.80556                    \\\\\n\t 건설관련 기능 종사자          & 246.63214                    \\\\\n\\end{tabular}\n",
            "text/markdown": "\n| job | mean_income |\n|---|---|\n| 가사 및 육아 도우미           |  80.16648                     |\n| 간호사                        | 240.68127                     |\n| 건설 및 광업 단순 종사원      | 190.12974                     |\n| 건설 및 채굴 기계운전원       | 357.97000                     |\n| 건설 전기 및 생산 관련 관리자 | 535.80556                     |\n| 건설관련 기능 종사자          | 246.63214                     |\n\n",
            "text/plain": [
              "  job                           mean_income\n",
              "1 가사 및 육아 도우미            80.16648  \n",
              "2 간호사                        240.68127  \n",
              "3 건설 및 광업 단순 종사원      190.12974  \n",
              "4 건설 및 채굴 기계운전원       357.97000  \n",
              "5 건설 전기 및 생산 관련 관리자 535.80556  \n",
              "6 건설관련 기능 종사자          246.63214  "
            ]
          },
          "metadata": {
            "tags": []
          }
        }
      ]
    },
    {
      "cell_type": "code",
      "metadata": {
        "id": "SFX05MArxPYa",
        "colab_type": "code",
        "colab": {},
        "outputId": "46abd5a6-8ee8-4d71-c02d-fd374cd831aa"
      },
      "source": [
        "# 2. 상위 10개 추출 \n",
        "top10 <- job_income %>%   arrange(desc(mean_income)) %>%   head(10) \n",
        " \n",
        "top10 "
      ],
      "execution_count": 0,
      "outputs": [
        {
          "output_type": "display_data",
          "data": {
            "text/html": [
              "<table>\n",
              "<thead><tr><th scope=col>job</th><th scope=col>mean_income</th></tr></thead>\n",
              "<tbody>\n",
              "\t<tr><td>금속 재료 공학 기술자 및 시험원     </td><td>845.0667                            </td></tr>\n",
              "\t<tr><td>의료진료 전문가                     </td><td>843.6429                            </td></tr>\n",
              "\t<tr><td>의회의원 고위공무원 및 공공단체임원 </td><td>750.0000                            </td></tr>\n",
              "\t<tr><td>보험 및 금융 관리자                 </td><td>726.1800                            </td></tr>\n",
              "\t<tr><td>제관원 및 판금원                    </td><td>572.4067                            </td></tr>\n",
              "\t<tr><td>행정 및 경영지원 관리자             </td><td>563.7633                            </td></tr>\n",
              "\t<tr><td>문화 예술 디자인 및 영상 관련 관리자</td><td>557.4667                            </td></tr>\n",
              "\t<tr><td>연구 교육 및 법률 관련 관리자       </td><td>549.9125                            </td></tr>\n",
              "\t<tr><td>건설 전기 및 생산 관련 관리자       </td><td>535.8056                            </td></tr>\n",
              "\t<tr><td>석유 및 화학물 가공장치 조작원      </td><td>531.6600                            </td></tr>\n",
              "</tbody>\n",
              "</table>\n"
            ],
            "text/latex": "\\begin{tabular}{r|ll}\n job & mean\\_income\\\\\n\\hline\n\t 금속 재료 공학 기술자 및 시험원      & 845.0667                            \\\\\n\t 의료진료 전문가                      & 843.6429                            \\\\\n\t 의회의원 고위공무원 및 공공단체임원  & 750.0000                            \\\\\n\t 보험 및 금융 관리자                  & 726.1800                            \\\\\n\t 제관원 및 판금원                     & 572.4067                            \\\\\n\t 행정 및 경영지원 관리자              & 563.7633                            \\\\\n\t 문화 예술 디자인 및 영상 관련 관리자 & 557.4667                            \\\\\n\t 연구 교육 및 법률 관련 관리자        & 549.9125                            \\\\\n\t 건설 전기 및 생산 관련 관리자        & 535.8056                            \\\\\n\t 석유 및 화학물 가공장치 조작원       & 531.6600                            \\\\\n\\end{tabular}\n",
            "text/markdown": "\n| job | mean_income |\n|---|---|\n| 금속 재료 공학 기술자 및 시험원      | 845.0667                             |\n| 의료진료 전문가                      | 843.6429                             |\n| 의회의원 고위공무원 및 공공단체임원  | 750.0000                             |\n| 보험 및 금융 관리자                  | 726.1800                             |\n| 제관원 및 판금원                     | 572.4067                             |\n| 행정 및 경영지원 관리자              | 563.7633                             |\n| 문화 예술 디자인 및 영상 관련 관리자 | 557.4667                             |\n| 연구 교육 및 법률 관련 관리자        | 549.9125                             |\n| 건설 전기 및 생산 관련 관리자        | 535.8056                             |\n| 석유 및 화학물 가공장치 조작원       | 531.6600                             |\n\n",
            "text/plain": [
              "   job                                  mean_income\n",
              "1  금속 재료 공학 기술자 및 시험원      845.0667   \n",
              "2  의료진료 전문가                      843.6429   \n",
              "3  의회의원 고위공무원 및 공공단체임원  750.0000   \n",
              "4  보험 및 금융 관리자                  726.1800   \n",
              "5  제관원 및 판금원                     572.4067   \n",
              "6  행정 및 경영지원 관리자              563.7633   \n",
              "7  문화 예술 디자인 및 영상 관련 관리자 557.4667   \n",
              "8  연구 교육 및 법률 관련 관리자        549.9125   \n",
              "9  건설 전기 및 생산 관련 관리자        535.8056   \n",
              "10 석유 및 화학물 가공장치 조작원       531.6600   "
            ]
          },
          "metadata": {
            "tags": []
          }
        }
      ]
    },
    {
      "cell_type": "code",
      "metadata": {
        "id": "oP3fzgDmxPYc",
        "colab_type": "code",
        "colab": {},
        "outputId": "1743ebfc-190e-4caf-8b93-6ee0ff13715a"
      },
      "source": [
        "# 2. 상위 10개 추출 \n",
        "top10 <- job_income %>%   arrange(desc(mean_income)) %>%   head(10) \n",
        " \n",
        "top10 "
      ],
      "execution_count": 0,
      "outputs": [
        {
          "output_type": "display_data",
          "data": {
            "text/html": [
              "<table>\n",
              "<thead><tr><th scope=col>job</th><th scope=col>mean_income</th></tr></thead>\n",
              "<tbody>\n",
              "\t<tr><td>금속 재료 공학 기술자 및 시험원     </td><td>845.0667                            </td></tr>\n",
              "\t<tr><td>의료진료 전문가                     </td><td>843.6429                            </td></tr>\n",
              "\t<tr><td>의회의원 고위공무원 및 공공단체임원 </td><td>750.0000                            </td></tr>\n",
              "\t<tr><td>보험 및 금융 관리자                 </td><td>726.1800                            </td></tr>\n",
              "\t<tr><td>제관원 및 판금원                    </td><td>572.4067                            </td></tr>\n",
              "\t<tr><td>행정 및 경영지원 관리자             </td><td>563.7633                            </td></tr>\n",
              "\t<tr><td>문화 예술 디자인 및 영상 관련 관리자</td><td>557.4667                            </td></tr>\n",
              "\t<tr><td>연구 교육 및 법률 관련 관리자       </td><td>549.9125                            </td></tr>\n",
              "\t<tr><td>건설 전기 및 생산 관련 관리자       </td><td>535.8056                            </td></tr>\n",
              "\t<tr><td>석유 및 화학물 가공장치 조작원      </td><td>531.6600                            </td></tr>\n",
              "</tbody>\n",
              "</table>\n"
            ],
            "text/latex": "\\begin{tabular}{r|ll}\n job & mean\\_income\\\\\n\\hline\n\t 금속 재료 공학 기술자 및 시험원      & 845.0667                            \\\\\n\t 의료진료 전문가                      & 843.6429                            \\\\\n\t 의회의원 고위공무원 및 공공단체임원  & 750.0000                            \\\\\n\t 보험 및 금융 관리자                  & 726.1800                            \\\\\n\t 제관원 및 판금원                     & 572.4067                            \\\\\n\t 행정 및 경영지원 관리자              & 563.7633                            \\\\\n\t 문화 예술 디자인 및 영상 관련 관리자 & 557.4667                            \\\\\n\t 연구 교육 및 법률 관련 관리자        & 549.9125                            \\\\\n\t 건설 전기 및 생산 관련 관리자        & 535.8056                            \\\\\n\t 석유 및 화학물 가공장치 조작원       & 531.6600                            \\\\\n\\end{tabular}\n",
            "text/markdown": "\n| job | mean_income |\n|---|---|\n| 금속 재료 공학 기술자 및 시험원      | 845.0667                             |\n| 의료진료 전문가                      | 843.6429                             |\n| 의회의원 고위공무원 및 공공단체임원  | 750.0000                             |\n| 보험 및 금융 관리자                  | 726.1800                             |\n| 제관원 및 판금원                     | 572.4067                             |\n| 행정 및 경영지원 관리자              | 563.7633                             |\n| 문화 예술 디자인 및 영상 관련 관리자 | 557.4667                             |\n| 연구 교육 및 법률 관련 관리자        | 549.9125                             |\n| 건설 전기 및 생산 관련 관리자        | 535.8056                             |\n| 석유 및 화학물 가공장치 조작원       | 531.6600                             |\n\n",
            "text/plain": [
              "   job                                  mean_income\n",
              "1  금속 재료 공학 기술자 및 시험원      845.0667   \n",
              "2  의료진료 전문가                      843.6429   \n",
              "3  의회의원 고위공무원 및 공공단체임원  750.0000   \n",
              "4  보험 및 금융 관리자                  726.1800   \n",
              "5  제관원 및 판금원                     572.4067   \n",
              "6  행정 및 경영지원 관리자              563.7633   \n",
              "7  문화 예술 디자인 및 영상 관련 관리자 557.4667   \n",
              "8  연구 교육 및 법률 관련 관리자        549.9125   \n",
              "9  건설 전기 및 생산 관련 관리자        535.8056   \n",
              "10 석유 및 화학물 가공장치 조작원       531.6600   "
            ]
          },
          "metadata": {
            "tags": []
          }
        }
      ]
    },
    {
      "cell_type": "code",
      "metadata": {
        "id": "dSziyW3rxPYe",
        "colab_type": "code",
        "colab": {},
        "outputId": "f1100311-2b26-474b-c2b7-988794b2d0c0"
      },
      "source": [
        "# 4. 하위 10위 추출 \n",
        "bottom10 <- job_income %>%   arrange(mean_income) %>%   head(10) \n",
        " \n",
        "bottom10 "
      ],
      "execution_count": 0,
      "outputs": [
        {
          "output_type": "display_data",
          "data": {
            "text/html": [
              "<table>\n",
              "<thead><tr><th scope=col>job</th><th scope=col>mean_income</th></tr></thead>\n",
              "<tbody>\n",
              "\t<tr><td>가사 및 육아 도우미         </td><td> 80.16648                   </td></tr>\n",
              "\t<tr><td>임업관련 종사자             </td><td> 83.33000                   </td></tr>\n",
              "\t<tr><td>기타 서비스관련 단순 종사원 </td><td> 88.22101                   </td></tr>\n",
              "\t<tr><td>청소원 및 환경 미화원       </td><td> 88.78775                   </td></tr>\n",
              "\t<tr><td>약사 및 한약사              </td><td> 89.00000                   </td></tr>\n",
              "\t<tr><td>작물재배 종사자             </td><td> 92.00000                   </td></tr>\n",
              "\t<tr><td>농립어업관련 단순 종사원    </td><td>101.58125                   </td></tr>\n",
              "\t<tr><td>의료 복지 관련 서비스 종사자</td><td>103.52643                   </td></tr>\n",
              "\t<tr><td>음식관련 단순 종사원        </td><td>107.84511                   </td></tr>\n",
              "\t<tr><td>판매관련 단순 종사원        </td><td>116.82203                   </td></tr>\n",
              "</tbody>\n",
              "</table>\n"
            ],
            "text/latex": "\\begin{tabular}{r|ll}\n job & mean\\_income\\\\\n\\hline\n\t 가사 및 육아 도우미          &  80.16648                   \\\\\n\t 임업관련 종사자              &  83.33000                   \\\\\n\t 기타 서비스관련 단순 종사원  &  88.22101                   \\\\\n\t 청소원 및 환경 미화원        &  88.78775                   \\\\\n\t 약사 및 한약사               &  89.00000                   \\\\\n\t 작물재배 종사자              &  92.00000                   \\\\\n\t 농립어업관련 단순 종사원     & 101.58125                   \\\\\n\t 의료 복지 관련 서비스 종사자 & 103.52643                   \\\\\n\t 음식관련 단순 종사원         & 107.84511                   \\\\\n\t 판매관련 단순 종사원         & 116.82203                   \\\\\n\\end{tabular}\n",
            "text/markdown": "\n| job | mean_income |\n|---|---|\n| 가사 및 육아 도우미          |  80.16648                    |\n| 임업관련 종사자              |  83.33000                    |\n| 기타 서비스관련 단순 종사원  |  88.22101                    |\n| 청소원 및 환경 미화원        |  88.78775                    |\n| 약사 및 한약사               |  89.00000                    |\n| 작물재배 종사자              |  92.00000                    |\n| 농립어업관련 단순 종사원     | 101.58125                    |\n| 의료 복지 관련 서비스 종사자 | 103.52643                    |\n| 음식관련 단순 종사원         | 107.84511                    |\n| 판매관련 단순 종사원         | 116.82203                    |\n\n",
            "text/plain": [
              "   job                          mean_income\n",
              "1  가사 및 육아 도우미           80.16648  \n",
              "2  임업관련 종사자               83.33000  \n",
              "3  기타 서비스관련 단순 종사원   88.22101  \n",
              "4  청소원 및 환경 미화원         88.78775  \n",
              "5  약사 및 한약사                89.00000  \n",
              "6  작물재배 종사자               92.00000  \n",
              "7  농립어업관련 단순 종사원     101.58125  \n",
              "8  의료 복지 관련 서비스 종사자 103.52643  \n",
              "9  음식관련 단순 종사원         107.84511  \n",
              "10 판매관련 단순 종사원         116.82203  "
            ]
          },
          "metadata": {
            "tags": []
          }
        }
      ]
    },
    {
      "cell_type": "code",
      "metadata": {
        "id": "nUt8zZ_FxPYi",
        "colab_type": "code",
        "colab": {},
        "outputId": "6cced868-8ebd-4289-e32d-4f93b60e1eb3"
      },
      "source": [
        "# 5. 그래프 만들기 \n",
        "ggplot(data = bottom10, aes(x = reorder(job, -mean_income),\n",
        "                            y = mean_income)) + \n",
        "                            geom_col() +   coord_flip() +   ylim(0, 850) "
      ],
      "execution_count": 0,
      "outputs": [
        {
          "output_type": "display_data",
          "data": {
            "image/png": "[encoded data removed]",
            "text/plain": [
              "plot without title"
            ]
          },
          "metadata": {
            "tags": []
          }
        }
      ]
    },
    {
      "cell_type": "markdown",
      "metadata": {
        "id": "KlCyi1rMxPYk",
        "colab_type": "text"
      },
      "source": [
        "## 09-7. 성별 직업 빈도 - \"성별로 어떤 직업이 가장 많을까?\" "
      ]
    },
    {
      "cell_type": "markdown",
      "metadata": {
        "id": "ENsV6YGoxPYl",
        "colab_type": "text"
      },
      "source": [
        "- 분석 절차 \n",
        "    - 1. 변수 검토 및 전처리 \n",
        "        - 성별 \n",
        "        - 직업 \n",
        "    - 2. 변수 간 관계 분석 \n",
        "        - 성별 직업 빈도표 만들기 \n",
        "        - 그래프 만들기 "
      ]
    },
    {
      "cell_type": "markdown",
      "metadata": {
        "id": "kmJ0wmGhxPYl",
        "colab_type": "text"
      },
      "source": [
        "### 성별 직업 빈도 분석하기 "
      ]
    },
    {
      "cell_type": "code",
      "metadata": {
        "id": "PhRK0m4qxPYm",
        "colab_type": "code",
        "colab": {},
        "outputId": "ddaba8f8-5f77-46a1-bade-56f199d97d86"
      },
      "source": [
        "# 1. 성별 직업 빈도표 만들기 \n",
        "# 남성 직업 빈도 상위 10 개 추출\n",
        "job_male <- welfare %>%   filter(!is.na(job) & sex == \"male\") %>%   group_by(job) %>%   summarise(n = n()) %>%   arrange(desc(n)) %>%   head(10) \n",
        " \n",
        "job_male"
      ],
      "execution_count": 0,
      "outputs": [
        {
          "output_type": "display_data",
          "data": {
            "text/html": [
              "<table>\n",
              "<thead><tr><th scope=col>job</th><th scope=col>n</th></tr></thead>\n",
              "<tbody>\n",
              "\t<tr><td>작물재배 종사자         </td><td>640                     </td></tr>\n",
              "\t<tr><td>자동차 운전원           </td><td>251                     </td></tr>\n",
              "\t<tr><td>경영관련 사무원         </td><td>213                     </td></tr>\n",
              "\t<tr><td>영업 종사자             </td><td>141                     </td></tr>\n",
              "\t<tr><td>매장 판매 종사자        </td><td>132                     </td></tr>\n",
              "\t<tr><td>제조관련 단순 종사원    </td><td>104                     </td></tr>\n",
              "\t<tr><td>청소원 및 환경 미화원   </td><td> 97                     </td></tr>\n",
              "\t<tr><td>건설 및 광업 단순 종사원</td><td> 95                     </td></tr>\n",
              "\t<tr><td>경비원 및 검표원        </td><td> 95                     </td></tr>\n",
              "\t<tr><td>행정 사무원             </td><td> 92                     </td></tr>\n",
              "</tbody>\n",
              "</table>\n"
            ],
            "text/latex": "\\begin{tabular}{r|ll}\n job & n\\\\\n\\hline\n\t 작물재배 종사자          & 640                     \\\\\n\t 자동차 운전원            & 251                     \\\\\n\t 경영관련 사무원          & 213                     \\\\\n\t 영업 종사자              & 141                     \\\\\n\t 매장 판매 종사자         & 132                     \\\\\n\t 제조관련 단순 종사원     & 104                     \\\\\n\t 청소원 및 환경 미화원    &  97                     \\\\\n\t 건설 및 광업 단순 종사원 &  95                     \\\\\n\t 경비원 및 검표원         &  95                     \\\\\n\t 행정 사무원              &  92                     \\\\\n\\end{tabular}\n",
            "text/markdown": "\n| job | n |\n|---|---|\n| 작물재배 종사자          | 640                      |\n| 자동차 운전원            | 251                      |\n| 경영관련 사무원          | 213                      |\n| 영업 종사자              | 141                      |\n| 매장 판매 종사자         | 132                      |\n| 제조관련 단순 종사원     | 104                      |\n| 청소원 및 환경 미화원    |  97                      |\n| 건설 및 광업 단순 종사원 |  95                      |\n| 경비원 및 검표원         |  95                      |\n| 행정 사무원              |  92                      |\n\n",
            "text/plain": [
              "   job                      n  \n",
              "1  작물재배 종사자          640\n",
              "2  자동차 운전원            251\n",
              "3  경영관련 사무원          213\n",
              "4  영업 종사자              141\n",
              "5  매장 판매 종사자         132\n",
              "6  제조관련 단순 종사원     104\n",
              "7  청소원 및 환경 미화원     97\n",
              "8  건설 및 광업 단순 종사원  95\n",
              "9  경비원 및 검표원          95\n",
              "10 행정 사무원               92"
            ]
          },
          "metadata": {
            "tags": []
          }
        }
      ]
    },
    {
      "cell_type": "code",
      "metadata": {
        "id": "1-Gr-KIxxPYo",
        "colab_type": "code",
        "colab": {},
        "outputId": "aa54eaa9-c957-4858-b4fd-6ad4dcdb5def"
      },
      "source": [
        "# 여성 직업 빈도 상위 10 개 추출\n",
        "job_female <- welfare %>%   filter(!is.na(job) & sex == \"female\") %>%   group_by(job) %>%   summarise(n = n()) %>%   arrange(desc(n)) %>%   head(10) \n",
        " \n",
        "job_female"
      ],
      "execution_count": 0,
      "outputs": [
        {
          "output_type": "display_data",
          "data": {
            "text/html": [
              "<table>\n",
              "<thead><tr><th scope=col>job</th><th scope=col>n</th></tr></thead>\n",
              "<tbody>\n",
              "\t<tr><td>작물재배 종사자             </td><td>680                         </td></tr>\n",
              "\t<tr><td>청소원 및 환경 미화원       </td><td>228                         </td></tr>\n",
              "\t<tr><td>매장 판매 종사자            </td><td>221                         </td></tr>\n",
              "\t<tr><td>제조관련 단순 종사원        </td><td>185                         </td></tr>\n",
              "\t<tr><td>회계 및 경리 사무원         </td><td>176                         </td></tr>\n",
              "\t<tr><td>음식서비스 종사자           </td><td>149                         </td></tr>\n",
              "\t<tr><td>주방장 및 조리사            </td><td>126                         </td></tr>\n",
              "\t<tr><td>가사 및 육아 도우미         </td><td>125                         </td></tr>\n",
              "\t<tr><td>의료 복지 관련 서비스 종사자</td><td>121                         </td></tr>\n",
              "\t<tr><td>음식관련 단순 종사원        </td><td>104                         </td></tr>\n",
              "</tbody>\n",
              "</table>\n"
            ],
            "text/latex": "\\begin{tabular}{r|ll}\n job & n\\\\\n\\hline\n\t 작물재배 종사자              & 680                         \\\\\n\t 청소원 및 환경 미화원        & 228                         \\\\\n\t 매장 판매 종사자             & 221                         \\\\\n\t 제조관련 단순 종사원         & 185                         \\\\\n\t 회계 및 경리 사무원          & 176                         \\\\\n\t 음식서비스 종사자            & 149                         \\\\\n\t 주방장 및 조리사             & 126                         \\\\\n\t 가사 및 육아 도우미          & 125                         \\\\\n\t 의료 복지 관련 서비스 종사자 & 121                         \\\\\n\t 음식관련 단순 종사원         & 104                         \\\\\n\\end{tabular}\n",
            "text/markdown": "\n| job | n |\n|---|---|\n| 작물재배 종사자              | 680                          |\n| 청소원 및 환경 미화원        | 228                          |\n| 매장 판매 종사자             | 221                          |\n| 제조관련 단순 종사원         | 185                          |\n| 회계 및 경리 사무원          | 176                          |\n| 음식서비스 종사자            | 149                          |\n| 주방장 및 조리사             | 126                          |\n| 가사 및 육아 도우미          | 125                          |\n| 의료 복지 관련 서비스 종사자 | 121                          |\n| 음식관련 단순 종사원         | 104                          |\n\n",
            "text/plain": [
              "   job                          n  \n",
              "1  작물재배 종사자              680\n",
              "2  청소원 및 환경 미화원        228\n",
              "3  매장 판매 종사자             221\n",
              "4  제조관련 단순 종사원         185\n",
              "5  회계 및 경리 사무원          176\n",
              "6  음식서비스 종사자            149\n",
              "7  주방장 및 조리사             126\n",
              "8  가사 및 육아 도우미          125\n",
              "9  의료 복지 관련 서비스 종사자 121\n",
              "10 음식관련 단순 종사원         104"
            ]
          },
          "metadata": {
            "tags": []
          }
        }
      ]
    },
    {
      "cell_type": "code",
      "metadata": {
        "id": "b_7pxX5CxPYr",
        "colab_type": "code",
        "colab": {},
        "outputId": "eb47f569-5487-4c7a-a783-ddacf24f66af"
      },
      "source": [
        "# 2. 그래프 만들기 \n",
        "# 남성 직업 빈도 상위 10 개 직업\n",
        "ggplot(data = job_male, aes(x = reorder(job, n), y = n)) +\n",
        "geom_col() +   coord_flip() "
      ],
      "execution_count": 0,
      "outputs": [
        {
          "output_type": "display_data",
          "data": {
            "image/png": "[encoded data removed]",
            "text/plain": [
              "plot without title"
            ]
          },
          "metadata": {
            "tags": []
          }
        }
      ]
    },
    {
      "cell_type": "code",
      "metadata": {
        "id": "D6_tmnHIxPYs",
        "colab_type": "code",
        "colab": {},
        "outputId": "afdfce6c-a4e6-4fa5-8256-0bee0a3cc2d8"
      },
      "source": [
        "# # 여성 직업 빈도 상위 10 개 직업\n",
        "ggplot(data = job_female, aes(x = reorder(job, n), y = n)) +\n",
        "geom_col() +   coord_flip() \n",
        " "
      ],
      "execution_count": 0,
      "outputs": [
        {
          "output_type": "display_data",
          "data": {
            "image/png": "[encoded data removed]",
            "text/plain": [
              "plot without title"
            ]
          },
          "metadata": {
            "tags": []
          }
        }
      ]
    },
    {
      "cell_type": "markdown",
      "metadata": {
        "id": "hMoBs6oxxPYv",
        "colab_type": "text"
      },
      "source": [
        "## 09-8. 종교 유무에 따른 이혼율 - \"종교가 있는 사람들이 이혼을 덜 할까? "
      ]
    },
    {
      "cell_type": "markdown",
      "metadata": {
        "id": "aFuPkIdwxPYx",
        "colab_type": "text"
      },
      "source": [
        "- 분석 절차 \n",
        "    - 1. 변수 검토 및 전처리 \n",
        "         - 종교 \n",
        "         - 혼인 상태 \n",
        "    - 2. 변수 간 관계 분석 \n",
        "         - 종교 유무에 따른 이혼율 표 만들기 \n",
        "         - 그래프 만들기 "
      ]
    },
    {
      "cell_type": "markdown",
      "metadata": {
        "id": "wudm9hI-xPYx",
        "colab_type": "text"
      },
      "source": [
        "### 종교 변수 검토 및 전처리하기 "
      ]
    },
    {
      "cell_type": "code",
      "metadata": {
        "id": "7loFttxNxPYy",
        "colab_type": "code",
        "colab": {},
        "outputId": "b1abe139-6b3d-415d-c3ea-4812e0f71622"
      },
      "source": [
        "# 1. 변수 검토하기 \n",
        "class(welfare$religion) \n",
        "table(welfare$religion) "
      ],
      "execution_count": 0,
      "outputs": [
        {
          "output_type": "display_data",
          "data": {
            "text/html": [
              "'numeric'"
            ],
            "text/latex": "'numeric'",
            "text/markdown": "'numeric'",
            "text/plain": [
              "[1] \"numeric\""
            ]
          },
          "metadata": {
            "tags": []
          }
        },
        {
          "output_type": "display_data",
          "data": {
            "text/plain": [
              "\n",
              "   1    2 \n",
              "8047 8617 "
            ]
          },
          "metadata": {
            "tags": []
          }
        }
      ]
    },
    {
      "cell_type": "code",
      "metadata": {
        "id": "n65MUqXbxPY0",
        "colab_type": "code",
        "colab": {},
        "outputId": "12022828-2d33-488c-d9d0-a0373b74c4d0"
      },
      "source": [
        "# 2. 전처리 \n",
        "# 종교 유무 이름 부여\n",
        "welfare$religion <- ifelse(welfare$religion == 1, \"yes\", \"no\") \n",
        "table(welfare$religion)\n",
        "qplot(welfare$religion)"
      ],
      "execution_count": 0,
      "outputs": [
        {
          "output_type": "display_data",
          "data": {
            "text/plain": [
              "\n",
              "  no  yes \n",
              "8617 8047 "
            ]
          },
          "metadata": {
            "tags": []
          }
        },
        {
          "output_type": "display_data",
          "data": {
            "image/png": "[encoded data removed]",
            "text/plain": [
              "plot without title"
            ]
          },
          "metadata": {
            "tags": []
          }
        }
      ]
    },
    {
      "cell_type": "markdown",
      "metadata": {
        "id": "s9yV6ituxPY2",
        "colab_type": "text"
      },
      "source": [
        "### 혼인 상태 변수 검토 및 전처리하기 "
      ]
    },
    {
      "cell_type": "code",
      "metadata": {
        "id": "P4xS18w5xPY3",
        "colab_type": "code",
        "colab": {},
        "outputId": "d7927c37-892c-45dc-c8e5-d42430255036"
      },
      "source": [
        "# 1. 변수 검토하기 \n",
        "class(welfare$marriage) \n",
        "\n",
        "table(welfare$marriage) "
      ],
      "execution_count": 0,
      "outputs": [
        {
          "output_type": "display_data",
          "data": {
            "text/html": [
              "'numeric'"
            ],
            "text/latex": "'numeric'",
            "text/markdown": "'numeric'",
            "text/plain": [
              "[1] \"numeric\""
            ]
          },
          "metadata": {
            "tags": []
          }
        },
        {
          "output_type": "display_data",
          "data": {
            "text/plain": [
              "\n",
              "   0    1    2    3    4    5    6 \n",
              "2861 8431 2117  712   84 2433   26 "
            ]
          },
          "metadata": {
            "tags": []
          }
        }
      ]
    },
    {
      "cell_type": "code",
      "metadata": {
        "id": "7WCr2jUPxPY4",
        "colab_type": "code",
        "colab": {},
        "outputId": "53547c50-21c5-4e85-d20a-c7e99ae0519e"
      },
      "source": [
        "# 2. 전처리 \n",
        "# 이혼 여부 변수 만들기\n",
        "welfare$group_marriage <- ifelse(welfare$marriage == 1, \"marriage\",\n",
        "                                 ifelse(welfare$marriage == 3, \"divorce\", NA)) \n",
        " \n",
        "table(welfare$group_marriage) \n",
        "table(is.na(welfare$group_marriage)) "
      ],
      "execution_count": 0,
      "outputs": [
        {
          "output_type": "display_data",
          "data": {
            "text/plain": [
              "\n",
              " divorce marriage \n",
              "     712     8431 "
            ]
          },
          "metadata": {
            "tags": []
          }
        },
        {
          "output_type": "display_data",
          "data": {
            "text/plain": [
              "\n",
              "FALSE  TRUE \n",
              " 9143  7521 "
            ]
          },
          "metadata": {
            "tags": []
          }
        }
      ]
    },
    {
      "cell_type": "code",
      "metadata": {
        "id": "NmtkIj2PxPY6",
        "colab_type": "code",
        "colab": {},
        "outputId": "a8ddb8c4-5a22-40fd-887c-105374126845"
      },
      "source": [
        "qplot(welfare$group_marriage)"
      ],
      "execution_count": 0,
      "outputs": [
        {
          "output_type": "display_data",
          "data": {
            "image/png": "[encoded data removed]",
            "text/plain": [
              "plot without title"
            ]
          },
          "metadata": {
            "tags": []
          }
        }
      ]
    },
    {
      "cell_type": "markdown",
      "metadata": {
        "id": "dp-bmplUxPY8",
        "colab_type": "text"
      },
      "source": [
        "###  종교 유무에 따른 이혼율 분석하기 "
      ]
    },
    {
      "cell_type": "code",
      "metadata": {
        "id": "q1RsHLQBxPY8",
        "colab_type": "code",
        "colab": {},
        "outputId": "31d150c5-9ef9-4d28-e83a-1641315e153a"
      },
      "source": [
        "# 1. 종교 유무에 따른 이혼율 표 만들기 \n",
        "religion_marriage <- welfare %>%   \n",
        "        filter(!is.na(group_marriage)) %>%   \n",
        "        group_by(religion, group_marriage) %>%   \n",
        "        summarise(n = n()) %>%   \n",
        "        mutate(tot_group = sum(n)) %>%   \n",
        "        mutate(pct = round(n/tot_group*100, 1)) \n",
        " \n",
        "religion_marriage"
      ],
      "execution_count": 0,
      "outputs": [
        {
          "output_type": "display_data",
          "data": {
            "text/html": [
              "<table>\n",
              "<thead><tr><th scope=col>religion</th><th scope=col>group_marriage</th><th scope=col>n</th><th scope=col>tot_group</th><th scope=col>pct</th></tr></thead>\n",
              "<tbody>\n",
              "\t<tr><td>no      </td><td>divorce </td><td> 384    </td><td>4602    </td><td> 8.3    </td></tr>\n",
              "\t<tr><td>no      </td><td>marriage</td><td>4218    </td><td>4602    </td><td>91.7    </td></tr>\n",
              "\t<tr><td>yes     </td><td>divorce </td><td> 328    </td><td>4541    </td><td> 7.2    </td></tr>\n",
              "\t<tr><td>yes     </td><td>marriage</td><td>4213    </td><td>4541    </td><td>92.8    </td></tr>\n",
              "</tbody>\n",
              "</table>\n"
            ],
            "text/latex": "\\begin{tabular}{r|lllll}\n religion & group\\_marriage & n & tot\\_group & pct\\\\\n\\hline\n\t no       & divorce  &  384     & 4602     &  8.3    \\\\\n\t no       & marriage & 4218     & 4602     & 91.7    \\\\\n\t yes      & divorce  &  328     & 4541     &  7.2    \\\\\n\t yes      & marriage & 4213     & 4541     & 92.8    \\\\\n\\end{tabular}\n",
            "text/markdown": "\n| religion | group_marriage | n | tot_group | pct |\n|---|---|---|---|---|\n| no       | divorce  |  384     | 4602     |  8.3     |\n| no       | marriage | 4218     | 4602     | 91.7     |\n| yes      | divorce  |  328     | 4541     |  7.2     |\n| yes      | marriage | 4213     | 4541     | 92.8     |\n\n",
            "text/plain": [
              "  religion group_marriage n    tot_group pct \n",
              "1 no       divorce         384 4602       8.3\n",
              "2 no       marriage       4218 4602      91.7\n",
              "3 yes      divorce         328 4541       7.2\n",
              "4 yes      marriage       4213 4541      92.8"
            ]
          },
          "metadata": {
            "tags": []
          }
        }
      ]
    },
    {
      "cell_type": "code",
      "metadata": {
        "id": "Yj3aoFaGxPY9",
        "colab_type": "code",
        "colab": {}
      },
      "source": [
        "# count() 활용 \n",
        "religion_marriage <- welfare %>%\n",
        "    filter(!is.na(group_marriage)) %>%\n",
        "    count(religion, group_marriage) %>%\n",
        "    group_by(religion) %>%\n",
        "    mutate(pct = round(n/sum(n)*100, 1)) "
      ],
      "execution_count": 0,
      "outputs": []
    },
    {
      "cell_type": "code",
      "metadata": {
        "id": "qfZ6EgW6xPY_",
        "colab_type": "code",
        "colab": {},
        "outputId": "82bc2d7d-d5e7-461e-f79a-a7032f10eec3"
      },
      "source": [
        "# 2. 이혼율 표 만들기 \n",
        "# 이혼 추출\n",
        "divorce <- religion_marriage %>%   filter(group_marriage == \"divorce\") %>%   select(religion, pct) \n",
        " \n",
        "divorce "
      ],
      "execution_count": 0,
      "outputs": [
        {
          "output_type": "display_data",
          "data": {
            "text/html": [
              "<table>\n",
              "<thead><tr><th scope=col>religion</th><th scope=col>pct</th></tr></thead>\n",
              "<tbody>\n",
              "\t<tr><td>no </td><td>8.3</td></tr>\n",
              "\t<tr><td>yes</td><td>7.2</td></tr>\n",
              "</tbody>\n",
              "</table>\n"
            ],
            "text/latex": "\\begin{tabular}{r|ll}\n religion & pct\\\\\n\\hline\n\t no  & 8.3\\\\\n\t yes & 7.2\\\\\n\\end{tabular}\n",
            "text/markdown": "\n| religion | pct |\n|---|---|\n| no  | 8.3 |\n| yes | 7.2 |\n\n",
            "text/plain": [
              "  religion pct\n",
              "1 no       8.3\n",
              "2 yes      7.2"
            ]
          },
          "metadata": {
            "tags": []
          }
        }
      ]
    },
    {
      "cell_type": "code",
      "metadata": {
        "id": "hgDKO5KUxPZA",
        "colab_type": "code",
        "colab": {},
        "outputId": "a7306047-e259-4523-e3a0-617f79065292"
      },
      "source": [
        "# 3. 그래프 만들기 \n",
        "ggplot(data = divorce, aes(x = religion, y = pct)) + geom_col() "
      ],
      "execution_count": 0,
      "outputs": [
        {
          "output_type": "display_data",
          "data": {
            "image/png": "[encoded data removed]",
            "text/plain": [
              "plot without title"
            ]
          },
          "metadata": {
            "tags": []
          }
        }
      ]
    },
    {
      "cell_type": "markdown",
      "metadata": {
        "id": "mYYk_io5xPZB",
        "colab_type": "text"
      },
      "source": [
        "### 연령대 및 종교 유무에 따른 이혼율 분석하기 "
      ]
    },
    {
      "cell_type": "code",
      "metadata": {
        "id": "MmrEqaZaxPZC",
        "colab_type": "code",
        "colab": {},
        "outputId": "02f73004-f9c5-4ade-d1f2-92d49ed71621"
      },
      "source": [
        "# 1. 연령대별 이혼율 표 만들기 \n",
        "ageg_marriage <- welfare %>%\n",
        "    filter(!is.na(group_marriage)) %>%\n",
        "    group_by(ageg, group_marriage) %>%\n",
        "    summarise(n = n()) %>%\n",
        "    mutate(tot_group = sum(n)) %>%\n",
        "    mutate(pct = round(n/tot_group*100, 1)) \n",
        " \n",
        "ageg_marriage "
      ],
      "execution_count": 0,
      "outputs": [
        {
          "output_type": "display_data",
          "data": {
            "text/html": [
              "<table>\n",
              "<thead><tr><th scope=col>ageg</th><th scope=col>group_marriage</th><th scope=col>n</th><th scope=col>tot_group</th><th scope=col>pct</th></tr></thead>\n",
              "<tbody>\n",
              "\t<tr><td>middle  </td><td>divorce </td><td> 437    </td><td>4918    </td><td> 8.9    </td></tr>\n",
              "\t<tr><td>middle  </td><td>marriage</td><td>4481    </td><td>4918    </td><td>91.1    </td></tr>\n",
              "\t<tr><td>old     </td><td>divorce </td><td> 273    </td><td>4165    </td><td> 6.6    </td></tr>\n",
              "\t<tr><td>old     </td><td>marriage</td><td>3892    </td><td>4165    </td><td>93.4    </td></tr>\n",
              "\t<tr><td>young   </td><td>divorce </td><td>   2    </td><td>  60    </td><td> 3.3    </td></tr>\n",
              "\t<tr><td>young   </td><td>marriage</td><td>  58    </td><td>  60    </td><td>96.7    </td></tr>\n",
              "</tbody>\n",
              "</table>\n"
            ],
            "text/latex": "\\begin{tabular}{r|lllll}\n ageg & group\\_marriage & n & tot\\_group & pct\\\\\n\\hline\n\t middle   & divorce  &  437     & 4918     &  8.9    \\\\\n\t middle   & marriage & 4481     & 4918     & 91.1    \\\\\n\t old      & divorce  &  273     & 4165     &  6.6    \\\\\n\t old      & marriage & 3892     & 4165     & 93.4    \\\\\n\t young    & divorce  &    2     &   60     &  3.3    \\\\\n\t young    & marriage &   58     &   60     & 96.7    \\\\\n\\end{tabular}\n",
            "text/markdown": "\n| ageg | group_marriage | n | tot_group | pct |\n|---|---|---|---|---|\n| middle   | divorce  |  437     | 4918     |  8.9     |\n| middle   | marriage | 4481     | 4918     | 91.1     |\n| old      | divorce  |  273     | 4165     |  6.6     |\n| old      | marriage | 3892     | 4165     | 93.4     |\n| young    | divorce  |    2     |   60     |  3.3     |\n| young    | marriage |   58     |   60     | 96.7     |\n\n",
            "text/plain": [
              "  ageg   group_marriage n    tot_group pct \n",
              "1 middle divorce         437 4918       8.9\n",
              "2 middle marriage       4481 4918      91.1\n",
              "3 old    divorce         273 4165       6.6\n",
              "4 old    marriage       3892 4165      93.4\n",
              "5 young  divorce           2   60       3.3\n",
              "6 young  marriage         58   60      96.7"
            ]
          },
          "metadata": {
            "tags": []
          }
        }
      ]
    },
    {
      "cell_type": "code",
      "metadata": {
        "id": "DRl2HzRIxPZD",
        "colab_type": "code",
        "colab": {}
      },
      "source": [
        "# count() 활용 \n",
        "# ageg_marriage <- welfare %>%  \n",
        "# filter(!is.na(group_marriage)) %>%  \n",
        "# count(ageg, group_marriage) %>% \n",
        "# group_by(ageg) %>% \n",
        "# mutate(pct = round(n/sum(n)*100, 1)) "
      ],
      "execution_count": 0,
      "outputs": []
    },
    {
      "cell_type": "code",
      "metadata": {
        "id": "pqWn4ohVxPZF",
        "colab_type": "code",
        "colab": {},
        "outputId": "a419c6f1-416a-4409-bc7c-3eaf2619c569"
      },
      "source": [
        "# 2. 연령대별 이혼율 그래프 만들기 \n",
        "# 초년 제외 , 이혼 추출\n",
        "ageg_divorce <- ageg_marriage %>%   \n",
        "    filter(ageg != \"young\" & group_marriage == \"divorce\") %>%\n",
        "    select(ageg, pct) \n",
        "\n",
        "ageg_divorce"
      ],
      "execution_count": 0,
      "outputs": [
        {
          "output_type": "display_data",
          "data": {
            "text/html": [
              "<table>\n",
              "<thead><tr><th scope=col>ageg</th><th scope=col>pct</th></tr></thead>\n",
              "<tbody>\n",
              "\t<tr><td>middle</td><td>8.9   </td></tr>\n",
              "\t<tr><td>old   </td><td>6.6   </td></tr>\n",
              "</tbody>\n",
              "</table>\n"
            ],
            "text/latex": "\\begin{tabular}{r|ll}\n ageg & pct\\\\\n\\hline\n\t middle & 8.9   \\\\\n\t old    & 6.6   \\\\\n\\end{tabular}\n",
            "text/markdown": "\n| ageg | pct |\n|---|---|\n| middle | 8.9    |\n| old    | 6.6    |\n\n",
            "text/plain": [
              "  ageg   pct\n",
              "1 middle 8.9\n",
              "2 old    6.6"
            ]
          },
          "metadata": {
            "tags": []
          }
        }
      ]
    },
    {
      "cell_type": "code",
      "metadata": {
        "id": "SXXYgpHSxPZH",
        "colab_type": "code",
        "colab": {},
        "outputId": "107f9233-6e28-4a85-93cb-11b8538934b5"
      },
      "source": [
        "# 그래프 만들기\n",
        "ggplot(data = ageg_divorce, aes(x = ageg, y = pct)) + geom_col() "
      ],
      "execution_count": 0,
      "outputs": [
        {
          "output_type": "display_data",
          "data": {
            "image/png": "[encoded data removed]",
            "text/plain": [
              "plot without title"
            ]
          },
          "metadata": {
            "tags": []
          }
        }
      ]
    },
    {
      "cell_type": "code",
      "metadata": {
        "id": "mJb8DFglxPZI",
        "colab_type": "code",
        "colab": {},
        "outputId": "17dabaa3-acfb-4bb2-b345-81c116a72ec1"
      },
      "source": [
        "# 3. 연령대 및 종교 유무에 따른 이혼율 표 만들기 \n",
        "# 연령대 , 종교유무 , 결혼상태별 비율표 만들기\n",
        "ageg_religion_marriage <- welfare %>%\n",
        "    filter(!is.na(group_marriage) & ageg != \"young\") %>%\n",
        "    group_by(ageg, religion, group_marriage) %>%\n",
        "    summarise(n = n()) %>% \n",
        "    mutate(tot_group = sum(n)) %>%  \n",
        "    mutate(pct = round(n/tot_group*100, 1)) \n",
        " \n",
        "ageg_religion_marriage"
      ],
      "execution_count": 0,
      "outputs": [
        {
          "output_type": "display_data",
          "data": {
            "text/html": [
              "<table>\n",
              "<thead><tr><th scope=col>ageg</th><th scope=col>religion</th><th scope=col>group_marriage</th><th scope=col>n</th><th scope=col>tot_group</th><th scope=col>pct</th></tr></thead>\n",
              "<tbody>\n",
              "\t<tr><td>middle  </td><td>no      </td><td>divorce </td><td> 260    </td><td>2681    </td><td> 9.7    </td></tr>\n",
              "\t<tr><td>middle  </td><td>no      </td><td>marriage</td><td>2421    </td><td>2681    </td><td>90.3    </td></tr>\n",
              "\t<tr><td>middle  </td><td>yes     </td><td>divorce </td><td> 177    </td><td>2237    </td><td> 7.9    </td></tr>\n",
              "\t<tr><td>middle  </td><td>yes     </td><td>marriage</td><td>2060    </td><td>2237    </td><td>92.1    </td></tr>\n",
              "\t<tr><td>old     </td><td>no      </td><td>divorce </td><td> 123    </td><td>1884    </td><td> 6.5    </td></tr>\n",
              "\t<tr><td>old     </td><td>no      </td><td>marriage</td><td>1761    </td><td>1884    </td><td>93.5    </td></tr>\n",
              "\t<tr><td>old     </td><td>yes     </td><td>divorce </td><td> 150    </td><td>2281    </td><td> 6.6    </td></tr>\n",
              "\t<tr><td>old     </td><td>yes     </td><td>marriage</td><td>2131    </td><td>2281    </td><td>93.4    </td></tr>\n",
              "</tbody>\n",
              "</table>\n"
            ],
            "text/latex": "\\begin{tabular}{r|llllll}\n ageg & religion & group\\_marriage & n & tot\\_group & pct\\\\\n\\hline\n\t middle   & no       & divorce  &  260     & 2681     &  9.7    \\\\\n\t middle   & no       & marriage & 2421     & 2681     & 90.3    \\\\\n\t middle   & yes      & divorce  &  177     & 2237     &  7.9    \\\\\n\t middle   & yes      & marriage & 2060     & 2237     & 92.1    \\\\\n\t old      & no       & divorce  &  123     & 1884     &  6.5    \\\\\n\t old      & no       & marriage & 1761     & 1884     & 93.5    \\\\\n\t old      & yes      & divorce  &  150     & 2281     &  6.6    \\\\\n\t old      & yes      & marriage & 2131     & 2281     & 93.4    \\\\\n\\end{tabular}\n",
            "text/markdown": "\n| ageg | religion | group_marriage | n | tot_group | pct |\n|---|---|---|---|---|---|\n| middle   | no       | divorce  |  260     | 2681     |  9.7     |\n| middle   | no       | marriage | 2421     | 2681     | 90.3     |\n| middle   | yes      | divorce  |  177     | 2237     |  7.9     |\n| middle   | yes      | marriage | 2060     | 2237     | 92.1     |\n| old      | no       | divorce  |  123     | 1884     |  6.5     |\n| old      | no       | marriage | 1761     | 1884     | 93.5     |\n| old      | yes      | divorce  |  150     | 2281     |  6.6     |\n| old      | yes      | marriage | 2131     | 2281     | 93.4     |\n\n",
            "text/plain": [
              "  ageg   religion group_marriage n    tot_group pct \n",
              "1 middle no       divorce         260 2681       9.7\n",
              "2 middle no       marriage       2421 2681      90.3\n",
              "3 middle yes      divorce         177 2237       7.9\n",
              "4 middle yes      marriage       2060 2237      92.1\n",
              "5 old    no       divorce         123 1884       6.5\n",
              "6 old    no       marriage       1761 1884      93.5\n",
              "7 old    yes      divorce         150 2281       6.6\n",
              "8 old    yes      marriage       2131 2281      93.4"
            ]
          },
          "metadata": {
            "tags": []
          }
        }
      ]
    },
    {
      "cell_type": "code",
      "metadata": {
        "id": "n3UeslybxPZK",
        "colab_type": "code",
        "colab": {}
      },
      "source": [
        "# count() 활용 \n",
        "# ageg_religion_marriage <- welfare %>%  \n",
        "# filter(!is.na(group_marriage) & ageg != \"young\") %>%   \n",
        "# count(ageg, religion, group_marriage) %>%\n",
        "# group_by(ageg, religion) %>%  \n",
        "# mutate(pct = round(n/sum(n)*100, 1)) "
      ],
      "execution_count": 0,
      "outputs": []
    },
    {
      "cell_type": "code",
      "metadata": {
        "id": "v9IKZi3UxPZL",
        "colab_type": "code",
        "colab": {},
        "outputId": "eaa6b20a-cb38-4d05-d087-e77598eb7209"
      },
      "source": [
        "# 연령대 및 종교 유무별 이혼율 표 만들기 \n",
        "df_divorce <- ageg_religion_marriage %>%   filter(group_marriage == \"divorce\") %>%   select(ageg, religion, pct) \n",
        " \n",
        "df_divorce "
      ],
      "execution_count": 0,
      "outputs": [
        {
          "output_type": "display_data",
          "data": {
            "text/html": [
              "<table>\n",
              "<thead><tr><th scope=col>ageg</th><th scope=col>religion</th><th scope=col>pct</th></tr></thead>\n",
              "<tbody>\n",
              "\t<tr><td>middle</td><td>no    </td><td>9.7   </td></tr>\n",
              "\t<tr><td>middle</td><td>yes   </td><td>7.9   </td></tr>\n",
              "\t<tr><td>old   </td><td>no    </td><td>6.5   </td></tr>\n",
              "\t<tr><td>old   </td><td>yes   </td><td>6.6   </td></tr>\n",
              "</tbody>\n",
              "</table>\n"
            ],
            "text/latex": "\\begin{tabular}{r|lll}\n ageg & religion & pct\\\\\n\\hline\n\t middle & no     & 9.7   \\\\\n\t middle & yes    & 7.9   \\\\\n\t old    & no     & 6.5   \\\\\n\t old    & yes    & 6.6   \\\\\n\\end{tabular}\n",
            "text/markdown": "\n| ageg | religion | pct |\n|---|---|---|\n| middle | no     | 9.7    |\n| middle | yes    | 7.9    |\n| old    | no     | 6.5    |\n| old    | yes    | 6.6    |\n\n",
            "text/plain": [
              "  ageg   religion pct\n",
              "1 middle no       9.7\n",
              "2 middle yes      7.9\n",
              "3 old    no       6.5\n",
              "4 old    yes      6.6"
            ]
          },
          "metadata": {
            "tags": []
          }
        }
      ]
    },
    {
      "cell_type": "code",
      "metadata": {
        "id": "_lxbmLk2xPZM",
        "colab_type": "code",
        "colab": {},
        "outputId": "1f7b63e3-f86d-4b04-ff7c-86b3e5ae590a"
      },
      "source": [
        "# 4. 연령대 및 종교 유무에 따른 이혼율 그래프 만들기 \n",
        "ggplot(data = df_divorce, aes(x = ageg, y = pct, fill = religion )) +   geom_col(position = \"dodge\") "
      ],
      "execution_count": 0,
      "outputs": [
        {
          "output_type": "display_data",
          "data": {
            "image/png": "[encoded data removed]",
            "text/plain": [
              "plot without title"
            ]
          },
          "metadata": {
            "tags": []
          }
        }
      ]
    },
    {
      "cell_type": "markdown",
      "metadata": {
        "id": "0ssTIj2gxPZO",
        "colab_type": "text"
      },
      "source": [
        "## 09-9. 지역별 연령대 비율 - \"노년층이 많은 지역은 어디일까?\" "
      ]
    },
    {
      "cell_type": "markdown",
      "metadata": {
        "id": "kOedEGdtxPZO",
        "colab_type": "text"
      },
      "source": [
        "- 분석 절차 \n",
        "    - 1. 변수 검토 및 전처리 \n",
        "         - 지역 \n",
        "         - 연령대 \n",
        "    - 2. 변수 간 관계 분석 \n",
        "        - 지역별 연령대 비율표 만들기 \n",
        "        - 그래프 만들기 "
      ]
    },
    {
      "cell_type": "markdown",
      "metadata": {
        "id": "8vatlxwixPZQ",
        "colab_type": "text"
      },
      "source": [
        "### 지역 변수 검토 및 전처리하기 "
      ]
    },
    {
      "cell_type": "code",
      "metadata": {
        "id": "gKKgGP76xPZQ",
        "colab_type": "code",
        "colab": {},
        "outputId": "6ccb4585-5f19-4d3a-c01e-d9f9a0c3a240"
      },
      "source": [
        "# 1. 변수 검토하기 \n",
        "class(welfare$code_region) \n",
        "\n",
        "table(welfare$code_region) "
      ],
      "execution_count": 0,
      "outputs": [
        {
          "output_type": "display_data",
          "data": {
            "text/html": [
              "'numeric'"
            ],
            "text/latex": "'numeric'",
            "text/markdown": "'numeric'",
            "text/plain": [
              "[1] \"numeric\""
            ]
          },
          "metadata": {
            "tags": []
          }
        },
        {
          "output_type": "display_data",
          "data": {
            "text/plain": [
              "\n",
              "   1    2    3    4    5    6    7 \n",
              "2486 3711 2785 2036 1467 1257 2922 "
            ]
          },
          "metadata": {
            "tags": []
          }
        }
      ]
    },
    {
      "cell_type": "code",
      "metadata": {
        "id": "7_6U0HbvxPZS",
        "colab_type": "code",
        "colab": {},
        "outputId": "b66bde31-4349-40a8-eb05-9049b6688fa3"
      },
      "source": [
        "# 2. 전처리 \n",
        "# 지역 코드 목록 만들기\n",
        " list_region <- data.frame(code_region = c(1:7),                           \n",
        "                           region = c(\"서울\",                                      \n",
        "                                       \"수도권(인천/경기)\",                                      \n",
        "                                       \"부산/경남/울산\",                                      \n",
        "                                       \"대구/경북\",\n",
        "                                        \"대전/충남\",\n",
        "                                        \"강원/충북\",                                      \n",
        "                                        \"광주/전남/전북/제주도\")) \n",
        "list_region"
      ],
      "execution_count": 0,
      "outputs": [
        {
          "output_type": "display_data",
          "data": {
            "text/html": [
              "<table>\n",
              "<thead><tr><th scope=col>code_region</th><th scope=col>region</th></tr></thead>\n",
              "<tbody>\n",
              "\t<tr><td>1                    </td><td>서울                 </td></tr>\n",
              "\t<tr><td>2                    </td><td>수도권(인천/경기)    </td></tr>\n",
              "\t<tr><td>3                    </td><td>부산/경남/울산       </td></tr>\n",
              "\t<tr><td>4                    </td><td>대구/경북            </td></tr>\n",
              "\t<tr><td>5                    </td><td>대전/충남            </td></tr>\n",
              "\t<tr><td>6                    </td><td>강원/충북            </td></tr>\n",
              "\t<tr><td>7                    </td><td>광주/전남/전북/제주도</td></tr>\n",
              "</tbody>\n",
              "</table>\n"
            ],
            "text/latex": "\\begin{tabular}{r|ll}\n code\\_region & region\\\\\n\\hline\n\t 1                     & 서울                 \\\\\n\t 2                     & 수도권(인천/경기)    \\\\\n\t 3                     & 부산/경남/울산       \\\\\n\t 4                     & 대구/경북            \\\\\n\t 5                     & 대전/충남            \\\\\n\t 6                     & 강원/충북            \\\\\n\t 7                     & 광주/전남/전북/제주도\\\\\n\\end{tabular}\n",
            "text/markdown": "\n| code_region | region |\n|---|---|\n| 1                     | 서울                  |\n| 2                     | 수도권(인천/경기)     |\n| 3                     | 부산/경남/울산        |\n| 4                     | 대구/경북             |\n| 5                     | 대전/충남             |\n| 6                     | 강원/충북             |\n| 7                     | 광주/전남/전북/제주도 |\n\n",
            "text/plain": [
              "  code_region region               \n",
              "1 1           서울                 \n",
              "2 2           수도권(인천/경기)    \n",
              "3 3           부산/경남/울산       \n",
              "4 4           대구/경북            \n",
              "5 5           대전/충남            \n",
              "6 6           강원/충북            \n",
              "7 7           광주/전남/전북/제주도"
            ]
          },
          "metadata": {
            "tags": []
          }
        }
      ]
    },
    {
      "cell_type": "code",
      "metadata": {
        "id": "x0Em7RbCxPZU",
        "colab_type": "code",
        "colab": {},
        "outputId": "4fa3dde5-d79e-4011-f6f2-0abf694e2200"
      },
      "source": [
        "# welfare에 지역명 변수 추가 \n",
        "welfare <- left_join(welfare, list_region, id = \"code_region\") \n",
        "welfare %>%   select(code_region, region) %>%   head "
      ],
      "execution_count": 0,
      "outputs": [
        {
          "output_type": "stream",
          "text": [
            "Joining, by = c(\"code_region\", \"region\")\n"
          ],
          "name": "stderr"
        },
        {
          "output_type": "display_data",
          "data": {
            "text/html": [
              "<table>\n",
              "<thead><tr><th scope=col>code_region</th><th scope=col>region</th></tr></thead>\n",
              "<tbody>\n",
              "\t<tr><td>1   </td><td>서울</td></tr>\n",
              "\t<tr><td>1   </td><td>서울</td></tr>\n",
              "\t<tr><td>1   </td><td>서울</td></tr>\n",
              "\t<tr><td>1   </td><td>서울</td></tr>\n",
              "\t<tr><td>1   </td><td>서울</td></tr>\n",
              "\t<tr><td>1   </td><td>서울</td></tr>\n",
              "</tbody>\n",
              "</table>\n"
            ],
            "text/latex": "\\begin{tabular}{r|ll}\n code\\_region & region\\\\\n\\hline\n\t 1    & 서울\\\\\n\t 1    & 서울\\\\\n\t 1    & 서울\\\\\n\t 1    & 서울\\\\\n\t 1    & 서울\\\\\n\t 1    & 서울\\\\\n\\end{tabular}\n",
            "text/markdown": "\n| code_region | region |\n|---|---|\n| 1    | 서울 |\n| 1    | 서울 |\n| 1    | 서울 |\n| 1    | 서울 |\n| 1    | 서울 |\n| 1    | 서울 |\n\n",
            "text/plain": [
              "  code_region region\n",
              "1 1           서울  \n",
              "2 1           서울  \n",
              "3 1           서울  \n",
              "4 1           서울  \n",
              "5 1           서울  \n",
              "6 1           서울  "
            ]
          },
          "metadata": {
            "tags": []
          }
        }
      ]
    },
    {
      "cell_type": "markdown",
      "metadata": {
        "id": "YxeXjAQkxPZV",
        "colab_type": "text"
      },
      "source": [
        "###  지역별 연령대 비율 분석하기 "
      ]
    },
    {
      "cell_type": "code",
      "metadata": {
        "id": "cOff6xTtxPZV",
        "colab_type": "code",
        "colab": {},
        "outputId": "0eb22b50-3c0a-4f4d-853d-66edd8f3bb83"
      },
      "source": [
        "# 1. 지역별 연령대 비율표 만들기 \n",
        "region_ageg <- welfare %>%   \n",
        "    group_by(region, ageg) %>%   \n",
        "    summarise(n = n()) %>%   \n",
        "    mutate(tot_group = sum(n)) %>% \n",
        "    mutate(pct = round(n/tot_group*100, 2)) \n",
        " \n",
        "head(region_ageg) "
      ],
      "execution_count": 0,
      "outputs": [
        {
          "output_type": "display_data",
          "data": {
            "text/html": [
              "<table>\n",
              "<thead><tr><th scope=col>region</th><th scope=col>ageg</th><th scope=col>n</th><th scope=col>tot_group</th><th scope=col>pct</th></tr></thead>\n",
              "<tbody>\n",
              "\t<tr><td>강원/충북            </td><td>middle               </td><td> 417                 </td><td>1257                 </td><td>33.17                </td></tr>\n",
              "\t<tr><td>강원/충북            </td><td>old                  </td><td> 555                 </td><td>1257                 </td><td>44.15                </td></tr>\n",
              "\t<tr><td>강원/충북            </td><td>young                </td><td> 285                 </td><td>1257                 </td><td>22.67                </td></tr>\n",
              "\t<tr><td>광주/전남/전북/제주도</td><td>middle               </td><td> 947                 </td><td>2922                 </td><td>32.41                </td></tr>\n",
              "\t<tr><td>광주/전남/전북/제주도</td><td>old                  </td><td>1233                 </td><td>2922                 </td><td>42.20                </td></tr>\n",
              "\t<tr><td>광주/전남/전북/제주도</td><td>young                </td><td> 742                 </td><td>2922                 </td><td>25.39                </td></tr>\n",
              "</tbody>\n",
              "</table>\n"
            ],
            "text/latex": "\\begin{tabular}{r|lllll}\n region & ageg & n & tot\\_group & pct\\\\\n\\hline\n\t 강원/충북             & middle                &  417                  & 1257                  & 33.17                \\\\\n\t 강원/충북             & old                   &  555                  & 1257                  & 44.15                \\\\\n\t 강원/충북             & young                 &  285                  & 1257                  & 22.67                \\\\\n\t 광주/전남/전북/제주도 & middle                &  947                  & 2922                  & 32.41                \\\\\n\t 광주/전남/전북/제주도 & old                   & 1233                  & 2922                  & 42.20                \\\\\n\t 광주/전남/전북/제주도 & young                 &  742                  & 2922                  & 25.39                \\\\\n\\end{tabular}\n",
            "text/markdown": "\n| region | ageg | n | tot_group | pct |\n|---|---|---|---|---|\n| 강원/충북             | middle                |  417                  | 1257                  | 33.17                 |\n| 강원/충북             | old                   |  555                  | 1257                  | 44.15                 |\n| 강원/충북             | young                 |  285                  | 1257                  | 22.67                 |\n| 광주/전남/전북/제주도 | middle                |  947                  | 2922                  | 32.41                 |\n| 광주/전남/전북/제주도 | old                   | 1233                  | 2922                  | 42.20                 |\n| 광주/전남/전북/제주도 | young                 |  742                  | 2922                  | 25.39                 |\n\n",
            "text/plain": [
              "  region                ageg   n    tot_group pct  \n",
              "1 강원/충북             middle  417 1257      33.17\n",
              "2 강원/충북             old     555 1257      44.15\n",
              "3 강원/충북             young   285 1257      22.67\n",
              "4 광주/전남/전북/제주도 middle  947 2922      32.41\n",
              "5 광주/전남/전북/제주도 old    1233 2922      42.20\n",
              "6 광주/전남/전북/제주도 young   742 2922      25.39"
            ]
          },
          "metadata": {
            "tags": []
          }
        }
      ]
    },
    {
      "cell_type": "code",
      "metadata": {
        "id": "nn4--KTbxPZW",
        "colab_type": "code",
        "colab": {}
      },
      "source": [
        "# count() 활용 \n",
        "# region_ageg <- welfare %>%   \n",
        "# count(region, ageg) %>%   \n",
        "# group_by(region) %>% \n",
        "# mutate(pct = round(n/sum(n)*100, 2)) "
      ],
      "execution_count": 0,
      "outputs": []
    },
    {
      "cell_type": "code",
      "metadata": {
        "id": "tPUoCasFxPZa",
        "colab_type": "code",
        "colab": {},
        "outputId": "4144435a-ff39-4d19-ac49-2229c5129a3d"
      },
      "source": [
        "# 2. 그래프 만들기 \n",
        "ggplot(data = region_ageg, aes(x = region, y = pct, fill = ageg)) +   geom_col() +   coord_flip() "
      ],
      "execution_count": 0,
      "outputs": [
        {
          "output_type": "display_data",
          "data": {
            "image/png": "[encoded data removed]",
            "text/plain": [
              "plot without title"
            ]
          },
          "metadata": {
            "tags": []
          }
        }
      ]
    },
    {
      "cell_type": "code",
      "metadata": {
        "id": "zTJV8FxwxPZb",
        "colab_type": "code",
        "colab": {},
        "outputId": "b1492551-6589-4c5e-e6bc-06fec387604f"
      },
      "source": [
        "# 3. 막대 정렬하기 : 노년층 비율 높은 순 \n",
        "# 노년층 비율 내림차순 정렬\n",
        "list_order_old <- region_ageg %>%   filter(ageg == \"old\") %>%   arrange(pct) \n",
        " \n",
        "list_order_old \n",
        "# 지역명 순서 변수 만들기\n",
        "order <- list_order_old$region \n",
        "order "
      ],
      "execution_count": 0,
      "outputs": [
        {
          "output_type": "display_data",
          "data": {
            "text/html": [
              "<table>\n",
              "<thead><tr><th scope=col>region</th><th scope=col>ageg</th><th scope=col>n</th><th scope=col>tot_group</th><th scope=col>pct</th></tr></thead>\n",
              "<tbody>\n",
              "\t<tr><td>수도권(인천/경기)    </td><td>old                  </td><td>1109                 </td><td>3711                 </td><td>29.88                </td></tr>\n",
              "\t<tr><td>서울                 </td><td>old                  </td><td> 805                 </td><td>2486                 </td><td>32.38                </td></tr>\n",
              "\t<tr><td>대전/충남            </td><td>old                  </td><td> 527                 </td><td>1467                 </td><td>35.92                </td></tr>\n",
              "\t<tr><td>부산/경남/울산       </td><td>old                  </td><td>1124                 </td><td>2785                 </td><td>40.36                </td></tr>\n",
              "\t<tr><td>광주/전남/전북/제주도</td><td>old                  </td><td>1233                 </td><td>2922                 </td><td>42.20                </td></tr>\n",
              "\t<tr><td>강원/충북            </td><td>old                  </td><td> 555                 </td><td>1257                 </td><td>44.15                </td></tr>\n",
              "\t<tr><td>대구/경북            </td><td>old                  </td><td> 928                 </td><td>2036                 </td><td>45.58                </td></tr>\n",
              "</tbody>\n",
              "</table>\n"
            ],
            "text/latex": "\\begin{tabular}{r|lllll}\n region & ageg & n & tot\\_group & pct\\\\\n\\hline\n\t 수도권(인천/경기)     & old                   & 1109                  & 3711                  & 29.88                \\\\\n\t 서울                  & old                   &  805                  & 2486                  & 32.38                \\\\\n\t 대전/충남             & old                   &  527                  & 1467                  & 35.92                \\\\\n\t 부산/경남/울산        & old                   & 1124                  & 2785                  & 40.36                \\\\\n\t 광주/전남/전북/제주도 & old                   & 1233                  & 2922                  & 42.20                \\\\\n\t 강원/충북             & old                   &  555                  & 1257                  & 44.15                \\\\\n\t 대구/경북             & old                   &  928                  & 2036                  & 45.58                \\\\\n\\end{tabular}\n",
            "text/markdown": "\n| region | ageg | n | tot_group | pct |\n|---|---|---|---|---|\n| 수도권(인천/경기)     | old                   | 1109                  | 3711                  | 29.88                 |\n| 서울                  | old                   |  805                  | 2486                  | 32.38                 |\n| 대전/충남             | old                   |  527                  | 1467                  | 35.92                 |\n| 부산/경남/울산        | old                   | 1124                  | 2785                  | 40.36                 |\n| 광주/전남/전북/제주도 | old                   | 1233                  | 2922                  | 42.20                 |\n| 강원/충북             | old                   |  555                  | 1257                  | 44.15                 |\n| 대구/경북             | old                   |  928                  | 2036                  | 45.58                 |\n\n",
            "text/plain": [
              "  region                ageg n    tot_group pct  \n",
              "1 수도권(인천/경기)     old  1109 3711      29.88\n",
              "2 서울                  old   805 2486      32.38\n",
              "3 대전/충남             old   527 1467      35.92\n",
              "4 부산/경남/울산        old  1124 2785      40.36\n",
              "5 광주/전남/전북/제주도 old  1233 2922      42.20\n",
              "6 강원/충북             old   555 1257      44.15\n",
              "7 대구/경북             old   928 2036      45.58"
            ]
          },
          "metadata": {
            "tags": []
          }
        },
        {
          "output_type": "display_data",
          "data": {
            "text/html": [
              "<ol class=list-inline>\n",
              "\t<li>수도권(인천/경기)</li>\n",
              "\t<li>서울</li>\n",
              "\t<li>대전/충남</li>\n",
              "\t<li>부산/경남/울산</li>\n",
              "\t<li>광주/전남/전북/제주도</li>\n",
              "\t<li>강원/충북</li>\n",
              "\t<li>대구/경북</li>\n",
              "</ol>\n",
              "\n",
              "<details>\n",
              "\t<summary style=display:list-item;cursor:pointer>\n",
              "\t\t<strong>Levels</strong>:\n",
              "\t</summary>\n",
              "\t<ol class=list-inline>\n",
              "\t\t<li>'강원/충북'</li>\n",
              "\t\t<li>'광주/전남/전북/제주도'</li>\n",
              "\t\t<li>'대구/경북'</li>\n",
              "\t\t<li>'대전/충남'</li>\n",
              "\t\t<li>'부산/경남/울산'</li>\n",
              "\t\t<li>'서울'</li>\n",
              "\t\t<li>'수도권(인천/경기)'</li>\n",
              "\t</ol>\n",
              "</details>"
            ],
            "text/latex": "\\begin{enumerate*}\n\\item 수도권(인천/경기)\n\\item 서울\n\\item 대전/충남\n\\item 부산/경남/울산\n\\item 광주/전남/전북/제주도\n\\item 강원/충북\n\\item 대구/경북\n\\end{enumerate*}\n\n\\emph{Levels}: \\begin{enumerate*}\n\\item '강원/충북'\n\\item '광주/전남/전북/제주도'\n\\item '대구/경북'\n\\item '대전/충남'\n\\item '부산/경남/울산'\n\\item '서울'\n\\item '수도권(인천/경기)'\n\\end{enumerate*}\n",
            "text/markdown": "1. 수도권(인천/경기)\n2. 서울\n3. 대전/충남\n4. 부산/경남/울산\n5. 광주/전남/전북/제주도\n6. 강원/충북\n7. 대구/경북\n\n\n\n**Levels**: 1. '강원/충북'\n2. '광주/전남/전북/제주도'\n3. '대구/경북'\n4. '대전/충남'\n5. '부산/경남/울산'\n6. '서울'\n7. '수도권(인천/경기)'\n\n\n",
            "text/plain": [
              "[1] 수도권(인천/경기)     서울                  대전/충남            \n",
              "[4] 부산/경남/울산        광주/전남/전북/제주도 강원/충북            \n",
              "[7] 대구/경북            \n",
              "7 Levels: 강원/충북 광주/전남/전북/제주도 대구/경북 ... 수도권(인천/경기)"
            ]
          },
          "metadata": {
            "tags": []
          }
        }
      ]
    },
    {
      "cell_type": "code",
      "metadata": {
        "id": "n3QHaYjWxPZd",
        "colab_type": "code",
        "colab": {},
        "outputId": "9c4bf642-f633-4a2f-d9c7-772f99884bc4"
      },
      "source": [
        "ggplot(data = region_ageg, aes(x = region,  y = pct, fill = ageg)) +   geom_col() +   coord_flip() +   scale_x_discrete(limits = order)"
      ],
      "execution_count": 0,
      "outputs": [
        {
          "output_type": "display_data",
          "data": {
            "image/png": "[encoded data removed]",
            "text/plain": [
              "plot without title"
            ]
          },
          "metadata": {
            "tags": []
          }
        }
      ]
    },
    {
      "cell_type": "code",
      "metadata": {
        "id": "99es4SYPxPZe",
        "colab_type": "code",
        "colab": {},
        "outputId": "b8b8507c-fea9-4b2c-d407-b9ef41644686"
      },
      "source": [
        "# 4. 연령대 순으로 막대 색깔 나열하기 \n",
        "class(region_ageg$ageg) \n",
        "\n",
        "levels(region_ageg$ageg) \n",
        "\n",
        "region_ageg$ageg <- factor(region_ageg$ageg, \n",
        "                           level = c(\"old\", \"middle\", \"young\")) \n",
        "class(region_ageg$ageg) \n",
        "\n",
        "levels(region_ageg$ageg) "
      ],
      "execution_count": 0,
      "outputs": [
        {
          "output_type": "display_data",
          "data": {
            "text/html": [
              "'character'"
            ],
            "text/latex": "'character'",
            "text/markdown": "'character'",
            "text/plain": [
              "[1] \"character\""
            ]
          },
          "metadata": {
            "tags": []
          }
        },
        {
          "output_type": "display_data",
          "data": {
            "text/plain": [
              "NULL"
            ]
          },
          "metadata": {
            "tags": []
          }
        },
        {
          "output_type": "display_data",
          "data": {
            "text/html": [
              "'factor'"
            ],
            "text/latex": "'factor'",
            "text/markdown": "'factor'",
            "text/plain": [
              "[1] \"factor\""
            ]
          },
          "metadata": {
            "tags": []
          }
        },
        {
          "output_type": "display_data",
          "data": {
            "text/html": [
              "<ol class=list-inline>\n",
              "\t<li>'old'</li>\n",
              "\t<li>'middle'</li>\n",
              "\t<li>'young'</li>\n",
              "</ol>\n"
            ],
            "text/latex": "\\begin{enumerate*}\n\\item 'old'\n\\item 'middle'\n\\item 'young'\n\\end{enumerate*}\n",
            "text/markdown": "1. 'old'\n2. 'middle'\n3. 'young'\n\n\n",
            "text/plain": [
              "[1] \"old\"    \"middle\" \"young\" "
            ]
          },
          "metadata": {
            "tags": []
          }
        }
      ]
    },
    {
      "cell_type": "code",
      "metadata": {
        "id": "tbNkTWK-xPZg",
        "colab_type": "code",
        "colab": {},
        "outputId": "85d466d0-0597-4703-9331-b09b5ad7ee02"
      },
      "source": [
        "ggplot(data = region_ageg, aes(x = region,  y = pct, fill = ageg)) +   geom_col() +   coord_flip() +   scale_x_discrete(limits = order) "
      ],
      "execution_count": 0,
      "outputs": [
        {
          "output_type": "display_data",
          "data": {
            "image/png": "[encoded data removed]",
            "text/plain": [
              "plot without title"
            ]
          },
          "metadata": {
            "tags": []
          }
        }
      ]
    },
    {
      "cell_type": "code",
      "metadata": {
        "id": "XyDnHi9YxPZh",
        "colab_type": "code",
        "colab": {}
      },
      "source": [
        ""
      ],
      "execution_count": 0,
      "outputs": []
    },
    {
      "cell_type": "code",
      "metadata": {
        "id": "9t-uXqgpxPZj",
        "colab_type": "code",
        "colab": {}
      },
      "source": [
        ""
      ],
      "execution_count": 0,
      "outputs": []
    },
    {
      "cell_type": "code",
      "metadata": {
        "id": "rilKo6zDxPZl",
        "colab_type": "code",
        "colab": {}
      },
      "source": [
        ""
      ],
      "execution_count": 0,
      "outputs": []
    },
    {
      "cell_type": "code",
      "metadata": {
        "id": "Eok1TvtKxPZm",
        "colab_type": "code",
        "colab": {}
      },
      "source": [
        ""
      ],
      "execution_count": 0,
      "outputs": []
    },
    {
      "cell_type": "code",
      "metadata": {
        "id": "rGJ_DTMVxPZn",
        "colab_type": "code",
        "colab": {}
      },
      "source": [
        ""
      ],
      "execution_count": 0,
      "outputs": []
    },
    {
      "cell_type": "code",
      "metadata": {
        "id": "Xqb7mMGqxPZo",
        "colab_type": "code",
        "colab": {}
      },
      "source": [
        ""
      ],
      "execution_count": 0,
      "outputs": []
    },
    {
      "cell_type": "code",
      "metadata": {
        "id": "hXs1OzQixPZp",
        "colab_type": "code",
        "colab": {}
      },
      "source": [
        ""
      ],
      "execution_count": 0,
      "outputs": []
    }
  ]
}
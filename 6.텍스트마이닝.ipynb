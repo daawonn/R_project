{
 "cells": [
  {
   "cell_type": "markdown",
   "metadata": {},
   "source": [
    "# 텍스트 마이닝"
   ]
  },
  {
   "cell_type": "markdown",
   "metadata": {},
   "source": [
    "## 텍스트 마이닝(Text mining) \n",
    "- 문자로 된 데이터에서 가치 있는 정보를 얻어 내는 분석 기법 \n",
    "- SNS 나 웹 사이트에 올라온 글을 분석해 사람들이 어떤 이야기를 나누고 있는지 파악할 때 활용 \n",
    "- 형태소 분석(Morphology Analysis) : 문장을 구성하는 어절들이 어떤 품사로 되어 있는지 분석 \n",
    "- 분석 절차 – 형태소 분석 – 명사, 동사 형용사 등 의미를 지닌 품사 단어 추출 – 빈도표 만들기 – 시각화 "
   ]
  },
  {
   "cell_type": "markdown",
   "metadata": {},
   "source": [
    "- 6-1. 힙합 가사 텍스트 마이닝 \n",
    "    - 텍스트 마이닝 준비하기 "
   ]
  },
  {
   "cell_type": "code",
   "execution_count": 1,
   "metadata": {},
   "outputs": [
    {
     "name": "stderr",
     "output_type": "stream",
     "text": [
      "Installing package into 'C:/Users/admin/Documents/R/win-library/3.6'\n",
      "(as 'lib' is unspecified)\n",
      "\n"
     ]
    },
    {
     "name": "stdout",
     "output_type": "stream",
     "text": [
      "package 'rJava' successfully unpacked and MD5 sums checked\n"
     ]
    },
    {
     "name": "stderr",
     "output_type": "stream",
     "text": [
      "Warning message:\n",
      "\"cannot remove prior installation of package 'rJava'\"\n",
      "Warning message in file.copy(savedcopy, lib, recursive = TRUE):\n",
      "\"C:\\Users\\admin\\Documents\\R\\win-library\\3.6\\00LOCK\\rJava\\libs\\x64\\rJava.dll를 C:\\Users\\admin\\Documents\\R\\win-library\\3.6\\rJava\\libs\\x64\\rJava.dll로 복사하는데 문제가 발생했습니다: Permission denied\"\n",
      "Warning message:\n",
      "\"restored 'rJava'\"\n"
     ]
    },
    {
     "name": "stdout",
     "output_type": "stream",
     "text": [
      "\n",
      "The downloaded binary packages are in\n",
      "\tC:\\Users\\admin\\AppData\\Local\\Temp\\RtmpQZBQ4u\\downloaded_packages\n"
     ]
    },
    {
     "name": "stderr",
     "output_type": "stream",
     "text": [
      "Installing package into 'C:/Users/admin/Documents/R/win-library/3.6'\n",
      "(as 'lib' is unspecified)\n",
      "\n"
     ]
    },
    {
     "name": "stdout",
     "output_type": "stream",
     "text": [
      "package 'memoise' successfully unpacked and MD5 sums checked\n",
      "\n",
      "The downloaded binary packages are in\n",
      "\tC:\\Users\\admin\\AppData\\Local\\Temp\\RtmpQZBQ4u\\downloaded_packages\n"
     ]
    },
    {
     "name": "stderr",
     "output_type": "stream",
     "text": [
      "Checking user defined dictionary!\n",
      "\n",
      "\n",
      "\n",
      "Attaching package: 'dplyr'\n",
      "\n",
      "\n",
      "The following objects are masked from 'package:stats':\n",
      "\n",
      "    filter, lag\n",
      "\n",
      "\n",
      "The following objects are masked from 'package:base':\n",
      "\n",
      "    intersect, setdiff, setequal, union\n",
      "\n",
      "\n"
     ]
    }
   ],
   "source": [
    "# 패키지 설치 및 로드 \n",
    "# 패키지 설치\n",
    "# r 관련해서 java가 서포트 해주는 라이브러리\n",
    "install.packages(\"rJava\") \n",
    "install.packages(\"memoise\") \n",
    "\n",
    "# 패키지 로드\n",
    "library(KoNLP) \n",
    "library(dplyr) "
   ]
  },
  {
   "cell_type": "markdown",
   "metadata": {},
   "source": [
    "- 패키지 로드 에러 발생할 경우 - java 설치 경로 확인 후 경로 설정 \n",
    "- java 폴더 경로 설정\n",
    "  - $Sys.setenv(JAVA_HOME=\"C:/Program Files/Java/jre1.8.0_111/\") "
   ]
  },
  {
   "cell_type": "code",
   "execution_count": 2,
   "metadata": {},
   "outputs": [
    {
     "name": "stdout",
     "output_type": "stream",
     "text": [
      "Backup was just finished!\n",
      "1213109 words dictionary was built.\n"
     ]
    }
   ],
   "source": [
    "# 사전 설정하기 \n",
    "useNIADic()"
   ]
  },
  {
   "cell_type": "code",
   "execution_count": 3,
   "metadata": {},
   "outputs": [
    {
     "name": "stderr",
     "output_type": "stream",
     "text": [
      "Warning message in readLines(\"./hiphop.txt\"):\n",
      "\"'./hiphop.txt'에서 불완전한 마지막 행이 발견되었습니다\"\n"
     ]
    },
    {
     "data": {
      "text/html": [
       "<style>\n",
       ".list-inline {list-style: none; margin:0; padding: 0}\n",
       ".list-inline>li {display: inline-block}\n",
       ".list-inline>li:not(:last-child)::after {content: \"\\00b7\"; padding: 0 .5ex}\n",
       "</style>\n",
       "<ol class=list-inline><li>'\"보고 싶다'</li><li>'이렇게 말하니까 더 보고 싶다'</li><li>'너희 사진을 보고 있어도'</li><li>'보고 싶다'</li><li>'너무 야속한 시간'</li><li>'나는 우리가 밉다'</li></ol>\n"
      ],
      "text/latex": [
       "\\begin{enumerate*}\n",
       "\\item '\"보고 싶다'\n",
       "\\item '이렇게 말하니까 더 보고 싶다'\n",
       "\\item '너희 사진을 보고 있어도'\n",
       "\\item '보고 싶다'\n",
       "\\item '너무 야속한 시간'\n",
       "\\item '나는 우리가 밉다'\n",
       "\\end{enumerate*}\n"
      ],
      "text/markdown": [
       "1. '\"보고 싶다'\n",
       "2. '이렇게 말하니까 더 보고 싶다'\n",
       "3. '너희 사진을 보고 있어도'\n",
       "4. '보고 싶다'\n",
       "5. '너무 야속한 시간'\n",
       "6. '나는 우리가 밉다'\n",
       "\n",
       "\n"
      ],
      "text/plain": [
       "[1] \"\\\"보고 싶다\"                  \"이렇게 말하니까 더 보고 싶다\"\n",
       "[3] \"너희 사진을 보고 있어도\"      \"보고 싶다\"                   \n",
       "[5] \"너무 야속한 시간\"             \"나는 우리가 밉다\"            "
      ]
     },
     "metadata": {},
     "output_type": "display_data"
    }
   ],
   "source": [
    "# 데이터 불러오기\n",
    "txt <- readLines(\"./hiphop.txt\") \n",
    "\n",
    "head(txt) "
   ]
  },
  {
   "cell_type": "code",
   "execution_count": 4,
   "metadata": {},
   "outputs": [
    {
     "name": "stderr",
     "output_type": "stream",
     "text": [
      "Installing package into 'C:/Users/admin/Documents/R/win-library/3.6'\n",
      "(as 'lib' is unspecified)\n",
      "\n"
     ]
    },
    {
     "name": "stdout",
     "output_type": "stream",
     "text": [
      "package 'stringr' successfully unpacked and MD5 sums checked\n",
      "\n",
      "The downloaded binary packages are in\n",
      "\tC:\\Users\\admin\\AppData\\Local\\Temp\\RtmpQZBQ4u\\downloaded_packages\n"
     ]
    }
   ],
   "source": [
    "# 특수문자 제거 \n",
    "install.packages(\"stringr\") \n",
    "library(stringr) \n",
    " \n",
    "# 특수문제 제거\n",
    "txt <- str_replace_all(txt, \"\\\\W\", \" \")"
   ]
  },
  {
   "cell_type": "markdown",
   "metadata": {},
   "source": [
    "### 가장 많이 사용된 단어 알아보기"
   ]
  },
  {
   "cell_type": "code",
   "execution_count": 5,
   "metadata": {},
   "outputs": [
    {
     "data": {
      "text/html": [
       "<style>\n",
       ".list-inline {list-style: none; margin:0; padding: 0}\n",
       ".list-inline>li {display: inline-block}\n",
       ".list-inline>li:not(:last-child)::after {content: \"\\00b7\"; padding: 0 .5ex}\n",
       "</style>\n",
       "<ol class=list-inline><li>'대한민국'</li><li>'영토'</li><li>'한반도'</li><li>'부속도서'</li><li>'한'</li></ol>\n"
      ],
      "text/latex": [
       "\\begin{enumerate*}\n",
       "\\item '대한민국'\n",
       "\\item '영토'\n",
       "\\item '한반도'\n",
       "\\item '부속도서'\n",
       "\\item '한'\n",
       "\\end{enumerate*}\n"
      ],
      "text/markdown": [
       "1. '대한민국'\n",
       "2. '영토'\n",
       "3. '한반도'\n",
       "4. '부속도서'\n",
       "5. '한'\n",
       "\n",
       "\n"
      ],
      "text/plain": [
       "[1] \"대한민국\" \"영토\"     \"한반도\"   \"부속도서\" \"한\"      "
      ]
     },
     "metadata": {},
     "output_type": "display_data"
    }
   ],
   "source": [
    "# 명사 추출하기\n",
    "extractNoun(\"대한민국의 영토는 한반도와 그 부속도서로 한다\") \n",
    "\n",
    "# 가사에서 명사추출\n",
    "nouns <- extractNoun(txt) \n",
    " \n",
    "# 추출한 명사 list 를 문자열 벡터로 변환 , 단어별 빈도표 생성\n",
    "wordcount <- table(unlist(nouns)) "
   ]
  },
  {
   "cell_type": "markdown",
   "metadata": {},
   "source": [
    "### 자주 사용된 단어 빈도표 만들기"
   ]
  },
  {
   "cell_type": "code",
   "execution_count": 6,
   "metadata": {},
   "outputs": [
    {
     "data": {
      "text/html": [
       "<table>\n",
       "<caption>A data.frame: 20 × 2</caption>\n",
       "<thead>\n",
       "\t<tr><th></th><th scope=col>word</th><th scope=col>freq</th></tr>\n",
       "\t<tr><th></th><th scope=col>&lt;chr&gt;</th><th scope=col>&lt;int&gt;</th></tr>\n",
       "</thead>\n",
       "<tbody>\n",
       "\t<tr><th scope=row>1</th><td>you </td><td>89</td></tr>\n",
       "\t<tr><th scope=row>2</th><td>my  </td><td>86</td></tr>\n",
       "\t<tr><th scope=row>3</th><td>YAH </td><td>80</td></tr>\n",
       "\t<tr><th scope=row>4</th><td>on  </td><td>76</td></tr>\n",
       "\t<tr><th scope=row>5</th><td>하나</td><td>75</td></tr>\n",
       "\t<tr><th scope=row>6</th><td>오늘</td><td>51</td></tr>\n",
       "\t<tr><th scope=row>7</th><td>and </td><td>49</td></tr>\n",
       "\t<tr><th scope=row>8</th><td>사랑</td><td>49</td></tr>\n",
       "\t<tr><th scope=row>9</th><td>like</td><td>48</td></tr>\n",
       "\t<tr><th scope=row>10</th><td>우리</td><td>48</td></tr>\n",
       "\t<tr><th scope=row>11</th><td>the </td><td>43</td></tr>\n",
       "\t<tr><th scope=row>12</th><td>시간</td><td>39</td></tr>\n",
       "\t<tr><th scope=row>13</th><td>love</td><td>38</td></tr>\n",
       "\t<tr><th scope=row>14</th><td>to  </td><td>38</td></tr>\n",
       "\t<tr><th scope=row>15</th><td>we  </td><td>36</td></tr>\n",
       "\t<tr><th scope=row>16</th><td>it  </td><td>33</td></tr>\n",
       "\t<tr><th scope=row>17</th><td>em  </td><td>32</td></tr>\n",
       "\t<tr><th scope=row>18</th><td>not </td><td>32</td></tr>\n",
       "\t<tr><th scope=row>19</th><td>역사</td><td>31</td></tr>\n",
       "\t<tr><th scope=row>20</th><td>flex</td><td>30</td></tr>\n",
       "</tbody>\n",
       "</table>\n"
      ],
      "text/latex": [
       "A data.frame: 20 × 2\n",
       "\\begin{tabular}{r|ll}\n",
       "  & word & freq\\\\\n",
       "  & <chr> & <int>\\\\\n",
       "\\hline\n",
       "\t1 & you  & 89\\\\\n",
       "\t2 & my   & 86\\\\\n",
       "\t3 & YAH  & 80\\\\\n",
       "\t4 & on   & 76\\\\\n",
       "\t5 & 하나 & 75\\\\\n",
       "\t6 & 오늘 & 51\\\\\n",
       "\t7 & and  & 49\\\\\n",
       "\t8 & 사랑 & 49\\\\\n",
       "\t9 & like & 48\\\\\n",
       "\t10 & 우리 & 48\\\\\n",
       "\t11 & the  & 43\\\\\n",
       "\t12 & 시간 & 39\\\\\n",
       "\t13 & love & 38\\\\\n",
       "\t14 & to   & 38\\\\\n",
       "\t15 & we   & 36\\\\\n",
       "\t16 & it   & 33\\\\\n",
       "\t17 & em   & 32\\\\\n",
       "\t18 & not  & 32\\\\\n",
       "\t19 & 역사 & 31\\\\\n",
       "\t20 & flex & 30\\\\\n",
       "\\end{tabular}\n"
      ],
      "text/markdown": [
       "\n",
       "A data.frame: 20 × 2\n",
       "\n",
       "| <!--/--> | word &lt;chr&gt; | freq &lt;int&gt; |\n",
       "|---|---|---|\n",
       "| 1 | you  | 89 |\n",
       "| 2 | my   | 86 |\n",
       "| 3 | YAH  | 80 |\n",
       "| 4 | on   | 76 |\n",
       "| 5 | 하나 | 75 |\n",
       "| 6 | 오늘 | 51 |\n",
       "| 7 | and  | 49 |\n",
       "| 8 | 사랑 | 49 |\n",
       "| 9 | like | 48 |\n",
       "| 10 | 우리 | 48 |\n",
       "| 11 | the  | 43 |\n",
       "| 12 | 시간 | 39 |\n",
       "| 13 | love | 38 |\n",
       "| 14 | to   | 38 |\n",
       "| 15 | we   | 36 |\n",
       "| 16 | it   | 33 |\n",
       "| 17 | em   | 32 |\n",
       "| 18 | not  | 32 |\n",
       "| 19 | 역사 | 31 |\n",
       "| 20 | flex | 30 |\n",
       "\n"
      ],
      "text/plain": [
       "   word freq\n",
       "1  you  89  \n",
       "2  my   86  \n",
       "3  YAH  80  \n",
       "4  on   76  \n",
       "5  하나 75  \n",
       "6  오늘 51  \n",
       "7  and  49  \n",
       "8  사랑 49  \n",
       "9  like 48  \n",
       "10 우리 48  \n",
       "11 the  43  \n",
       "12 시간 39  \n",
       "13 love 38  \n",
       "14 to   38  \n",
       "15 we   36  \n",
       "16 it   33  \n",
       "17 em   32  \n",
       "18 not  32  \n",
       "19 역사 31  \n",
       "20 flex 30  "
      ]
     },
     "metadata": {},
     "output_type": "display_data"
    }
   ],
   "source": [
    "# 데이터 프레임으로 변환\n",
    "df_word <- as.data.frame(wordcount, stringsAsFactors = F) \n",
    " \n",
    "# 변수명 수정\n",
    "df_word <- rename(df_word,\n",
    "                  word = Var1,\n",
    "                  freq = Freq) \n",
    " \n",
    "# 두 글자 이상 단어 추출\n",
    "df_word <- filter(df_word, nchar(word) >= 2) \n",
    " \n",
    "top_20 <- df_word %>%\n",
    "    arrange(desc(freq)) %>%\n",
    "    head(20) \n",
    "top_20 "
   ]
  },
  {
   "cell_type": "markdown",
   "metadata": {},
   "source": [
    "## 워드클라우드 만들기"
   ]
  },
  {
   "cell_type": "code",
   "execution_count": 8,
   "metadata": {},
   "outputs": [
    {
     "name": "stderr",
     "output_type": "stream",
     "text": [
      "Installing package into 'C:/Users/admin/Documents/R/win-library/3.6'\n",
      "(as 'lib' is unspecified)\n",
      "\n"
     ]
    },
    {
     "name": "stdout",
     "output_type": "stream",
     "text": [
      "package 'wordcloud' successfully unpacked and MD5 sums checked\n",
      "\n",
      "The downloaded binary packages are in\n",
      "\tC:\\Users\\admin\\AppData\\Local\\Temp\\RtmpQZBQ4u\\downloaded_packages\n"
     ]
    },
    {
     "name": "stderr",
     "output_type": "stream",
     "text": [
      "Loading required package: RColorBrewer\n",
      "\n"
     ]
    }
   ],
   "source": [
    "# 패키지 설치\n",
    "install.packages(\"wordcloud\") \n",
    "# 패키지 로드\n",
    "library(wordcloud)  \n",
    "library(RColorBrewer) "
   ]
  },
  {
   "cell_type": "code",
   "execution_count": 9,
   "metadata": {},
   "outputs": [],
   "source": [
    "# 단어 색상 목록 만들기 \n",
    "pal <- brewer.pal(8,\"Dark2\")  # Dark2 색상 목록에서 8 개 색상 추출"
   ]
  },
  {
   "cell_type": "code",
   "execution_count": 10,
   "metadata": {},
   "outputs": [
    {
     "data": {
      "image/png": "[encoded data removed]",
      "text/plain": [
       "plot without title"
      ]
     },
     "metadata": {
      "image/png": {
       "height": 420,
       "width": 420
      },
      "text/plain": {
       "height": 420,
       "width": 420
      }
     },
     "output_type": "display_data"
    }
   ],
   "source": [
    "# 워드 클라우드 생성 \n",
    "set.seed(1234)                    # 난수 고정\n",
    "wordcloud(words = df_word$word,   # 단어\n",
    "           freq = df_word$freq,   # 빈도\n",
    "           min.freq = 2,          # 최소 단어 빈도\n",
    "           max.words = 200,       # 표현 단어 수\n",
    "           random.order = F,      # 고빈도 단어 중앙 배치\n",
    "           rot.per = .1,          # 회전 단어 비율\n",
    "           scale = c(4, 0.3),     # 단어 크기 범위\n",
    "           colors = pal)          # 색깔 목록\n",
    " "
   ]
  },
  {
   "cell_type": "code",
   "execution_count": 11,
   "metadata": {},
   "outputs": [
    {
     "data": {
      "image/png": "[encoded data removed]",
      "text/plain": [
       "plot without title"
      ]
     },
     "metadata": {
      "image/png": {
       "height": 420,
       "width": 420
      },
      "text/plain": {
       "height": 420,
       "width": 420
      }
     },
     "output_type": "display_data"
    }
   ],
   "source": [
    "# 단어 색상 바꾸기 \n",
    "pal <- brewer.pal(9,\"Blues\")[5:9]  # 색상 목록 생성\n",
    "set.seed(1234)                     # 난수 고정\n",
    " \n",
    " \n",
    "wordcloud(words = df_word$word,    # 단어\n",
    "           freq = df_word$freq,     # 빈도\n",
    "           min.freq = 2,            # 최소 단어 빈도\n",
    "           max.words = 200,         # 표현 단어 수\n",
    "           random.order = F,        # 고빈도 단어 중앙 배치\n",
    "           rot.per = .1,            # 회전 단어 비율\n",
    "           scale = c(4, 0.3),       # 단어 크기 범위\n",
    "           colors = pal)            # 색상 목록"
   ]
  },
  {
   "cell_type": "markdown",
   "metadata": {},
   "source": [
    "## 국정원 트윗 텍스트 마이닝"
   ]
  },
  {
   "cell_type": "markdown",
   "metadata": {},
   "source": [
    "- 국정원 계정 트윗 데이터\n",
    "    - 국정원 대선 개입 사실이 밝혀져 논란이 됐던 2013년 6월, 독립 언론 뉴스타파가 인터넷을 통해 공개 \n",
    "    - 국정원 계정으로 작성된 3,744개 트윗 "
   ]
  },
  {
   "cell_type": "code",
   "execution_count": 13,
   "metadata": {},
   "outputs": [],
   "source": [
    "# 데이터 준비하기 \n",
    "# 데이터 로드\n",
    "twitter <- read.csv(\"./twitter.csv\",\n",
    "                     header = T,\n",
    "                     stringsAsFactors = F,\n",
    "                     fileEncoding = \"UTF-8\") \n",
    " \n",
    "# 변수명 수정\n",
    "twitter <- rename(twitter,\n",
    "                   no = 번호,\n",
    "                   id = 계정이름,\n",
    "                   date = 작성일,\n",
    "                   tw = 내용) \n",
    " \n",
    "# 특수문자 제거\n",
    "twitter$tw <- str_replace_all(twitter$tw, \"\\\\W\", \" \") "
   ]
  },
  {
   "cell_type": "code",
   "execution_count": 14,
   "metadata": {},
   "outputs": [
    {
     "data": {
      "text/html": [
       "<style>\n",
       ".list-inline {list-style: none; margin:0; padding: 0}\n",
       ".list-inline>li {display: inline-block}\n",
       ".list-inline>li:not(:last-child)::after {content: \"\\00b7\"; padding: 0 .5ex}\n",
       "</style>\n",
       "<ol class=list-inline><li><span style=white-space:pre-wrap>'민주당의 ISD관련 주장이 전부 거짓으로 속속 드러나고있다  미국이 ISD를 장악하고 있다고 주장하지만 중재인 123명 가운데 미국인은 10명뿐이라고 한다 '</span></li><li><span style=white-space:pre-wrap>'말로만  미제타도   사실은  미제환장   김정일 운구차가 링컨 컨티넬탈이던데 북한의 독재자나 우리나라 종북들이나 겉으로는 노동자  서민을 대변한다면서 고급 외제차  아이팟에 자식들 미국 유학에 환장하는 위선자들인거죠'</span></li><li>'한나라당이 보수를 버린다네요 뭔가착각하는모냥인에 국민들이보수를싫어하는게 아니라뻘짓거리하는분들을싫어하는겁니다야당이진보어쩌고저쩌고한다고해서그들을조아한다고생각하면대착각'</li><li><span style=white-space:pre-wrap>'FTA를 대하는 현명한 자세  사실 자유주의 경제의 가장 큰 수해자는 한국이죠  농어업분야 피해를 줄이는 정부대안을 최대한  보완하고 일자리 창출 등 실익을 최대화해 나가는게 현실적인 대처자세일듯 '</span></li><li><span style=white-space:pre-wrap>'곽노현씨 갈수록 가관입니다  뇌물질에 아들 병역 의혹까지  도대체 아이들이 뮐 보고 배우겠습니까  이래도 자리 연연하시겠습니까 '</span></li><li><span style=white-space:pre-wrap>'과거 집권시 한미FTA를 적극 추진하던 세력이 이제 집권하면 폐기하겠다고 주장합니다  어이없어 말도 안 나오네요  표만 얻을 수 있다면 국가 안보나 경제가 어떻게 되든 상관없다는 무책임한 행태들  우리 정치의 후진성을 드러내는 거죠 '</span></li></ol>\n"
      ],
      "text/latex": [
       "\\begin{enumerate*}\n",
       "\\item '민주당의 ISD관련 주장이 전부 거짓으로 속속 드러나고있다  미국이 ISD를 장악하고 있다고 주장하지만 중재인 123명 가운데 미국인은 10명뿐이라고 한다 '\n",
       "\\item '말로만  미제타도   사실은  미제환장   김정일 운구차가 링컨 컨티넬탈이던데 북한의 독재자나 우리나라 종북들이나 겉으로는 노동자  서민을 대변한다면서 고급 외제차  아이팟에 자식들 미국 유학에 환장하는 위선자들인거죠'\n",
       "\\item '한나라당이 보수를 버린다네요 뭔가착각하는모냥인에 국민들이보수를싫어하는게 아니라뻘짓거리하는분들을싫어하는겁니다야당이진보어쩌고저쩌고한다고해서그들을조아한다고생각하면대착각'\n",
       "\\item 'FTA를 대하는 현명한 자세  사실 자유주의 경제의 가장 큰 수해자는 한국이죠  농어업분야 피해를 줄이는 정부대안을 최대한  보완하고 일자리 창출 등 실익을 최대화해 나가는게 현실적인 대처자세일듯 '\n",
       "\\item '곽노현씨 갈수록 가관입니다  뇌물질에 아들 병역 의혹까지  도대체 아이들이 뮐 보고 배우겠습니까  이래도 자리 연연하시겠습니까 '\n",
       "\\item '과거 집권시 한미FTA를 적극 추진하던 세력이 이제 집권하면 폐기하겠다고 주장합니다  어이없어 말도 안 나오네요  표만 얻을 수 있다면 국가 안보나 경제가 어떻게 되든 상관없다는 무책임한 행태들  우리 정치의 후진성을 드러내는 거죠 '\n",
       "\\end{enumerate*}\n"
      ],
      "text/markdown": [
       "1. <span style=white-space:pre-wrap>'민주당의 ISD관련 주장이 전부 거짓으로 속속 드러나고있다  미국이 ISD를 장악하고 있다고 주장하지만 중재인 123명 가운데 미국인은 10명뿐이라고 한다 '</span>\n",
       "2. <span style=white-space:pre-wrap>'말로만  미제타도   사실은  미제환장   김정일 운구차가 링컨 컨티넬탈이던데 북한의 독재자나 우리나라 종북들이나 겉으로는 노동자  서민을 대변한다면서 고급 외제차  아이팟에 자식들 미국 유학에 환장하는 위선자들인거죠'</span>\n",
       "3. '한나라당이 보수를 버린다네요 뭔가착각하는모냥인에 국민들이보수를싫어하는게 아니라뻘짓거리하는분들을싫어하는겁니다야당이진보어쩌고저쩌고한다고해서그들을조아한다고생각하면대착각'\n",
       "4. <span style=white-space:pre-wrap>'FTA를 대하는 현명한 자세  사실 자유주의 경제의 가장 큰 수해자는 한국이죠  농어업분야 피해를 줄이는 정부대안을 최대한  보완하고 일자리 창출 등 실익을 최대화해 나가는게 현실적인 대처자세일듯 '</span>\n",
       "5. <span style=white-space:pre-wrap>'곽노현씨 갈수록 가관입니다  뇌물질에 아들 병역 의혹까지  도대체 아이들이 뮐 보고 배우겠습니까  이래도 자리 연연하시겠습니까 '</span>\n",
       "6. <span style=white-space:pre-wrap>'과거 집권시 한미FTA를 적극 추진하던 세력이 이제 집권하면 폐기하겠다고 주장합니다  어이없어 말도 안 나오네요  표만 얻을 수 있다면 국가 안보나 경제가 어떻게 되든 상관없다는 무책임한 행태들  우리 정치의 후진성을 드러내는 거죠 '</span>\n",
       "\n",
       "\n"
      ],
      "text/plain": [
       "[1] \"민주당의 ISD관련 주장이 전부 거짓으로 속속 드러나고있다  미국이 ISD를 장악하고 있다고 주장하지만 중재인 123명 가운데 미국인은 10명뿐이라고 한다 \"                                                                               \n",
       "[2] \"말로만  미제타도   사실은  미제환장   김정일 운구차가 링컨 컨티넬탈이던데 북한의 독재자나 우리나라 종북들이나 겉으로는 노동자  서민을 대변한다면서 고급 외제차  아이팟에 자식들 미국 유학에 환장하는 위선자들인거죠\"            \n",
       "[3] \"한나라당이 보수를 버린다네요 뭔가착각하는모냥인에 국민들이보수를싫어하는게 아니라뻘짓거리하는분들을싫어하는겁니다야당이진보어쩌고저쩌고한다고해서그들을조아한다고생각하면대착각\"                                                \n",
       "[4] \"FTA를 대하는 현명한 자세  사실 자유주의 경제의 가장 큰 수해자는 한국이죠  농어업분야 피해를 줄이는 정부대안을 최대한  보완하고 일자리 창출 등 실익을 최대화해 나가는게 현실적인 대처자세일듯 \"                                  \n",
       "[5] \"곽노현씨 갈수록 가관입니다  뇌물질에 아들 병역 의혹까지  도대체 아이들이 뮐 보고 배우겠습니까  이래도 자리 연연하시겠습니까 \"                                                                                                   \n",
       "[6] \"과거 집권시 한미FTA를 적극 추진하던 세력이 이제 집권하면 폐기하겠다고 주장합니다  어이없어 말도 안 나오네요  표만 얻을 수 있다면 국가 안보나 경제가 어떻게 되든 상관없다는 무책임한 행태들  우리 정치의 후진성을 드러내는 거죠 \""
      ]
     },
     "metadata": {},
     "output_type": "display_data"
    }
   ],
   "source": [
    "head(twitter$tw) "
   ]
  },
  {
   "cell_type": "code",
   "execution_count": 15,
   "metadata": {},
   "outputs": [],
   "source": [
    "# 단어 빈도표 만들기 \n",
    "# 트윗에서 명사추출\n",
    "nouns <- extractNoun(twitter$tw) \n",
    " \n",
    "# 추출한 명사 list 를 문자열 벡터로 변환 , 단어별 빈도표 생성\n",
    "wordcount <- table(unlist(nouns)) \n",
    " \n",
    "# 데이터 프레임으로 변환\n",
    "df_word <- as.data.frame(wordcount, stringsAsFactors = F) \n",
    " \n",
    "# 변수명 수정\n",
    "df_word <- rename(df_word,\n",
    "                  word = Var1,\n",
    "                  freq = Freq) "
   ]
  },
  {
   "cell_type": "code",
   "execution_count": 16,
   "metadata": {},
   "outputs": [],
   "source": [
    "#두 글자 이상으로 된 단어 추출, 빈도 상위 20개 단어 추출 \n",
    "# 두 글자 이상 단어만 추출\n",
    "df_word <- filter(df_word, nchar(word) >= 2) \n",
    " \n",
    "# 상위 20 개 추출\n",
    "top20 <- df_word %>%\n",
    "    arrange(desc(freq)) %>%\n",
    "    head(20) "
   ]
  },
  {
   "cell_type": "code",
   "execution_count": 17,
   "metadata": {},
   "outputs": [
    {
     "data": {
      "text/html": [
       "<table>\n",
       "<caption>A data.frame: 20 × 2</caption>\n",
       "<thead>\n",
       "\t<tr><th></th><th scope=col>word</th><th scope=col>freq</th></tr>\n",
       "\t<tr><th></th><th scope=col>&lt;chr&gt;</th><th scope=col>&lt;int&gt;</th></tr>\n",
       "</thead>\n",
       "<tbody>\n",
       "\t<tr><th scope=row>1</th><td>종북    </td><td>2431</td></tr>\n",
       "\t<tr><th scope=row>2</th><td>북한    </td><td>2216</td></tr>\n",
       "\t<tr><th scope=row>3</th><td>세력    </td><td>1162</td></tr>\n",
       "\t<tr><th scope=row>4</th><td>좌파    </td><td> 829</td></tr>\n",
       "\t<tr><th scope=row>5</th><td>대한민국</td><td> 804</td></tr>\n",
       "\t<tr><th scope=row>6</th><td>우리    </td><td> 780</td></tr>\n",
       "\t<tr><th scope=row>7</th><td>들이    </td><td> 566</td></tr>\n",
       "\t<tr><th scope=row>8</th><td>국민    </td><td> 550</td></tr>\n",
       "\t<tr><th scope=row>9</th><td>친북    </td><td> 430</td></tr>\n",
       "\t<tr><th scope=row>10</th><td>단체    </td><td> 394</td></tr>\n",
       "\t<tr><th scope=row>11</th><td>김정일  </td><td> 342</td></tr>\n",
       "\t<tr><th scope=row>12</th><td>진보    </td><td> 335</td></tr>\n",
       "\t<tr><th scope=row>13</th><td>대선    </td><td> 329</td></tr>\n",
       "\t<tr><th scope=row>14</th><td>천안함  </td><td> 319</td></tr>\n",
       "\t<tr><th scope=row>15</th><td>사회    </td><td> 307</td></tr>\n",
       "\t<tr><th scope=row>16</th><td>정부    </td><td> 286</td></tr>\n",
       "\t<tr><th scope=row>17</th><td>전교조  </td><td> 278</td></tr>\n",
       "\t<tr><th scope=row>18</th><td>주장    </td><td> 269</td></tr>\n",
       "\t<tr><th scope=row>19</th><td>정권    </td><td> 265</td></tr>\n",
       "\t<tr><th scope=row>20</th><td>연평도  </td><td> 262</td></tr>\n",
       "</tbody>\n",
       "</table>\n"
      ],
      "text/latex": [
       "A data.frame: 20 × 2\n",
       "\\begin{tabular}{r|ll}\n",
       "  & word & freq\\\\\n",
       "  & <chr> & <int>\\\\\n",
       "\\hline\n",
       "\t1 & 종북     & 2431\\\\\n",
       "\t2 & 북한     & 2216\\\\\n",
       "\t3 & 세력     & 1162\\\\\n",
       "\t4 & 좌파     &  829\\\\\n",
       "\t5 & 대한민국 &  804\\\\\n",
       "\t6 & 우리     &  780\\\\\n",
       "\t7 & 들이     &  566\\\\\n",
       "\t8 & 국민     &  550\\\\\n",
       "\t9 & 친북     &  430\\\\\n",
       "\t10 & 단체     &  394\\\\\n",
       "\t11 & 김정일   &  342\\\\\n",
       "\t12 & 진보     &  335\\\\\n",
       "\t13 & 대선     &  329\\\\\n",
       "\t14 & 천안함   &  319\\\\\n",
       "\t15 & 사회     &  307\\\\\n",
       "\t16 & 정부     &  286\\\\\n",
       "\t17 & 전교조   &  278\\\\\n",
       "\t18 & 주장     &  269\\\\\n",
       "\t19 & 정권     &  265\\\\\n",
       "\t20 & 연평도   &  262\\\\\n",
       "\\end{tabular}\n"
      ],
      "text/markdown": [
       "\n",
       "A data.frame: 20 × 2\n",
       "\n",
       "| <!--/--> | word &lt;chr&gt; | freq &lt;int&gt; |\n",
       "|---|---|---|\n",
       "| 1 | 종북     | 2431 |\n",
       "| 2 | 북한     | 2216 |\n",
       "| 3 | 세력     | 1162 |\n",
       "| 4 | 좌파     |  829 |\n",
       "| 5 | 대한민국 |  804 |\n",
       "| 6 | 우리     |  780 |\n",
       "| 7 | 들이     |  566 |\n",
       "| 8 | 국민     |  550 |\n",
       "| 9 | 친북     |  430 |\n",
       "| 10 | 단체     |  394 |\n",
       "| 11 | 김정일   |  342 |\n",
       "| 12 | 진보     |  335 |\n",
       "| 13 | 대선     |  329 |\n",
       "| 14 | 천안함   |  319 |\n",
       "| 15 | 사회     |  307 |\n",
       "| 16 | 정부     |  286 |\n",
       "| 17 | 전교조   |  278 |\n",
       "| 18 | 주장     |  269 |\n",
       "| 19 | 정권     |  265 |\n",
       "| 20 | 연평도   |  262 |\n",
       "\n"
      ],
      "text/plain": [
       "   word     freq\n",
       "1  종북     2431\n",
       "2  북한     2216\n",
       "3  세력     1162\n",
       "4  좌파      829\n",
       "5  대한민국  804\n",
       "6  우리      780\n",
       "7  들이      566\n",
       "8  국민      550\n",
       "9  친북      430\n",
       "10 단체      394\n",
       "11 김정일    342\n",
       "12 진보      335\n",
       "13 대선      329\n",
       "14 천안함    319\n",
       "15 사회      307\n",
       "16 정부      286\n",
       "17 전교조    278\n",
       "18 주장      269\n",
       "19 정권      265\n",
       "20 연평도    262"
      ]
     },
     "metadata": {},
     "output_type": "display_data"
    }
   ],
   "source": [
    "top20"
   ]
  },
  {
   "cell_type": "code",
   "execution_count": 18,
   "metadata": {},
   "outputs": [
    {
     "data": {
      "image/png": "[encoded data removed]",
      "text/plain": [
       "plot without title"
      ]
     },
     "metadata": {
      "image/png": {
       "height": 420,
       "width": 420
      },
      "text/plain": {
       "height": 420,
       "width": 420
      }
     },
     "output_type": "display_data"
    }
   ],
   "source": [
    "# 단어 빈도 막대 그래프 만들기 \n",
    "library(ggplot2) \n",
    " \n",
    "order <- arrange(top20, freq)$word                # 빈도 순서 변수 생성\n",
    " \n",
    "ggplot(data = top20, aes(x = word, y = freq)) +\n",
    "    ylim(0, 2500) +   geom_col() +   coord_flip() +\n",
    "    scale_x_discrete(limit = order) +              # 빈도 순서 변수 기준 막대 정렬\n",
    "    geom_text(aes(label = freq), hjust = -0.3)     # 빈도 표시"
   ]
  },
  {
   "cell_type": "code",
   "execution_count": 19,
   "metadata": {},
   "outputs": [
    {
     "data": {
      "image/png": "[encoded data removed]",
      "text/plain": [
       "plot without title"
      ]
     },
     "metadata": {
      "image/png": {
       "height": 420,
       "width": 420
      },
      "text/plain": {
       "height": 420,
       "width": 420
      }
     },
     "output_type": "display_data"
    }
   ],
   "source": [
    "# 워드 클라우드 만들기 \n",
    "pal <- brewer.pal(8,\"Dark2\")       # 색상 목록 생성\n",
    "set.seed(1234)                     # 난수 고정\n",
    " \n",
    " \n",
    "wordcloud(words = df_word$word,    # 단어\n",
    "           freq = df_word$freq,     # 빈도\n",
    "           min.freq = 10,           # 최소 단어 빈도\n",
    "           max.words = 200,         # 표현 단어 수\n",
    "           random.order = F,        # 고빈도 단어 중앙 배치\n",
    "           rot.per = .1,            # 회전 단어 비율\n",
    "           scale = c(6, 0.2),       # 단어 크기 범위\n",
    "           colors = pal)            # 색상 목록"
   ]
  },
  {
   "cell_type": "code",
   "execution_count": 20,
   "metadata": {},
   "outputs": [
    {
     "data": {
      "image/png": "[encoded data removed]",
      "text/plain": [
       "plot without title"
      ]
     },
     "metadata": {
      "image/png": {
       "height": 420,
       "width": 420
      },
      "text/plain": {
       "height": 420,
       "width": 420
      }
     },
     "output_type": "display_data"
    }
   ],
   "source": [
    "# 색깔 바꾸기 \n",
    "pal <- brewer.pal(9,\"Blues\")[5:9]  # 색상 목록 생성\n",
    "set.seed(1234)                     # 난수 고정\n",
    " \n",
    " \n",
    "wordcloud(words = df_word$word,     # 단어\n",
    "           freq = df_word$freq,     # 빈도\n",
    "           min.freq = 10,           # 최소 단어 빈도\n",
    "           max.words = 200,         # 표현 단어 수\n",
    "           random.order = F,        # 고빈도 단어 중앙 배치\n",
    "           rot.per = .1,            # 회전 단어 비율\n",
    "           scale = c(6, 0.2),       # 단어 크기 범위\n",
    "           colors = pal)            # 색상 목록\n",
    " "
   ]
  },
  {
   "cell_type": "code",
   "execution_count": null,
   "metadata": {},
   "outputs": [],
   "source": []
  }
 ],
 "metadata": {
  "kernelspec": {
   "display_name": "R",
   "language": "R",
   "name": "ir"
  },
  "language_info": {
   "codemirror_mode": "r",
   "file_extension": ".r",
   "mimetype": "text/x-r-source",
   "name": "R",
   "pygments_lexer": "r",
   "version": "3.6.2"
  }
 },
 "nbformat": 4,
 "nbformat_minor": 4
}

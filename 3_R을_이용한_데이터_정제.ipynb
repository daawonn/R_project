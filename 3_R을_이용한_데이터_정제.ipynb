{
  "nbformat": 4,
  "nbformat_minor": 0,
  "metadata": {
    "colab": {
      "name": "3.R을 이용한 데이터 정제.ipynb",
      "provenance": [],
      "toc_visible": true,
      "authorship_tag": "ABX9TyNuvZHo7P2kaf0KG3yLjSSg",
      "include_colab_link": true
    },
    "kernelspec": {
      "name": "ir",
      "display_name": "R"
    }
  },
  "cells": [
    {
      "cell_type": "markdown",
      "metadata": {
        "id": "view-in-github",
        "colab_type": "text"
      },
      "source": [
        "<a href=\"https://colab.research.google.com/github/daawonn/R_project/blob/master/3_R%EC%9D%84_%EC%9D%B4%EC%9A%A9%ED%95%9C_%EB%8D%B0%EC%9D%B4%ED%84%B0_%EC%A0%95%EC%A0%9C.ipynb\" target=\"_parent\"><img src=\"https://colab.research.google.com/assets/colab-badge.svg\" alt=\"Open In Colab\"/></a>"
      ]
    },
    {
      "cell_type": "markdown",
      "metadata": {
        "id": "R6GO4F46WUXr",
        "colab_type": "text"
      },
      "source": [
        "## 결측치 정제하기\n",
        "- 결측치(Missing Value) \n",
        "  - 누락된 값, 비어잆는 값\n",
        "  - 함수 적용 불가, 분석 결과 왜곡 \n",
        "  - 제거 후 분석 실시"
      ]
    },
    {
      "cell_type": "markdown",
      "metadata": {
        "id": "FVZGNQMJWjb7",
        "colab_type": "text"
      },
      "source": [
        "- 결측치 만들기 \n",
        "- 결측치 표기 \n",
        "  - 대문자 NA "
      ]
    },
    {
      "cell_type": "code",
      "metadata": {
        "id": "wPg-cP57Vupx",
        "colab_type": "code",
        "colab": {
          "base_uri": "https://localhost:8080/",
          "height": 200
        },
        "outputId": "228db408-d619-4d21-88e8-9990fd98a610"
      },
      "source": [
        "df <- data.frame(sex = c(\"M\", \"F\", NA, \"M\", \"F\"),\n",
        "                    score = c(5, 4, 3, 4, NA))\n",
        "df "
      ],
      "execution_count": 1,
      "outputs": [
        {
          "output_type": "display_data",
          "data": {
            "text/plain": [
              "  sex score\n",
              "1 M    5   \n",
              "2 F    4   \n",
              "3 NA   3   \n",
              "4 M    4   \n",
              "5 F   NA   "
            ],
            "text/latex": "A data.frame: 5 × 2\n\\begin{tabular}{ll}\n sex & score\\\\\n <fct> & <dbl>\\\\\n\\hline\n\t M  &  5\\\\\n\t F  &  4\\\\\n\t NA &  3\\\\\n\t M  &  4\\\\\n\t F  & NA\\\\\n\\end{tabular}\n",
            "text/markdown": "\nA data.frame: 5 × 2\n\n| sex &lt;fct&gt; | score &lt;dbl&gt; |\n|---|---|\n| M  |  5 |\n| F  |  4 |\n| NA |  3 |\n| M  |  4 |\n| F  | NA |\n\n",
            "text/html": [
              "<table>\n",
              "<caption>A data.frame: 5 × 2</caption>\n",
              "<thead>\n",
              "\t<tr><th scope=col>sex</th><th scope=col>score</th></tr>\n",
              "\t<tr><th scope=col>&lt;fct&gt;</th><th scope=col>&lt;dbl&gt;</th></tr>\n",
              "</thead>\n",
              "<tbody>\n",
              "\t<tr><td>M </td><td> 5</td></tr>\n",
              "\t<tr><td>F </td><td> 4</td></tr>\n",
              "\t<tr><td>NA</td><td> 3</td></tr>\n",
              "\t<tr><td>M </td><td> 4</td></tr>\n",
              "\t<tr><td>F </td><td>NA</td></tr>\n",
              "</tbody>\n",
              "</table>\n"
            ]
          },
          "metadata": {
            "tags": []
          }
        }
      ]
    },
    {
      "cell_type": "code",
      "metadata": {
        "id": "XZH3_xJwWowZ",
        "colab_type": "code",
        "colab": {
          "base_uri": "https://localhost:8080/",
          "height": 179
        },
        "outputId": "87379954-cfa4-4cc8-9fb9-5a07a3f4af66"
      },
      "source": [
        "# 결측치 확인하기\n",
        "is.na(df)"
      ],
      "execution_count": 2,
      "outputs": [
        {
          "output_type": "display_data",
          "data": {
            "text/plain": [
              "     sex   score\n",
              "[1,] FALSE FALSE\n",
              "[2,] FALSE FALSE\n",
              "[3,]  TRUE FALSE\n",
              "[4,] FALSE FALSE\n",
              "[5,] FALSE  TRUE"
            ],
            "text/latex": "A matrix: 5 × 2 of type lgl\n\\begin{tabular}{ll}\n sex & score\\\\\n\\hline\n\t FALSE & FALSE\\\\\n\t FALSE & FALSE\\\\\n\t  TRUE & FALSE\\\\\n\t FALSE & FALSE\\\\\n\t FALSE &  TRUE\\\\\n\\end{tabular}\n",
            "text/markdown": "\nA matrix: 5 × 2 of type lgl\n\n| sex | score |\n|---|---|\n| FALSE | FALSE |\n| FALSE | FALSE |\n|  TRUE | FALSE |\n| FALSE | FALSE |\n| FALSE |  TRUE |\n\n",
            "text/html": [
              "<table>\n",
              "<caption>A matrix: 5 × 2 of type lgl</caption>\n",
              "<thead>\n",
              "\t<tr><th scope=col>sex</th><th scope=col>score</th></tr>\n",
              "</thead>\n",
              "<tbody>\n",
              "\t<tr><td>FALSE</td><td>FALSE</td></tr>\n",
              "\t<tr><td>FALSE</td><td>FALSE</td></tr>\n",
              "\t<tr><td> TRUE</td><td>FALSE</td></tr>\n",
              "\t<tr><td>FALSE</td><td>FALSE</td></tr>\n",
              "\t<tr><td>FALSE</td><td> TRUE</td></tr>\n",
              "</tbody>\n",
              "</table>\n"
            ]
          },
          "metadata": {
            "tags": []
          }
        }
      ]
    },
    {
      "cell_type": "code",
      "metadata": {
        "id": "_PbYd33GWoyx",
        "colab_type": "code",
        "colab": {
          "base_uri": "https://localhost:8080/",
          "height": 71
        },
        "outputId": "cb0ea690-59ee-4b2a-c99d-b907f0249a8c"
      },
      "source": [
        "table(is.na(df))"
      ],
      "execution_count": 3,
      "outputs": [
        {
          "output_type": "display_data",
          "data": {
            "text/plain": [
              "\n",
              "FALSE  TRUE \n",
              "    8     2 "
            ]
          },
          "metadata": {
            "tags": []
          }
        }
      ]
    },
    {
      "cell_type": "markdown",
      "metadata": {
        "id": "WyqZdbsJW1LD",
        "colab_type": "text"
      },
      "source": [
        "- 변수별로 결측치 확인하기 "
      ]
    },
    {
      "cell_type": "code",
      "metadata": {
        "id": "K3VUi_LFWo1B",
        "colab_type": "code",
        "colab": {
          "base_uri": "https://localhost:8080/",
          "height": 125
        },
        "outputId": "13392ae9-72ce-42de-c23a-0dc1a1377b99"
      },
      "source": [
        "table(is.na(df$sex))    # sex 결측치 빈도 출력\n",
        "table(is.na(df$score))  # score 결측치 빈도 출력"
      ],
      "execution_count": 4,
      "outputs": [
        {
          "output_type": "display_data",
          "data": {
            "text/plain": [
              "\n",
              "FALSE  TRUE \n",
              "    4     1 "
            ]
          },
          "metadata": {
            "tags": []
          }
        },
        {
          "output_type": "display_data",
          "data": {
            "text/plain": [
              "\n",
              "FALSE  TRUE \n",
              "    4     1 "
            ]
          },
          "metadata": {
            "tags": []
          }
        }
      ]
    },
    {
      "cell_type": "code",
      "metadata": {
        "id": "68DTmcUzWo3Q",
        "colab_type": "code",
        "colab": {
          "base_uri": "https://localhost:8080/",
          "height": 51
        },
        "outputId": "d802af6e-caae-4e51-f868-759ab74e4deb"
      },
      "source": [
        "# 결측치 포함된 상태로 분석 \n",
        "mean(df$score)  # 평균 산출\n",
        "sum(df$score)   # 합계 산출"
      ],
      "execution_count": 5,
      "outputs": [
        {
          "output_type": "display_data",
          "data": {
            "text/plain": [
              "[1] NA"
            ],
            "text/latex": "<NA>",
            "text/markdown": "&lt;NA&gt;",
            "text/html": [
              "&lt;NA&gt;"
            ]
          },
          "metadata": {
            "tags": []
          }
        },
        {
          "output_type": "display_data",
          "data": {
            "text/plain": [
              "[1] NA"
            ],
            "text/latex": "<NA>",
            "text/markdown": "&lt;NA&gt;",
            "text/html": [
              "&lt;NA&gt;"
            ]
          },
          "metadata": {
            "tags": []
          }
        }
      ]
    },
    {
      "cell_type": "markdown",
      "metadata": {
        "id": "kkRuWIAOW_YL",
        "colab_type": "text"
      },
      "source": [
        "- 결측치 제거하기"
      ]
    },
    {
      "cell_type": "code",
      "metadata": {
        "id": "seANTOtwWo5p",
        "colab_type": "code",
        "colab": {
          "base_uri": "https://localhost:8080/",
          "height": 368
        },
        "outputId": "910ca3f7-488d-4a6c-999a-c09cc6c4112c"
      },
      "source": [
        "# 결측치 있는 행 제거하기 \n",
        "library(dplyr) # dplyr 패키지 로드\n",
        "df %>% filter(is.na(score))   # score 가 NA 인 데이터만 출력"
      ],
      "execution_count": 6,
      "outputs": [
        {
          "output_type": "stream",
          "text": [
            "\n",
            "Attaching package: ‘dplyr’\n",
            "\n",
            "\n",
            "The following objects are masked from ‘package:stats’:\n",
            "\n",
            "    filter, lag\n",
            "\n",
            "\n",
            "The following objects are masked from ‘package:base’:\n",
            "\n",
            "    intersect, setdiff, setequal, union\n",
            "\n",
            "\n"
          ],
          "name": "stderr"
        },
        {
          "output_type": "display_data",
          "data": {
            "text/plain": [
              "  sex score\n",
              "1 F   NA   "
            ],
            "text/latex": "A data.frame: 1 × 2\n\\begin{tabular}{ll}\n sex & score\\\\\n <fct> & <dbl>\\\\\n\\hline\n\t F & NA\\\\\n\\end{tabular}\n",
            "text/markdown": "\nA data.frame: 1 × 2\n\n| sex &lt;fct&gt; | score &lt;dbl&gt; |\n|---|---|\n| F | NA |\n\n",
            "text/html": [
              "<table>\n",
              "<caption>A data.frame: 1 × 2</caption>\n",
              "<thead>\n",
              "\t<tr><th scope=col>sex</th><th scope=col>score</th></tr>\n",
              "\t<tr><th scope=col>&lt;fct&gt;</th><th scope=col>&lt;dbl&gt;</th></tr>\n",
              "</thead>\n",
              "<tbody>\n",
              "\t<tr><td>F</td><td>NA</td></tr>\n",
              "</tbody>\n",
              "</table>\n"
            ]
          },
          "metadata": {
            "tags": []
          }
        }
      ]
    },
    {
      "cell_type": "code",
      "metadata": {
        "id": "U_AG5ysJWo8B",
        "colab_type": "code",
        "colab": {
          "base_uri": "https://localhost:8080/",
          "height": 179
        },
        "outputId": "cc1b6c36-53a2-4ed4-8453-f590029294fc"
      },
      "source": [
        "df %>% filter(!is.na(score))  # score 결측치 제거"
      ],
      "execution_count": 7,
      "outputs": [
        {
          "output_type": "display_data",
          "data": {
            "text/plain": [
              "  sex score\n",
              "1 M   5    \n",
              "2 F   4    \n",
              "3 NA  3    \n",
              "4 M   4    "
            ],
            "text/latex": "A data.frame: 4 × 2\n\\begin{tabular}{ll}\n sex & score\\\\\n <fct> & <dbl>\\\\\n\\hline\n\t M  & 5\\\\\n\t F  & 4\\\\\n\t NA & 3\\\\\n\t M  & 4\\\\\n\\end{tabular}\n",
            "text/markdown": "\nA data.frame: 4 × 2\n\n| sex &lt;fct&gt; | score &lt;dbl&gt; |\n|---|---|\n| M  | 5 |\n| F  | 4 |\n| NA | 3 |\n| M  | 4 |\n\n",
            "text/html": [
              "<table>\n",
              "<caption>A data.frame: 4 × 2</caption>\n",
              "<thead>\n",
              "\t<tr><th scope=col>sex</th><th scope=col>score</th></tr>\n",
              "\t<tr><th scope=col>&lt;fct&gt;</th><th scope=col>&lt;dbl&gt;</th></tr>\n",
              "</thead>\n",
              "<tbody>\n",
              "\t<tr><td>M </td><td>5</td></tr>\n",
              "\t<tr><td>F </td><td>4</td></tr>\n",
              "\t<tr><td>NA</td><td>3</td></tr>\n",
              "\t<tr><td>M </td><td>4</td></tr>\n",
              "</tbody>\n",
              "</table>\n"
            ]
          },
          "metadata": {
            "tags": []
          }
        }
      ]
    },
    {
      "cell_type": "markdown",
      "metadata": {
        "id": "SxoMyI49XH6B",
        "colab_type": "text"
      },
      "source": [
        "- 결측치 제외한 데이터로 분석하기"
      ]
    },
    {
      "cell_type": "code",
      "metadata": {
        "id": "b_O53NtVWo-Z",
        "colab_type": "code",
        "colab": {
          "base_uri": "https://localhost:8080/",
          "height": 34
        },
        "outputId": "bd979d8c-279a-4442-8b1e-08ba9eeff448"
      },
      "source": [
        "df_nomiss <- df %>% filter(!is.na(score))  # score 결측치 제거\n",
        "mean(df_nomiss$score)                      # score 평균 산출 "
      ],
      "execution_count": 8,
      "outputs": [
        {
          "output_type": "display_data",
          "data": {
            "text/plain": [
              "[1] 4"
            ],
            "text/latex": "4",
            "text/markdown": "4",
            "text/html": [
              "4"
            ]
          },
          "metadata": {
            "tags": []
          }
        }
      ]
    },
    {
      "cell_type": "code",
      "metadata": {
        "id": "TBEfMGLdWpA5",
        "colab_type": "code",
        "colab": {
          "base_uri": "https://localhost:8080/",
          "height": 34
        },
        "outputId": "2ac7e44b-8834-4ee3-db56-cc3fd275d402"
      },
      "source": [
        "sum(df_nomiss$score) # score 합계 산출"
      ],
      "execution_count": 9,
      "outputs": [
        {
          "output_type": "display_data",
          "data": {
            "text/plain": [
              "[1] 16"
            ],
            "text/latex": "16",
            "text/markdown": "16",
            "text/html": [
              "16"
            ]
          },
          "metadata": {
            "tags": []
          }
        }
      ]
    },
    {
      "cell_type": "markdown",
      "metadata": {
        "id": "xpykt5YcXWz7",
        "colab_type": "text"
      },
      "source": [
        "- 여러 변수 동시에 결측치 없는 데이터 추출하기 "
      ]
    },
    {
      "cell_type": "code",
      "metadata": {
        "id": "zd2K1PbiWpDA",
        "colab_type": "code",
        "colab": {
          "base_uri": "https://localhost:8080/",
          "height": 158
        },
        "outputId": "349c56f7-6da6-46a0-d44a-de6de0795fd3"
      },
      "source": [
        "# score, sex 결측치 제외\n",
        "df_nomiss <- df %>% filter(!is.na(score) & !is.na(sex)) \n",
        "df_nomiss"
      ],
      "execution_count": 10,
      "outputs": [
        {
          "output_type": "display_data",
          "data": {
            "text/plain": [
              "  sex score\n",
              "1 M   5    \n",
              "2 F   4    \n",
              "3 M   4    "
            ],
            "text/latex": "A data.frame: 3 × 2\n\\begin{tabular}{ll}\n sex & score\\\\\n <fct> & <dbl>\\\\\n\\hline\n\t M & 5\\\\\n\t F & 4\\\\\n\t M & 4\\\\\n\\end{tabular}\n",
            "text/markdown": "\nA data.frame: 3 × 2\n\n| sex &lt;fct&gt; | score &lt;dbl&gt; |\n|---|---|\n| M | 5 |\n| F | 4 |\n| M | 4 |\n\n",
            "text/html": [
              "<table>\n",
              "<caption>A data.frame: 3 × 2</caption>\n",
              "<thead>\n",
              "\t<tr><th scope=col>sex</th><th scope=col>score</th></tr>\n",
              "\t<tr><th scope=col>&lt;fct&gt;</th><th scope=col>&lt;dbl&gt;</th></tr>\n",
              "</thead>\n",
              "<tbody>\n",
              "\t<tr><td>M</td><td>5</td></tr>\n",
              "\t<tr><td>F</td><td>4</td></tr>\n",
              "\t<tr><td>M</td><td>4</td></tr>\n",
              "</tbody>\n",
              "</table>\n"
            ]
          },
          "metadata": {
            "tags": []
          }
        }
      ]
    },
    {
      "cell_type": "markdown",
      "metadata": {
        "id": "Lx4nLaieXe5y",
        "colab_type": "text"
      },
      "source": [
        "- 결측치가 하나라도 있으면 제거하기"
      ]
    },
    {
      "cell_type": "code",
      "metadata": {
        "id": "-LT-3o_GWpFi",
        "colab_type": "code",
        "colab": {
          "base_uri": "https://localhost:8080/",
          "height": 158
        },
        "outputId": "6e311e8d-174b-435b-838e-b85926cd2a1b"
      },
      "source": [
        "df_nomiss2 <- na.omit(df)  # 모든 변수에 결측치 없는 데이터 추출\n",
        "df_nomiss2                 # 출력\n",
        "# 분석에 필요한 데이터까지 손실 될 가능성 유의 \n",
        "# ex) 성별-소득 관계 분석하는데 지역 결측치까지 제거 "
      ],
      "execution_count": 11,
      "outputs": [
        {
          "output_type": "display_data",
          "data": {
            "text/plain": [
              "  sex score\n",
              "1 M   5    \n",
              "2 F   4    \n",
              "4 M   4    "
            ],
            "text/latex": "A data.frame: 3 × 2\n\\begin{tabular}{r|ll}\n  & sex & score\\\\\n  & <fct> & <dbl>\\\\\n\\hline\n\t1 & M & 5\\\\\n\t2 & F & 4\\\\\n\t4 & M & 4\\\\\n\\end{tabular}\n",
            "text/markdown": "\nA data.frame: 3 × 2\n\n| <!--/--> | sex &lt;fct&gt; | score &lt;dbl&gt; |\n|---|---|---|\n| 1 | M | 5 |\n| 2 | F | 4 |\n| 4 | M | 4 |\n\n",
            "text/html": [
              "<table>\n",
              "<caption>A data.frame: 3 × 2</caption>\n",
              "<thead>\n",
              "\t<tr><th></th><th scope=col>sex</th><th scope=col>score</th></tr>\n",
              "\t<tr><th></th><th scope=col>&lt;fct&gt;</th><th scope=col>&lt;dbl&gt;</th></tr>\n",
              "</thead>\n",
              "<tbody>\n",
              "\t<tr><th scope=row>1</th><td>M</td><td>5</td></tr>\n",
              "\t<tr><th scope=row>2</th><td>F</td><td>4</td></tr>\n",
              "\t<tr><th scope=row>4</th><td>M</td><td>4</td></tr>\n",
              "</tbody>\n",
              "</table>\n"
            ]
          },
          "metadata": {
            "tags": []
          }
        }
      ]
    },
    {
      "cell_type": "markdown",
      "metadata": {
        "id": "THaTCMSoX5tc",
        "colab_type": "text"
      },
      "source": [
        "- 함수의 결측치 제외 기능 이용하기 \n",
        "    - na.rm = T "
      ]
    },
    {
      "cell_type": "code",
      "metadata": {
        "id": "LZsVzJY5WpHR",
        "colab_type": "code",
        "colab": {
          "base_uri": "https://localhost:8080/",
          "height": 51
        },
        "outputId": "d6bf67df-aa74-4f59-a388-a380b65bc9d7"
      },
      "source": [
        "mean(df$score, na.rm = T)  # 결측치 제외하고 평균 산출\n",
        "sum(df$score, na.rm = T)   # 결측치 제외하고 합계 산출"
      ],
      "execution_count": 12,
      "outputs": [
        {
          "output_type": "display_data",
          "data": {
            "text/plain": [
              "[1] 4"
            ],
            "text/latex": "4",
            "text/markdown": "4",
            "text/html": [
              "4"
            ]
          },
          "metadata": {
            "tags": []
          }
        },
        {
          "output_type": "display_data",
          "data": {
            "text/plain": [
              "[1] 16"
            ],
            "text/latex": "16",
            "text/markdown": "16",
            "text/html": [
              "16"
            ]
          },
          "metadata": {
            "tags": []
          }
        }
      ]
    },
    {
      "cell_type": "markdown",
      "metadata": {
        "id": "g6nB3cfcYGra",
        "colab_type": "text"
      },
      "source": [
        "## summarise()에서 na.rm = T사용하기 "
      ]
    },
    {
      "cell_type": "code",
      "metadata": {
        "id": "H6dbw9KlXjQj",
        "colab_type": "code",
        "colab": {}
      },
      "source": [
        "# 결측치 생성 \n",
        "exam <- read.csv(\"csv_exam.csv\")            # 데이터 불러오기\n",
        "exam[c(3, 8, 15), \"math\"] <- NA             # 3, 8, 15 행의 math 에 NA 할당 "
      ],
      "execution_count": 0,
      "outputs": []
    },
    {
      "cell_type": "code",
      "metadata": {
        "id": "KNOfRNOdXjTC",
        "colab_type": "code",
        "colab": {
          "base_uri": "https://localhost:8080/",
          "height": 133
        },
        "outputId": "99fd0ac1-8dcc-4cfc-bc09-0451767d11b0"
      },
      "source": [
        "# 평균 구하기 \n",
        "exam %>% summarise(mean_math = mean(math))   # 평균 산출"
      ],
      "execution_count": 14,
      "outputs": [
        {
          "output_type": "display_data",
          "data": {
            "text/plain": [
              "  mean_math\n",
              "1 NA       "
            ],
            "text/latex": "A data.frame: 1 × 1\n\\begin{tabular}{l}\n mean\\_math\\\\\n <dbl>\\\\\n\\hline\n\t NA\\\\\n\\end{tabular}\n",
            "text/markdown": "\nA data.frame: 1 × 1\n\n| mean_math &lt;dbl&gt; |\n|---|\n| NA |\n\n",
            "text/html": [
              "<table>\n",
              "<caption>A data.frame: 1 × 1</caption>\n",
              "<thead>\n",
              "\t<tr><th scope=col>mean_math</th></tr>\n",
              "\t<tr><th scope=col>&lt;dbl&gt;</th></tr>\n",
              "</thead>\n",
              "<tbody>\n",
              "\t<tr><td>NA</td></tr>\n",
              "</tbody>\n",
              "</table>\n"
            ]
          },
          "metadata": {
            "tags": []
          }
        }
      ]
    },
    {
      "cell_type": "code",
      "metadata": {
        "id": "Tj0-ycr0XjVh",
        "colab_type": "code",
        "colab": {
          "base_uri": "https://localhost:8080/",
          "height": 133
        },
        "outputId": "3de49fe3-b6c7-45ad-a169-5418f5819131"
      },
      "source": [
        "exam %>% summarise(mean_math = mean(math, na.rm = T))  # 결측치 제외하고 평균 산출"
      ],
      "execution_count": 15,
      "outputs": [
        {
          "output_type": "display_data",
          "data": {
            "text/plain": [
              "  mean_math\n",
              "1 55.23529 "
            ],
            "text/latex": "A data.frame: 1 × 1\n\\begin{tabular}{l}\n mean\\_math\\\\\n <dbl>\\\\\n\\hline\n\t 55.23529\\\\\n\\end{tabular}\n",
            "text/markdown": "\nA data.frame: 1 × 1\n\n| mean_math &lt;dbl&gt; |\n|---|\n| 55.23529 |\n\n",
            "text/html": [
              "<table>\n",
              "<caption>A data.frame: 1 × 1</caption>\n",
              "<thead>\n",
              "\t<tr><th scope=col>mean_math</th></tr>\n",
              "\t<tr><th scope=col>&lt;dbl&gt;</th></tr>\n",
              "</thead>\n",
              "<tbody>\n",
              "\t<tr><td>55.23529</td></tr>\n",
              "</tbody>\n",
              "</table>\n"
            ]
          },
          "metadata": {
            "tags": []
          }
        }
      ]
    },
    {
      "cell_type": "code",
      "metadata": {
        "id": "UO6789XmXjXy",
        "colab_type": "code",
        "colab": {
          "base_uri": "https://localhost:8080/",
          "height": 99
        },
        "outputId": "c50e17e9-08ee-4420-a356-9869d52f29f0"
      },
      "source": [
        "# 다른 함수들에 적용 \n",
        "exam %>% summarise(mean_math = mean(math, na.rm = T),       # 평균 산출\n",
        "                    sum_math = sum(math, na.rm = T),        # 합계 산출\n",
        "                    median_math = median(math, na.rm = T))  # 중앙값 산출"
      ],
      "execution_count": 17,
      "outputs": [
        {
          "output_type": "display_data",
          "data": {
            "text/plain": [
              "  mean_math sum_math median_math\n",
              "1 55.23529  939      50         "
            ],
            "text/latex": "A data.frame: 1 × 3\n\\begin{tabular}{lll}\n mean\\_math & sum\\_math & median\\_math\\\\\n <dbl> & <int> & <int>\\\\\n\\hline\n\t 55.23529 & 939 & 50\\\\\n\\end{tabular}\n",
            "text/markdown": "\nA data.frame: 1 × 3\n\n| mean_math &lt;dbl&gt; | sum_math &lt;int&gt; | median_math &lt;int&gt; |\n|---|---|---|\n| 55.23529 | 939 | 50 |\n\n",
            "text/html": [
              "<table>\n",
              "<caption>A data.frame: 1 × 3</caption>\n",
              "<thead>\n",
              "\t<tr><th scope=col>mean_math</th><th scope=col>sum_math</th><th scope=col>median_math</th></tr>\n",
              "\t<tr><th scope=col>&lt;dbl&gt;</th><th scope=col>&lt;int&gt;</th><th scope=col>&lt;int&gt;</th></tr>\n",
              "</thead>\n",
              "<tbody>\n",
              "\t<tr><td>55.23529</td><td>939</td><td>50</td></tr>\n",
              "</tbody>\n",
              "</table>\n"
            ]
          },
          "metadata": {
            "tags": []
          }
        }
      ]
    },
    {
      "cell_type": "markdown",
      "metadata": {
        "id": "vpBA7_OSYdVU",
        "colab_type": "text"
      },
      "source": [
        "##결측치 대체하기 \n",
        "- 결측치 많을 경우 모두 제외하면 데이터 손실 큼 \n",
        "- 대안: 다른 값 채워넣기 \n",
        "- 결측치 대체법(Imputation) \n",
        "  - 대표값(평균, 최빈값 등)으로 일괄 대체 \n",
        "  - 통계분석 기법 적용, 예측값 추정해서 대체"
      ]
    },
    {
      "cell_type": "markdown",
      "metadata": {
        "id": "bPJv9MVbYmSR",
        "colab_type": "text"
      },
      "source": [
        "- 평균값으로 결측치 대체하기 "
      ]
    },
    {
      "cell_type": "code",
      "metadata": {
        "id": "Ai4GkQs1XjaD",
        "colab_type": "code",
        "colab": {
          "base_uri": "https://localhost:8080/",
          "height": 34
        },
        "outputId": "09755e87-ea80-42fa-a96b-b1ea6565e1e8"
      },
      "source": [
        "# 평균 구하기 \n",
        "mean(exam$math, na.rm = T)  # 결측치 제외하고 math 평균 산출"
      ],
      "execution_count": 18,
      "outputs": [
        {
          "output_type": "display_data",
          "data": {
            "text/plain": [
              "[1] 55.23529"
            ],
            "text/latex": "55.2352941176471",
            "text/markdown": "55.2352941176471",
            "text/html": [
              "55.2352941176471"
            ]
          },
          "metadata": {
            "tags": []
          }
        }
      ]
    },
    {
      "cell_type": "code",
      "metadata": {
        "id": "xZgmMtJ1Yn-6",
        "colab_type": "code",
        "colab": {
          "base_uri": "https://localhost:8080/",
          "height": 71
        },
        "outputId": "9395b951-358b-407d-82f1-84a70ca9fa3d"
      },
      "source": [
        "# 평균으로 대체하기 \n",
        "exam$math <- ifelse(is.na(exam$math), 55, exam$math)  # math 가 NA 면 55 로 대체\n",
        "table(is.na(exam$math))                               # 결측치 빈도표 생성 "
      ],
      "execution_count": 19,
      "outputs": [
        {
          "output_type": "display_data",
          "data": {
            "text/plain": [
              "\n",
              "FALSE \n",
              "   20 "
            ]
          },
          "metadata": {
            "tags": []
          }
        }
      ]
    },
    {
      "cell_type": "code",
      "metadata": {
        "id": "6loxDggzYoBh",
        "colab_type": "code",
        "colab": {
          "base_uri": "https://localhost:8080/",
          "height": 498
        },
        "outputId": "2ff72f6a-78be-43d8-b926-37b07b61e4bf"
      },
      "source": [
        "exam"
      ],
      "execution_count": 20,
      "outputs": [
        {
          "output_type": "display_data",
          "data": {
            "text/plain": [
              "   id class math english science\n",
              "1   1 1     50   98      50     \n",
              "2   2 1     60   97      60     \n",
              "3   3 1     55   86      78     \n",
              "4   4 1     30   98      58     \n",
              "5   5 2     25   80      65     \n",
              "6   6 2     50   89      98     \n",
              "7   7 2     80   90      45     \n",
              "8   8 2     55   78      25     \n",
              "9   9 3     20   98      15     \n",
              "10 10 3     50   98      45     \n",
              "11 11 3     65   65      65     \n",
              "12 12 3     45   85      32     \n",
              "13 13 4     46   98      65     \n",
              "14 14 4     48   87      12     \n",
              "15 15 4     55   56      78     \n",
              "16 16 4     58   98      65     \n",
              "17 17 5     65   68      98     \n",
              "18 18 5     80   78      90     \n",
              "19 19 5     89   68      87     \n",
              "20 20 5     78   83      58     "
            ],
            "text/latex": "A data.frame: 20 × 5\n\\begin{tabular}{lllll}\n id & class & math & english & science\\\\\n <int> & <int> & <dbl> & <int> & <int>\\\\\n\\hline\n\t  1 & 1 & 50 & 98 & 50\\\\\n\t  2 & 1 & 60 & 97 & 60\\\\\n\t  3 & 1 & 55 & 86 & 78\\\\\n\t  4 & 1 & 30 & 98 & 58\\\\\n\t  5 & 2 & 25 & 80 & 65\\\\\n\t  6 & 2 & 50 & 89 & 98\\\\\n\t  7 & 2 & 80 & 90 & 45\\\\\n\t  8 & 2 & 55 & 78 & 25\\\\\n\t  9 & 3 & 20 & 98 & 15\\\\\n\t 10 & 3 & 50 & 98 & 45\\\\\n\t 11 & 3 & 65 & 65 & 65\\\\\n\t 12 & 3 & 45 & 85 & 32\\\\\n\t 13 & 4 & 46 & 98 & 65\\\\\n\t 14 & 4 & 48 & 87 & 12\\\\\n\t 15 & 4 & 55 & 56 & 78\\\\\n\t 16 & 4 & 58 & 98 & 65\\\\\n\t 17 & 5 & 65 & 68 & 98\\\\\n\t 18 & 5 & 80 & 78 & 90\\\\\n\t 19 & 5 & 89 & 68 & 87\\\\\n\t 20 & 5 & 78 & 83 & 58\\\\\n\\end{tabular}\n",
            "text/markdown": "\nA data.frame: 20 × 5\n\n| id &lt;int&gt; | class &lt;int&gt; | math &lt;dbl&gt; | english &lt;int&gt; | science &lt;int&gt; |\n|---|---|---|---|---|\n|  1 | 1 | 50 | 98 | 50 |\n|  2 | 1 | 60 | 97 | 60 |\n|  3 | 1 | 55 | 86 | 78 |\n|  4 | 1 | 30 | 98 | 58 |\n|  5 | 2 | 25 | 80 | 65 |\n|  6 | 2 | 50 | 89 | 98 |\n|  7 | 2 | 80 | 90 | 45 |\n|  8 | 2 | 55 | 78 | 25 |\n|  9 | 3 | 20 | 98 | 15 |\n| 10 | 3 | 50 | 98 | 45 |\n| 11 | 3 | 65 | 65 | 65 |\n| 12 | 3 | 45 | 85 | 32 |\n| 13 | 4 | 46 | 98 | 65 |\n| 14 | 4 | 48 | 87 | 12 |\n| 15 | 4 | 55 | 56 | 78 |\n| 16 | 4 | 58 | 98 | 65 |\n| 17 | 5 | 65 | 68 | 98 |\n| 18 | 5 | 80 | 78 | 90 |\n| 19 | 5 | 89 | 68 | 87 |\n| 20 | 5 | 78 | 83 | 58 |\n\n",
            "text/html": [
              "<table>\n",
              "<caption>A data.frame: 20 × 5</caption>\n",
              "<thead>\n",
              "\t<tr><th scope=col>id</th><th scope=col>class</th><th scope=col>math</th><th scope=col>english</th><th scope=col>science</th></tr>\n",
              "\t<tr><th scope=col>&lt;int&gt;</th><th scope=col>&lt;int&gt;</th><th scope=col>&lt;dbl&gt;</th><th scope=col>&lt;int&gt;</th><th scope=col>&lt;int&gt;</th></tr>\n",
              "</thead>\n",
              "<tbody>\n",
              "\t<tr><td> 1</td><td>1</td><td>50</td><td>98</td><td>50</td></tr>\n",
              "\t<tr><td> 2</td><td>1</td><td>60</td><td>97</td><td>60</td></tr>\n",
              "\t<tr><td> 3</td><td>1</td><td>55</td><td>86</td><td>78</td></tr>\n",
              "\t<tr><td> 4</td><td>1</td><td>30</td><td>98</td><td>58</td></tr>\n",
              "\t<tr><td> 5</td><td>2</td><td>25</td><td>80</td><td>65</td></tr>\n",
              "\t<tr><td> 6</td><td>2</td><td>50</td><td>89</td><td>98</td></tr>\n",
              "\t<tr><td> 7</td><td>2</td><td>80</td><td>90</td><td>45</td></tr>\n",
              "\t<tr><td> 8</td><td>2</td><td>55</td><td>78</td><td>25</td></tr>\n",
              "\t<tr><td> 9</td><td>3</td><td>20</td><td>98</td><td>15</td></tr>\n",
              "\t<tr><td>10</td><td>3</td><td>50</td><td>98</td><td>45</td></tr>\n",
              "\t<tr><td>11</td><td>3</td><td>65</td><td>65</td><td>65</td></tr>\n",
              "\t<tr><td>12</td><td>3</td><td>45</td><td>85</td><td>32</td></tr>\n",
              "\t<tr><td>13</td><td>4</td><td>46</td><td>98</td><td>65</td></tr>\n",
              "\t<tr><td>14</td><td>4</td><td>48</td><td>87</td><td>12</td></tr>\n",
              "\t<tr><td>15</td><td>4</td><td>55</td><td>56</td><td>78</td></tr>\n",
              "\t<tr><td>16</td><td>4</td><td>58</td><td>98</td><td>65</td></tr>\n",
              "\t<tr><td>17</td><td>5</td><td>65</td><td>68</td><td>98</td></tr>\n",
              "\t<tr><td>18</td><td>5</td><td>80</td><td>78</td><td>90</td></tr>\n",
              "\t<tr><td>19</td><td>5</td><td>89</td><td>68</td><td>87</td></tr>\n",
              "\t<tr><td>20</td><td>5</td><td>78</td><td>83</td><td>58</td></tr>\n",
              "</tbody>\n",
              "</table>\n"
            ]
          },
          "metadata": {
            "tags": []
          }
        }
      ]
    },
    {
      "cell_type": "code",
      "metadata": {
        "id": "4a5Q-Du1YoEC",
        "colab_type": "code",
        "colab": {
          "base_uri": "https://localhost:8080/",
          "height": 34
        },
        "outputId": "8abddfb2-cd3c-41c1-c063-cd25158a561b"
      },
      "source": [
        "mean(exam$math)  # 수학의 평균값 산출"
      ],
      "execution_count": 21,
      "outputs": [
        {
          "output_type": "display_data",
          "data": {
            "text/plain": [
              "[1] 55.2"
            ],
            "text/latex": "55.2",
            "text/markdown": "55.2",
            "text/html": [
              "55.2"
            ]
          },
          "metadata": {
            "tags": []
          }
        }
      ]
    },
    {
      "cell_type": "markdown",
      "metadata": {
        "id": "PcnF1wqgZMDU",
        "colab_type": "text"
      },
      "source": [
        "## 혼자서 해보기(1)\n",
        "mpg 데이터를 이용해서 분석 문제를 해결해 보세요. \n",
        "mpg 데이터 원본에는결측치가 없습니다. 우선 mpg 데이터를 불러와 몇 개의 값을 결측치로 만들겠습니다. 아래 코드를 실행하면 다섯 행의 hwy 변수에 NA가 할당됩니다. "
      ]
    },
    {
      "cell_type": "code",
      "metadata": {
        "id": "Ps_PFo6UYoGV",
        "colab_type": "code",
        "colab": {}
      },
      "source": [
        "mpg <- as.data.frame(ggplot2::mpg)           # mpg 데이터 불러오기\n",
        "mpg[c(65, 124, 131, 153, 212), \"hwy\"] <- NA  # NA 할당하기 "
      ],
      "execution_count": 0,
      "outputs": []
    },
    {
      "cell_type": "markdown",
      "metadata": {
        "id": "G1MmgaFUZYM6",
        "colab_type": "text"
      },
      "source": [
        "Q1. drv(구동방식)별로 hwy(고속도로 연비) 평균이 어떻게 다른지 알아보려고 합니다. 분석을 하기 전에 우선 두 변수에 결측치가 있는지 확인해야 합니다. drv 변수와 hwy 변수에 결측치가 몇 개 있는지 알아보세요. "
      ]
    },
    {
      "cell_type": "code",
      "metadata": {
        "id": "EG96uLjfZdEz",
        "colab_type": "code",
        "colab": {
          "base_uri": "https://localhost:8080/",
          "height": 125
        },
        "outputId": "126ddd4a-4b22-486d-da64-7b42dbe5356c"
      },
      "source": [
        "table(is.na(mpg$drv))\n",
        "table(is.na(mpg$hwy))  "
      ],
      "execution_count": 23,
      "outputs": [
        {
          "output_type": "display_data",
          "data": {
            "text/plain": [
              "\n",
              "FALSE \n",
              "  234 "
            ]
          },
          "metadata": {
            "tags": []
          }
        },
        {
          "output_type": "display_data",
          "data": {
            "text/plain": [
              "\n",
              "FALSE  TRUE \n",
              "  229     5 "
            ]
          },
          "metadata": {
            "tags": []
          }
        }
      ]
    },
    {
      "cell_type": "markdown",
      "metadata": {
        "id": "21IU6vYFZaqD",
        "colab_type": "text"
      },
      "source": [
        "Q2. filter()를 이용해 hwy 변수의 결측치를 제외하고, 어떤 구동방식의 hwy 평균이 높은지 알아보세요. 하나의 dplyr 구문으로 만들어야 합니다. "
      ]
    },
    {
      "cell_type": "code",
      "metadata": {
        "id": "QGiDbVtVYoIx",
        "colab_type": "code",
        "colab": {
          "base_uri": "https://localhost:8080/",
          "height": 141
        },
        "outputId": "ee343fba-a706-41de-ed27-4ccf4b6aa16a"
      },
      "source": [
        "mpg %>% filter(!is.na(mpg$hwy)) %>%\n",
        "group_by(drv) %>%\n",
        "summarise(mean_drv=mean(hwy))"
      ],
      "execution_count": 24,
      "outputs": [
        {
          "output_type": "display_data",
          "data": {
            "text/plain": [
              "  drv mean_drv\n",
              "1 4   19.24242\n",
              "2 f   28.20000\n",
              "3 r   21.00000"
            ],
            "text/latex": "A tibble: 3 × 2\n\\begin{tabular}{ll}\n drv & mean\\_drv\\\\\n <chr> & <dbl>\\\\\n\\hline\n\t 4 & 19.24242\\\\\n\t f & 28.20000\\\\\n\t r & 21.00000\\\\\n\\end{tabular}\n",
            "text/markdown": "\nA tibble: 3 × 2\n\n| drv &lt;chr&gt; | mean_drv &lt;dbl&gt; |\n|---|---|\n| 4 | 19.24242 |\n| f | 28.20000 |\n| r | 21.00000 |\n\n",
            "text/html": [
              "<table>\n",
              "<caption>A tibble: 3 × 2</caption>\n",
              "<thead>\n",
              "\t<tr><th scope=col>drv</th><th scope=col>mean_drv</th></tr>\n",
              "\t<tr><th scope=col>&lt;chr&gt;</th><th scope=col>&lt;dbl&gt;</th></tr>\n",
              "</thead>\n",
              "<tbody>\n",
              "\t<tr><td>4</td><td>19.24242</td></tr>\n",
              "\t<tr><td>f</td><td>28.20000</td></tr>\n",
              "\t<tr><td>r</td><td>21.00000</td></tr>\n",
              "</tbody>\n",
              "</table>\n"
            ]
          },
          "metadata": {
            "tags": []
          }
        }
      ]
    },
    {
      "cell_type": "markdown",
      "metadata": {
        "id": "lJkX2UQUdR6T",
        "colab_type": "text"
      },
      "source": [
        "## 이상치 정제하기\n",
        "- 이상치(Outlier) - 정상범주에서 크게 벗어난 값 \n",
        "  - 이상치 포함시 분석 결과 왜곡 \n",
        "  - 결측 처리 후 제외하고 분석 이상치 \n",
        "\n",
        "|이상치종류|예|해결방법|\n",
        "|--|--|--|\n",
        "|존재할 수 없는 값|성별 변수에 3|결측처리|\n",
        "|극단적인 값|몸무게 변수에 200|정상범위 기준 정해서 결측처리|\n"
      ]
    },
    {
      "cell_type": "markdown",
      "metadata": {
        "id": "LD75jVxQdw8h",
        "colab_type": "text"
      },
      "source": [
        "- 이상치 제거하기 (1)\n",
        "- 존재할 수 없는 값\n",
        "- 논리적으로 존재할 수 없으므로 바로 결측 처리 후 분석시 제외 "
      ]
    },
    {
      "cell_type": "code",
      "metadata": {
        "id": "HWUrtVDeYoLG",
        "colab_type": "code",
        "colab": {
          "base_uri": "https://localhost:8080/",
          "height": 221
        },
        "outputId": "4bc87ae7-1c4f-4657-877f-504ea7729efa"
      },
      "source": [
        "# 이상치 포함된 데이터 생성 - sex 3, score 6 \n",
        "outlier <- data.frame(sex = c(1, 2, 1, 3, 2, 1), \n",
        "                      score = c(5, 4, 3, 4, 2, 6)) \n",
        "outlier"
      ],
      "execution_count": 25,
      "outputs": [
        {
          "output_type": "display_data",
          "data": {
            "text/plain": [
              "  sex score\n",
              "1 1   5    \n",
              "2 2   4    \n",
              "3 1   3    \n",
              "4 3   4    \n",
              "5 2   2    \n",
              "6 1   6    "
            ],
            "text/latex": "A data.frame: 6 × 2\n\\begin{tabular}{ll}\n sex & score\\\\\n <dbl> & <dbl>\\\\\n\\hline\n\t 1 & 5\\\\\n\t 2 & 4\\\\\n\t 1 & 3\\\\\n\t 3 & 4\\\\\n\t 2 & 2\\\\\n\t 1 & 6\\\\\n\\end{tabular}\n",
            "text/markdown": "\nA data.frame: 6 × 2\n\n| sex &lt;dbl&gt; | score &lt;dbl&gt; |\n|---|---|\n| 1 | 5 |\n| 2 | 4 |\n| 1 | 3 |\n| 3 | 4 |\n| 2 | 2 |\n| 1 | 6 |\n\n",
            "text/html": [
              "<table>\n",
              "<caption>A data.frame: 6 × 2</caption>\n",
              "<thead>\n",
              "\t<tr><th scope=col>sex</th><th scope=col>score</th></tr>\n",
              "\t<tr><th scope=col>&lt;dbl&gt;</th><th scope=col>&lt;dbl&gt;</th></tr>\n",
              "</thead>\n",
              "<tbody>\n",
              "\t<tr><td>1</td><td>5</td></tr>\n",
              "\t<tr><td>2</td><td>4</td></tr>\n",
              "\t<tr><td>1</td><td>3</td></tr>\n",
              "\t<tr><td>3</td><td>4</td></tr>\n",
              "\t<tr><td>2</td><td>2</td></tr>\n",
              "\t<tr><td>1</td><td>6</td></tr>\n",
              "</tbody>\n",
              "</table>\n"
            ]
          },
          "metadata": {
            "tags": []
          }
        }
      ]
    },
    {
      "cell_type": "code",
      "metadata": {
        "id": "SQSj0-cbYoNc",
        "colab_type": "code",
        "colab": {
          "base_uri": "https://localhost:8080/",
          "height": 125
        },
        "outputId": "3293804a-6605-461c-d348-1f15bdb87b7a"
      },
      "source": [
        "table(outlier$sex) \n",
        "table(outlier$score)"
      ],
      "execution_count": 27,
      "outputs": [
        {
          "output_type": "display_data",
          "data": {
            "text/plain": [
              "\n",
              "1 2 3 \n",
              "3 2 1 "
            ]
          },
          "metadata": {
            "tags": []
          }
        },
        {
          "output_type": "display_data",
          "data": {
            "text/plain": [
              "\n",
              "2 3 4 5 6 \n",
              "1 1 2 1 1 "
            ]
          },
          "metadata": {
            "tags": []
          }
        }
      ]
    },
    {
      "cell_type": "code",
      "metadata": {
        "id": "jBNxsmjbYoP4",
        "colab_type": "code",
        "colab": {
          "base_uri": "https://localhost:8080/",
          "height": 221
        },
        "outputId": "61e2aa0e-4168-4869-b264-7f72ff20e951"
      },
      "source": [
        "# 결측 처리하기 - sex \n",
        "# sex 가 3 이면 NA 할당\n",
        "outlier$sex <- ifelse(outlier$sex == 3, NA, outlier$sex)\n",
        "outlier"
      ],
      "execution_count": 29,
      "outputs": [
        {
          "output_type": "display_data",
          "data": {
            "text/plain": [
              "  sex score\n",
              "1  1  5    \n",
              "2  2  4    \n",
              "3  1  3    \n",
              "4 NA  4    \n",
              "5  2  2    \n",
              "6  1  6    "
            ],
            "text/latex": "A data.frame: 6 × 2\n\\begin{tabular}{ll}\n sex & score\\\\\n <dbl> & <dbl>\\\\\n\\hline\n\t  1 & 5\\\\\n\t  2 & 4\\\\\n\t  1 & 3\\\\\n\t NA & 4\\\\\n\t  2 & 2\\\\\n\t  1 & 6\\\\\n\\end{tabular}\n",
            "text/markdown": "\nA data.frame: 6 × 2\n\n| sex &lt;dbl&gt; | score &lt;dbl&gt; |\n|---|---|\n|  1 | 5 |\n|  2 | 4 |\n|  1 | 3 |\n| NA | 4 |\n|  2 | 2 |\n|  1 | 6 |\n\n",
            "text/html": [
              "<table>\n",
              "<caption>A data.frame: 6 × 2</caption>\n",
              "<thead>\n",
              "\t<tr><th scope=col>sex</th><th scope=col>score</th></tr>\n",
              "\t<tr><th scope=col>&lt;dbl&gt;</th><th scope=col>&lt;dbl&gt;</th></tr>\n",
              "</thead>\n",
              "<tbody>\n",
              "\t<tr><td> 1</td><td>5</td></tr>\n",
              "\t<tr><td> 2</td><td>4</td></tr>\n",
              "\t<tr><td> 1</td><td>3</td></tr>\n",
              "\t<tr><td>NA</td><td>4</td></tr>\n",
              "\t<tr><td> 2</td><td>2</td></tr>\n",
              "\t<tr><td> 1</td><td>6</td></tr>\n",
              "</tbody>\n",
              "</table>\n"
            ]
          },
          "metadata": {
            "tags": []
          }
        }
      ]
    },
    {
      "cell_type": "code",
      "metadata": {
        "id": "Xmb6unkOXjcJ",
        "colab_type": "code",
        "colab": {
          "base_uri": "https://localhost:8080/",
          "height": 221
        },
        "outputId": "5f762e41-3ba5-49f3-d501-0e5aa70fdfe7"
      },
      "source": [
        "# 결측 처리하기 - score \n",
        "# score 가 1~5 아니면 NA 할당\n",
        "outlier$score <- ifelse(outlier$score > 5, NA, outlier$score)\n",
        "outlier"
      ],
      "execution_count": 30,
      "outputs": [
        {
          "output_type": "display_data",
          "data": {
            "text/plain": [
              "  sex score\n",
              "1  1   5   \n",
              "2  2   4   \n",
              "3  1   3   \n",
              "4 NA   4   \n",
              "5  2   2   \n",
              "6  1  NA   "
            ],
            "text/latex": "A data.frame: 6 × 2\n\\begin{tabular}{ll}\n sex & score\\\\\n <dbl> & <dbl>\\\\\n\\hline\n\t  1 &  5\\\\\n\t  2 &  4\\\\\n\t  1 &  3\\\\\n\t NA &  4\\\\\n\t  2 &  2\\\\\n\t  1 & NA\\\\\n\\end{tabular}\n",
            "text/markdown": "\nA data.frame: 6 × 2\n\n| sex &lt;dbl&gt; | score &lt;dbl&gt; |\n|---|---|\n|  1 |  5 |\n|  2 |  4 |\n|  1 |  3 |\n| NA |  4 |\n|  2 |  2 |\n|  1 | NA |\n\n",
            "text/html": [
              "<table>\n",
              "<caption>A data.frame: 6 × 2</caption>\n",
              "<thead>\n",
              "\t<tr><th scope=col>sex</th><th scope=col>score</th></tr>\n",
              "\t<tr><th scope=col>&lt;dbl&gt;</th><th scope=col>&lt;dbl&gt;</th></tr>\n",
              "</thead>\n",
              "<tbody>\n",
              "\t<tr><td> 1</td><td> 5</td></tr>\n",
              "\t<tr><td> 2</td><td> 4</td></tr>\n",
              "\t<tr><td> 1</td><td> 3</td></tr>\n",
              "\t<tr><td>NA</td><td> 4</td></tr>\n",
              "\t<tr><td> 2</td><td> 2</td></tr>\n",
              "\t<tr><td> 1</td><td>NA</td></tr>\n",
              "</tbody>\n",
              "</table>\n"
            ]
          },
          "metadata": {
            "tags": []
          }
        }
      ]
    },
    {
      "cell_type": "code",
      "metadata": {
        "id": "3txpA9W7eKLv",
        "colab_type": "code",
        "colab": {
          "base_uri": "https://localhost:8080/",
          "height": 120
        },
        "outputId": "8df3f7cc-da7c-4a94-d280-5d845411aa1e"
      },
      "source": [
        "# 결측치 제외하고 분석 \n",
        "outlier %>%   \n",
        "  filter(!is.na(sex) & !is.na(score)) %>%   \n",
        "  group_by(sex) %>%  \n",
        "  summarise(mean_score = mean(score)) "
      ],
      "execution_count": 31,
      "outputs": [
        {
          "output_type": "display_data",
          "data": {
            "text/plain": [
              "  sex mean_score\n",
              "1 1   4         \n",
              "2 2   3         "
            ],
            "text/latex": "A tibble: 2 × 2\n\\begin{tabular}{ll}\n sex & mean\\_score\\\\\n <dbl> & <dbl>\\\\\n\\hline\n\t 1 & 4\\\\\n\t 2 & 3\\\\\n\\end{tabular}\n",
            "text/markdown": "\nA tibble: 2 × 2\n\n| sex &lt;dbl&gt; | mean_score &lt;dbl&gt; |\n|---|---|\n| 1 | 4 |\n| 2 | 3 |\n\n",
            "text/html": [
              "<table>\n",
              "<caption>A tibble: 2 × 2</caption>\n",
              "<thead>\n",
              "\t<tr><th scope=col>sex</th><th scope=col>mean_score</th></tr>\n",
              "\t<tr><th scope=col>&lt;dbl&gt;</th><th scope=col>&lt;dbl&gt;</th></tr>\n",
              "</thead>\n",
              "<tbody>\n",
              "\t<tr><td>1</td><td>4</td></tr>\n",
              "\t<tr><td>2</td><td>3</td></tr>\n",
              "</tbody>\n",
              "</table>\n"
            ]
          },
          "metadata": {
            "tags": []
          }
        }
      ]
    },
    {
      "cell_type": "markdown",
      "metadata": {
        "id": "IIKo9AGceVR7",
        "colab_type": "text"
      },
      "source": [
        "- 이상치 제거하기 (2) \n",
        "- 극단적인 값 \n",
        "- 정상범위 기준 정해서 벗어나면 결측 처리 \n",
        "\n",
        "|판단기준|예|\n",
        "|--|--|\n",
        "|논리적 판단|성인 몸무게 40~150kg 벗어나면 극단치|\n",
        "|통계적 판단|상하위 0.3% 극단치 또는 상자그림 벗어나면 극단치|"
      ]
    },
    {
      "cell_type": "markdown",
      "metadata": {
        "id": "32-VCRC3evtz",
        "colab_type": "text"
      },
      "source": [
        "- 상자그림으로 극단치 기준 정해서 제거하기 "
      ]
    },
    {
      "cell_type": "code",
      "metadata": {
        "id": "LZDZN4z0eTwd",
        "colab_type": "code",
        "colab": {
          "base_uri": "https://localhost:8080/",
          "height": 437
        },
        "outputId": "64afc138-5b2f-4c6b-ac58-fd5c09133c4e"
      },
      "source": [
        "#상자그림 생성 \n",
        "mpg <- as.data.frame(ggplot2::mpg) \n",
        "boxplot(mpg$hwy)"
      ],
      "execution_count": 32,
      "outputs": [
        {
          "output_type": "display_data",
          "data": {
            "image/png": "[encoded data removed]",
            "text/plain": [
              "plot without title"
            ]
          },
          "metadata": {
            "tags": [],
            "image/png": {
              "width": 420,
              "height": 420
            },
            "text/plain": {
              "width": 420,
              "height": 420
            }
          }
        }
      ]
    },
    {
      "cell_type": "code",
      "metadata": {
        "id": "NgquLWPVey0i",
        "colab_type": "code",
        "colab": {
          "base_uri": "https://localhost:8080/",
          "height": 454
        },
        "outputId": "a72f7aa5-1516-42a5-ba85-3389df1da5c7"
      },
      "source": [
        "#상자그림 통계치 출력 \n",
        "boxplot(mpg$hwy)$stats "
      ],
      "execution_count": 33,
      "outputs": [
        {
          "output_type": "display_data",
          "data": {
            "text/plain": [
              "     [,1]\n",
              "[1,]   12\n",
              "[2,]   18\n",
              "[3,]   24\n",
              "[4,]   27\n",
              "[5,]   37\n",
              "attr(,\"class\")\n",
              "        1 \n",
              "\"integer\" "
            ],
            "text/latex": "\\begin{enumerate*}\n\\item 12\n\\item 18\n\\item 24\n\\item 27\n\\item 37\n\\end{enumerate*}\n",
            "text/markdown": "1. 12\n2. 18\n3. 24\n4. 27\n5. 37\n\n\n",
            "text/html": [
              "<style>\n",
              ".list-inline {list-style: none; margin:0; padding: 0}\n",
              ".list-inline>li {display: inline-block}\n",
              ".list-inline>li:not(:last-child)::after {content: \"\\00b7\"; padding: 0 .5ex}\n",
              "</style>\n",
              "<ol class=list-inline><li>12</li><li>18</li><li>24</li><li>27</li><li>37</li></ol>\n"
            ]
          },
          "metadata": {
            "tags": []
          }
        },
        {
          "output_type": "display_data",
          "data": {
            "image/png": "[encoded data removed]",
            "text/plain": [
              "plot without title"
            ]
          },
          "metadata": {
            "tags": [],
            "image/png": {
              "width": 420,
              "height": 420
            },
            "text/plain": {
              "width": 420,
              "height": 420
            }
          }
        }
      ]
    },
    {
      "cell_type": "code",
      "metadata": {
        "id": "IcExIK6ce35P",
        "colab_type": "code",
        "colab": {
          "base_uri": "https://localhost:8080/",
          "height": 71
        },
        "outputId": "fe4b43bb-d379-406e-cedd-bbb2caeff9ce"
      },
      "source": [
        "# 결측 처리하기 \n",
        "# 12~37 벗어나면 NA 할당\n",
        "mpg$hwy <- ifelse(mpg$hwy < 12 | mpg$hwy > 37, NA, mpg$hwy) \n",
        "table(is.na(mpg$hwy)) "
      ],
      "execution_count": 34,
      "outputs": [
        {
          "output_type": "display_data",
          "data": {
            "text/plain": [
              "\n",
              "FALSE  TRUE \n",
              "  231     3 "
            ]
          },
          "metadata": {
            "tags": []
          }
        }
      ]
    },
    {
      "cell_type": "code",
      "metadata": {
        "id": "f9bdP_DJe_KX",
        "colab_type": "code",
        "colab": {
          "base_uri": "https://localhost:8080/",
          "height": 141
        },
        "outputId": "f5a9f831-1afc-4ed5-b692-6ce82bc9d186"
      },
      "source": [
        "# 결측치 제외하고 분석하기 \n",
        "mpg %>%   \n",
        "group_by(drv) %>%   \n",
        "summarise(mean_hwy = mean(hwy, na.rm = T)) "
      ],
      "execution_count": 35,
      "outputs": [
        {
          "output_type": "display_data",
          "data": {
            "text/plain": [
              "  drv mean_hwy\n",
              "1 4   19.17476\n",
              "2 f   27.72816\n",
              "3 r   21.00000"
            ],
            "text/latex": "A tibble: 3 × 2\n\\begin{tabular}{ll}\n drv & mean\\_hwy\\\\\n <chr> & <dbl>\\\\\n\\hline\n\t 4 & 19.17476\\\\\n\t f & 27.72816\\\\\n\t r & 21.00000\\\\\n\\end{tabular}\n",
            "text/markdown": "\nA tibble: 3 × 2\n\n| drv &lt;chr&gt; | mean_hwy &lt;dbl&gt; |\n|---|---|\n| 4 | 19.17476 |\n| f | 27.72816 |\n| r | 21.00000 |\n\n",
            "text/html": [
              "<table>\n",
              "<caption>A tibble: 3 × 2</caption>\n",
              "<thead>\n",
              "\t<tr><th scope=col>drv</th><th scope=col>mean_hwy</th></tr>\n",
              "\t<tr><th scope=col>&lt;chr&gt;</th><th scope=col>&lt;dbl&gt;</th></tr>\n",
              "</thead>\n",
              "<tbody>\n",
              "\t<tr><td>4</td><td>19.17476</td></tr>\n",
              "\t<tr><td>f</td><td>27.72816</td></tr>\n",
              "\t<tr><td>r</td><td>21.00000</td></tr>\n",
              "</tbody>\n",
              "</table>\n"
            ]
          },
          "metadata": {
            "tags": []
          }
        }
      ]
    },
    {
      "cell_type": "markdown",
      "metadata": {
        "id": "4y8UGvAefD8c",
        "colab_type": "text"
      },
      "source": [
        "# 혼자서 해보기(2)\n",
        "mpg 데이터를 이용해서 분석 문제를 해결해 보세요. \n",
        "우선 mpg 데이터를 불러와서 일부러 이상치를 만들겠습니다. drv(구동방식) 변수의 값은 4(사륜구동), f(전륜구동), r(후륜구동) 세 종류로 되어있습니다. 몇 개의 행에 존재할 수 없는 값 k를 할당하겠습니다. cty(도시 연비) 변수도 몇 개의 행에 극단적으로 크거나 작은 값을 할당하겠습니다. "
      ]
    },
    {
      "cell_type": "code",
      "metadata": {
        "id": "YclcYExefIFy",
        "colab_type": "code",
        "colab": {}
      },
      "source": [
        "mpg <- as.data.frame(ggplot2::mpg)                  # mpg 데이터 불러오기\n",
        "mpg[c(10, 14, 58, 93), \"drv\"] <- \"k\"                # drv 이상치 할당\n",
        "mpg[c(29, 43, 129, 203), \"cty\"] <- c(3, 4, 39, 42)  # cty 이상치 할당"
      ],
      "execution_count": 0,
      "outputs": []
    },
    {
      "cell_type": "markdown",
      "metadata": {
        "id": "usLeYYpjfNpy",
        "colab_type": "text"
      },
      "source": [
        "이상치가 들어있는 mpg 데이터를 활용해서 문제를 해결해보세요. \n",
        "구동방식별로 도시 연비가 다른지 알아보려고 합니다. 분석을 하려면 우선 두 변수에 이상치가 있는지 확인하려고 합니다. "
      ]
    },
    {
      "cell_type": "markdown",
      "metadata": {
        "id": "zkgeH9ndfPRj",
        "colab_type": "text"
      },
      "source": [
        "Q1. drv 에 이상치가 있는지 확인하세요. 이상치를 결측 처리한 다음 이상치가 사라졌는지 확인하세요. 결측 처리 할 때는 %in% 기호를 활용하세요. "
      ]
    },
    {
      "cell_type": "code",
      "metadata": {
        "id": "rY-aLtjyo28B",
        "colab_type": "code",
        "colab": {
          "base_uri": "https://localhost:8080/",
          "height": 71
        },
        "outputId": "c09a5966-94a3-4ee4-ee33-c7d84e948e9a"
      },
      "source": [
        "table(mpg$drv)"
      ],
      "execution_count": 42,
      "outputs": [
        {
          "output_type": "display_data",
          "data": {
            "text/plain": [
              "\n",
              "  4   f   k   r \n",
              "100 106   4  24 "
            ]
          },
          "metadata": {
            "tags": []
          }
        }
      ]
    },
    {
      "cell_type": "code",
      "metadata": {
        "id": "eeQ1ryhnhAOe",
        "colab_type": "code",
        "colab": {
          "base_uri": "https://localhost:8080/",
          "height": 136
        },
        "outputId": "7f64cbb1-42d8-4e21-e6cf-5e27e401db9d"
      },
      "source": [
        "mpg$drv <- ifelse(mpgr$drv %in% c(\"f\", \"4\", \"r\")) ,mpg$drv, NA)"
      ],
      "execution_count": 43,
      "outputs": [
        {
          "output_type": "error",
          "ename": "ERROR",
          "evalue": "ignored",
          "traceback": [
            "Error in parse(text = x, srcfile = src): <text>:1:51: unexpected ','\n1: mpg$drv <- ifelse(mpgr$drv %in% c(\"f\", \"4\", \"r\")) ,\n                                                      ^\nTraceback:\n"
          ]
        }
      ]
    },
    {
      "cell_type": "code",
      "metadata": {
        "id": "5Rj0KRRLr05M",
        "colab_type": "code",
        "colab": {
          "base_uri": "https://localhost:8080/",
          "height": 288
        },
        "outputId": "00eb813c-beaf-4ff3-8f61-f3d1f3d23213"
      },
      "source": [
        "mpg %>% filter(drv %in% c(\"f\", \"4\", \"r\")) %>% head(10)"
      ],
      "execution_count": 48,
      "outputs": [
        {
          "output_type": "display_data",
          "data": {
            "text/plain": [
              "   manufacturer model      displ year cyl trans      drv cty hwy fl class  \n",
              "1  audi         a4         1.8   1999 4   auto(l5)   f   18  18  p  compact\n",
              "2  audi         a4         1.8   1999 4   manual(m5) f   21  21  p  compact\n",
              "3  audi         a4         2.0   2008 4   manual(m6) f   20  20  p  compact\n",
              "4  audi         a4         2.0   2008 4   auto(av)   f   21  21  p  compact\n",
              "5  audi         a4         2.8   1999 6   auto(l5)   f   16  16  p  compact\n",
              "6  audi         a4         2.8   1999 6   manual(m5) f   18  18  p  compact\n",
              "7  audi         a4         3.1   2008 6   auto(av)   f   18  18  p  compact\n",
              "8  audi         a4 quattro 1.8   1999 4   manual(m5) 4   18  18  p  compact\n",
              "9  audi         a4 quattro 1.8   1999 4   auto(l5)   4   16  16  p  compact\n",
              "10 audi         a4 quattro 2.0   2008 4   auto(s6)   4   19  19  p  compact"
            ],
            "text/latex": "A data.frame: 10 × 11\n\\begin{tabular}{r|lllllllllll}\n  & manufacturer & model & displ & year & cyl & trans & drv & cty & hwy & fl & class\\\\\n  & <chr> & <chr> & <dbl> & <int> & <int> & <chr> & <chr> & <dbl> & <dbl> & <chr> & <chr>\\\\\n\\hline\n\t1 & audi & a4         & 1.8 & 1999 & 4 & auto(l5)   & f & 18 & 18 & p & compact\\\\\n\t2 & audi & a4         & 1.8 & 1999 & 4 & manual(m5) & f & 21 & 21 & p & compact\\\\\n\t3 & audi & a4         & 2.0 & 2008 & 4 & manual(m6) & f & 20 & 20 & p & compact\\\\\n\t4 & audi & a4         & 2.0 & 2008 & 4 & auto(av)   & f & 21 & 21 & p & compact\\\\\n\t5 & audi & a4         & 2.8 & 1999 & 6 & auto(l5)   & f & 16 & 16 & p & compact\\\\\n\t6 & audi & a4         & 2.8 & 1999 & 6 & manual(m5) & f & 18 & 18 & p & compact\\\\\n\t7 & audi & a4         & 3.1 & 2008 & 6 & auto(av)   & f & 18 & 18 & p & compact\\\\\n\t8 & audi & a4 quattro & 1.8 & 1999 & 4 & manual(m5) & 4 & 18 & 18 & p & compact\\\\\n\t9 & audi & a4 quattro & 1.8 & 1999 & 4 & auto(l5)   & 4 & 16 & 16 & p & compact\\\\\n\t10 & audi & a4 quattro & 2.0 & 2008 & 4 & auto(s6)   & 4 & 19 & 19 & p & compact\\\\\n\\end{tabular}\n",
            "text/markdown": "\nA data.frame: 10 × 11\n\n| <!--/--> | manufacturer &lt;chr&gt; | model &lt;chr&gt; | displ &lt;dbl&gt; | year &lt;int&gt; | cyl &lt;int&gt; | trans &lt;chr&gt; | drv &lt;chr&gt; | cty &lt;dbl&gt; | hwy &lt;dbl&gt; | fl &lt;chr&gt; | class &lt;chr&gt; |\n|---|---|---|---|---|---|---|---|---|---|---|---|\n| 1 | audi | a4         | 1.8 | 1999 | 4 | auto(l5)   | f | 18 | 18 | p | compact |\n| 2 | audi | a4         | 1.8 | 1999 | 4 | manual(m5) | f | 21 | 21 | p | compact |\n| 3 | audi | a4         | 2.0 | 2008 | 4 | manual(m6) | f | 20 | 20 | p | compact |\n| 4 | audi | a4         | 2.0 | 2008 | 4 | auto(av)   | f | 21 | 21 | p | compact |\n| 5 | audi | a4         | 2.8 | 1999 | 6 | auto(l5)   | f | 16 | 16 | p | compact |\n| 6 | audi | a4         | 2.8 | 1999 | 6 | manual(m5) | f | 18 | 18 | p | compact |\n| 7 | audi | a4         | 3.1 | 2008 | 6 | auto(av)   | f | 18 | 18 | p | compact |\n| 8 | audi | a4 quattro | 1.8 | 1999 | 4 | manual(m5) | 4 | 18 | 18 | p | compact |\n| 9 | audi | a4 quattro | 1.8 | 1999 | 4 | auto(l5)   | 4 | 16 | 16 | p | compact |\n| 10 | audi | a4 quattro | 2.0 | 2008 | 4 | auto(s6)   | 4 | 19 | 19 | p | compact |\n\n",
            "text/html": [
              "<table>\n",
              "<caption>A data.frame: 10 × 11</caption>\n",
              "<thead>\n",
              "\t<tr><th></th><th scope=col>manufacturer</th><th scope=col>model</th><th scope=col>displ</th><th scope=col>year</th><th scope=col>cyl</th><th scope=col>trans</th><th scope=col>drv</th><th scope=col>cty</th><th scope=col>hwy</th><th scope=col>fl</th><th scope=col>class</th></tr>\n",
              "\t<tr><th></th><th scope=col>&lt;chr&gt;</th><th scope=col>&lt;chr&gt;</th><th scope=col>&lt;dbl&gt;</th><th scope=col>&lt;int&gt;</th><th scope=col>&lt;int&gt;</th><th scope=col>&lt;chr&gt;</th><th scope=col>&lt;chr&gt;</th><th scope=col>&lt;dbl&gt;</th><th scope=col>&lt;dbl&gt;</th><th scope=col>&lt;chr&gt;</th><th scope=col>&lt;chr&gt;</th></tr>\n",
              "</thead>\n",
              "<tbody>\n",
              "\t<tr><th scope=row>1</th><td>audi</td><td>a4        </td><td>1.8</td><td>1999</td><td>4</td><td>auto(l5)  </td><td>f</td><td>18</td><td>18</td><td>p</td><td>compact</td></tr>\n",
              "\t<tr><th scope=row>2</th><td>audi</td><td>a4        </td><td>1.8</td><td>1999</td><td>4</td><td>manual(m5)</td><td>f</td><td>21</td><td>21</td><td>p</td><td>compact</td></tr>\n",
              "\t<tr><th scope=row>3</th><td>audi</td><td>a4        </td><td>2.0</td><td>2008</td><td>4</td><td>manual(m6)</td><td>f</td><td>20</td><td>20</td><td>p</td><td>compact</td></tr>\n",
              "\t<tr><th scope=row>4</th><td>audi</td><td>a4        </td><td>2.0</td><td>2008</td><td>4</td><td>auto(av)  </td><td>f</td><td>21</td><td>21</td><td>p</td><td>compact</td></tr>\n",
              "\t<tr><th scope=row>5</th><td>audi</td><td>a4        </td><td>2.8</td><td>1999</td><td>6</td><td>auto(l5)  </td><td>f</td><td>16</td><td>16</td><td>p</td><td>compact</td></tr>\n",
              "\t<tr><th scope=row>6</th><td>audi</td><td>a4        </td><td>2.8</td><td>1999</td><td>6</td><td>manual(m5)</td><td>f</td><td>18</td><td>18</td><td>p</td><td>compact</td></tr>\n",
              "\t<tr><th scope=row>7</th><td>audi</td><td>a4        </td><td>3.1</td><td>2008</td><td>6</td><td>auto(av)  </td><td>f</td><td>18</td><td>18</td><td>p</td><td>compact</td></tr>\n",
              "\t<tr><th scope=row>8</th><td>audi</td><td>a4 quattro</td><td>1.8</td><td>1999</td><td>4</td><td>manual(m5)</td><td>4</td><td>18</td><td>18</td><td>p</td><td>compact</td></tr>\n",
              "\t<tr><th scope=row>9</th><td>audi</td><td>a4 quattro</td><td>1.8</td><td>1999</td><td>4</td><td>auto(l5)  </td><td>4</td><td>16</td><td>16</td><td>p</td><td>compact</td></tr>\n",
              "\t<tr><th scope=row>10</th><td>audi</td><td>a4 quattro</td><td>2.0</td><td>2008</td><td>4</td><td>auto(s6)  </td><td>4</td><td>19</td><td>19</td><td>p</td><td>compact</td></tr>\n",
              "</tbody>\n",
              "</table>\n"
            ]
          },
          "metadata": {
            "tags": []
          }
        }
      ]
    },
    {
      "cell_type": "markdown",
      "metadata": {
        "id": "KuPKRLrFfQ10",
        "colab_type": "text"
      },
      "source": [
        "Q2. 상자 그림을 이용해서 cty 에 이상치가 있는지 확인하세요. 상자 그림의 통계치를 이용해 정상 범위를 벗어난 값을 결측 처리한 후 다시 상자 그림을 만들어 이상치가 사라졌는지 확인하세요. "
      ]
    },
    {
      "cell_type": "code",
      "metadata": {
        "id": "dtrVQUmYllm-",
        "colab_type": "code",
        "colab": {
          "base_uri": "https://localhost:8080/",
          "height": 646
        },
        "outputId": "fb00bf7b-e013-4268-e44e-1e554bbfa559"
      },
      "source": [
        "boxplot(mpg$cty)$stats"
      ],
      "execution_count": 49,
      "outputs": [
        {
          "output_type": "display_data",
          "data": {
            "text/plain": [
              "     [,1]\n",
              "[1,]  9  \n",
              "[2,] 14  \n",
              "[3,] 16  \n",
              "[4,] 19  \n",
              "[5,] 26  "
            ],
            "text/latex": "A matrix: 5 × 1 of type dbl\n\\begin{tabular}{l}\n\t  9\\\\\n\t 14\\\\\n\t 16\\\\\n\t 19\\\\\n\t 26\\\\\n\\end{tabular}\n",
            "text/markdown": "\nA matrix: 5 × 1 of type dbl\n\n|  9 |\n| 14 |\n| 16 |\n| 19 |\n| 26 |\n\n",
            "text/html": [
              "<table>\n",
              "<caption>A matrix: 5 × 1 of type dbl</caption>\n",
              "<tbody>\n",
              "\t<tr><td> 9</td></tr>\n",
              "\t<tr><td>14</td></tr>\n",
              "\t<tr><td>16</td></tr>\n",
              "\t<tr><td>19</td></tr>\n",
              "\t<tr><td>26</td></tr>\n",
              "</tbody>\n",
              "</table>\n"
            ]
          },
          "metadata": {
            "tags": []
          }
        },
        {
          "output_type": "display_data",
          "data": {
            "image/png": "[encoded data removed]",
            "text/plain": [
              "plot without title"
            ]
          },
          "metadata": {
            "tags": [],
            "image/png": {
              "width": 420,
              "height": 420
            },
            "text/plain": {
              "width": 420,
              "height": 420
            }
          }
        }
      ]
    },
    {
      "cell_type": "code",
      "metadata": {
        "id": "plr3w6UTl4il",
        "colab_type": "code",
        "colab": {
          "base_uri": "https://localhost:8080/",
          "height": 437
        },
        "outputId": "f1370d8c-cde8-4d38-f593-6b3ec7a00679"
      },
      "source": [
        "mpg$cty <- ifelse(mpg$cty < 9 | mpg$cty > 26, NA, mpg$cty) \n",
        "boxplot(mpg$cty)"
      ],
      "execution_count": 50,
      "outputs": [
        {
          "output_type": "display_data",
          "data": {
            "image/png": "[encoded data removed]",
            "text/plain": [
              "plot without title"
            ]
          },
          "metadata": {
            "tags": [],
            "image/png": {
              "width": 420,
              "height": 420
            },
            "text/plain": {
              "width": 420,
              "height": 420
            }
          }
        }
      ]
    },
    {
      "cell_type": "markdown",
      "metadata": {
        "id": "SIlZmDWqfQ7V",
        "colab_type": "text"
      },
      "source": [
        "Q3. 두 변수의 이상치를 결측처리 했으니 이제 분석할 차례입니다. 이상치를 제외한 다음 drv 별로 cty 평균이 어떻게 다른지 알아보세요. 하나의 dplyr 구문으로 만들어야 합니다. "
      ]
    },
    {
      "cell_type": "code",
      "metadata": {
        "id": "BV_wUDE2fL0f",
        "colab_type": "code",
        "colab": {
          "base_uri": "https://localhost:8080/",
          "height": 162
        },
        "outputId": "884c7ab3-7820-49d7-be93-92d38b5148e8"
      },
      "source": [
        "mpg %>%   filter(!is.na(drv) & !is.na(cty)) %>%  # 결측치 제외\n",
        "   group_by(drv) %>%                      # drv 별 분리\n",
        "   summarise(mean_hwy = mean(cty))        # cty 평균 구하기"
      ],
      "execution_count": 51,
      "outputs": [
        {
          "output_type": "display_data",
          "data": {
            "text/plain": [
              "  drv mean_hwy\n",
              "1 4   14.24742\n",
              "2 f   19.47000\n",
              "3 k   16.75000\n",
              "4 r   13.95833"
            ],
            "text/latex": "A tibble: 4 × 2\n\\begin{tabular}{ll}\n drv & mean\\_hwy\\\\\n <chr> & <dbl>\\\\\n\\hline\n\t 4 & 14.24742\\\\\n\t f & 19.47000\\\\\n\t k & 16.75000\\\\\n\t r & 13.95833\\\\\n\\end{tabular}\n",
            "text/markdown": "\nA tibble: 4 × 2\n\n| drv &lt;chr&gt; | mean_hwy &lt;dbl&gt; |\n|---|---|\n| 4 | 14.24742 |\n| f | 19.47000 |\n| k | 16.75000 |\n| r | 13.95833 |\n\n",
            "text/html": [
              "<table>\n",
              "<caption>A tibble: 4 × 2</caption>\n",
              "<thead>\n",
              "\t<tr><th scope=col>drv</th><th scope=col>mean_hwy</th></tr>\n",
              "\t<tr><th scope=col>&lt;chr&gt;</th><th scope=col>&lt;dbl&gt;</th></tr>\n",
              "</thead>\n",
              "<tbody>\n",
              "\t<tr><td>4</td><td>14.24742</td></tr>\n",
              "\t<tr><td>f</td><td>19.47000</td></tr>\n",
              "\t<tr><td>k</td><td>16.75000</td></tr>\n",
              "\t<tr><td>r</td><td>13.95833</td></tr>\n",
              "</tbody>\n",
              "</table>\n"
            ]
          },
          "metadata": {
            "tags": []
          }
        }
      ]
    },
    {
      "cell_type": "markdown",
      "metadata": {
        "id": "UnZnTzIptd5l",
        "colab_type": "text"
      },
      "source": [
        "## 정리하기"
      ]
    },
    {
      "cell_type": "code",
      "metadata": {
        "id": "-p3Xx_iMtKNZ",
        "colab_type": "code",
        "colab": {}
      },
      "source": [
        "# 1. 결측치 정제하기\n",
        "# 결측치 확인\n",
        "table(is.na(df$score)) \n",
        " \n",
        "# 결측치 제거\n",
        "df_nomiss <- df %>% filter(!is.na(score)) \n",
        " \n",
        "# 여러 변수 동시에 결측치 제거\n",
        "df_nomiss <- df %>% filter(!is.na(score) & !is.na(sex)) \n",
        " \n",
        "# 함수의 결측치 제외 기능 이용하기\n",
        "mean(df$score, na.rm = T) exam %>% summarise(mean_math = mean(math, na.rm = T)) \n",
        "\n",
        "\n",
        "# 2. 이상치 정제하기\n",
        "# 이상치 확인\n",
        "table(outlier$sex) \n",
        " \n",
        "# 결측 처리\n",
        "outlier$sex <- ifelse(outlier$sex == 3, NA, outlier$sex) \n",
        " \n",
        "# boxplot 으로 극단치 기준 찾기\n",
        "boxplot(mpg$hwy)$stats \n",
        " \n",
        "# 극단치 결측 처리\n",
        "mpg$hwy <- ifelse(mpg$hwy < 12 | mpg$hwy > 37, NA, mpg$hwy) "
      ],
      "execution_count": 0,
      "outputs": []
    }
  ]
}
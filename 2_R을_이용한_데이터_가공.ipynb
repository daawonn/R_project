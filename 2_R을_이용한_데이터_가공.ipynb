{
  "nbformat": 4,
  "nbformat_minor": 0,
  "metadata": {
    "colab": {
      "name": "2.R을 이용한 데이터 가공.ipynb",
      "provenance": [],
      "collapsed_sections": [],
      "toc_visible": true,
      "authorship_tag": "ABX9TyNWjfimMUnV+6XBXIMWEEkU",
      "include_colab_link": true
    },
    "kernelspec": {
      "name": "ir",
      "display_name": "R"
    }
  },
  "cells": [
    {
      "cell_type": "markdown",
      "metadata": {
        "id": "view-in-github",
        "colab_type": "text"
      },
      "source": [
        "<a href=\"https://colab.research.google.com/github/daawonn/R_project/blob/master/2_R%EC%9D%84_%EC%9D%B4%EC%9A%A9%ED%95%9C_%EB%8D%B0%EC%9D%B4%ED%84%B0_%EA%B0%80%EA%B3%B5.ipynb\" target=\"_parent\"><img src=\"https://colab.research.google.com/assets/colab-badge.svg\" alt=\"Open In Colab\"/></a>"
      ]
    },
    {
      "cell_type": "markdown",
      "metadata": {
        "id": "-as5YO0h8LHN",
        "colab_type": "text"
      },
      "source": [
        "## R에서 사용하는 기호들"
      ]
    },
    {
      "cell_type": "code",
      "metadata": {
        "id": "xPPhk3kb3qAk",
        "colab_type": "code",
        "colab": {
          "base_uri": "https://localhost:8080/",
          "height": 750
        },
        "outputId": "614bcd42-4364-44b7-d1e1-6fa11e277678"
      },
      "source": [
        "library(dplyr)\n",
        "exam <- read.csv('/content/csv_exam.csv')\n",
        "exam"
      ],
      "execution_count": 1,
      "outputs": [
        {
          "output_type": "stream",
          "text": [
            "\n",
            "Attaching package: ‘dplyr’\n",
            "\n",
            "\n",
            "The following objects are masked from ‘package:stats’:\n",
            "\n",
            "    filter, lag\n",
            "\n",
            "\n",
            "The following objects are masked from ‘package:base’:\n",
            "\n",
            "    intersect, setdiff, setequal, union\n",
            "\n",
            "\n"
          ],
          "name": "stderr"
        },
        {
          "output_type": "display_data",
          "data": {
            "text/plain": [
              "   id class math english science\n",
              "1   1 1     50   98      50     \n",
              "2   2 1     60   97      60     \n",
              "3   3 1     45   86      78     \n",
              "4   4 1     30   98      58     \n",
              "5   5 2     25   80      65     \n",
              "6   6 2     50   89      98     \n",
              "7   7 2     80   90      45     \n",
              "8   8 2     90   78      25     \n",
              "9   9 3     20   98      15     \n",
              "10 10 3     50   98      45     \n",
              "11 11 3     65   65      65     \n",
              "12 12 3     45   85      32     \n",
              "13 13 4     46   98      65     \n",
              "14 14 4     48   87      12     \n",
              "15 15 4     75   56      78     \n",
              "16 16 4     58   98      65     \n",
              "17 17 5     65   68      98     \n",
              "18 18 5     80   78      90     \n",
              "19 19 5     89   68      87     \n",
              "20 20 5     78   83      58     "
            ],
            "text/latex": "A data.frame: 20 × 5\n\\begin{tabular}{lllll}\n id & class & math & english & science\\\\\n <int> & <int> & <int> & <int> & <int>\\\\\n\\hline\n\t  1 & 1 & 50 & 98 & 50\\\\\n\t  2 & 1 & 60 & 97 & 60\\\\\n\t  3 & 1 & 45 & 86 & 78\\\\\n\t  4 & 1 & 30 & 98 & 58\\\\\n\t  5 & 2 & 25 & 80 & 65\\\\\n\t  6 & 2 & 50 & 89 & 98\\\\\n\t  7 & 2 & 80 & 90 & 45\\\\\n\t  8 & 2 & 90 & 78 & 25\\\\\n\t  9 & 3 & 20 & 98 & 15\\\\\n\t 10 & 3 & 50 & 98 & 45\\\\\n\t 11 & 3 & 65 & 65 & 65\\\\\n\t 12 & 3 & 45 & 85 & 32\\\\\n\t 13 & 4 & 46 & 98 & 65\\\\\n\t 14 & 4 & 48 & 87 & 12\\\\\n\t 15 & 4 & 75 & 56 & 78\\\\\n\t 16 & 4 & 58 & 98 & 65\\\\\n\t 17 & 5 & 65 & 68 & 98\\\\\n\t 18 & 5 & 80 & 78 & 90\\\\\n\t 19 & 5 & 89 & 68 & 87\\\\\n\t 20 & 5 & 78 & 83 & 58\\\\\n\\end{tabular}\n",
            "text/markdown": "\nA data.frame: 20 × 5\n\n| id &lt;int&gt; | class &lt;int&gt; | math &lt;int&gt; | english &lt;int&gt; | science &lt;int&gt; |\n|---|---|---|---|---|\n|  1 | 1 | 50 | 98 | 50 |\n|  2 | 1 | 60 | 97 | 60 |\n|  3 | 1 | 45 | 86 | 78 |\n|  4 | 1 | 30 | 98 | 58 |\n|  5 | 2 | 25 | 80 | 65 |\n|  6 | 2 | 50 | 89 | 98 |\n|  7 | 2 | 80 | 90 | 45 |\n|  8 | 2 | 90 | 78 | 25 |\n|  9 | 3 | 20 | 98 | 15 |\n| 10 | 3 | 50 | 98 | 45 |\n| 11 | 3 | 65 | 65 | 65 |\n| 12 | 3 | 45 | 85 | 32 |\n| 13 | 4 | 46 | 98 | 65 |\n| 14 | 4 | 48 | 87 | 12 |\n| 15 | 4 | 75 | 56 | 78 |\n| 16 | 4 | 58 | 98 | 65 |\n| 17 | 5 | 65 | 68 | 98 |\n| 18 | 5 | 80 | 78 | 90 |\n| 19 | 5 | 89 | 68 | 87 |\n| 20 | 5 | 78 | 83 | 58 |\n\n",
            "text/html": [
              "<table>\n",
              "<caption>A data.frame: 20 × 5</caption>\n",
              "<thead>\n",
              "\t<tr><th scope=col>id</th><th scope=col>class</th><th scope=col>math</th><th scope=col>english</th><th scope=col>science</th></tr>\n",
              "\t<tr><th scope=col>&lt;int&gt;</th><th scope=col>&lt;int&gt;</th><th scope=col>&lt;int&gt;</th><th scope=col>&lt;int&gt;</th><th scope=col>&lt;int&gt;</th></tr>\n",
              "</thead>\n",
              "<tbody>\n",
              "\t<tr><td> 1</td><td>1</td><td>50</td><td>98</td><td>50</td></tr>\n",
              "\t<tr><td> 2</td><td>1</td><td>60</td><td>97</td><td>60</td></tr>\n",
              "\t<tr><td> 3</td><td>1</td><td>45</td><td>86</td><td>78</td></tr>\n",
              "\t<tr><td> 4</td><td>1</td><td>30</td><td>98</td><td>58</td></tr>\n",
              "\t<tr><td> 5</td><td>2</td><td>25</td><td>80</td><td>65</td></tr>\n",
              "\t<tr><td> 6</td><td>2</td><td>50</td><td>89</td><td>98</td></tr>\n",
              "\t<tr><td> 7</td><td>2</td><td>80</td><td>90</td><td>45</td></tr>\n",
              "\t<tr><td> 8</td><td>2</td><td>90</td><td>78</td><td>25</td></tr>\n",
              "\t<tr><td> 9</td><td>3</td><td>20</td><td>98</td><td>15</td></tr>\n",
              "\t<tr><td>10</td><td>3</td><td>50</td><td>98</td><td>45</td></tr>\n",
              "\t<tr><td>11</td><td>3</td><td>65</td><td>65</td><td>65</td></tr>\n",
              "\t<tr><td>12</td><td>3</td><td>45</td><td>85</td><td>32</td></tr>\n",
              "\t<tr><td>13</td><td>4</td><td>46</td><td>98</td><td>65</td></tr>\n",
              "\t<tr><td>14</td><td>4</td><td>48</td><td>87</td><td>12</td></tr>\n",
              "\t<tr><td>15</td><td>4</td><td>75</td><td>56</td><td>78</td></tr>\n",
              "\t<tr><td>16</td><td>4</td><td>58</td><td>98</td><td>65</td></tr>\n",
              "\t<tr><td>17</td><td>5</td><td>65</td><td>68</td><td>98</td></tr>\n",
              "\t<tr><td>18</td><td>5</td><td>80</td><td>78</td><td>90</td></tr>\n",
              "\t<tr><td>19</td><td>5</td><td>89</td><td>68</td><td>87</td></tr>\n",
              "\t<tr><td>20</td><td>5</td><td>78</td><td>83</td><td>58</td></tr>\n",
              "</tbody>\n",
              "</table>\n"
            ]
          },
          "metadata": {
            "tags": []
          }
        }
      ]
    },
    {
      "cell_type": "code",
      "metadata": {
        "id": "jgMgCrpm4C_n",
        "colab_type": "code",
        "colab": {
          "base_uri": "https://localhost:8080/",
          "height": 162
        },
        "outputId": "9786f42f-3d4f-431d-9c0d-a6326797d55a"
      },
      "source": [
        "# exam 에서 class 가 1 인 경우만 추출하여 출력\n",
        "exam %>% filter(class == 1)"
      ],
      "execution_count": 2,
      "outputs": [
        {
          "output_type": "display_data",
          "data": {
            "text/plain": [
              "  id class math english science\n",
              "1 1  1     50   98      50     \n",
              "2 2  1     60   97      60     \n",
              "3 3  1     45   86      78     \n",
              "4 4  1     30   98      58     "
            ],
            "text/latex": "A data.frame: 4 × 5\n\\begin{tabular}{lllll}\n id & class & math & english & science\\\\\n <int> & <int> & <int> & <int> & <int>\\\\\n\\hline\n\t 1 & 1 & 50 & 98 & 50\\\\\n\t 2 & 1 & 60 & 97 & 60\\\\\n\t 3 & 1 & 45 & 86 & 78\\\\\n\t 4 & 1 & 30 & 98 & 58\\\\\n\\end{tabular}\n",
            "text/markdown": "\nA data.frame: 4 × 5\n\n| id &lt;int&gt; | class &lt;int&gt; | math &lt;int&gt; | english &lt;int&gt; | science &lt;int&gt; |\n|---|---|---|---|---|\n| 1 | 1 | 50 | 98 | 50 |\n| 2 | 1 | 60 | 97 | 60 |\n| 3 | 1 | 45 | 86 | 78 |\n| 4 | 1 | 30 | 98 | 58 |\n\n",
            "text/html": [
              "<table>\n",
              "<caption>A data.frame: 4 × 5</caption>\n",
              "<thead>\n",
              "\t<tr><th scope=col>id</th><th scope=col>class</th><th scope=col>math</th><th scope=col>english</th><th scope=col>science</th></tr>\n",
              "\t<tr><th scope=col>&lt;int&gt;</th><th scope=col>&lt;int&gt;</th><th scope=col>&lt;int&gt;</th><th scope=col>&lt;int&gt;</th><th scope=col>&lt;int&gt;</th></tr>\n",
              "</thead>\n",
              "<tbody>\n",
              "\t<tr><td>1</td><td>1</td><td>50</td><td>98</td><td>50</td></tr>\n",
              "\t<tr><td>2</td><td>1</td><td>60</td><td>97</td><td>60</td></tr>\n",
              "\t<tr><td>3</td><td>1</td><td>45</td><td>86</td><td>78</td></tr>\n",
              "\t<tr><td>4</td><td>1</td><td>30</td><td>98</td><td>58</td></tr>\n",
              "</tbody>\n",
              "</table>\n"
            ]
          },
          "metadata": {
            "tags": []
          }
        }
      ]
    },
    {
      "cell_type": "markdown",
      "metadata": {
        "id": "TlxESjwg8Q8-",
        "colab_type": "text"
      },
      "source": [
        "- [참고] 단축키 [Ctrl+Shit+M]으로 %>% 기호 입력"
      ]
    },
    {
      "cell_type": "code",
      "metadata": {
        "id": "UdXllm-M4DB-",
        "colab_type": "code",
        "colab": {
          "base_uri": "https://localhost:8080/",
          "height": 162
        },
        "outputId": "96827d0a-8471-4c17-b489-fee56b08166c"
      },
      "source": [
        "# 2반인 경우\n",
        "exam %>% filter(class == 2)"
      ],
      "execution_count": 3,
      "outputs": [
        {
          "output_type": "display_data",
          "data": {
            "text/plain": [
              "  id class math english science\n",
              "1 5  2     25   80      65     \n",
              "2 6  2     50   89      98     \n",
              "3 7  2     80   90      45     \n",
              "4 8  2     90   78      25     "
            ],
            "text/latex": "A data.frame: 4 × 5\n\\begin{tabular}{lllll}\n id & class & math & english & science\\\\\n <int> & <int> & <int> & <int> & <int>\\\\\n\\hline\n\t 5 & 2 & 25 & 80 & 65\\\\\n\t 6 & 2 & 50 & 89 & 98\\\\\n\t 7 & 2 & 80 & 90 & 45\\\\\n\t 8 & 2 & 90 & 78 & 25\\\\\n\\end{tabular}\n",
            "text/markdown": "\nA data.frame: 4 × 5\n\n| id &lt;int&gt; | class &lt;int&gt; | math &lt;int&gt; | english &lt;int&gt; | science &lt;int&gt; |\n|---|---|---|---|---|\n| 5 | 2 | 25 | 80 | 65 |\n| 6 | 2 | 50 | 89 | 98 |\n| 7 | 2 | 80 | 90 | 45 |\n| 8 | 2 | 90 | 78 | 25 |\n\n",
            "text/html": [
              "<table>\n",
              "<caption>A data.frame: 4 × 5</caption>\n",
              "<thead>\n",
              "\t<tr><th scope=col>id</th><th scope=col>class</th><th scope=col>math</th><th scope=col>english</th><th scope=col>science</th></tr>\n",
              "\t<tr><th scope=col>&lt;int&gt;</th><th scope=col>&lt;int&gt;</th><th scope=col>&lt;int&gt;</th><th scope=col>&lt;int&gt;</th><th scope=col>&lt;int&gt;</th></tr>\n",
              "</thead>\n",
              "<tbody>\n",
              "\t<tr><td>5</td><td>2</td><td>25</td><td>80</td><td>65</td></tr>\n",
              "\t<tr><td>6</td><td>2</td><td>50</td><td>89</td><td>98</td></tr>\n",
              "\t<tr><td>7</td><td>2</td><td>80</td><td>90</td><td>45</td></tr>\n",
              "\t<tr><td>8</td><td>2</td><td>90</td><td>78</td><td>25</td></tr>\n",
              "</tbody>\n",
              "</table>\n"
            ]
          },
          "metadata": {
            "tags": []
          }
        }
      ]
    },
    {
      "cell_type": "code",
      "metadata": {
        "id": "pR82eWQ_4DEv",
        "colab_type": "code",
        "colab": {
          "base_uri": "https://localhost:8080/",
          "height": 414
        },
        "outputId": "90dcb7e8-f188-4a65-f86a-c28a0c1b32d0"
      },
      "source": [
        "# 1반이 아닌 경우\n",
        "exam %>% filter(class != 1)"
      ],
      "execution_count": 4,
      "outputs": [
        {
          "output_type": "display_data",
          "data": {
            "text/plain": [
              "   id class math english science\n",
              "1   5 2     25   80      65     \n",
              "2   6 2     50   89      98     \n",
              "3   7 2     80   90      45     \n",
              "4   8 2     90   78      25     \n",
              "5   9 3     20   98      15     \n",
              "6  10 3     50   98      45     \n",
              "7  11 3     65   65      65     \n",
              "8  12 3     45   85      32     \n",
              "9  13 4     46   98      65     \n",
              "10 14 4     48   87      12     \n",
              "11 15 4     75   56      78     \n",
              "12 16 4     58   98      65     \n",
              "13 17 5     65   68      98     \n",
              "14 18 5     80   78      90     \n",
              "15 19 5     89   68      87     \n",
              "16 20 5     78   83      58     "
            ],
            "text/latex": "A data.frame: 16 × 5\n\\begin{tabular}{lllll}\n id & class & math & english & science\\\\\n <int> & <int> & <int> & <int> & <int>\\\\\n\\hline\n\t  5 & 2 & 25 & 80 & 65\\\\\n\t  6 & 2 & 50 & 89 & 98\\\\\n\t  7 & 2 & 80 & 90 & 45\\\\\n\t  8 & 2 & 90 & 78 & 25\\\\\n\t  9 & 3 & 20 & 98 & 15\\\\\n\t 10 & 3 & 50 & 98 & 45\\\\\n\t 11 & 3 & 65 & 65 & 65\\\\\n\t 12 & 3 & 45 & 85 & 32\\\\\n\t 13 & 4 & 46 & 98 & 65\\\\\n\t 14 & 4 & 48 & 87 & 12\\\\\n\t 15 & 4 & 75 & 56 & 78\\\\\n\t 16 & 4 & 58 & 98 & 65\\\\\n\t 17 & 5 & 65 & 68 & 98\\\\\n\t 18 & 5 & 80 & 78 & 90\\\\\n\t 19 & 5 & 89 & 68 & 87\\\\\n\t 20 & 5 & 78 & 83 & 58\\\\\n\\end{tabular}\n",
            "text/markdown": "\nA data.frame: 16 × 5\n\n| id &lt;int&gt; | class &lt;int&gt; | math &lt;int&gt; | english &lt;int&gt; | science &lt;int&gt; |\n|---|---|---|---|---|\n|  5 | 2 | 25 | 80 | 65 |\n|  6 | 2 | 50 | 89 | 98 |\n|  7 | 2 | 80 | 90 | 45 |\n|  8 | 2 | 90 | 78 | 25 |\n|  9 | 3 | 20 | 98 | 15 |\n| 10 | 3 | 50 | 98 | 45 |\n| 11 | 3 | 65 | 65 | 65 |\n| 12 | 3 | 45 | 85 | 32 |\n| 13 | 4 | 46 | 98 | 65 |\n| 14 | 4 | 48 | 87 | 12 |\n| 15 | 4 | 75 | 56 | 78 |\n| 16 | 4 | 58 | 98 | 65 |\n| 17 | 5 | 65 | 68 | 98 |\n| 18 | 5 | 80 | 78 | 90 |\n| 19 | 5 | 89 | 68 | 87 |\n| 20 | 5 | 78 | 83 | 58 |\n\n",
            "text/html": [
              "<table>\n",
              "<caption>A data.frame: 16 × 5</caption>\n",
              "<thead>\n",
              "\t<tr><th scope=col>id</th><th scope=col>class</th><th scope=col>math</th><th scope=col>english</th><th scope=col>science</th></tr>\n",
              "\t<tr><th scope=col>&lt;int&gt;</th><th scope=col>&lt;int&gt;</th><th scope=col>&lt;int&gt;</th><th scope=col>&lt;int&gt;</th><th scope=col>&lt;int&gt;</th></tr>\n",
              "</thead>\n",
              "<tbody>\n",
              "\t<tr><td> 5</td><td>2</td><td>25</td><td>80</td><td>65</td></tr>\n",
              "\t<tr><td> 6</td><td>2</td><td>50</td><td>89</td><td>98</td></tr>\n",
              "\t<tr><td> 7</td><td>2</td><td>80</td><td>90</td><td>45</td></tr>\n",
              "\t<tr><td> 8</td><td>2</td><td>90</td><td>78</td><td>25</td></tr>\n",
              "\t<tr><td> 9</td><td>3</td><td>20</td><td>98</td><td>15</td></tr>\n",
              "\t<tr><td>10</td><td>3</td><td>50</td><td>98</td><td>45</td></tr>\n",
              "\t<tr><td>11</td><td>3</td><td>65</td><td>65</td><td>65</td></tr>\n",
              "\t<tr><td>12</td><td>3</td><td>45</td><td>85</td><td>32</td></tr>\n",
              "\t<tr><td>13</td><td>4</td><td>46</td><td>98</td><td>65</td></tr>\n",
              "\t<tr><td>14</td><td>4</td><td>48</td><td>87</td><td>12</td></tr>\n",
              "\t<tr><td>15</td><td>4</td><td>75</td><td>56</td><td>78</td></tr>\n",
              "\t<tr><td>16</td><td>4</td><td>58</td><td>98</td><td>65</td></tr>\n",
              "\t<tr><td>17</td><td>5</td><td>65</td><td>68</td><td>98</td></tr>\n",
              "\t<tr><td>18</td><td>5</td><td>80</td><td>78</td><td>90</td></tr>\n",
              "\t<tr><td>19</td><td>5</td><td>89</td><td>68</td><td>87</td></tr>\n",
              "\t<tr><td>20</td><td>5</td><td>78</td><td>83</td><td>58</td></tr>\n",
              "</tbody>\n",
              "</table>\n"
            ]
          },
          "metadata": {
            "tags": []
          }
        }
      ]
    },
    {
      "cell_type": "code",
      "metadata": {
        "id": "Djplr8pK4DHg",
        "colab_type": "code",
        "colab": {
          "base_uri": "https://localhost:8080/",
          "height": 414
        },
        "outputId": "a3872ad4-5c5a-4bb0-c5b0-e4f205425bef"
      },
      "source": [
        "# 3 반이 아닌 경우\n",
        "exam %>% filter(class != 3)"
      ],
      "execution_count": 5,
      "outputs": [
        {
          "output_type": "display_data",
          "data": {
            "text/plain": [
              "   id class math english science\n",
              "1   1 1     50   98      50     \n",
              "2   2 1     60   97      60     \n",
              "3   3 1     45   86      78     \n",
              "4   4 1     30   98      58     \n",
              "5   5 2     25   80      65     \n",
              "6   6 2     50   89      98     \n",
              "7   7 2     80   90      45     \n",
              "8   8 2     90   78      25     \n",
              "9  13 4     46   98      65     \n",
              "10 14 4     48   87      12     \n",
              "11 15 4     75   56      78     \n",
              "12 16 4     58   98      65     \n",
              "13 17 5     65   68      98     \n",
              "14 18 5     80   78      90     \n",
              "15 19 5     89   68      87     \n",
              "16 20 5     78   83      58     "
            ],
            "text/latex": "A data.frame: 16 × 5\n\\begin{tabular}{lllll}\n id & class & math & english & science\\\\\n <int> & <int> & <int> & <int> & <int>\\\\\n\\hline\n\t  1 & 1 & 50 & 98 & 50\\\\\n\t  2 & 1 & 60 & 97 & 60\\\\\n\t  3 & 1 & 45 & 86 & 78\\\\\n\t  4 & 1 & 30 & 98 & 58\\\\\n\t  5 & 2 & 25 & 80 & 65\\\\\n\t  6 & 2 & 50 & 89 & 98\\\\\n\t  7 & 2 & 80 & 90 & 45\\\\\n\t  8 & 2 & 90 & 78 & 25\\\\\n\t 13 & 4 & 46 & 98 & 65\\\\\n\t 14 & 4 & 48 & 87 & 12\\\\\n\t 15 & 4 & 75 & 56 & 78\\\\\n\t 16 & 4 & 58 & 98 & 65\\\\\n\t 17 & 5 & 65 & 68 & 98\\\\\n\t 18 & 5 & 80 & 78 & 90\\\\\n\t 19 & 5 & 89 & 68 & 87\\\\\n\t 20 & 5 & 78 & 83 & 58\\\\\n\\end{tabular}\n",
            "text/markdown": "\nA data.frame: 16 × 5\n\n| id &lt;int&gt; | class &lt;int&gt; | math &lt;int&gt; | english &lt;int&gt; | science &lt;int&gt; |\n|---|---|---|---|---|\n|  1 | 1 | 50 | 98 | 50 |\n|  2 | 1 | 60 | 97 | 60 |\n|  3 | 1 | 45 | 86 | 78 |\n|  4 | 1 | 30 | 98 | 58 |\n|  5 | 2 | 25 | 80 | 65 |\n|  6 | 2 | 50 | 89 | 98 |\n|  7 | 2 | 80 | 90 | 45 |\n|  8 | 2 | 90 | 78 | 25 |\n| 13 | 4 | 46 | 98 | 65 |\n| 14 | 4 | 48 | 87 | 12 |\n| 15 | 4 | 75 | 56 | 78 |\n| 16 | 4 | 58 | 98 | 65 |\n| 17 | 5 | 65 | 68 | 98 |\n| 18 | 5 | 80 | 78 | 90 |\n| 19 | 5 | 89 | 68 | 87 |\n| 20 | 5 | 78 | 83 | 58 |\n\n",
            "text/html": [
              "<table>\n",
              "<caption>A data.frame: 16 × 5</caption>\n",
              "<thead>\n",
              "\t<tr><th scope=col>id</th><th scope=col>class</th><th scope=col>math</th><th scope=col>english</th><th scope=col>science</th></tr>\n",
              "\t<tr><th scope=col>&lt;int&gt;</th><th scope=col>&lt;int&gt;</th><th scope=col>&lt;int&gt;</th><th scope=col>&lt;int&gt;</th><th scope=col>&lt;int&gt;</th></tr>\n",
              "</thead>\n",
              "<tbody>\n",
              "\t<tr><td> 1</td><td>1</td><td>50</td><td>98</td><td>50</td></tr>\n",
              "\t<tr><td> 2</td><td>1</td><td>60</td><td>97</td><td>60</td></tr>\n",
              "\t<tr><td> 3</td><td>1</td><td>45</td><td>86</td><td>78</td></tr>\n",
              "\t<tr><td> 4</td><td>1</td><td>30</td><td>98</td><td>58</td></tr>\n",
              "\t<tr><td> 5</td><td>2</td><td>25</td><td>80</td><td>65</td></tr>\n",
              "\t<tr><td> 6</td><td>2</td><td>50</td><td>89</td><td>98</td></tr>\n",
              "\t<tr><td> 7</td><td>2</td><td>80</td><td>90</td><td>45</td></tr>\n",
              "\t<tr><td> 8</td><td>2</td><td>90</td><td>78</td><td>25</td></tr>\n",
              "\t<tr><td>13</td><td>4</td><td>46</td><td>98</td><td>65</td></tr>\n",
              "\t<tr><td>14</td><td>4</td><td>48</td><td>87</td><td>12</td></tr>\n",
              "\t<tr><td>15</td><td>4</td><td>75</td><td>56</td><td>78</td></tr>\n",
              "\t<tr><td>16</td><td>4</td><td>58</td><td>98</td><td>65</td></tr>\n",
              "\t<tr><td>17</td><td>5</td><td>65</td><td>68</td><td>98</td></tr>\n",
              "\t<tr><td>18</td><td>5</td><td>80</td><td>78</td><td>90</td></tr>\n",
              "\t<tr><td>19</td><td>5</td><td>89</td><td>68</td><td>87</td></tr>\n",
              "\t<tr><td>20</td><td>5</td><td>78</td><td>83</td><td>58</td></tr>\n",
              "</tbody>\n",
              "</table>\n"
            ]
          },
          "metadata": {
            "tags": []
          }
        }
      ]
    },
    {
      "cell_type": "markdown",
      "metadata": {
        "id": "k20iAJkN8Una",
        "colab_type": "text"
      },
      "source": [
        "- 초과, 미만, 이상, 이하 조건 걸기"
      ]
    },
    {
      "cell_type": "code",
      "metadata": {
        "id": "VPmW8dj74DJ_",
        "colab_type": "code",
        "colab": {
          "base_uri": "https://localhost:8080/",
          "height": 288
        },
        "outputId": "53a34fb0-8f29-4568-9ce1-69e987080923"
      },
      "source": [
        "# 수학 점수가 50 점을 초과한 경우\n",
        "exam %>% filter(math > 50)"
      ],
      "execution_count": 6,
      "outputs": [
        {
          "output_type": "display_data",
          "data": {
            "text/plain": [
              "   id class math english science\n",
              "1   2 1     60   97      60     \n",
              "2   7 2     80   90      45     \n",
              "3   8 2     90   78      25     \n",
              "4  11 3     65   65      65     \n",
              "5  15 4     75   56      78     \n",
              "6  16 4     58   98      65     \n",
              "7  17 5     65   68      98     \n",
              "8  18 5     80   78      90     \n",
              "9  19 5     89   68      87     \n",
              "10 20 5     78   83      58     "
            ],
            "text/latex": "A data.frame: 10 × 5\n\\begin{tabular}{lllll}\n id & class & math & english & science\\\\\n <int> & <int> & <int> & <int> & <int>\\\\\n\\hline\n\t  2 & 1 & 60 & 97 & 60\\\\\n\t  7 & 2 & 80 & 90 & 45\\\\\n\t  8 & 2 & 90 & 78 & 25\\\\\n\t 11 & 3 & 65 & 65 & 65\\\\\n\t 15 & 4 & 75 & 56 & 78\\\\\n\t 16 & 4 & 58 & 98 & 65\\\\\n\t 17 & 5 & 65 & 68 & 98\\\\\n\t 18 & 5 & 80 & 78 & 90\\\\\n\t 19 & 5 & 89 & 68 & 87\\\\\n\t 20 & 5 & 78 & 83 & 58\\\\\n\\end{tabular}\n",
            "text/markdown": "\nA data.frame: 10 × 5\n\n| id &lt;int&gt; | class &lt;int&gt; | math &lt;int&gt; | english &lt;int&gt; | science &lt;int&gt; |\n|---|---|---|---|---|\n|  2 | 1 | 60 | 97 | 60 |\n|  7 | 2 | 80 | 90 | 45 |\n|  8 | 2 | 90 | 78 | 25 |\n| 11 | 3 | 65 | 65 | 65 |\n| 15 | 4 | 75 | 56 | 78 |\n| 16 | 4 | 58 | 98 | 65 |\n| 17 | 5 | 65 | 68 | 98 |\n| 18 | 5 | 80 | 78 | 90 |\n| 19 | 5 | 89 | 68 | 87 |\n| 20 | 5 | 78 | 83 | 58 |\n\n",
            "text/html": [
              "<table>\n",
              "<caption>A data.frame: 10 × 5</caption>\n",
              "<thead>\n",
              "\t<tr><th scope=col>id</th><th scope=col>class</th><th scope=col>math</th><th scope=col>english</th><th scope=col>science</th></tr>\n",
              "\t<tr><th scope=col>&lt;int&gt;</th><th scope=col>&lt;int&gt;</th><th scope=col>&lt;int&gt;</th><th scope=col>&lt;int&gt;</th><th scope=col>&lt;int&gt;</th></tr>\n",
              "</thead>\n",
              "<tbody>\n",
              "\t<tr><td> 2</td><td>1</td><td>60</td><td>97</td><td>60</td></tr>\n",
              "\t<tr><td> 7</td><td>2</td><td>80</td><td>90</td><td>45</td></tr>\n",
              "\t<tr><td> 8</td><td>2</td><td>90</td><td>78</td><td>25</td></tr>\n",
              "\t<tr><td>11</td><td>3</td><td>65</td><td>65</td><td>65</td></tr>\n",
              "\t<tr><td>15</td><td>4</td><td>75</td><td>56</td><td>78</td></tr>\n",
              "\t<tr><td>16</td><td>4</td><td>58</td><td>98</td><td>65</td></tr>\n",
              "\t<tr><td>17</td><td>5</td><td>65</td><td>68</td><td>98</td></tr>\n",
              "\t<tr><td>18</td><td>5</td><td>80</td><td>78</td><td>90</td></tr>\n",
              "\t<tr><td>19</td><td>5</td><td>89</td><td>68</td><td>87</td></tr>\n",
              "\t<tr><td>20</td><td>5</td><td>78</td><td>83</td><td>58</td></tr>\n",
              "</tbody>\n",
              "</table>\n"
            ]
          },
          "metadata": {
            "tags": []
          }
        }
      ]
    },
    {
      "cell_type": "code",
      "metadata": {
        "id": "eufj5hy_4DMp",
        "colab_type": "code",
        "colab": {
          "base_uri": "https://localhost:8080/",
          "height": 120
        },
        "outputId": "65c9b048-cffa-487f-b738-7137c66d20cd"
      },
      "source": [
        "# 1 반 이면서 수학 점수가 50 점 이상인 경우\n",
        "exam %>% filter(class == 1 & math >= 50) "
      ],
      "execution_count": 7,
      "outputs": [
        {
          "output_type": "display_data",
          "data": {
            "text/plain": [
              "  id class math english science\n",
              "1 1  1     50   98      50     \n",
              "2 2  1     60   97      60     "
            ],
            "text/latex": "A data.frame: 2 × 5\n\\begin{tabular}{lllll}\n id & class & math & english & science\\\\\n <int> & <int> & <int> & <int> & <int>\\\\\n\\hline\n\t 1 & 1 & 50 & 98 & 50\\\\\n\t 2 & 1 & 60 & 97 & 60\\\\\n\\end{tabular}\n",
            "text/markdown": "\nA data.frame: 2 × 5\n\n| id &lt;int&gt; | class &lt;int&gt; | math &lt;int&gt; | english &lt;int&gt; | science &lt;int&gt; |\n|---|---|---|---|---|\n| 1 | 1 | 50 | 98 | 50 |\n| 2 | 1 | 60 | 97 | 60 |\n\n",
            "text/html": [
              "<table>\n",
              "<caption>A data.frame: 2 × 5</caption>\n",
              "<thead>\n",
              "\t<tr><th scope=col>id</th><th scope=col>class</th><th scope=col>math</th><th scope=col>english</th><th scope=col>science</th></tr>\n",
              "\t<tr><th scope=col>&lt;int&gt;</th><th scope=col>&lt;int&gt;</th><th scope=col>&lt;int&gt;</th><th scope=col>&lt;int&gt;</th><th scope=col>&lt;int&gt;</th></tr>\n",
              "</thead>\n",
              "<tbody>\n",
              "\t<tr><td>1</td><td>1</td><td>50</td><td>98</td><td>50</td></tr>\n",
              "\t<tr><td>2</td><td>1</td><td>60</td><td>97</td><td>60</td></tr>\n",
              "</tbody>\n",
              "</table>\n"
            ]
          },
          "metadata": {
            "tags": []
          }
        }
      ]
    },
    {
      "cell_type": "code",
      "metadata": {
        "id": "_RZuv7L54DPP",
        "colab_type": "code",
        "colab": {
          "base_uri": "https://localhost:8080/",
          "height": 141
        },
        "outputId": "89699e9e-a28f-4dae-b12f-1abaf337d2b4"
      },
      "source": [
        "# 2 반 이면서 영어점수가 80 점 이상인 경우\n",
        "exam %>% filter(class == 2 & english >= 80)"
      ],
      "execution_count": 8,
      "outputs": [
        {
          "output_type": "display_data",
          "data": {
            "text/plain": [
              "  id class math english science\n",
              "1 5  2     25   80      65     \n",
              "2 6  2     50   89      98     \n",
              "3 7  2     80   90      45     "
            ],
            "text/latex": "A data.frame: 3 × 5\n\\begin{tabular}{lllll}\n id & class & math & english & science\\\\\n <int> & <int> & <int> & <int> & <int>\\\\\n\\hline\n\t 5 & 2 & 25 & 80 & 65\\\\\n\t 6 & 2 & 50 & 89 & 98\\\\\n\t 7 & 2 & 80 & 90 & 45\\\\\n\\end{tabular}\n",
            "text/markdown": "\nA data.frame: 3 × 5\n\n| id &lt;int&gt; | class &lt;int&gt; | math &lt;int&gt; | english &lt;int&gt; | science &lt;int&gt; |\n|---|---|---|---|---|\n| 5 | 2 | 25 | 80 | 65 |\n| 6 | 2 | 50 | 89 | 98 |\n| 7 | 2 | 80 | 90 | 45 |\n\n",
            "text/html": [
              "<table>\n",
              "<caption>A data.frame: 3 × 5</caption>\n",
              "<thead>\n",
              "\t<tr><th scope=col>id</th><th scope=col>class</th><th scope=col>math</th><th scope=col>english</th><th scope=col>science</th></tr>\n",
              "\t<tr><th scope=col>&lt;int&gt;</th><th scope=col>&lt;int&gt;</th><th scope=col>&lt;int&gt;</th><th scope=col>&lt;int&gt;</th><th scope=col>&lt;int&gt;</th></tr>\n",
              "</thead>\n",
              "<tbody>\n",
              "\t<tr><td>5</td><td>2</td><td>25</td><td>80</td><td>65</td></tr>\n",
              "\t<tr><td>6</td><td>2</td><td>50</td><td>89</td><td>98</td></tr>\n",
              "\t<tr><td>7</td><td>2</td><td>80</td><td>90</td><td>45</td></tr>\n",
              "</tbody>\n",
              "</table>\n"
            ]
          },
          "metadata": {
            "tags": []
          }
        }
      ]
    },
    {
      "cell_type": "markdown",
      "metadata": {
        "id": "pGLgf9Ip8X3M",
        "colab_type": "text"
      },
      "source": [
        "- 여러 조건 중 하나 이상 충족하는 행 추출하기"
      ]
    },
    {
      "cell_type": "code",
      "metadata": {
        "id": "KIQEeSCD4DRe",
        "colab_type": "code",
        "colab": {
          "base_uri": "https://localhost:8080/",
          "height": 267
        },
        "outputId": "08b8f10f-431e-4ac3-8df0-0d5bde067df6"
      },
      "source": [
        "# 수학 점수가 90 점 이상이거나 영어점수가 90 점 이상인 경우\n",
        "exam %>% filter(math >= 90 | english >= 90) "
      ],
      "execution_count": 9,
      "outputs": [
        {
          "output_type": "display_data",
          "data": {
            "text/plain": [
              "  id class math english science\n",
              "1  1 1     50   98      50     \n",
              "2  2 1     60   97      60     \n",
              "3  4 1     30   98      58     \n",
              "4  7 2     80   90      45     \n",
              "5  8 2     90   78      25     \n",
              "6  9 3     20   98      15     \n",
              "7 10 3     50   98      45     \n",
              "8 13 4     46   98      65     \n",
              "9 16 4     58   98      65     "
            ],
            "text/latex": "A data.frame: 9 × 5\n\\begin{tabular}{lllll}\n id & class & math & english & science\\\\\n <int> & <int> & <int> & <int> & <int>\\\\\n\\hline\n\t  1 & 1 & 50 & 98 & 50\\\\\n\t  2 & 1 & 60 & 97 & 60\\\\\n\t  4 & 1 & 30 & 98 & 58\\\\\n\t  7 & 2 & 80 & 90 & 45\\\\\n\t  8 & 2 & 90 & 78 & 25\\\\\n\t  9 & 3 & 20 & 98 & 15\\\\\n\t 10 & 3 & 50 & 98 & 45\\\\\n\t 13 & 4 & 46 & 98 & 65\\\\\n\t 16 & 4 & 58 & 98 & 65\\\\\n\\end{tabular}\n",
            "text/markdown": "\nA data.frame: 9 × 5\n\n| id &lt;int&gt; | class &lt;int&gt; | math &lt;int&gt; | english &lt;int&gt; | science &lt;int&gt; |\n|---|---|---|---|---|\n|  1 | 1 | 50 | 98 | 50 |\n|  2 | 1 | 60 | 97 | 60 |\n|  4 | 1 | 30 | 98 | 58 |\n|  7 | 2 | 80 | 90 | 45 |\n|  8 | 2 | 90 | 78 | 25 |\n|  9 | 3 | 20 | 98 | 15 |\n| 10 | 3 | 50 | 98 | 45 |\n| 13 | 4 | 46 | 98 | 65 |\n| 16 | 4 | 58 | 98 | 65 |\n\n",
            "text/html": [
              "<table>\n",
              "<caption>A data.frame: 9 × 5</caption>\n",
              "<thead>\n",
              "\t<tr><th scope=col>id</th><th scope=col>class</th><th scope=col>math</th><th scope=col>english</th><th scope=col>science</th></tr>\n",
              "\t<tr><th scope=col>&lt;int&gt;</th><th scope=col>&lt;int&gt;</th><th scope=col>&lt;int&gt;</th><th scope=col>&lt;int&gt;</th><th scope=col>&lt;int&gt;</th></tr>\n",
              "</thead>\n",
              "<tbody>\n",
              "\t<tr><td> 1</td><td>1</td><td>50</td><td>98</td><td>50</td></tr>\n",
              "\t<tr><td> 2</td><td>1</td><td>60</td><td>97</td><td>60</td></tr>\n",
              "\t<tr><td> 4</td><td>1</td><td>30</td><td>98</td><td>58</td></tr>\n",
              "\t<tr><td> 7</td><td>2</td><td>80</td><td>90</td><td>45</td></tr>\n",
              "\t<tr><td> 8</td><td>2</td><td>90</td><td>78</td><td>25</td></tr>\n",
              "\t<tr><td> 9</td><td>3</td><td>20</td><td>98</td><td>15</td></tr>\n",
              "\t<tr><td>10</td><td>3</td><td>50</td><td>98</td><td>45</td></tr>\n",
              "\t<tr><td>13</td><td>4</td><td>46</td><td>98</td><td>65</td></tr>\n",
              "\t<tr><td>16</td><td>4</td><td>58</td><td>98</td><td>65</td></tr>\n",
              "</tbody>\n",
              "</table>\n"
            ]
          },
          "metadata": {
            "tags": []
          }
        }
      ]
    },
    {
      "cell_type": "code",
      "metadata": {
        "id": "Xtn74FGs4DUB",
        "colab_type": "code",
        "colab": {
          "base_uri": "https://localhost:8080/",
          "height": 393
        },
        "outputId": "d0da1b3c-ec85-4f4e-ca43-6b53b410bd8b"
      },
      "source": [
        "# 영어점수가 90 점 미만이거나 과학점수가 50 점 미만인 경우\n",
        "exam %>% filter(english < 90 | science < 50)"
      ],
      "execution_count": 10,
      "outputs": [
        {
          "output_type": "display_data",
          "data": {
            "text/plain": [
              "   id class math english science\n",
              "1   3 1     45   86      78     \n",
              "2   5 2     25   80      65     \n",
              "3   6 2     50   89      98     \n",
              "4   7 2     80   90      45     \n",
              "5   8 2     90   78      25     \n",
              "6   9 3     20   98      15     \n",
              "7  10 3     50   98      45     \n",
              "8  11 3     65   65      65     \n",
              "9  12 3     45   85      32     \n",
              "10 14 4     48   87      12     \n",
              "11 15 4     75   56      78     \n",
              "12 17 5     65   68      98     \n",
              "13 18 5     80   78      90     \n",
              "14 19 5     89   68      87     \n",
              "15 20 5     78   83      58     "
            ],
            "text/latex": "A data.frame: 15 × 5\n\\begin{tabular}{lllll}\n id & class & math & english & science\\\\\n <int> & <int> & <int> & <int> & <int>\\\\\n\\hline\n\t  3 & 1 & 45 & 86 & 78\\\\\n\t  5 & 2 & 25 & 80 & 65\\\\\n\t  6 & 2 & 50 & 89 & 98\\\\\n\t  7 & 2 & 80 & 90 & 45\\\\\n\t  8 & 2 & 90 & 78 & 25\\\\\n\t  9 & 3 & 20 & 98 & 15\\\\\n\t 10 & 3 & 50 & 98 & 45\\\\\n\t 11 & 3 & 65 & 65 & 65\\\\\n\t 12 & 3 & 45 & 85 & 32\\\\\n\t 14 & 4 & 48 & 87 & 12\\\\\n\t 15 & 4 & 75 & 56 & 78\\\\\n\t 17 & 5 & 65 & 68 & 98\\\\\n\t 18 & 5 & 80 & 78 & 90\\\\\n\t 19 & 5 & 89 & 68 & 87\\\\\n\t 20 & 5 & 78 & 83 & 58\\\\\n\\end{tabular}\n",
            "text/markdown": "\nA data.frame: 15 × 5\n\n| id &lt;int&gt; | class &lt;int&gt; | math &lt;int&gt; | english &lt;int&gt; | science &lt;int&gt; |\n|---|---|---|---|---|\n|  3 | 1 | 45 | 86 | 78 |\n|  5 | 2 | 25 | 80 | 65 |\n|  6 | 2 | 50 | 89 | 98 |\n|  7 | 2 | 80 | 90 | 45 |\n|  8 | 2 | 90 | 78 | 25 |\n|  9 | 3 | 20 | 98 | 15 |\n| 10 | 3 | 50 | 98 | 45 |\n| 11 | 3 | 65 | 65 | 65 |\n| 12 | 3 | 45 | 85 | 32 |\n| 14 | 4 | 48 | 87 | 12 |\n| 15 | 4 | 75 | 56 | 78 |\n| 17 | 5 | 65 | 68 | 98 |\n| 18 | 5 | 80 | 78 | 90 |\n| 19 | 5 | 89 | 68 | 87 |\n| 20 | 5 | 78 | 83 | 58 |\n\n",
            "text/html": [
              "<table>\n",
              "<caption>A data.frame: 15 × 5</caption>\n",
              "<thead>\n",
              "\t<tr><th scope=col>id</th><th scope=col>class</th><th scope=col>math</th><th scope=col>english</th><th scope=col>science</th></tr>\n",
              "\t<tr><th scope=col>&lt;int&gt;</th><th scope=col>&lt;int&gt;</th><th scope=col>&lt;int&gt;</th><th scope=col>&lt;int&gt;</th><th scope=col>&lt;int&gt;</th></tr>\n",
              "</thead>\n",
              "<tbody>\n",
              "\t<tr><td> 3</td><td>1</td><td>45</td><td>86</td><td>78</td></tr>\n",
              "\t<tr><td> 5</td><td>2</td><td>25</td><td>80</td><td>65</td></tr>\n",
              "\t<tr><td> 6</td><td>2</td><td>50</td><td>89</td><td>98</td></tr>\n",
              "\t<tr><td> 7</td><td>2</td><td>80</td><td>90</td><td>45</td></tr>\n",
              "\t<tr><td> 8</td><td>2</td><td>90</td><td>78</td><td>25</td></tr>\n",
              "\t<tr><td> 9</td><td>3</td><td>20</td><td>98</td><td>15</td></tr>\n",
              "\t<tr><td>10</td><td>3</td><td>50</td><td>98</td><td>45</td></tr>\n",
              "\t<tr><td>11</td><td>3</td><td>65</td><td>65</td><td>65</td></tr>\n",
              "\t<tr><td>12</td><td>3</td><td>45</td><td>85</td><td>32</td></tr>\n",
              "\t<tr><td>14</td><td>4</td><td>48</td><td>87</td><td>12</td></tr>\n",
              "\t<tr><td>15</td><td>4</td><td>75</td><td>56</td><td>78</td></tr>\n",
              "\t<tr><td>17</td><td>5</td><td>65</td><td>68</td><td>98</td></tr>\n",
              "\t<tr><td>18</td><td>5</td><td>80</td><td>78</td><td>90</td></tr>\n",
              "\t<tr><td>19</td><td>5</td><td>89</td><td>68</td><td>87</td></tr>\n",
              "\t<tr><td>20</td><td>5</td><td>78</td><td>83</td><td>58</td></tr>\n",
              "</tbody>\n",
              "</table>\n"
            ]
          },
          "metadata": {
            "tags": []
          }
        }
      ]
    },
    {
      "cell_type": "markdown",
      "metadata": {
        "id": "b_-gHev48alC",
        "colab_type": "text"
      },
      "source": [
        "- 목록에 해당되는 행 추출하기"
      ]
    },
    {
      "cell_type": "code",
      "metadata": {
        "id": "UbNsp_in4DWh",
        "colab_type": "code",
        "colab": {
          "base_uri": "https://localhost:8080/",
          "height": 330
        },
        "outputId": "b89b4170-1920-4ea2-d798-0b0e69d0e40e"
      },
      "source": [
        "# 1, 3, 5 반에 해당되면 추출\n",
        "exam %>% filter(class == 1 | class == 3 | class == 5)"
      ],
      "execution_count": 11,
      "outputs": [
        {
          "output_type": "display_data",
          "data": {
            "text/plain": [
              "   id class math english science\n",
              "1   1 1     50   98      50     \n",
              "2   2 1     60   97      60     \n",
              "3   3 1     45   86      78     \n",
              "4   4 1     30   98      58     \n",
              "5   9 3     20   98      15     \n",
              "6  10 3     50   98      45     \n",
              "7  11 3     65   65      65     \n",
              "8  12 3     45   85      32     \n",
              "9  17 5     65   68      98     \n",
              "10 18 5     80   78      90     \n",
              "11 19 5     89   68      87     \n",
              "12 20 5     78   83      58     "
            ],
            "text/latex": "A data.frame: 12 × 5\n\\begin{tabular}{lllll}\n id & class & math & english & science\\\\\n <int> & <int> & <int> & <int> & <int>\\\\\n\\hline\n\t  1 & 1 & 50 & 98 & 50\\\\\n\t  2 & 1 & 60 & 97 & 60\\\\\n\t  3 & 1 & 45 & 86 & 78\\\\\n\t  4 & 1 & 30 & 98 & 58\\\\\n\t  9 & 3 & 20 & 98 & 15\\\\\n\t 10 & 3 & 50 & 98 & 45\\\\\n\t 11 & 3 & 65 & 65 & 65\\\\\n\t 12 & 3 & 45 & 85 & 32\\\\\n\t 17 & 5 & 65 & 68 & 98\\\\\n\t 18 & 5 & 80 & 78 & 90\\\\\n\t 19 & 5 & 89 & 68 & 87\\\\\n\t 20 & 5 & 78 & 83 & 58\\\\\n\\end{tabular}\n",
            "text/markdown": "\nA data.frame: 12 × 5\n\n| id &lt;int&gt; | class &lt;int&gt; | math &lt;int&gt; | english &lt;int&gt; | science &lt;int&gt; |\n|---|---|---|---|---|\n|  1 | 1 | 50 | 98 | 50 |\n|  2 | 1 | 60 | 97 | 60 |\n|  3 | 1 | 45 | 86 | 78 |\n|  4 | 1 | 30 | 98 | 58 |\n|  9 | 3 | 20 | 98 | 15 |\n| 10 | 3 | 50 | 98 | 45 |\n| 11 | 3 | 65 | 65 | 65 |\n| 12 | 3 | 45 | 85 | 32 |\n| 17 | 5 | 65 | 68 | 98 |\n| 18 | 5 | 80 | 78 | 90 |\n| 19 | 5 | 89 | 68 | 87 |\n| 20 | 5 | 78 | 83 | 58 |\n\n",
            "text/html": [
              "<table>\n",
              "<caption>A data.frame: 12 × 5</caption>\n",
              "<thead>\n",
              "\t<tr><th scope=col>id</th><th scope=col>class</th><th scope=col>math</th><th scope=col>english</th><th scope=col>science</th></tr>\n",
              "\t<tr><th scope=col>&lt;int&gt;</th><th scope=col>&lt;int&gt;</th><th scope=col>&lt;int&gt;</th><th scope=col>&lt;int&gt;</th><th scope=col>&lt;int&gt;</th></tr>\n",
              "</thead>\n",
              "<tbody>\n",
              "\t<tr><td> 1</td><td>1</td><td>50</td><td>98</td><td>50</td></tr>\n",
              "\t<tr><td> 2</td><td>1</td><td>60</td><td>97</td><td>60</td></tr>\n",
              "\t<tr><td> 3</td><td>1</td><td>45</td><td>86</td><td>78</td></tr>\n",
              "\t<tr><td> 4</td><td>1</td><td>30</td><td>98</td><td>58</td></tr>\n",
              "\t<tr><td> 9</td><td>3</td><td>20</td><td>98</td><td>15</td></tr>\n",
              "\t<tr><td>10</td><td>3</td><td>50</td><td>98</td><td>45</td></tr>\n",
              "\t<tr><td>11</td><td>3</td><td>65</td><td>65</td><td>65</td></tr>\n",
              "\t<tr><td>12</td><td>3</td><td>45</td><td>85</td><td>32</td></tr>\n",
              "\t<tr><td>17</td><td>5</td><td>65</td><td>68</td><td>98</td></tr>\n",
              "\t<tr><td>18</td><td>5</td><td>80</td><td>78</td><td>90</td></tr>\n",
              "\t<tr><td>19</td><td>5</td><td>89</td><td>68</td><td>87</td></tr>\n",
              "\t<tr><td>20</td><td>5</td><td>78</td><td>83</td><td>58</td></tr>\n",
              "</tbody>\n",
              "</table>\n"
            ]
          },
          "metadata": {
            "tags": []
          }
        }
      ]
    },
    {
      "cell_type": "markdown",
      "metadata": {
        "id": "MbiHcK6W8dOq",
        "colab_type": "text"
      },
      "source": [
        "- %in% 기호 이용하기"
      ]
    },
    {
      "cell_type": "code",
      "metadata": {
        "id": "quEEtG1D4DZP",
        "colab_type": "code",
        "colab": {
          "base_uri": "https://localhost:8080/",
          "height": 330
        },
        "outputId": "af69de9e-e748-4d94-a6e0-fae16cb604d6"
      },
      "source": [
        "exam %>% filter(class %in% c(1,3,5)) "
      ],
      "execution_count": 12,
      "outputs": [
        {
          "output_type": "display_data",
          "data": {
            "text/plain": [
              "   id class math english science\n",
              "1   1 1     50   98      50     \n",
              "2   2 1     60   97      60     \n",
              "3   3 1     45   86      78     \n",
              "4   4 1     30   98      58     \n",
              "5   9 3     20   98      15     \n",
              "6  10 3     50   98      45     \n",
              "7  11 3     65   65      65     \n",
              "8  12 3     45   85      32     \n",
              "9  17 5     65   68      98     \n",
              "10 18 5     80   78      90     \n",
              "11 19 5     89   68      87     \n",
              "12 20 5     78   83      58     "
            ],
            "text/latex": "A data.frame: 12 × 5\n\\begin{tabular}{lllll}\n id & class & math & english & science\\\\\n <int> & <int> & <int> & <int> & <int>\\\\\n\\hline\n\t  1 & 1 & 50 & 98 & 50\\\\\n\t  2 & 1 & 60 & 97 & 60\\\\\n\t  3 & 1 & 45 & 86 & 78\\\\\n\t  4 & 1 & 30 & 98 & 58\\\\\n\t  9 & 3 & 20 & 98 & 15\\\\\n\t 10 & 3 & 50 & 98 & 45\\\\\n\t 11 & 3 & 65 & 65 & 65\\\\\n\t 12 & 3 & 45 & 85 & 32\\\\\n\t 17 & 5 & 65 & 68 & 98\\\\\n\t 18 & 5 & 80 & 78 & 90\\\\\n\t 19 & 5 & 89 & 68 & 87\\\\\n\t 20 & 5 & 78 & 83 & 58\\\\\n\\end{tabular}\n",
            "text/markdown": "\nA data.frame: 12 × 5\n\n| id &lt;int&gt; | class &lt;int&gt; | math &lt;int&gt; | english &lt;int&gt; | science &lt;int&gt; |\n|---|---|---|---|---|\n|  1 | 1 | 50 | 98 | 50 |\n|  2 | 1 | 60 | 97 | 60 |\n|  3 | 1 | 45 | 86 | 78 |\n|  4 | 1 | 30 | 98 | 58 |\n|  9 | 3 | 20 | 98 | 15 |\n| 10 | 3 | 50 | 98 | 45 |\n| 11 | 3 | 65 | 65 | 65 |\n| 12 | 3 | 45 | 85 | 32 |\n| 17 | 5 | 65 | 68 | 98 |\n| 18 | 5 | 80 | 78 | 90 |\n| 19 | 5 | 89 | 68 | 87 |\n| 20 | 5 | 78 | 83 | 58 |\n\n",
            "text/html": [
              "<table>\n",
              "<caption>A data.frame: 12 × 5</caption>\n",
              "<thead>\n",
              "\t<tr><th scope=col>id</th><th scope=col>class</th><th scope=col>math</th><th scope=col>english</th><th scope=col>science</th></tr>\n",
              "\t<tr><th scope=col>&lt;int&gt;</th><th scope=col>&lt;int&gt;</th><th scope=col>&lt;int&gt;</th><th scope=col>&lt;int&gt;</th><th scope=col>&lt;int&gt;</th></tr>\n",
              "</thead>\n",
              "<tbody>\n",
              "\t<tr><td> 1</td><td>1</td><td>50</td><td>98</td><td>50</td></tr>\n",
              "\t<tr><td> 2</td><td>1</td><td>60</td><td>97</td><td>60</td></tr>\n",
              "\t<tr><td> 3</td><td>1</td><td>45</td><td>86</td><td>78</td></tr>\n",
              "\t<tr><td> 4</td><td>1</td><td>30</td><td>98</td><td>58</td></tr>\n",
              "\t<tr><td> 9</td><td>3</td><td>20</td><td>98</td><td>15</td></tr>\n",
              "\t<tr><td>10</td><td>3</td><td>50</td><td>98</td><td>45</td></tr>\n",
              "\t<tr><td>11</td><td>3</td><td>65</td><td>65</td><td>65</td></tr>\n",
              "\t<tr><td>12</td><td>3</td><td>45</td><td>85</td><td>32</td></tr>\n",
              "\t<tr><td>17</td><td>5</td><td>65</td><td>68</td><td>98</td></tr>\n",
              "\t<tr><td>18</td><td>5</td><td>80</td><td>78</td><td>90</td></tr>\n",
              "\t<tr><td>19</td><td>5</td><td>89</td><td>68</td><td>87</td></tr>\n",
              "\t<tr><td>20</td><td>5</td><td>78</td><td>83</td><td>58</td></tr>\n",
              "</tbody>\n",
              "</table>\n"
            ]
          },
          "metadata": {
            "tags": []
          }
        }
      ]
    },
    {
      "cell_type": "code",
      "metadata": {
        "id": "hPGwgYAK4Db3",
        "colab_type": "code",
        "colab": {}
      },
      "source": [
        "class1 <- exam %>% filter(class == 1)  # class 가 1 인 행 추출 , class1 에 할당\n",
        "class2 <- exam %>% filter(class == 2)  # class 가 2 인 행 추출 , class2 에 할당"
      ],
      "execution_count": 0,
      "outputs": []
    },
    {
      "cell_type": "code",
      "metadata": {
        "id": "HnF4agk_4DeZ",
        "colab_type": "code",
        "colab": {
          "base_uri": "https://localhost:8080/",
          "height": 51
        },
        "outputId": "26fb27ad-5962-4a8d-c52c-7542745caae3"
      },
      "source": [
        "mean(class1$math) # 1 반 수학 점수 평균 구하기\n",
        "mean(class2$math) # 2 반 수학 점수 평균 구하기"
      ],
      "execution_count": 14,
      "outputs": [
        {
          "output_type": "display_data",
          "data": {
            "text/plain": [
              "[1] 46.25"
            ],
            "text/latex": "46.25",
            "text/markdown": "46.25",
            "text/html": [
              "46.25"
            ]
          },
          "metadata": {
            "tags": []
          }
        },
        {
          "output_type": "display_data",
          "data": {
            "text/plain": [
              "[1] 61.25"
            ],
            "text/latex": "61.25",
            "text/markdown": "61.25",
            "text/html": [
              "61.25"
            ]
          },
          "metadata": {
            "tags": []
          }
        }
      ]
    },
    {
      "cell_type": "markdown",
      "metadata": {
        "id": "8fezBy2b8iqI",
        "colab_type": "text"
      },
      "source": [
        "## 혼자서 해보기 (1)\n",
        "mpg 데이터를 이용해 분석 문제를 해결해 보세요."
      ]
    },
    {
      "cell_type": "code",
      "metadata": {
        "id": "AsOwpL474Dg_",
        "colab_type": "code",
        "colab": {
          "base_uri": "https://localhost:8080/",
          "height": 179
        },
        "outputId": "99f0bc99-16d8-44d3-b4ba-cd6289ebe94d"
      },
      "source": [
        "mpg <- as.data.frame(ggplot2::mpg)\n",
        "library(ggplot2) "
      ],
      "execution_count": 15,
      "outputs": [
        {
          "output_type": "stream",
          "text": [
            "\n",
            "Attaching package: ‘ggplot2’\n",
            "\n",
            "\n",
            "The following object is masked _by_ ‘.GlobalEnv’:\n",
            "\n",
            "    mpg\n",
            "\n",
            "\n"
          ],
          "name": "stderr"
        }
      ]
    },
    {
      "cell_type": "code",
      "metadata": {
        "id": "oawkvlmR4Trz",
        "colab_type": "code",
        "colab": {
          "base_uri": "https://localhost:8080/",
          "height": 395
        },
        "outputId": "eb36a02f-383b-45ef-854d-26969c7ff026"
      },
      "source": [
        "summary(mpg)"
      ],
      "execution_count": 16,
      "outputs": [
        {
          "output_type": "display_data",
          "data": {
            "text/plain": [
              " manufacturer          model               displ            year     \n",
              " Length:234         Length:234         Min.   :1.600   Min.   :1999  \n",
              " Class :character   Class :character   1st Qu.:2.400   1st Qu.:1999  \n",
              " Mode  :character   Mode  :character   Median :3.300   Median :2004  \n",
              "                                       Mean   :3.472   Mean   :2004  \n",
              "                                       3rd Qu.:4.600   3rd Qu.:2008  \n",
              "                                       Max.   :7.000   Max.   :2008  \n",
              "      cyl           trans               drv                 cty       \n",
              " Min.   :4.000   Length:234         Length:234         Min.   : 9.00  \n",
              " 1st Qu.:4.000   Class :character   Class :character   1st Qu.:14.00  \n",
              " Median :6.000   Mode  :character   Mode  :character   Median :17.00  \n",
              " Mean   :5.889                                         Mean   :16.86  \n",
              " 3rd Qu.:8.000                                         3rd Qu.:19.00  \n",
              " Max.   :8.000                                         Max.   :35.00  \n",
              "      hwy             fl               class          \n",
              " Min.   :12.00   Length:234         Length:234        \n",
              " 1st Qu.:18.00   Class :character   Class :character  \n",
              " Median :24.00   Mode  :character   Mode  :character  \n",
              " Mean   :23.44                                        \n",
              " 3rd Qu.:27.00                                        \n",
              " Max.   :44.00                                        "
            ]
          },
          "metadata": {
            "tags": []
          }
        }
      ]
    },
    {
      "cell_type": "code",
      "metadata": {
        "id": "jOgd-Jfv4TuX",
        "colab_type": "code",
        "colab": {
          "base_uri": "https://localhost:8080/",
          "height": 204
        },
        "outputId": "11fe42eb-6cb4-4eb7-acc3-43024b419168"
      },
      "source": [
        "head(mpg)"
      ],
      "execution_count": 17,
      "outputs": [
        {
          "output_type": "display_data",
          "data": {
            "text/plain": [
              "  manufacturer model displ year cyl trans      drv cty hwy fl class  \n",
              "1 audi         a4    1.8   1999 4   auto(l5)   f   18  29  p  compact\n",
              "2 audi         a4    1.8   1999 4   manual(m5) f   21  29  p  compact\n",
              "3 audi         a4    2.0   2008 4   manual(m6) f   20  31  p  compact\n",
              "4 audi         a4    2.0   2008 4   auto(av)   f   21  30  p  compact\n",
              "5 audi         a4    2.8   1999 6   auto(l5)   f   16  26  p  compact\n",
              "6 audi         a4    2.8   1999 6   manual(m5) f   18  26  p  compact"
            ],
            "text/latex": "A data.frame: 6 × 11\n\\begin{tabular}{r|lllllllllll}\n  & manufacturer & model & displ & year & cyl & trans & drv & cty & hwy & fl & class\\\\\n  & <chr> & <chr> & <dbl> & <int> & <int> & <chr> & <chr> & <int> & <int> & <chr> & <chr>\\\\\n\\hline\n\t1 & audi & a4 & 1.8 & 1999 & 4 & auto(l5)   & f & 18 & 29 & p & compact\\\\\n\t2 & audi & a4 & 1.8 & 1999 & 4 & manual(m5) & f & 21 & 29 & p & compact\\\\\n\t3 & audi & a4 & 2.0 & 2008 & 4 & manual(m6) & f & 20 & 31 & p & compact\\\\\n\t4 & audi & a4 & 2.0 & 2008 & 4 & auto(av)   & f & 21 & 30 & p & compact\\\\\n\t5 & audi & a4 & 2.8 & 1999 & 6 & auto(l5)   & f & 16 & 26 & p & compact\\\\\n\t6 & audi & a4 & 2.8 & 1999 & 6 & manual(m5) & f & 18 & 26 & p & compact\\\\\n\\end{tabular}\n",
            "text/markdown": "\nA data.frame: 6 × 11\n\n| <!--/--> | manufacturer &lt;chr&gt; | model &lt;chr&gt; | displ &lt;dbl&gt; | year &lt;int&gt; | cyl &lt;int&gt; | trans &lt;chr&gt; | drv &lt;chr&gt; | cty &lt;int&gt; | hwy &lt;int&gt; | fl &lt;chr&gt; | class &lt;chr&gt; |\n|---|---|---|---|---|---|---|---|---|---|---|---|\n| 1 | audi | a4 | 1.8 | 1999 | 4 | auto(l5)   | f | 18 | 29 | p | compact |\n| 2 | audi | a4 | 1.8 | 1999 | 4 | manual(m5) | f | 21 | 29 | p | compact |\n| 3 | audi | a4 | 2.0 | 2008 | 4 | manual(m6) | f | 20 | 31 | p | compact |\n| 4 | audi | a4 | 2.0 | 2008 | 4 | auto(av)   | f | 21 | 30 | p | compact |\n| 5 | audi | a4 | 2.8 | 1999 | 6 | auto(l5)   | f | 16 | 26 | p | compact |\n| 6 | audi | a4 | 2.8 | 1999 | 6 | manual(m5) | f | 18 | 26 | p | compact |\n\n",
            "text/html": [
              "<table>\n",
              "<caption>A data.frame: 6 × 11</caption>\n",
              "<thead>\n",
              "\t<tr><th></th><th scope=col>manufacturer</th><th scope=col>model</th><th scope=col>displ</th><th scope=col>year</th><th scope=col>cyl</th><th scope=col>trans</th><th scope=col>drv</th><th scope=col>cty</th><th scope=col>hwy</th><th scope=col>fl</th><th scope=col>class</th></tr>\n",
              "\t<tr><th></th><th scope=col>&lt;chr&gt;</th><th scope=col>&lt;chr&gt;</th><th scope=col>&lt;dbl&gt;</th><th scope=col>&lt;int&gt;</th><th scope=col>&lt;int&gt;</th><th scope=col>&lt;chr&gt;</th><th scope=col>&lt;chr&gt;</th><th scope=col>&lt;int&gt;</th><th scope=col>&lt;int&gt;</th><th scope=col>&lt;chr&gt;</th><th scope=col>&lt;chr&gt;</th></tr>\n",
              "</thead>\n",
              "<tbody>\n",
              "\t<tr><th scope=row>1</th><td>audi</td><td>a4</td><td>1.8</td><td>1999</td><td>4</td><td>auto(l5)  </td><td>f</td><td>18</td><td>29</td><td>p</td><td>compact</td></tr>\n",
              "\t<tr><th scope=row>2</th><td>audi</td><td>a4</td><td>1.8</td><td>1999</td><td>4</td><td>manual(m5)</td><td>f</td><td>21</td><td>29</td><td>p</td><td>compact</td></tr>\n",
              "\t<tr><th scope=row>3</th><td>audi</td><td>a4</td><td>2.0</td><td>2008</td><td>4</td><td>manual(m6)</td><td>f</td><td>20</td><td>31</td><td>p</td><td>compact</td></tr>\n",
              "\t<tr><th scope=row>4</th><td>audi</td><td>a4</td><td>2.0</td><td>2008</td><td>4</td><td>auto(av)  </td><td>f</td><td>21</td><td>30</td><td>p</td><td>compact</td></tr>\n",
              "\t<tr><th scope=row>5</th><td>audi</td><td>a4</td><td>2.8</td><td>1999</td><td>6</td><td>auto(l5)  </td><td>f</td><td>16</td><td>26</td><td>p</td><td>compact</td></tr>\n",
              "\t<tr><th scope=row>6</th><td>audi</td><td>a4</td><td>2.8</td><td>1999</td><td>6</td><td>manual(m5)</td><td>f</td><td>18</td><td>26</td><td>p</td><td>compact</td></tr>\n",
              "</tbody>\n",
              "</table>\n"
            ]
          },
          "metadata": {
            "tags": []
          }
        }
      ]
    },
    {
      "cell_type": "markdown",
      "metadata": {
        "id": "J4F_J7TR8nB7",
        "colab_type": "text"
      },
      "source": [
        "Q1. 자동차 배기량에 따라 고속도로 연비가 다른지 알아보려고 합니다. displ(배기량)이 4 이하인 자동차와 5 이상인 자동차 중 어떤 자동차의 hwy(고속도로 연비)가 평균적으로 더 높은지 알아보세요."
      ]
    },
    {
      "cell_type": "code",
      "metadata": {
        "id": "PItDRJt_4Tww",
        "colab_type": "code",
        "colab": {}
      },
      "source": [
        "displ1 <- mpg %>% filter(displ <= 4)\n",
        "displ2 <- mpg %>% filter(displ >= 5)"
      ],
      "execution_count": 0,
      "outputs": []
    },
    {
      "cell_type": "code",
      "metadata": {
        "id": "6tQ4belP4TzY",
        "colab_type": "code",
        "colab": {
          "base_uri": "https://localhost:8080/",
          "height": 51
        },
        "outputId": "24307ece-dacb-455b-c5ac-fee0a1a2674e"
      },
      "source": [
        "mean(displ1$hwy) \n",
        "mean(displ2$hwy) "
      ],
      "execution_count": 19,
      "outputs": [
        {
          "output_type": "display_data",
          "data": {
            "text/plain": [
              "[1] 25.96319"
            ],
            "text/latex": "25.9631901840491",
            "text/markdown": "25.9631901840491",
            "text/html": [
              "25.9631901840491"
            ]
          },
          "metadata": {
            "tags": []
          }
        },
        {
          "output_type": "display_data",
          "data": {
            "text/plain": [
              "[1] 18.07895"
            ],
            "text/latex": "18.0789473684211",
            "text/markdown": "18.0789473684211",
            "text/html": [
              "18.0789473684211"
            ]
          },
          "metadata": {
            "tags": []
          }
        }
      ]
    },
    {
      "cell_type": "code",
      "metadata": {
        "id": "GiateEWw4T1p",
        "colab_type": "code",
        "colab": {
          "base_uri": "https://localhost:8080/",
          "height": 34
        },
        "outputId": "6dc4c408-d1b6-482a-8491-3fb35db07f0c"
      },
      "source": [
        "ifelse(mean(displ1$hwy) > mean(displ2$hwy), '배기량4','배기량5' )"
      ],
      "execution_count": 20,
      "outputs": [
        {
          "output_type": "display_data",
          "data": {
            "text/plain": [
              "[1] \"배기량4\""
            ],
            "text/latex": "'배기량4'",
            "text/markdown": "'배기량4'",
            "text/html": [
              "'배기량4'"
            ]
          },
          "metadata": {
            "tags": []
          }
        }
      ]
    },
    {
      "cell_type": "markdown",
      "metadata": {
        "id": "9CJMsYz18rYv",
        "colab_type": "text"
      },
      "source": [
        "Q2. 자동차 제조 회사에 따라 도시 연비가 다른지 알아보려고 합니다. \"audi\"와 \"toyota\" 중 어느 manufacturer(자동차 제조 회사)의 cty(도시 연비)가 평균적으로 더 높은지 알아보세요"
      ]
    },
    {
      "cell_type": "code",
      "metadata": {
        "id": "pC6MCyBg4T4Z",
        "colab_type": "code",
        "colab": {}
      },
      "source": [
        "audi <- mpg %>% filter(manufacturer == 'audi')\n",
        "toyota <- mpg %>% filter(manufacturer == 'toyota')"
      ],
      "execution_count": 0,
      "outputs": []
    },
    {
      "cell_type": "code",
      "metadata": {
        "id": "9vHCMWPy4T6o",
        "colab_type": "code",
        "colab": {
          "base_uri": "https://localhost:8080/",
          "height": 51
        },
        "outputId": "51ca4ec6-06d1-4aa7-db73-944fac315299"
      },
      "source": [
        "mean(audi$cty)\n",
        "mean(toyota$cty)"
      ],
      "execution_count": 22,
      "outputs": [
        {
          "output_type": "display_data",
          "data": {
            "text/plain": [
              "[1] 17.61111"
            ],
            "text/latex": "17.6111111111111",
            "text/markdown": "17.6111111111111",
            "text/html": [
              "17.6111111111111"
            ]
          },
          "metadata": {
            "tags": []
          }
        },
        {
          "output_type": "display_data",
          "data": {
            "text/plain": [
              "[1] 18.52941"
            ],
            "text/latex": "18.5294117647059",
            "text/markdown": "18.5294117647059",
            "text/html": [
              "18.5294117647059"
            ]
          },
          "metadata": {
            "tags": []
          }
        }
      ]
    },
    {
      "cell_type": "code",
      "metadata": {
        "id": "dRQV-rDt4T86",
        "colab_type": "code",
        "colab": {
          "base_uri": "https://localhost:8080/",
          "height": 34
        },
        "outputId": "d7dd8a14-6343-426c-84d3-ef77a115c5bb"
      },
      "source": [
        "ifelse(mean(audi$cty) > mean(toyota$cty), 'audi','toyota' )"
      ],
      "execution_count": 23,
      "outputs": [
        {
          "output_type": "display_data",
          "data": {
            "text/plain": [
              "[1] \"toyota\""
            ],
            "text/latex": "'toyota'",
            "text/markdown": "'toyota'",
            "text/html": [
              "'toyota'"
            ]
          },
          "metadata": {
            "tags": []
          }
        }
      ]
    },
    {
      "cell_type": "markdown",
      "metadata": {
        "id": "iGx-4Q4Q8tfp",
        "colab_type": "text"
      },
      "source": [
        "Q3. \"chevrolet\", \"ford\", \"honda\" 자동차의 고속도로 연비 평균을 알아보려고 합니다. 이 회사들의 자동차를 추출한 뒤 hwy 전체 평균을 구해보세요."
      ]
    },
    {
      "cell_type": "code",
      "metadata": {
        "id": "5CkNZjEF4a1S",
        "colab_type": "code",
        "colab": {
          "base_uri": "https://localhost:8080/",
          "height": 34
        },
        "outputId": "4eb42b76-a46b-4f68-b5cc-bfb760e338fd"
      },
      "source": [
        "ch_fo_ho <- mpg %>% filter(manufacturer %in% c(\"chevrolet\", \"ford\", \"honda\"))\n",
        "mean(ch_fo_ho$hwy)"
      ],
      "execution_count": 24,
      "outputs": [
        {
          "output_type": "display_data",
          "data": {
            "text/plain": [
              "[1] 22.50943"
            ],
            "text/latex": "22.5094339622642",
            "text/markdown": "22.5094339622642",
            "text/html": [
              "22.5094339622642"
            ]
          },
          "metadata": {
            "tags": []
          }
        }
      ]
    },
    {
      "cell_type": "markdown",
      "metadata": {
        "id": "jrT0uMnE8vfx",
        "colab_type": "text"
      },
      "source": [
        "- 필요한 변수만 추출하기"
      ]
    },
    {
      "cell_type": "code",
      "metadata": {
        "id": "Umdw3Vjy4a3t",
        "colab_type": "code",
        "colab": {
          "base_uri": "https://localhost:8080/",
          "height": 532
        },
        "outputId": "6aa288b4-47b3-445c-b8bc-2724bb64266a"
      },
      "source": [
        "# 과목 math만 추출\n",
        "exam %>% select(math)"
      ],
      "execution_count": 25,
      "outputs": [
        {
          "output_type": "display_data",
          "data": {
            "text/plain": [
              "   math\n",
              "1  50  \n",
              "2  60  \n",
              "3  45  \n",
              "4  30  \n",
              "5  25  \n",
              "6  50  \n",
              "7  80  \n",
              "8  90  \n",
              "9  20  \n",
              "10 50  \n",
              "11 65  \n",
              "12 45  \n",
              "13 46  \n",
              "14 48  \n",
              "15 75  \n",
              "16 58  \n",
              "17 65  \n",
              "18 80  \n",
              "19 89  \n",
              "20 78  "
            ],
            "text/latex": "A data.frame: 20 × 1\n\\begin{tabular}{l}\n math\\\\\n <int>\\\\\n\\hline\n\t 50\\\\\n\t 60\\\\\n\t 45\\\\\n\t 30\\\\\n\t 25\\\\\n\t 50\\\\\n\t 80\\\\\n\t 90\\\\\n\t 20\\\\\n\t 50\\\\\n\t 65\\\\\n\t 45\\\\\n\t 46\\\\\n\t 48\\\\\n\t 75\\\\\n\t 58\\\\\n\t 65\\\\\n\t 80\\\\\n\t 89\\\\\n\t 78\\\\\n\\end{tabular}\n",
            "text/markdown": "\nA data.frame: 20 × 1\n\n| math &lt;int&gt; |\n|---|\n| 50 |\n| 60 |\n| 45 |\n| 30 |\n| 25 |\n| 50 |\n| 80 |\n| 90 |\n| 20 |\n| 50 |\n| 65 |\n| 45 |\n| 46 |\n| 48 |\n| 75 |\n| 58 |\n| 65 |\n| 80 |\n| 89 |\n| 78 |\n\n",
            "text/html": [
              "<table>\n",
              "<caption>A data.frame: 20 × 1</caption>\n",
              "<thead>\n",
              "\t<tr><th scope=col>math</th></tr>\n",
              "\t<tr><th scope=col>&lt;int&gt;</th></tr>\n",
              "</thead>\n",
              "<tbody>\n",
              "\t<tr><td>50</td></tr>\n",
              "\t<tr><td>60</td></tr>\n",
              "\t<tr><td>45</td></tr>\n",
              "\t<tr><td>30</td></tr>\n",
              "\t<tr><td>25</td></tr>\n",
              "\t<tr><td>50</td></tr>\n",
              "\t<tr><td>80</td></tr>\n",
              "\t<tr><td>90</td></tr>\n",
              "\t<tr><td>20</td></tr>\n",
              "\t<tr><td>50</td></tr>\n",
              "\t<tr><td>65</td></tr>\n",
              "\t<tr><td>45</td></tr>\n",
              "\t<tr><td>46</td></tr>\n",
              "\t<tr><td>48</td></tr>\n",
              "\t<tr><td>75</td></tr>\n",
              "\t<tr><td>58</td></tr>\n",
              "\t<tr><td>65</td></tr>\n",
              "\t<tr><td>80</td></tr>\n",
              "\t<tr><td>89</td></tr>\n",
              "\t<tr><td>78</td></tr>\n",
              "</tbody>\n",
              "</table>\n"
            ]
          },
          "metadata": {
            "tags": []
          }
        }
      ]
    },
    {
      "cell_type": "code",
      "metadata": {
        "id": "Mhqe1et64a6A",
        "colab_type": "code",
        "colab": {
          "base_uri": "https://localhost:8080/",
          "height": 498
        },
        "outputId": "5f6190e9-fbc0-49c2-ce17-5c72bbeb0808"
      },
      "source": [
        "# 여러 변수 추출하기\n",
        "# class, math, english 변수 추출\n",
        "exam %>% select(class, math, english)  "
      ],
      "execution_count": 26,
      "outputs": [
        {
          "output_type": "display_data",
          "data": {
            "text/plain": [
              "   class math english\n",
              "1  1     50   98     \n",
              "2  1     60   97     \n",
              "3  1     45   86     \n",
              "4  1     30   98     \n",
              "5  2     25   80     \n",
              "6  2     50   89     \n",
              "7  2     80   90     \n",
              "8  2     90   78     \n",
              "9  3     20   98     \n",
              "10 3     50   98     \n",
              "11 3     65   65     \n",
              "12 3     45   85     \n",
              "13 4     46   98     \n",
              "14 4     48   87     \n",
              "15 4     75   56     \n",
              "16 4     58   98     \n",
              "17 5     65   68     \n",
              "18 5     80   78     \n",
              "19 5     89   68     \n",
              "20 5     78   83     "
            ],
            "text/latex": "A data.frame: 20 × 3\n\\begin{tabular}{lll}\n class & math & english\\\\\n <int> & <int> & <int>\\\\\n\\hline\n\t 1 & 50 & 98\\\\\n\t 1 & 60 & 97\\\\\n\t 1 & 45 & 86\\\\\n\t 1 & 30 & 98\\\\\n\t 2 & 25 & 80\\\\\n\t 2 & 50 & 89\\\\\n\t 2 & 80 & 90\\\\\n\t 2 & 90 & 78\\\\\n\t 3 & 20 & 98\\\\\n\t 3 & 50 & 98\\\\\n\t 3 & 65 & 65\\\\\n\t 3 & 45 & 85\\\\\n\t 4 & 46 & 98\\\\\n\t 4 & 48 & 87\\\\\n\t 4 & 75 & 56\\\\\n\t 4 & 58 & 98\\\\\n\t 5 & 65 & 68\\\\\n\t 5 & 80 & 78\\\\\n\t 5 & 89 & 68\\\\\n\t 5 & 78 & 83\\\\\n\\end{tabular}\n",
            "text/markdown": "\nA data.frame: 20 × 3\n\n| class &lt;int&gt; | math &lt;int&gt; | english &lt;int&gt; |\n|---|---|---|\n| 1 | 50 | 98 |\n| 1 | 60 | 97 |\n| 1 | 45 | 86 |\n| 1 | 30 | 98 |\n| 2 | 25 | 80 |\n| 2 | 50 | 89 |\n| 2 | 80 | 90 |\n| 2 | 90 | 78 |\n| 3 | 20 | 98 |\n| 3 | 50 | 98 |\n| 3 | 65 | 65 |\n| 3 | 45 | 85 |\n| 4 | 46 | 98 |\n| 4 | 48 | 87 |\n| 4 | 75 | 56 |\n| 4 | 58 | 98 |\n| 5 | 65 | 68 |\n| 5 | 80 | 78 |\n| 5 | 89 | 68 |\n| 5 | 78 | 83 |\n\n",
            "text/html": [
              "<table>\n",
              "<caption>A data.frame: 20 × 3</caption>\n",
              "<thead>\n",
              "\t<tr><th scope=col>class</th><th scope=col>math</th><th scope=col>english</th></tr>\n",
              "\t<tr><th scope=col>&lt;int&gt;</th><th scope=col>&lt;int&gt;</th><th scope=col>&lt;int&gt;</th></tr>\n",
              "</thead>\n",
              "<tbody>\n",
              "\t<tr><td>1</td><td>50</td><td>98</td></tr>\n",
              "\t<tr><td>1</td><td>60</td><td>97</td></tr>\n",
              "\t<tr><td>1</td><td>45</td><td>86</td></tr>\n",
              "\t<tr><td>1</td><td>30</td><td>98</td></tr>\n",
              "\t<tr><td>2</td><td>25</td><td>80</td></tr>\n",
              "\t<tr><td>2</td><td>50</td><td>89</td></tr>\n",
              "\t<tr><td>2</td><td>80</td><td>90</td></tr>\n",
              "\t<tr><td>2</td><td>90</td><td>78</td></tr>\n",
              "\t<tr><td>3</td><td>20</td><td>98</td></tr>\n",
              "\t<tr><td>3</td><td>50</td><td>98</td></tr>\n",
              "\t<tr><td>3</td><td>65</td><td>65</td></tr>\n",
              "\t<tr><td>3</td><td>45</td><td>85</td></tr>\n",
              "\t<tr><td>4</td><td>46</td><td>98</td></tr>\n",
              "\t<tr><td>4</td><td>48</td><td>87</td></tr>\n",
              "\t<tr><td>4</td><td>75</td><td>56</td></tr>\n",
              "\t<tr><td>4</td><td>58</td><td>98</td></tr>\n",
              "\t<tr><td>5</td><td>65</td><td>68</td></tr>\n",
              "\t<tr><td>5</td><td>80</td><td>78</td></tr>\n",
              "\t<tr><td>5</td><td>89</td><td>68</td></tr>\n",
              "\t<tr><td>5</td><td>78</td><td>83</td></tr>\n",
              "</tbody>\n",
              "</table>\n"
            ]
          },
          "metadata": {
            "tags": []
          }
        }
      ]
    },
    {
      "cell_type": "markdown",
      "metadata": {
        "id": "QxJviu3Y8yYR",
        "colab_type": "text"
      },
      "source": [
        "- 변수 제외하기 (- 연산자)"
      ]
    },
    {
      "cell_type": "code",
      "metadata": {
        "id": "AHpraAAo4a8k",
        "colab_type": "code",
        "colab": {
          "base_uri": "https://localhost:8080/",
          "height": 498
        },
        "outputId": "ac0b244c-3748-43b1-fdeb-938afb7cdd6c"
      },
      "source": [
        "# math 제외\n",
        "exam %>% select(-math)  "
      ],
      "execution_count": 27,
      "outputs": [
        {
          "output_type": "display_data",
          "data": {
            "text/plain": [
              "   id class english science\n",
              "1   1 1     98      50     \n",
              "2   2 1     97      60     \n",
              "3   3 1     86      78     \n",
              "4   4 1     98      58     \n",
              "5   5 2     80      65     \n",
              "6   6 2     89      98     \n",
              "7   7 2     90      45     \n",
              "8   8 2     78      25     \n",
              "9   9 3     98      15     \n",
              "10 10 3     98      45     \n",
              "11 11 3     65      65     \n",
              "12 12 3     85      32     \n",
              "13 13 4     98      65     \n",
              "14 14 4     87      12     \n",
              "15 15 4     56      78     \n",
              "16 16 4     98      65     \n",
              "17 17 5     68      98     \n",
              "18 18 5     78      90     \n",
              "19 19 5     68      87     \n",
              "20 20 5     83      58     "
            ],
            "text/latex": "A data.frame: 20 × 4\n\\begin{tabular}{llll}\n id & class & english & science\\\\\n <int> & <int> & <int> & <int>\\\\\n\\hline\n\t  1 & 1 & 98 & 50\\\\\n\t  2 & 1 & 97 & 60\\\\\n\t  3 & 1 & 86 & 78\\\\\n\t  4 & 1 & 98 & 58\\\\\n\t  5 & 2 & 80 & 65\\\\\n\t  6 & 2 & 89 & 98\\\\\n\t  7 & 2 & 90 & 45\\\\\n\t  8 & 2 & 78 & 25\\\\\n\t  9 & 3 & 98 & 15\\\\\n\t 10 & 3 & 98 & 45\\\\\n\t 11 & 3 & 65 & 65\\\\\n\t 12 & 3 & 85 & 32\\\\\n\t 13 & 4 & 98 & 65\\\\\n\t 14 & 4 & 87 & 12\\\\\n\t 15 & 4 & 56 & 78\\\\\n\t 16 & 4 & 98 & 65\\\\\n\t 17 & 5 & 68 & 98\\\\\n\t 18 & 5 & 78 & 90\\\\\n\t 19 & 5 & 68 & 87\\\\\n\t 20 & 5 & 83 & 58\\\\\n\\end{tabular}\n",
            "text/markdown": "\nA data.frame: 20 × 4\n\n| id &lt;int&gt; | class &lt;int&gt; | english &lt;int&gt; | science &lt;int&gt; |\n|---|---|---|---|\n|  1 | 1 | 98 | 50 |\n|  2 | 1 | 97 | 60 |\n|  3 | 1 | 86 | 78 |\n|  4 | 1 | 98 | 58 |\n|  5 | 2 | 80 | 65 |\n|  6 | 2 | 89 | 98 |\n|  7 | 2 | 90 | 45 |\n|  8 | 2 | 78 | 25 |\n|  9 | 3 | 98 | 15 |\n| 10 | 3 | 98 | 45 |\n| 11 | 3 | 65 | 65 |\n| 12 | 3 | 85 | 32 |\n| 13 | 4 | 98 | 65 |\n| 14 | 4 | 87 | 12 |\n| 15 | 4 | 56 | 78 |\n| 16 | 4 | 98 | 65 |\n| 17 | 5 | 68 | 98 |\n| 18 | 5 | 78 | 90 |\n| 19 | 5 | 68 | 87 |\n| 20 | 5 | 83 | 58 |\n\n",
            "text/html": [
              "<table>\n",
              "<caption>A data.frame: 20 × 4</caption>\n",
              "<thead>\n",
              "\t<tr><th scope=col>id</th><th scope=col>class</th><th scope=col>english</th><th scope=col>science</th></tr>\n",
              "\t<tr><th scope=col>&lt;int&gt;</th><th scope=col>&lt;int&gt;</th><th scope=col>&lt;int&gt;</th><th scope=col>&lt;int&gt;</th></tr>\n",
              "</thead>\n",
              "<tbody>\n",
              "\t<tr><td> 1</td><td>1</td><td>98</td><td>50</td></tr>\n",
              "\t<tr><td> 2</td><td>1</td><td>97</td><td>60</td></tr>\n",
              "\t<tr><td> 3</td><td>1</td><td>86</td><td>78</td></tr>\n",
              "\t<tr><td> 4</td><td>1</td><td>98</td><td>58</td></tr>\n",
              "\t<tr><td> 5</td><td>2</td><td>80</td><td>65</td></tr>\n",
              "\t<tr><td> 6</td><td>2</td><td>89</td><td>98</td></tr>\n",
              "\t<tr><td> 7</td><td>2</td><td>90</td><td>45</td></tr>\n",
              "\t<tr><td> 8</td><td>2</td><td>78</td><td>25</td></tr>\n",
              "\t<tr><td> 9</td><td>3</td><td>98</td><td>15</td></tr>\n",
              "\t<tr><td>10</td><td>3</td><td>98</td><td>45</td></tr>\n",
              "\t<tr><td>11</td><td>3</td><td>65</td><td>65</td></tr>\n",
              "\t<tr><td>12</td><td>3</td><td>85</td><td>32</td></tr>\n",
              "\t<tr><td>13</td><td>4</td><td>98</td><td>65</td></tr>\n",
              "\t<tr><td>14</td><td>4</td><td>87</td><td>12</td></tr>\n",
              "\t<tr><td>15</td><td>4</td><td>56</td><td>78</td></tr>\n",
              "\t<tr><td>16</td><td>4</td><td>98</td><td>65</td></tr>\n",
              "\t<tr><td>17</td><td>5</td><td>68</td><td>98</td></tr>\n",
              "\t<tr><td>18</td><td>5</td><td>78</td><td>90</td></tr>\n",
              "\t<tr><td>19</td><td>5</td><td>68</td><td>87</td></tr>\n",
              "\t<tr><td>20</td><td>5</td><td>83</td><td>58</td></tr>\n",
              "</tbody>\n",
              "</table>\n"
            ]
          },
          "metadata": {
            "tags": []
          }
        }
      ]
    },
    {
      "cell_type": "code",
      "metadata": {
        "id": "sBQNbb_T4a-8",
        "colab_type": "code",
        "colab": {
          "base_uri": "https://localhost:8080/",
          "height": 498
        },
        "outputId": "5d545b34-181f-48cf-9d3a-0977f15aa8a2"
      },
      "source": [
        "# math, english 제외\n",
        "exam %>% select(-math, -english)  "
      ],
      "execution_count": 28,
      "outputs": [
        {
          "output_type": "display_data",
          "data": {
            "text/plain": [
              "   id class science\n",
              "1   1 1     50     \n",
              "2   2 1     60     \n",
              "3   3 1     78     \n",
              "4   4 1     58     \n",
              "5   5 2     65     \n",
              "6   6 2     98     \n",
              "7   7 2     45     \n",
              "8   8 2     25     \n",
              "9   9 3     15     \n",
              "10 10 3     45     \n",
              "11 11 3     65     \n",
              "12 12 3     32     \n",
              "13 13 4     65     \n",
              "14 14 4     12     \n",
              "15 15 4     78     \n",
              "16 16 4     65     \n",
              "17 17 5     98     \n",
              "18 18 5     90     \n",
              "19 19 5     87     \n",
              "20 20 5     58     "
            ],
            "text/latex": "A data.frame: 20 × 3\n\\begin{tabular}{lll}\n id & class & science\\\\\n <int> & <int> & <int>\\\\\n\\hline\n\t  1 & 1 & 50\\\\\n\t  2 & 1 & 60\\\\\n\t  3 & 1 & 78\\\\\n\t  4 & 1 & 58\\\\\n\t  5 & 2 & 65\\\\\n\t  6 & 2 & 98\\\\\n\t  7 & 2 & 45\\\\\n\t  8 & 2 & 25\\\\\n\t  9 & 3 & 15\\\\\n\t 10 & 3 & 45\\\\\n\t 11 & 3 & 65\\\\\n\t 12 & 3 & 32\\\\\n\t 13 & 4 & 65\\\\\n\t 14 & 4 & 12\\\\\n\t 15 & 4 & 78\\\\\n\t 16 & 4 & 65\\\\\n\t 17 & 5 & 98\\\\\n\t 18 & 5 & 90\\\\\n\t 19 & 5 & 87\\\\\n\t 20 & 5 & 58\\\\\n\\end{tabular}\n",
            "text/markdown": "\nA data.frame: 20 × 3\n\n| id &lt;int&gt; | class &lt;int&gt; | science &lt;int&gt; |\n|---|---|---|\n|  1 | 1 | 50 |\n|  2 | 1 | 60 |\n|  3 | 1 | 78 |\n|  4 | 1 | 58 |\n|  5 | 2 | 65 |\n|  6 | 2 | 98 |\n|  7 | 2 | 45 |\n|  8 | 2 | 25 |\n|  9 | 3 | 15 |\n| 10 | 3 | 45 |\n| 11 | 3 | 65 |\n| 12 | 3 | 32 |\n| 13 | 4 | 65 |\n| 14 | 4 | 12 |\n| 15 | 4 | 78 |\n| 16 | 4 | 65 |\n| 17 | 5 | 98 |\n| 18 | 5 | 90 |\n| 19 | 5 | 87 |\n| 20 | 5 | 58 |\n\n",
            "text/html": [
              "<table>\n",
              "<caption>A data.frame: 20 × 3</caption>\n",
              "<thead>\n",
              "\t<tr><th scope=col>id</th><th scope=col>class</th><th scope=col>science</th></tr>\n",
              "\t<tr><th scope=col>&lt;int&gt;</th><th scope=col>&lt;int&gt;</th><th scope=col>&lt;int&gt;</th></tr>\n",
              "</thead>\n",
              "<tbody>\n",
              "\t<tr><td> 1</td><td>1</td><td>50</td></tr>\n",
              "\t<tr><td> 2</td><td>1</td><td>60</td></tr>\n",
              "\t<tr><td> 3</td><td>1</td><td>78</td></tr>\n",
              "\t<tr><td> 4</td><td>1</td><td>58</td></tr>\n",
              "\t<tr><td> 5</td><td>2</td><td>65</td></tr>\n",
              "\t<tr><td> 6</td><td>2</td><td>98</td></tr>\n",
              "\t<tr><td> 7</td><td>2</td><td>45</td></tr>\n",
              "\t<tr><td> 8</td><td>2</td><td>25</td></tr>\n",
              "\t<tr><td> 9</td><td>3</td><td>15</td></tr>\n",
              "\t<tr><td>10</td><td>3</td><td>45</td></tr>\n",
              "\t<tr><td>11</td><td>3</td><td>65</td></tr>\n",
              "\t<tr><td>12</td><td>3</td><td>32</td></tr>\n",
              "\t<tr><td>13</td><td>4</td><td>65</td></tr>\n",
              "\t<tr><td>14</td><td>4</td><td>12</td></tr>\n",
              "\t<tr><td>15</td><td>4</td><td>78</td></tr>\n",
              "\t<tr><td>16</td><td>4</td><td>65</td></tr>\n",
              "\t<tr><td>17</td><td>5</td><td>98</td></tr>\n",
              "\t<tr><td>18</td><td>5</td><td>90</td></tr>\n",
              "\t<tr><td>19</td><td>5</td><td>87</td></tr>\n",
              "\t<tr><td>20</td><td>5</td><td>58</td></tr>\n",
              "</tbody>\n",
              "</table>\n"
            ]
          },
          "metadata": {
            "tags": []
          }
        }
      ]
    },
    {
      "cell_type": "markdown",
      "metadata": {
        "id": "qysDoUnc823x",
        "colab_type": "text"
      },
      "source": [
        "## dplyr 함수 조합하기"
      ]
    },
    {
      "cell_type": "code",
      "metadata": {
        "id": "7MWLlany4bBU",
        "colab_type": "code",
        "colab": {
          "base_uri": "https://localhost:8080/",
          "height": 196
        },
        "outputId": "5cc023ed-b00c-46b6-f2fc-1ed522bc9fe1"
      },
      "source": [
        "# class 가 1 인 행만 추출한 다음 english 추출\n",
        "exam %>% filter(class == 1) %>% select(english)"
      ],
      "execution_count": 29,
      "outputs": [
        {
          "output_type": "display_data",
          "data": {
            "text/plain": [
              "  english\n",
              "1 98     \n",
              "2 97     \n",
              "3 86     \n",
              "4 98     "
            ],
            "text/latex": "A data.frame: 4 × 1\n\\begin{tabular}{l}\n english\\\\\n <int>\\\\\n\\hline\n\t 98\\\\\n\t 97\\\\\n\t 86\\\\\n\t 98\\\\\n\\end{tabular}\n",
            "text/markdown": "\nA data.frame: 4 × 1\n\n| english &lt;int&gt; |\n|---|\n| 98 |\n| 97 |\n| 86 |\n| 98 |\n\n",
            "text/html": [
              "<table>\n",
              "<caption>A data.frame: 4 × 1</caption>\n",
              "<thead>\n",
              "\t<tr><th scope=col>english</th></tr>\n",
              "\t<tr><th scope=col>&lt;int&gt;</th></tr>\n",
              "</thead>\n",
              "<tbody>\n",
              "\t<tr><td>98</td></tr>\n",
              "\t<tr><td>97</td></tr>\n",
              "\t<tr><td>86</td></tr>\n",
              "\t<tr><td>98</td></tr>\n",
              "</tbody>\n",
              "</table>\n"
            ]
          },
          "metadata": {
            "tags": []
          }
        }
      ]
    },
    {
      "cell_type": "code",
      "metadata": {
        "id": "4sm7wYde4UBR",
        "colab_type": "code",
        "colab": {
          "base_uri": "https://localhost:8080/",
          "height": 196
        },
        "outputId": "0df7387b-9ba8-4798-aa82-f359f20a4823"
      },
      "source": [
        "# 가독성 있게 줄 바꾸기\n",
        "exam %>%   \n",
        "filter(class == 1) %>%  # class 가 1 인 행 추출\n",
        "select(english)         # english 추출"
      ],
      "execution_count": 30,
      "outputs": [
        {
          "output_type": "display_data",
          "data": {
            "text/plain": [
              "  english\n",
              "1 98     \n",
              "2 97     \n",
              "3 86     \n",
              "4 98     "
            ],
            "text/latex": "A data.frame: 4 × 1\n\\begin{tabular}{l}\n english\\\\\n <int>\\\\\n\\hline\n\t 98\\\\\n\t 97\\\\\n\t 86\\\\\n\t 98\\\\\n\\end{tabular}\n",
            "text/markdown": "\nA data.frame: 4 × 1\n\n| english &lt;int&gt; |\n|---|\n| 98 |\n| 97 |\n| 86 |\n| 98 |\n\n",
            "text/html": [
              "<table>\n",
              "<caption>A data.frame: 4 × 1</caption>\n",
              "<thead>\n",
              "\t<tr><th scope=col>english</th></tr>\n",
              "\t<tr><th scope=col>&lt;int&gt;</th></tr>\n",
              "</thead>\n",
              "<tbody>\n",
              "\t<tr><td>98</td></tr>\n",
              "\t<tr><td>97</td></tr>\n",
              "\t<tr><td>86</td></tr>\n",
              "\t<tr><td>98</td></tr>\n",
              "</tbody>\n",
              "</table>\n"
            ]
          },
          "metadata": {
            "tags": []
          }
        }
      ]
    },
    {
      "cell_type": "code",
      "metadata": {
        "id": "mFWYyLqG4Dj6",
        "colab_type": "code",
        "colab": {
          "base_uri": "https://localhost:8080/",
          "height": 221
        },
        "outputId": "9545cf15-c72d-4f32-ec5b-5cf759d8ad61"
      },
      "source": [
        "# 일부만 출력하기\n",
        "exam %>%   \n",
        "select(id, math) %>%  # id, math 추출\n",
        "head                  # 앞부분 6 행까지 추출"
      ],
      "execution_count": 31,
      "outputs": [
        {
          "output_type": "display_data",
          "data": {
            "text/plain": [
              "  id math\n",
              "1 1  50  \n",
              "2 2  60  \n",
              "3 3  45  \n",
              "4 4  30  \n",
              "5 5  25  \n",
              "6 6  50  "
            ],
            "text/latex": "A data.frame: 6 × 2\n\\begin{tabular}{r|ll}\n  & id & math\\\\\n  & <int> & <int>\\\\\n\\hline\n\t1 & 1 & 50\\\\\n\t2 & 2 & 60\\\\\n\t3 & 3 & 45\\\\\n\t4 & 4 & 30\\\\\n\t5 & 5 & 25\\\\\n\t6 & 6 & 50\\\\\n\\end{tabular}\n",
            "text/markdown": "\nA data.frame: 6 × 2\n\n| <!--/--> | id &lt;int&gt; | math &lt;int&gt; |\n|---|---|---|\n| 1 | 1 | 50 |\n| 2 | 2 | 60 |\n| 3 | 3 | 45 |\n| 4 | 4 | 30 |\n| 5 | 5 | 25 |\n| 6 | 6 | 50 |\n\n",
            "text/html": [
              "<table>\n",
              "<caption>A data.frame: 6 × 2</caption>\n",
              "<thead>\n",
              "\t<tr><th></th><th scope=col>id</th><th scope=col>math</th></tr>\n",
              "\t<tr><th></th><th scope=col>&lt;int&gt;</th><th scope=col>&lt;int&gt;</th></tr>\n",
              "</thead>\n",
              "<tbody>\n",
              "\t<tr><th scope=row>1</th><td>1</td><td>50</td></tr>\n",
              "\t<tr><th scope=row>2</th><td>2</td><td>60</td></tr>\n",
              "\t<tr><th scope=row>3</th><td>3</td><td>45</td></tr>\n",
              "\t<tr><th scope=row>4</th><td>4</td><td>30</td></tr>\n",
              "\t<tr><th scope=row>5</th><td>5</td><td>25</td></tr>\n",
              "\t<tr><th scope=row>6</th><td>6</td><td>50</td></tr>\n",
              "</tbody>\n",
              "</table>\n"
            ]
          },
          "metadata": {
            "tags": []
          }
        }
      ]
    },
    {
      "cell_type": "code",
      "metadata": {
        "id": "FqObQA3q4iiq",
        "colab_type": "code",
        "colab": {
          "base_uri": "https://localhost:8080/",
          "height": 305
        },
        "outputId": "dabb6699-b15c-4ebe-e378-99055932de08"
      },
      "source": [
        "exam %>%\n",
        "   select(id, math) %>%  # id, math 추출\n",
        "   head(10)              # 앞부분 10 행까지 추출"
      ],
      "execution_count": 32,
      "outputs": [
        {
          "output_type": "display_data",
          "data": {
            "text/plain": [
              "   id math\n",
              "1   1 50  \n",
              "2   2 60  \n",
              "3   3 45  \n",
              "4   4 30  \n",
              "5   5 25  \n",
              "6   6 50  \n",
              "7   7 80  \n",
              "8   8 90  \n",
              "9   9 20  \n",
              "10 10 50  "
            ],
            "text/latex": "A data.frame: 10 × 2\n\\begin{tabular}{r|ll}\n  & id & math\\\\\n  & <int> & <int>\\\\\n\\hline\n\t1 &  1 & 50\\\\\n\t2 &  2 & 60\\\\\n\t3 &  3 & 45\\\\\n\t4 &  4 & 30\\\\\n\t5 &  5 & 25\\\\\n\t6 &  6 & 50\\\\\n\t7 &  7 & 80\\\\\n\t8 &  8 & 90\\\\\n\t9 &  9 & 20\\\\\n\t10 & 10 & 50\\\\\n\\end{tabular}\n",
            "text/markdown": "\nA data.frame: 10 × 2\n\n| <!--/--> | id &lt;int&gt; | math &lt;int&gt; |\n|---|---|---|\n| 1 |  1 | 50 |\n| 2 |  2 | 60 |\n| 3 |  3 | 45 |\n| 4 |  4 | 30 |\n| 5 |  5 | 25 |\n| 6 |  6 | 50 |\n| 7 |  7 | 80 |\n| 8 |  8 | 90 |\n| 9 |  9 | 20 |\n| 10 | 10 | 50 |\n\n",
            "text/html": [
              "<table>\n",
              "<caption>A data.frame: 10 × 2</caption>\n",
              "<thead>\n",
              "\t<tr><th></th><th scope=col>id</th><th scope=col>math</th></tr>\n",
              "\t<tr><th></th><th scope=col>&lt;int&gt;</th><th scope=col>&lt;int&gt;</th></tr>\n",
              "</thead>\n",
              "<tbody>\n",
              "\t<tr><th scope=row>1</th><td> 1</td><td>50</td></tr>\n",
              "\t<tr><th scope=row>2</th><td> 2</td><td>60</td></tr>\n",
              "\t<tr><th scope=row>3</th><td> 3</td><td>45</td></tr>\n",
              "\t<tr><th scope=row>4</th><td> 4</td><td>30</td></tr>\n",
              "\t<tr><th scope=row>5</th><td> 5</td><td>25</td></tr>\n",
              "\t<tr><th scope=row>6</th><td> 6</td><td>50</td></tr>\n",
              "\t<tr><th scope=row>7</th><td> 7</td><td>80</td></tr>\n",
              "\t<tr><th scope=row>8</th><td> 8</td><td>90</td></tr>\n",
              "\t<tr><th scope=row>9</th><td> 9</td><td>20</td></tr>\n",
              "\t<tr><th scope=row>10</th><td>10</td><td>50</td></tr>\n",
              "</tbody>\n",
              "</table>\n"
            ]
          },
          "metadata": {
            "tags": []
          }
        }
      ]
    },
    {
      "cell_type": "markdown",
      "metadata": {
        "id": "zmvn2vzy87Mw",
        "colab_type": "text"
      },
      "source": [
        "## 혼자서 해보기(2)"
      ]
    },
    {
      "cell_type": "markdown",
      "metadata": {
        "id": "An6nU6pd89D_",
        "colab_type": "text"
      },
      "source": [
        "Q1. mpg 데이터는 11 개 변수로 구성되어 있습니다. 이 중 일부만 추출해서 분석에 활용하려고 합니다. mpg 데이터에서 class(자동차 종류), cty(도시 연비) 변수를 추출해 새로운 데이터를 만드세요. 새로 만든 데이터의 일부를 출력해서 두 변수로만 구성되어 있는지 확인하세요."
      ]
    },
    {
      "cell_type": "code",
      "metadata": {
        "id": "yG6gnhBv4ilM",
        "colab_type": "code",
        "colab": {
          "base_uri": "https://localhost:8080/",
          "height": 221
        },
        "outputId": "a39e2091-b98c-490c-97b8-3d103afb2279"
      },
      "source": [
        "mpg_cl_cty <- mpg %>% select(class,cty)\n",
        "head(mpg_cl_cty)"
      ],
      "execution_count": 33,
      "outputs": [
        {
          "output_type": "display_data",
          "data": {
            "text/plain": [
              "  class   cty\n",
              "1 compact 18 \n",
              "2 compact 21 \n",
              "3 compact 20 \n",
              "4 compact 21 \n",
              "5 compact 16 \n",
              "6 compact 18 "
            ],
            "text/latex": "A data.frame: 6 × 2\n\\begin{tabular}{r|ll}\n  & class & cty\\\\\n  & <chr> & <int>\\\\\n\\hline\n\t1 & compact & 18\\\\\n\t2 & compact & 21\\\\\n\t3 & compact & 20\\\\\n\t4 & compact & 21\\\\\n\t5 & compact & 16\\\\\n\t6 & compact & 18\\\\\n\\end{tabular}\n",
            "text/markdown": "\nA data.frame: 6 × 2\n\n| <!--/--> | class &lt;chr&gt; | cty &lt;int&gt; |\n|---|---|---|\n| 1 | compact | 18 |\n| 2 | compact | 21 |\n| 3 | compact | 20 |\n| 4 | compact | 21 |\n| 5 | compact | 16 |\n| 6 | compact | 18 |\n\n",
            "text/html": [
              "<table>\n",
              "<caption>A data.frame: 6 × 2</caption>\n",
              "<thead>\n",
              "\t<tr><th></th><th scope=col>class</th><th scope=col>cty</th></tr>\n",
              "\t<tr><th></th><th scope=col>&lt;chr&gt;</th><th scope=col>&lt;int&gt;</th></tr>\n",
              "</thead>\n",
              "<tbody>\n",
              "\t<tr><th scope=row>1</th><td>compact</td><td>18</td></tr>\n",
              "\t<tr><th scope=row>2</th><td>compact</td><td>21</td></tr>\n",
              "\t<tr><th scope=row>3</th><td>compact</td><td>20</td></tr>\n",
              "\t<tr><th scope=row>4</th><td>compact</td><td>21</td></tr>\n",
              "\t<tr><th scope=row>5</th><td>compact</td><td>16</td></tr>\n",
              "\t<tr><th scope=row>6</th><td>compact</td><td>18</td></tr>\n",
              "</tbody>\n",
              "</table>\n"
            ]
          },
          "metadata": {
            "tags": []
          }
        }
      ]
    },
    {
      "cell_type": "markdown",
      "metadata": {
        "id": "yVKBklbT9Bdo",
        "colab_type": "text"
      },
      "source": [
        "Q2. 자동차 종류에 따라 도시 연비가 다른지 알아보려고 합니다. 앞에서 추출한 데이터를 이용해서 class(자동차 종류)가 \"suv\"인 자동차와 \"compact\"인 자동차 중 어떤 자동차의 cty(도시 연비)가 더 높은지 알아보세요."
      ]
    },
    {
      "cell_type": "code",
      "metadata": {
        "id": "m0GroLYz4ing",
        "colab_type": "code",
        "colab": {}
      },
      "source": [
        "suv_cty <- mpg_cl_cty %>% filter(class=='suv')\n",
        "compact_cty <- mpg_cl_cty %>% filter(class=='compact')"
      ],
      "execution_count": 0,
      "outputs": []
    },
    {
      "cell_type": "code",
      "metadata": {
        "id": "cTSDVaSu4ipm",
        "colab_type": "code",
        "colab": {
          "base_uri": "https://localhost:8080/",
          "height": 51
        },
        "outputId": "546ae8b7-e4b5-4a92-df3c-cdf3d360aa2b"
      },
      "source": [
        "mean(suv_cty$cty)\n",
        "mean(compact_cty$cty)"
      ],
      "execution_count": 35,
      "outputs": [
        {
          "output_type": "display_data",
          "data": {
            "text/plain": [
              "[1] 13.5"
            ],
            "text/latex": "13.5",
            "text/markdown": "13.5",
            "text/html": [
              "13.5"
            ]
          },
          "metadata": {
            "tags": []
          }
        },
        {
          "output_type": "display_data",
          "data": {
            "text/plain": [
              "[1] 20.12766"
            ],
            "text/latex": "20.1276595744681",
            "text/markdown": "20.1276595744681",
            "text/html": [
              "20.1276595744681"
            ]
          },
          "metadata": {
            "tags": []
          }
        }
      ]
    },
    {
      "cell_type": "code",
      "metadata": {
        "id": "CtJbQTEg4ir9",
        "colab_type": "code",
        "colab": {
          "base_uri": "https://localhost:8080/",
          "height": 34
        },
        "outputId": "060ee804-f3d0-45fc-86a2-29d410c2e2f7"
      },
      "source": [
        "ifelse(mean(suv_cty$cty)>mean(compact_cty$cty),'suv 연비가 더 높음','compact 연비가 더 높음')"
      ],
      "execution_count": 36,
      "outputs": [
        {
          "output_type": "display_data",
          "data": {
            "text/plain": [
              "[1] \"compact 연비가 더 높음\""
            ],
            "text/latex": "'compact 연비가 더 높음'",
            "text/markdown": "'compact 연비가 더 높음'",
            "text/html": [
              "'compact 연비가 더 높음'"
            ]
          },
          "metadata": {
            "tags": []
          }
        }
      ]
    },
    {
      "cell_type": "markdown",
      "metadata": {
        "id": "H68ILKfT9EcD",
        "colab_type": "text"
      },
      "source": [
        "- 오름차순, 내림차순으로 정렬하기"
      ]
    },
    {
      "cell_type": "code",
      "metadata": {
        "id": "Bj5tLLj74iuO",
        "colab_type": "code",
        "colab": {
          "base_uri": "https://localhost:8080/",
          "height": 498
        },
        "outputId": "11070a5f-616d-4a82-d093-5adb9868f8a3"
      },
      "source": [
        "exam %>% arrange(math)  # math 오름차순 정렬"
      ],
      "execution_count": 37,
      "outputs": [
        {
          "output_type": "display_data",
          "data": {
            "text/plain": [
              "   id class math english science\n",
              "1   9 3     20   98      15     \n",
              "2   5 2     25   80      65     \n",
              "3   4 1     30   98      58     \n",
              "4   3 1     45   86      78     \n",
              "5  12 3     45   85      32     \n",
              "6  13 4     46   98      65     \n",
              "7  14 4     48   87      12     \n",
              "8   1 1     50   98      50     \n",
              "9   6 2     50   89      98     \n",
              "10 10 3     50   98      45     \n",
              "11 16 4     58   98      65     \n",
              "12  2 1     60   97      60     \n",
              "13 11 3     65   65      65     \n",
              "14 17 5     65   68      98     \n",
              "15 15 4     75   56      78     \n",
              "16 20 5     78   83      58     \n",
              "17  7 2     80   90      45     \n",
              "18 18 5     80   78      90     \n",
              "19 19 5     89   68      87     \n",
              "20  8 2     90   78      25     "
            ],
            "text/latex": "A data.frame: 20 × 5\n\\begin{tabular}{lllll}\n id & class & math & english & science\\\\\n <int> & <int> & <int> & <int> & <int>\\\\\n\\hline\n\t  9 & 3 & 20 & 98 & 15\\\\\n\t  5 & 2 & 25 & 80 & 65\\\\\n\t  4 & 1 & 30 & 98 & 58\\\\\n\t  3 & 1 & 45 & 86 & 78\\\\\n\t 12 & 3 & 45 & 85 & 32\\\\\n\t 13 & 4 & 46 & 98 & 65\\\\\n\t 14 & 4 & 48 & 87 & 12\\\\\n\t  1 & 1 & 50 & 98 & 50\\\\\n\t  6 & 2 & 50 & 89 & 98\\\\\n\t 10 & 3 & 50 & 98 & 45\\\\\n\t 16 & 4 & 58 & 98 & 65\\\\\n\t  2 & 1 & 60 & 97 & 60\\\\\n\t 11 & 3 & 65 & 65 & 65\\\\\n\t 17 & 5 & 65 & 68 & 98\\\\\n\t 15 & 4 & 75 & 56 & 78\\\\\n\t 20 & 5 & 78 & 83 & 58\\\\\n\t  7 & 2 & 80 & 90 & 45\\\\\n\t 18 & 5 & 80 & 78 & 90\\\\\n\t 19 & 5 & 89 & 68 & 87\\\\\n\t  8 & 2 & 90 & 78 & 25\\\\\n\\end{tabular}\n",
            "text/markdown": "\nA data.frame: 20 × 5\n\n| id &lt;int&gt; | class &lt;int&gt; | math &lt;int&gt; | english &lt;int&gt; | science &lt;int&gt; |\n|---|---|---|---|---|\n|  9 | 3 | 20 | 98 | 15 |\n|  5 | 2 | 25 | 80 | 65 |\n|  4 | 1 | 30 | 98 | 58 |\n|  3 | 1 | 45 | 86 | 78 |\n| 12 | 3 | 45 | 85 | 32 |\n| 13 | 4 | 46 | 98 | 65 |\n| 14 | 4 | 48 | 87 | 12 |\n|  1 | 1 | 50 | 98 | 50 |\n|  6 | 2 | 50 | 89 | 98 |\n| 10 | 3 | 50 | 98 | 45 |\n| 16 | 4 | 58 | 98 | 65 |\n|  2 | 1 | 60 | 97 | 60 |\n| 11 | 3 | 65 | 65 | 65 |\n| 17 | 5 | 65 | 68 | 98 |\n| 15 | 4 | 75 | 56 | 78 |\n| 20 | 5 | 78 | 83 | 58 |\n|  7 | 2 | 80 | 90 | 45 |\n| 18 | 5 | 80 | 78 | 90 |\n| 19 | 5 | 89 | 68 | 87 |\n|  8 | 2 | 90 | 78 | 25 |\n\n",
            "text/html": [
              "<table>\n",
              "<caption>A data.frame: 20 × 5</caption>\n",
              "<thead>\n",
              "\t<tr><th scope=col>id</th><th scope=col>class</th><th scope=col>math</th><th scope=col>english</th><th scope=col>science</th></tr>\n",
              "\t<tr><th scope=col>&lt;int&gt;</th><th scope=col>&lt;int&gt;</th><th scope=col>&lt;int&gt;</th><th scope=col>&lt;int&gt;</th><th scope=col>&lt;int&gt;</th></tr>\n",
              "</thead>\n",
              "<tbody>\n",
              "\t<tr><td> 9</td><td>3</td><td>20</td><td>98</td><td>15</td></tr>\n",
              "\t<tr><td> 5</td><td>2</td><td>25</td><td>80</td><td>65</td></tr>\n",
              "\t<tr><td> 4</td><td>1</td><td>30</td><td>98</td><td>58</td></tr>\n",
              "\t<tr><td> 3</td><td>1</td><td>45</td><td>86</td><td>78</td></tr>\n",
              "\t<tr><td>12</td><td>3</td><td>45</td><td>85</td><td>32</td></tr>\n",
              "\t<tr><td>13</td><td>4</td><td>46</td><td>98</td><td>65</td></tr>\n",
              "\t<tr><td>14</td><td>4</td><td>48</td><td>87</td><td>12</td></tr>\n",
              "\t<tr><td> 1</td><td>1</td><td>50</td><td>98</td><td>50</td></tr>\n",
              "\t<tr><td> 6</td><td>2</td><td>50</td><td>89</td><td>98</td></tr>\n",
              "\t<tr><td>10</td><td>3</td><td>50</td><td>98</td><td>45</td></tr>\n",
              "\t<tr><td>16</td><td>4</td><td>58</td><td>98</td><td>65</td></tr>\n",
              "\t<tr><td> 2</td><td>1</td><td>60</td><td>97</td><td>60</td></tr>\n",
              "\t<tr><td>11</td><td>3</td><td>65</td><td>65</td><td>65</td></tr>\n",
              "\t<tr><td>17</td><td>5</td><td>65</td><td>68</td><td>98</td></tr>\n",
              "\t<tr><td>15</td><td>4</td><td>75</td><td>56</td><td>78</td></tr>\n",
              "\t<tr><td>20</td><td>5</td><td>78</td><td>83</td><td>58</td></tr>\n",
              "\t<tr><td> 7</td><td>2</td><td>80</td><td>90</td><td>45</td></tr>\n",
              "\t<tr><td>18</td><td>5</td><td>80</td><td>78</td><td>90</td></tr>\n",
              "\t<tr><td>19</td><td>5</td><td>89</td><td>68</td><td>87</td></tr>\n",
              "\t<tr><td> 8</td><td>2</td><td>90</td><td>78</td><td>25</td></tr>\n",
              "</tbody>\n",
              "</table>\n"
            ]
          },
          "metadata": {
            "tags": []
          }
        }
      ]
    },
    {
      "cell_type": "code",
      "metadata": {
        "id": "G7XUUAvk4iwZ",
        "colab_type": "code",
        "colab": {
          "base_uri": "https://localhost:8080/",
          "height": 498
        },
        "outputId": "1085efdb-1c95-4841-89ba-7835ba874651"
      },
      "source": [
        "exam %>% arrange(desc(math))  # math 내림차순 정렬"
      ],
      "execution_count": 38,
      "outputs": [
        {
          "output_type": "display_data",
          "data": {
            "text/plain": [
              "   id class math english science\n",
              "1   8 2     90   78      25     \n",
              "2  19 5     89   68      87     \n",
              "3   7 2     80   90      45     \n",
              "4  18 5     80   78      90     \n",
              "5  20 5     78   83      58     \n",
              "6  15 4     75   56      78     \n",
              "7  11 3     65   65      65     \n",
              "8  17 5     65   68      98     \n",
              "9   2 1     60   97      60     \n",
              "10 16 4     58   98      65     \n",
              "11  1 1     50   98      50     \n",
              "12  6 2     50   89      98     \n",
              "13 10 3     50   98      45     \n",
              "14 14 4     48   87      12     \n",
              "15 13 4     46   98      65     \n",
              "16  3 1     45   86      78     \n",
              "17 12 3     45   85      32     \n",
              "18  4 1     30   98      58     \n",
              "19  5 2     25   80      65     \n",
              "20  9 3     20   98      15     "
            ],
            "text/latex": "A data.frame: 20 × 5\n\\begin{tabular}{lllll}\n id & class & math & english & science\\\\\n <int> & <int> & <int> & <int> & <int>\\\\\n\\hline\n\t  8 & 2 & 90 & 78 & 25\\\\\n\t 19 & 5 & 89 & 68 & 87\\\\\n\t  7 & 2 & 80 & 90 & 45\\\\\n\t 18 & 5 & 80 & 78 & 90\\\\\n\t 20 & 5 & 78 & 83 & 58\\\\\n\t 15 & 4 & 75 & 56 & 78\\\\\n\t 11 & 3 & 65 & 65 & 65\\\\\n\t 17 & 5 & 65 & 68 & 98\\\\\n\t  2 & 1 & 60 & 97 & 60\\\\\n\t 16 & 4 & 58 & 98 & 65\\\\\n\t  1 & 1 & 50 & 98 & 50\\\\\n\t  6 & 2 & 50 & 89 & 98\\\\\n\t 10 & 3 & 50 & 98 & 45\\\\\n\t 14 & 4 & 48 & 87 & 12\\\\\n\t 13 & 4 & 46 & 98 & 65\\\\\n\t  3 & 1 & 45 & 86 & 78\\\\\n\t 12 & 3 & 45 & 85 & 32\\\\\n\t  4 & 1 & 30 & 98 & 58\\\\\n\t  5 & 2 & 25 & 80 & 65\\\\\n\t  9 & 3 & 20 & 98 & 15\\\\\n\\end{tabular}\n",
            "text/markdown": "\nA data.frame: 20 × 5\n\n| id &lt;int&gt; | class &lt;int&gt; | math &lt;int&gt; | english &lt;int&gt; | science &lt;int&gt; |\n|---|---|---|---|---|\n|  8 | 2 | 90 | 78 | 25 |\n| 19 | 5 | 89 | 68 | 87 |\n|  7 | 2 | 80 | 90 | 45 |\n| 18 | 5 | 80 | 78 | 90 |\n| 20 | 5 | 78 | 83 | 58 |\n| 15 | 4 | 75 | 56 | 78 |\n| 11 | 3 | 65 | 65 | 65 |\n| 17 | 5 | 65 | 68 | 98 |\n|  2 | 1 | 60 | 97 | 60 |\n| 16 | 4 | 58 | 98 | 65 |\n|  1 | 1 | 50 | 98 | 50 |\n|  6 | 2 | 50 | 89 | 98 |\n| 10 | 3 | 50 | 98 | 45 |\n| 14 | 4 | 48 | 87 | 12 |\n| 13 | 4 | 46 | 98 | 65 |\n|  3 | 1 | 45 | 86 | 78 |\n| 12 | 3 | 45 | 85 | 32 |\n|  4 | 1 | 30 | 98 | 58 |\n|  5 | 2 | 25 | 80 | 65 |\n|  9 | 3 | 20 | 98 | 15 |\n\n",
            "text/html": [
              "<table>\n",
              "<caption>A data.frame: 20 × 5</caption>\n",
              "<thead>\n",
              "\t<tr><th scope=col>id</th><th scope=col>class</th><th scope=col>math</th><th scope=col>english</th><th scope=col>science</th></tr>\n",
              "\t<tr><th scope=col>&lt;int&gt;</th><th scope=col>&lt;int&gt;</th><th scope=col>&lt;int&gt;</th><th scope=col>&lt;int&gt;</th><th scope=col>&lt;int&gt;</th></tr>\n",
              "</thead>\n",
              "<tbody>\n",
              "\t<tr><td> 8</td><td>2</td><td>90</td><td>78</td><td>25</td></tr>\n",
              "\t<tr><td>19</td><td>5</td><td>89</td><td>68</td><td>87</td></tr>\n",
              "\t<tr><td> 7</td><td>2</td><td>80</td><td>90</td><td>45</td></tr>\n",
              "\t<tr><td>18</td><td>5</td><td>80</td><td>78</td><td>90</td></tr>\n",
              "\t<tr><td>20</td><td>5</td><td>78</td><td>83</td><td>58</td></tr>\n",
              "\t<tr><td>15</td><td>4</td><td>75</td><td>56</td><td>78</td></tr>\n",
              "\t<tr><td>11</td><td>3</td><td>65</td><td>65</td><td>65</td></tr>\n",
              "\t<tr><td>17</td><td>5</td><td>65</td><td>68</td><td>98</td></tr>\n",
              "\t<tr><td> 2</td><td>1</td><td>60</td><td>97</td><td>60</td></tr>\n",
              "\t<tr><td>16</td><td>4</td><td>58</td><td>98</td><td>65</td></tr>\n",
              "\t<tr><td> 1</td><td>1</td><td>50</td><td>98</td><td>50</td></tr>\n",
              "\t<tr><td> 6</td><td>2</td><td>50</td><td>89</td><td>98</td></tr>\n",
              "\t<tr><td>10</td><td>3</td><td>50</td><td>98</td><td>45</td></tr>\n",
              "\t<tr><td>14</td><td>4</td><td>48</td><td>87</td><td>12</td></tr>\n",
              "\t<tr><td>13</td><td>4</td><td>46</td><td>98</td><td>65</td></tr>\n",
              "\t<tr><td> 3</td><td>1</td><td>45</td><td>86</td><td>78</td></tr>\n",
              "\t<tr><td>12</td><td>3</td><td>45</td><td>85</td><td>32</td></tr>\n",
              "\t<tr><td> 4</td><td>1</td><td>30</td><td>98</td><td>58</td></tr>\n",
              "\t<tr><td> 5</td><td>2</td><td>25</td><td>80</td><td>65</td></tr>\n",
              "\t<tr><td> 9</td><td>3</td><td>20</td><td>98</td><td>15</td></tr>\n",
              "</tbody>\n",
              "</table>\n"
            ]
          },
          "metadata": {
            "tags": []
          }
        }
      ]
    },
    {
      "cell_type": "code",
      "metadata": {
        "id": "9pLd6T034iy0",
        "colab_type": "code",
        "colab": {
          "base_uri": "https://localhost:8080/",
          "height": 498
        },
        "outputId": "4468f933-c33c-4a84-a019-9b195c436576"
      },
      "source": [
        "# 정렬 기준 변수 여러개 지정\n",
        "exam %>% arrange(class, math)  # class 및 math 오름차순 정렬"
      ],
      "execution_count": 39,
      "outputs": [
        {
          "output_type": "display_data",
          "data": {
            "text/plain": [
              "   id class math english science\n",
              "1   4 1     30   98      58     \n",
              "2   3 1     45   86      78     \n",
              "3   1 1     50   98      50     \n",
              "4   2 1     60   97      60     \n",
              "5   5 2     25   80      65     \n",
              "6   6 2     50   89      98     \n",
              "7   7 2     80   90      45     \n",
              "8   8 2     90   78      25     \n",
              "9   9 3     20   98      15     \n",
              "10 12 3     45   85      32     \n",
              "11 10 3     50   98      45     \n",
              "12 11 3     65   65      65     \n",
              "13 13 4     46   98      65     \n",
              "14 14 4     48   87      12     \n",
              "15 16 4     58   98      65     \n",
              "16 15 4     75   56      78     \n",
              "17 17 5     65   68      98     \n",
              "18 20 5     78   83      58     \n",
              "19 18 5     80   78      90     \n",
              "20 19 5     89   68      87     "
            ],
            "text/latex": "A data.frame: 20 × 5\n\\begin{tabular}{lllll}\n id & class & math & english & science\\\\\n <int> & <int> & <int> & <int> & <int>\\\\\n\\hline\n\t  4 & 1 & 30 & 98 & 58\\\\\n\t  3 & 1 & 45 & 86 & 78\\\\\n\t  1 & 1 & 50 & 98 & 50\\\\\n\t  2 & 1 & 60 & 97 & 60\\\\\n\t  5 & 2 & 25 & 80 & 65\\\\\n\t  6 & 2 & 50 & 89 & 98\\\\\n\t  7 & 2 & 80 & 90 & 45\\\\\n\t  8 & 2 & 90 & 78 & 25\\\\\n\t  9 & 3 & 20 & 98 & 15\\\\\n\t 12 & 3 & 45 & 85 & 32\\\\\n\t 10 & 3 & 50 & 98 & 45\\\\\n\t 11 & 3 & 65 & 65 & 65\\\\\n\t 13 & 4 & 46 & 98 & 65\\\\\n\t 14 & 4 & 48 & 87 & 12\\\\\n\t 16 & 4 & 58 & 98 & 65\\\\\n\t 15 & 4 & 75 & 56 & 78\\\\\n\t 17 & 5 & 65 & 68 & 98\\\\\n\t 20 & 5 & 78 & 83 & 58\\\\\n\t 18 & 5 & 80 & 78 & 90\\\\\n\t 19 & 5 & 89 & 68 & 87\\\\\n\\end{tabular}\n",
            "text/markdown": "\nA data.frame: 20 × 5\n\n| id &lt;int&gt; | class &lt;int&gt; | math &lt;int&gt; | english &lt;int&gt; | science &lt;int&gt; |\n|---|---|---|---|---|\n|  4 | 1 | 30 | 98 | 58 |\n|  3 | 1 | 45 | 86 | 78 |\n|  1 | 1 | 50 | 98 | 50 |\n|  2 | 1 | 60 | 97 | 60 |\n|  5 | 2 | 25 | 80 | 65 |\n|  6 | 2 | 50 | 89 | 98 |\n|  7 | 2 | 80 | 90 | 45 |\n|  8 | 2 | 90 | 78 | 25 |\n|  9 | 3 | 20 | 98 | 15 |\n| 12 | 3 | 45 | 85 | 32 |\n| 10 | 3 | 50 | 98 | 45 |\n| 11 | 3 | 65 | 65 | 65 |\n| 13 | 4 | 46 | 98 | 65 |\n| 14 | 4 | 48 | 87 | 12 |\n| 16 | 4 | 58 | 98 | 65 |\n| 15 | 4 | 75 | 56 | 78 |\n| 17 | 5 | 65 | 68 | 98 |\n| 20 | 5 | 78 | 83 | 58 |\n| 18 | 5 | 80 | 78 | 90 |\n| 19 | 5 | 89 | 68 | 87 |\n\n",
            "text/html": [
              "<table>\n",
              "<caption>A data.frame: 20 × 5</caption>\n",
              "<thead>\n",
              "\t<tr><th scope=col>id</th><th scope=col>class</th><th scope=col>math</th><th scope=col>english</th><th scope=col>science</th></tr>\n",
              "\t<tr><th scope=col>&lt;int&gt;</th><th scope=col>&lt;int&gt;</th><th scope=col>&lt;int&gt;</th><th scope=col>&lt;int&gt;</th><th scope=col>&lt;int&gt;</th></tr>\n",
              "</thead>\n",
              "<tbody>\n",
              "\t<tr><td> 4</td><td>1</td><td>30</td><td>98</td><td>58</td></tr>\n",
              "\t<tr><td> 3</td><td>1</td><td>45</td><td>86</td><td>78</td></tr>\n",
              "\t<tr><td> 1</td><td>1</td><td>50</td><td>98</td><td>50</td></tr>\n",
              "\t<tr><td> 2</td><td>1</td><td>60</td><td>97</td><td>60</td></tr>\n",
              "\t<tr><td> 5</td><td>2</td><td>25</td><td>80</td><td>65</td></tr>\n",
              "\t<tr><td> 6</td><td>2</td><td>50</td><td>89</td><td>98</td></tr>\n",
              "\t<tr><td> 7</td><td>2</td><td>80</td><td>90</td><td>45</td></tr>\n",
              "\t<tr><td> 8</td><td>2</td><td>90</td><td>78</td><td>25</td></tr>\n",
              "\t<tr><td> 9</td><td>3</td><td>20</td><td>98</td><td>15</td></tr>\n",
              "\t<tr><td>12</td><td>3</td><td>45</td><td>85</td><td>32</td></tr>\n",
              "\t<tr><td>10</td><td>3</td><td>50</td><td>98</td><td>45</td></tr>\n",
              "\t<tr><td>11</td><td>3</td><td>65</td><td>65</td><td>65</td></tr>\n",
              "\t<tr><td>13</td><td>4</td><td>46</td><td>98</td><td>65</td></tr>\n",
              "\t<tr><td>14</td><td>4</td><td>48</td><td>87</td><td>12</td></tr>\n",
              "\t<tr><td>16</td><td>4</td><td>58</td><td>98</td><td>65</td></tr>\n",
              "\t<tr><td>15</td><td>4</td><td>75</td><td>56</td><td>78</td></tr>\n",
              "\t<tr><td>17</td><td>5</td><td>65</td><td>68</td><td>98</td></tr>\n",
              "\t<tr><td>20</td><td>5</td><td>78</td><td>83</td><td>58</td></tr>\n",
              "\t<tr><td>18</td><td>5</td><td>80</td><td>78</td><td>90</td></tr>\n",
              "\t<tr><td>19</td><td>5</td><td>89</td><td>68</td><td>87</td></tr>\n",
              "</tbody>\n",
              "</table>\n"
            ]
          },
          "metadata": {
            "tags": []
          }
        }
      ]
    },
    {
      "cell_type": "markdown",
      "metadata": {
        "id": "vWyfXhvk9H-M",
        "colab_type": "text"
      },
      "source": [
        "## 혼자서 해보기(3)"
      ]
    },
    {
      "cell_type": "markdown",
      "metadata": {
        "id": "V7Hbv6xr9Kw2",
        "colab_type": "text"
      },
      "source": [
        "\"audi\"에서 생산한 자동차 중에 어떤 자동차 모델의 hwy(고속도로 연비)가 높은지 알아보려고 합니다. \"audi\"에서 생산한 자동차 중 hwy가 1~5위에 해당하는 자동차의 데이터를 출력하세요."
      ]
    },
    {
      "cell_type": "code",
      "metadata": {
        "id": "-IBwy-oq4i1F",
        "colab_type": "code",
        "colab": {
          "base_uri": "https://localhost:8080/",
          "height": 183
        },
        "outputId": "64e17461-d79f-4360-e751-3a39158177c9"
      },
      "source": [
        "mpg <- as.data.frame(ggplot2::mpg)          # mpg 데이터 불러오기\n",
        " \n",
        " \n",
        "mpg %>% filter(manufacturer == \"audi\") %>%  # audi 추출\n",
        "   arrange(desc(hwy)) %>%                    # hwy 내림차순 정렬\n",
        "   head(5)                                   # 5 행까지 출력"
      ],
      "execution_count": 40,
      "outputs": [
        {
          "output_type": "display_data",
          "data": {
            "text/plain": [
              "  manufacturer model      displ year cyl trans      drv cty hwy fl class  \n",
              "1 audi         a4         2.0   2008 4   manual(m6) f   20  31  p  compact\n",
              "2 audi         a4         2.0   2008 4   auto(av)   f   21  30  p  compact\n",
              "3 audi         a4         1.8   1999 4   auto(l5)   f   18  29  p  compact\n",
              "4 audi         a4         1.8   1999 4   manual(m5) f   21  29  p  compact\n",
              "5 audi         a4 quattro 2.0   2008 4   manual(m6) 4   20  28  p  compact"
            ],
            "text/latex": "A data.frame: 5 × 11\n\\begin{tabular}{r|lllllllllll}\n  & manufacturer & model & displ & year & cyl & trans & drv & cty & hwy & fl & class\\\\\n  & <chr> & <chr> & <dbl> & <int> & <int> & <chr> & <chr> & <int> & <int> & <chr> & <chr>\\\\\n\\hline\n\t1 & audi & a4         & 2.0 & 2008 & 4 & manual(m6) & f & 20 & 31 & p & compact\\\\\n\t2 & audi & a4         & 2.0 & 2008 & 4 & auto(av)   & f & 21 & 30 & p & compact\\\\\n\t3 & audi & a4         & 1.8 & 1999 & 4 & auto(l5)   & f & 18 & 29 & p & compact\\\\\n\t4 & audi & a4         & 1.8 & 1999 & 4 & manual(m5) & f & 21 & 29 & p & compact\\\\\n\t5 & audi & a4 quattro & 2.0 & 2008 & 4 & manual(m6) & 4 & 20 & 28 & p & compact\\\\\n\\end{tabular}\n",
            "text/markdown": "\nA data.frame: 5 × 11\n\n| <!--/--> | manufacturer &lt;chr&gt; | model &lt;chr&gt; | displ &lt;dbl&gt; | year &lt;int&gt; | cyl &lt;int&gt; | trans &lt;chr&gt; | drv &lt;chr&gt; | cty &lt;int&gt; | hwy &lt;int&gt; | fl &lt;chr&gt; | class &lt;chr&gt; |\n|---|---|---|---|---|---|---|---|---|---|---|---|\n| 1 | audi | a4         | 2.0 | 2008 | 4 | manual(m6) | f | 20 | 31 | p | compact |\n| 2 | audi | a4         | 2.0 | 2008 | 4 | auto(av)   | f | 21 | 30 | p | compact |\n| 3 | audi | a4         | 1.8 | 1999 | 4 | auto(l5)   | f | 18 | 29 | p | compact |\n| 4 | audi | a4         | 1.8 | 1999 | 4 | manual(m5) | f | 21 | 29 | p | compact |\n| 5 | audi | a4 quattro | 2.0 | 2008 | 4 | manual(m6) | 4 | 20 | 28 | p | compact |\n\n",
            "text/html": [
              "<table>\n",
              "<caption>A data.frame: 5 × 11</caption>\n",
              "<thead>\n",
              "\t<tr><th></th><th scope=col>manufacturer</th><th scope=col>model</th><th scope=col>displ</th><th scope=col>year</th><th scope=col>cyl</th><th scope=col>trans</th><th scope=col>drv</th><th scope=col>cty</th><th scope=col>hwy</th><th scope=col>fl</th><th scope=col>class</th></tr>\n",
              "\t<tr><th></th><th scope=col>&lt;chr&gt;</th><th scope=col>&lt;chr&gt;</th><th scope=col>&lt;dbl&gt;</th><th scope=col>&lt;int&gt;</th><th scope=col>&lt;int&gt;</th><th scope=col>&lt;chr&gt;</th><th scope=col>&lt;chr&gt;</th><th scope=col>&lt;int&gt;</th><th scope=col>&lt;int&gt;</th><th scope=col>&lt;chr&gt;</th><th scope=col>&lt;chr&gt;</th></tr>\n",
              "</thead>\n",
              "<tbody>\n",
              "\t<tr><th scope=row>1</th><td>audi</td><td>a4        </td><td>2.0</td><td>2008</td><td>4</td><td>manual(m6)</td><td>f</td><td>20</td><td>31</td><td>p</td><td>compact</td></tr>\n",
              "\t<tr><th scope=row>2</th><td>audi</td><td>a4        </td><td>2.0</td><td>2008</td><td>4</td><td>auto(av)  </td><td>f</td><td>21</td><td>30</td><td>p</td><td>compact</td></tr>\n",
              "\t<tr><th scope=row>3</th><td>audi</td><td>a4        </td><td>1.8</td><td>1999</td><td>4</td><td>auto(l5)  </td><td>f</td><td>18</td><td>29</td><td>p</td><td>compact</td></tr>\n",
              "\t<tr><th scope=row>4</th><td>audi</td><td>a4        </td><td>1.8</td><td>1999</td><td>4</td><td>manual(m5)</td><td>f</td><td>21</td><td>29</td><td>p</td><td>compact</td></tr>\n",
              "\t<tr><th scope=row>5</th><td>audi</td><td>a4 quattro</td><td>2.0</td><td>2008</td><td>4</td><td>manual(m6)</td><td>4</td><td>20</td><td>28</td><td>p</td><td>compact</td></tr>\n",
              "</tbody>\n",
              "</table>\n"
            ]
          },
          "metadata": {
            "tags": []
          }
        }
      ]
    },
    {
      "cell_type": "markdown",
      "metadata": {
        "id": "h1l6sbC99OhY",
        "colab_type": "text"
      },
      "source": [
        "- 파생변수 추가하기"
      ]
    },
    {
      "cell_type": "code",
      "metadata": {
        "id": "83Nnqz0t4i3l",
        "colab_type": "code",
        "colab": {
          "base_uri": "https://localhost:8080/",
          "height": 204
        },
        "outputId": "18b6714f-8cbd-4571-a700-841faef79351"
      },
      "source": [
        "exam %>%   mutate(total = math + english + science) %>%  # 총합 변수 추가\n",
        "   head                                          # 일부 추출"
      ],
      "execution_count": 41,
      "outputs": [
        {
          "output_type": "display_data",
          "data": {
            "text/plain": [
              "  id class math english science total\n",
              "1 1  1     50   98      50      198  \n",
              "2 2  1     60   97      60      217  \n",
              "3 3  1     45   86      78      209  \n",
              "4 4  1     30   98      58      186  \n",
              "5 5  2     25   80      65      170  \n",
              "6 6  2     50   89      98      237  "
            ],
            "text/latex": "A data.frame: 6 × 6\n\\begin{tabular}{r|llllll}\n  & id & class & math & english & science & total\\\\\n  & <int> & <int> & <int> & <int> & <int> & <int>\\\\\n\\hline\n\t1 & 1 & 1 & 50 & 98 & 50 & 198\\\\\n\t2 & 2 & 1 & 60 & 97 & 60 & 217\\\\\n\t3 & 3 & 1 & 45 & 86 & 78 & 209\\\\\n\t4 & 4 & 1 & 30 & 98 & 58 & 186\\\\\n\t5 & 5 & 2 & 25 & 80 & 65 & 170\\\\\n\t6 & 6 & 2 & 50 & 89 & 98 & 237\\\\\n\\end{tabular}\n",
            "text/markdown": "\nA data.frame: 6 × 6\n\n| <!--/--> | id &lt;int&gt; | class &lt;int&gt; | math &lt;int&gt; | english &lt;int&gt; | science &lt;int&gt; | total &lt;int&gt; |\n|---|---|---|---|---|---|---|\n| 1 | 1 | 1 | 50 | 98 | 50 | 198 |\n| 2 | 2 | 1 | 60 | 97 | 60 | 217 |\n| 3 | 3 | 1 | 45 | 86 | 78 | 209 |\n| 4 | 4 | 1 | 30 | 98 | 58 | 186 |\n| 5 | 5 | 2 | 25 | 80 | 65 | 170 |\n| 6 | 6 | 2 | 50 | 89 | 98 | 237 |\n\n",
            "text/html": [
              "<table>\n",
              "<caption>A data.frame: 6 × 6</caption>\n",
              "<thead>\n",
              "\t<tr><th></th><th scope=col>id</th><th scope=col>class</th><th scope=col>math</th><th scope=col>english</th><th scope=col>science</th><th scope=col>total</th></tr>\n",
              "\t<tr><th></th><th scope=col>&lt;int&gt;</th><th scope=col>&lt;int&gt;</th><th scope=col>&lt;int&gt;</th><th scope=col>&lt;int&gt;</th><th scope=col>&lt;int&gt;</th><th scope=col>&lt;int&gt;</th></tr>\n",
              "</thead>\n",
              "<tbody>\n",
              "\t<tr><th scope=row>1</th><td>1</td><td>1</td><td>50</td><td>98</td><td>50</td><td>198</td></tr>\n",
              "\t<tr><th scope=row>2</th><td>2</td><td>1</td><td>60</td><td>97</td><td>60</td><td>217</td></tr>\n",
              "\t<tr><th scope=row>3</th><td>3</td><td>1</td><td>45</td><td>86</td><td>78</td><td>209</td></tr>\n",
              "\t<tr><th scope=row>4</th><td>4</td><td>1</td><td>30</td><td>98</td><td>58</td><td>186</td></tr>\n",
              "\t<tr><th scope=row>5</th><td>5</td><td>2</td><td>25</td><td>80</td><td>65</td><td>170</td></tr>\n",
              "\t<tr><th scope=row>6</th><td>6</td><td>2</td><td>50</td><td>89</td><td>98</td><td>237</td></tr>\n",
              "</tbody>\n",
              "</table>\n"
            ]
          },
          "metadata": {
            "tags": []
          }
        }
      ]
    },
    {
      "cell_type": "code",
      "metadata": {
        "id": "y2Yrcn_J4i5b",
        "colab_type": "code",
        "colab": {
          "base_uri": "https://localhost:8080/",
          "height": 204
        },
        "outputId": "54dadef5-52ba-4e7b-bb94-247e0c4b8de4"
      },
      "source": [
        "# 여러 파생변수 한 번에 추가하기\n",
        "exam %>%   mutate(total = math + english + science,  # 총합 변수 추가\n",
        "          mean = (math + english + science)/3) %>%   # 총평균 변수 추가\n",
        "   head                                              # 일부 추출"
      ],
      "execution_count": 42,
      "outputs": [
        {
          "output_type": "display_data",
          "data": {
            "text/plain": [
              "  id class math english science total mean    \n",
              "1 1  1     50   98      50      198   66.00000\n",
              "2 2  1     60   97      60      217   72.33333\n",
              "3 3  1     45   86      78      209   69.66667\n",
              "4 4  1     30   98      58      186   62.00000\n",
              "5 5  2     25   80      65      170   56.66667\n",
              "6 6  2     50   89      98      237   79.00000"
            ],
            "text/latex": "A data.frame: 6 × 7\n\\begin{tabular}{r|lllllll}\n  & id & class & math & english & science & total & mean\\\\\n  & <int> & <int> & <int> & <int> & <int> & <int> & <dbl>\\\\\n\\hline\n\t1 & 1 & 1 & 50 & 98 & 50 & 198 & 66.00000\\\\\n\t2 & 2 & 1 & 60 & 97 & 60 & 217 & 72.33333\\\\\n\t3 & 3 & 1 & 45 & 86 & 78 & 209 & 69.66667\\\\\n\t4 & 4 & 1 & 30 & 98 & 58 & 186 & 62.00000\\\\\n\t5 & 5 & 2 & 25 & 80 & 65 & 170 & 56.66667\\\\\n\t6 & 6 & 2 & 50 & 89 & 98 & 237 & 79.00000\\\\\n\\end{tabular}\n",
            "text/markdown": "\nA data.frame: 6 × 7\n\n| <!--/--> | id &lt;int&gt; | class &lt;int&gt; | math &lt;int&gt; | english &lt;int&gt; | science &lt;int&gt; | total &lt;int&gt; | mean &lt;dbl&gt; |\n|---|---|---|---|---|---|---|---|\n| 1 | 1 | 1 | 50 | 98 | 50 | 198 | 66.00000 |\n| 2 | 2 | 1 | 60 | 97 | 60 | 217 | 72.33333 |\n| 3 | 3 | 1 | 45 | 86 | 78 | 209 | 69.66667 |\n| 4 | 4 | 1 | 30 | 98 | 58 | 186 | 62.00000 |\n| 5 | 5 | 2 | 25 | 80 | 65 | 170 | 56.66667 |\n| 6 | 6 | 2 | 50 | 89 | 98 | 237 | 79.00000 |\n\n",
            "text/html": [
              "<table>\n",
              "<caption>A data.frame: 6 × 7</caption>\n",
              "<thead>\n",
              "\t<tr><th></th><th scope=col>id</th><th scope=col>class</th><th scope=col>math</th><th scope=col>english</th><th scope=col>science</th><th scope=col>total</th><th scope=col>mean</th></tr>\n",
              "\t<tr><th></th><th scope=col>&lt;int&gt;</th><th scope=col>&lt;int&gt;</th><th scope=col>&lt;int&gt;</th><th scope=col>&lt;int&gt;</th><th scope=col>&lt;int&gt;</th><th scope=col>&lt;int&gt;</th><th scope=col>&lt;dbl&gt;</th></tr>\n",
              "</thead>\n",
              "<tbody>\n",
              "\t<tr><th scope=row>1</th><td>1</td><td>1</td><td>50</td><td>98</td><td>50</td><td>198</td><td>66.00000</td></tr>\n",
              "\t<tr><th scope=row>2</th><td>2</td><td>1</td><td>60</td><td>97</td><td>60</td><td>217</td><td>72.33333</td></tr>\n",
              "\t<tr><th scope=row>3</th><td>3</td><td>1</td><td>45</td><td>86</td><td>78</td><td>209</td><td>69.66667</td></tr>\n",
              "\t<tr><th scope=row>4</th><td>4</td><td>1</td><td>30</td><td>98</td><td>58</td><td>186</td><td>62.00000</td></tr>\n",
              "\t<tr><th scope=row>5</th><td>5</td><td>2</td><td>25</td><td>80</td><td>65</td><td>170</td><td>56.66667</td></tr>\n",
              "\t<tr><th scope=row>6</th><td>6</td><td>2</td><td>50</td><td>89</td><td>98</td><td>237</td><td>79.00000</td></tr>\n",
              "</tbody>\n",
              "</table>\n"
            ]
          },
          "metadata": {
            "tags": []
          }
        }
      ]
    },
    {
      "cell_type": "markdown",
      "metadata": {
        "id": "D31zT3Ii9SU6",
        "colab_type": "text"
      },
      "source": [
        "추가한 변수를 dplyr 코드에 바로 활용하기"
      ]
    },
    {
      "cell_type": "code",
      "metadata": {
        "id": "4_j-C4E34DmS",
        "colab_type": "code",
        "colab": {
          "base_uri": "https://localhost:8080/",
          "height": 204
        },
        "outputId": "05bf635a-64cd-47b0-c0e0-ee5ddd02e56e"
      },
      "source": [
        "# mutate()에 ifelse() 적용하기\n",
        "exam %>%   mutate(test = ifelse(science >= 60, \"pass\", \"fail\")) %>%   head "
      ],
      "execution_count": 43,
      "outputs": [
        {
          "output_type": "display_data",
          "data": {
            "text/plain": [
              "  id class math english science test\n",
              "1 1  1     50   98      50      fail\n",
              "2 2  1     60   97      60      pass\n",
              "3 3  1     45   86      78      pass\n",
              "4 4  1     30   98      58      fail\n",
              "5 5  2     25   80      65      pass\n",
              "6 6  2     50   89      98      pass"
            ],
            "text/latex": "A data.frame: 6 × 6\n\\begin{tabular}{r|llllll}\n  & id & class & math & english & science & test\\\\\n  & <int> & <int> & <int> & <int> & <int> & <chr>\\\\\n\\hline\n\t1 & 1 & 1 & 50 & 98 & 50 & fail\\\\\n\t2 & 2 & 1 & 60 & 97 & 60 & pass\\\\\n\t3 & 3 & 1 & 45 & 86 & 78 & pass\\\\\n\t4 & 4 & 1 & 30 & 98 & 58 & fail\\\\\n\t5 & 5 & 2 & 25 & 80 & 65 & pass\\\\\n\t6 & 6 & 2 & 50 & 89 & 98 & pass\\\\\n\\end{tabular}\n",
            "text/markdown": "\nA data.frame: 6 × 6\n\n| <!--/--> | id &lt;int&gt; | class &lt;int&gt; | math &lt;int&gt; | english &lt;int&gt; | science &lt;int&gt; | test &lt;chr&gt; |\n|---|---|---|---|---|---|---|\n| 1 | 1 | 1 | 50 | 98 | 50 | fail |\n| 2 | 2 | 1 | 60 | 97 | 60 | pass |\n| 3 | 3 | 1 | 45 | 86 | 78 | pass |\n| 4 | 4 | 1 | 30 | 98 | 58 | fail |\n| 5 | 5 | 2 | 25 | 80 | 65 | pass |\n| 6 | 6 | 2 | 50 | 89 | 98 | pass |\n\n",
            "text/html": [
              "<table>\n",
              "<caption>A data.frame: 6 × 6</caption>\n",
              "<thead>\n",
              "\t<tr><th></th><th scope=col>id</th><th scope=col>class</th><th scope=col>math</th><th scope=col>english</th><th scope=col>science</th><th scope=col>test</th></tr>\n",
              "\t<tr><th></th><th scope=col>&lt;int&gt;</th><th scope=col>&lt;int&gt;</th><th scope=col>&lt;int&gt;</th><th scope=col>&lt;int&gt;</th><th scope=col>&lt;int&gt;</th><th scope=col>&lt;chr&gt;</th></tr>\n",
              "</thead>\n",
              "<tbody>\n",
              "\t<tr><th scope=row>1</th><td>1</td><td>1</td><td>50</td><td>98</td><td>50</td><td>fail</td></tr>\n",
              "\t<tr><th scope=row>2</th><td>2</td><td>1</td><td>60</td><td>97</td><td>60</td><td>pass</td></tr>\n",
              "\t<tr><th scope=row>3</th><td>3</td><td>1</td><td>45</td><td>86</td><td>78</td><td>pass</td></tr>\n",
              "\t<tr><th scope=row>4</th><td>4</td><td>1</td><td>30</td><td>98</td><td>58</td><td>fail</td></tr>\n",
              "\t<tr><th scope=row>5</th><td>5</td><td>2</td><td>25</td><td>80</td><td>65</td><td>pass</td></tr>\n",
              "\t<tr><th scope=row>6</th><td>6</td><td>2</td><td>50</td><td>89</td><td>98</td><td>pass</td></tr>\n",
              "</tbody>\n",
              "</table>\n"
            ]
          },
          "metadata": {
            "tags": []
          }
        }
      ]
    },
    {
      "cell_type": "code",
      "metadata": {
        "id": "CB90U1Q14vIE",
        "colab_type": "code",
        "colab": {
          "base_uri": "https://localhost:8080/",
          "height": 204
        },
        "outputId": "59cfc0b1-2649-4806-e0ab-6930b6b0533d"
      },
      "source": [
        "exam %>%   mutate(total = math + english + science) %>%  # 총합 변수 추가\n",
        "   arrange(total) %>%                            # 총합 변수 기준 정렬\n",
        "   head                                          # 일부 추출"
      ],
      "execution_count": 44,
      "outputs": [
        {
          "output_type": "display_data",
          "data": {
            "text/plain": [
              "  id class math english science total\n",
              "1  9 3     20   98      15      133  \n",
              "2 14 4     48   87      12      147  \n",
              "3 12 3     45   85      32      162  \n",
              "4  5 2     25   80      65      170  \n",
              "5  4 1     30   98      58      186  \n",
              "6  8 2     90   78      25      193  "
            ],
            "text/latex": "A data.frame: 6 × 6\n\\begin{tabular}{r|llllll}\n  & id & class & math & english & science & total\\\\\n  & <int> & <int> & <int> & <int> & <int> & <int>\\\\\n\\hline\n\t1 &  9 & 3 & 20 & 98 & 15 & 133\\\\\n\t2 & 14 & 4 & 48 & 87 & 12 & 147\\\\\n\t3 & 12 & 3 & 45 & 85 & 32 & 162\\\\\n\t4 &  5 & 2 & 25 & 80 & 65 & 170\\\\\n\t5 &  4 & 1 & 30 & 98 & 58 & 186\\\\\n\t6 &  8 & 2 & 90 & 78 & 25 & 193\\\\\n\\end{tabular}\n",
            "text/markdown": "\nA data.frame: 6 × 6\n\n| <!--/--> | id &lt;int&gt; | class &lt;int&gt; | math &lt;int&gt; | english &lt;int&gt; | science &lt;int&gt; | total &lt;int&gt; |\n|---|---|---|---|---|---|---|\n| 1 |  9 | 3 | 20 | 98 | 15 | 133 |\n| 2 | 14 | 4 | 48 | 87 | 12 | 147 |\n| 3 | 12 | 3 | 45 | 85 | 32 | 162 |\n| 4 |  5 | 2 | 25 | 80 | 65 | 170 |\n| 5 |  4 | 1 | 30 | 98 | 58 | 186 |\n| 6 |  8 | 2 | 90 | 78 | 25 | 193 |\n\n",
            "text/html": [
              "<table>\n",
              "<caption>A data.frame: 6 × 6</caption>\n",
              "<thead>\n",
              "\t<tr><th></th><th scope=col>id</th><th scope=col>class</th><th scope=col>math</th><th scope=col>english</th><th scope=col>science</th><th scope=col>total</th></tr>\n",
              "\t<tr><th></th><th scope=col>&lt;int&gt;</th><th scope=col>&lt;int&gt;</th><th scope=col>&lt;int&gt;</th><th scope=col>&lt;int&gt;</th><th scope=col>&lt;int&gt;</th><th scope=col>&lt;int&gt;</th></tr>\n",
              "</thead>\n",
              "<tbody>\n",
              "\t<tr><th scope=row>1</th><td> 9</td><td>3</td><td>20</td><td>98</td><td>15</td><td>133</td></tr>\n",
              "\t<tr><th scope=row>2</th><td>14</td><td>4</td><td>48</td><td>87</td><td>12</td><td>147</td></tr>\n",
              "\t<tr><th scope=row>3</th><td>12</td><td>3</td><td>45</td><td>85</td><td>32</td><td>162</td></tr>\n",
              "\t<tr><th scope=row>4</th><td> 5</td><td>2</td><td>25</td><td>80</td><td>65</td><td>170</td></tr>\n",
              "\t<tr><th scope=row>5</th><td> 4</td><td>1</td><td>30</td><td>98</td><td>58</td><td>186</td></tr>\n",
              "\t<tr><th scope=row>6</th><td> 8</td><td>2</td><td>90</td><td>78</td><td>25</td><td>193</td></tr>\n",
              "</tbody>\n",
              "</table>\n"
            ]
          },
          "metadata": {
            "tags": []
          }
        }
      ]
    },
    {
      "cell_type": "markdown",
      "metadata": {
        "id": "NHBuFiXM9VE5",
        "colab_type": "text"
      },
      "source": [
        "## 혼자서 해보기(4)\n",
        "- mpg 데이터는 연비를 나타내는 변수가 hwy(고속도로 연비), cty(도시 연비) 두 종류로 분리되어 있습니다. 두 변수를 각각 활용하는 대신 하나의 통합 연비 변수를 만들어 분석하려고 합니다."
      ]
    },
    {
      "cell_type": "markdown",
      "metadata": {
        "id": "6S6nFD739Wi1",
        "colab_type": "text"
      },
      "source": [
        "Q1. mpg 데이터 복사본을 만들고, cty 와 hwy 를 더한 '합산 연비 변수'를 추가하세요."
      ]
    },
    {
      "cell_type": "code",
      "metadata": {
        "id": "uk_navOK4vKh",
        "colab_type": "code",
        "colab": {}
      },
      "source": [
        "mpg1 <- as.data.frame(ggplot2::mpg)"
      ],
      "execution_count": 0,
      "outputs": []
    },
    {
      "cell_type": "markdown",
      "metadata": {
        "id": "3ctdlCaC9fH_",
        "colab_type": "text"
      },
      "source": [
        "Q2. 앞에서 만든 '합산 연비 변수'를 2 로 나눠 '평균 연비 변수'를 추가세요"
      ]
    },
    {
      "cell_type": "code",
      "metadata": {
        "id": "mauNDFO-4vNe",
        "colab_type": "code",
        "colab": {}
      },
      "source": [
        "mpg1 <- mpg1 %>% mutate(total_mileage = hwy + cty)"
      ],
      "execution_count": 0,
      "outputs": []
    },
    {
      "cell_type": "markdown",
      "metadata": {
        "id": "xV4q8hp39m3w",
        "colab_type": "text"
      },
      "source": [
        "Q3. '평균 연비 변수'가 가장 높은 자동차 3 종의 데이터를 출력하세요."
      ]
    },
    {
      "cell_type": "code",
      "metadata": {
        "id": "gU_UqbBC4y5B",
        "colab_type": "code",
        "colab": {
          "base_uri": "https://localhost:8080/",
          "height": 141
        },
        "outputId": "0b4ca8ab-70a7-4c1b-8f59-3697b802d14d"
      },
      "source": [
        "mpg1 %>%\n",
        "  mutate(total = cty + hwy, mean = total/2) %>%\n",
        "  arrange(desc(mean)) %>%\n",
        "  head(3)"
      ],
      "execution_count": 65,
      "outputs": [
        {
          "output_type": "display_data",
          "data": {
            "text/plain": [
              "  manufacturer model      displ year cyl trans      drv cty hwy fl class     \n",
              "1 volkswagen   new beetle 1.9   1999 4   manual(m5) f   35  44  d  subcompact\n",
              "2 volkswagen   jetta      1.9   1999 4   manual(m5) f   33  44  d  compact   \n",
              "3 volkswagen   new beetle 1.9   1999 4   auto(l4)   f   29  41  d  subcompact\n",
              "  total_mileage total mean\n",
              "1 79            79    39.5\n",
              "2 77            77    38.5\n",
              "3 70            70    35.0"
            ],
            "text/latex": "A data.frame: 3 × 14\n\\begin{tabular}{r|llllllllllllll}\n  & manufacturer & model & displ & year & cyl & trans & drv & cty & hwy & fl & class & total\\_mileage & total & mean\\\\\n  & <chr> & <chr> & <dbl> & <int> & <int> & <chr> & <chr> & <int> & <int> & <chr> & <chr> & <int> & <int> & <dbl>\\\\\n\\hline\n\t1 & volkswagen & new beetle & 1.9 & 1999 & 4 & manual(m5) & f & 35 & 44 & d & subcompact & 79 & 79 & 39.5\\\\\n\t2 & volkswagen & jetta      & 1.9 & 1999 & 4 & manual(m5) & f & 33 & 44 & d & compact    & 77 & 77 & 38.5\\\\\n\t3 & volkswagen & new beetle & 1.9 & 1999 & 4 & auto(l4)   & f & 29 & 41 & d & subcompact & 70 & 70 & 35.0\\\\\n\\end{tabular}\n",
            "text/markdown": "\nA data.frame: 3 × 14\n\n| <!--/--> | manufacturer &lt;chr&gt; | model &lt;chr&gt; | displ &lt;dbl&gt; | year &lt;int&gt; | cyl &lt;int&gt; | trans &lt;chr&gt; | drv &lt;chr&gt; | cty &lt;int&gt; | hwy &lt;int&gt; | fl &lt;chr&gt; | class &lt;chr&gt; | total_mileage &lt;int&gt; | total &lt;int&gt; | mean &lt;dbl&gt; |\n|---|---|---|---|---|---|---|---|---|---|---|---|---|---|---|\n| 1 | volkswagen | new beetle | 1.9 | 1999 | 4 | manual(m5) | f | 35 | 44 | d | subcompact | 79 | 79 | 39.5 |\n| 2 | volkswagen | jetta      | 1.9 | 1999 | 4 | manual(m5) | f | 33 | 44 | d | compact    | 77 | 77 | 38.5 |\n| 3 | volkswagen | new beetle | 1.9 | 1999 | 4 | auto(l4)   | f | 29 | 41 | d | subcompact | 70 | 70 | 35.0 |\n\n",
            "text/html": [
              "<table>\n",
              "<caption>A data.frame: 3 × 14</caption>\n",
              "<thead>\n",
              "\t<tr><th></th><th scope=col>manufacturer</th><th scope=col>model</th><th scope=col>displ</th><th scope=col>year</th><th scope=col>cyl</th><th scope=col>trans</th><th scope=col>drv</th><th scope=col>cty</th><th scope=col>hwy</th><th scope=col>fl</th><th scope=col>class</th><th scope=col>total_mileage</th><th scope=col>total</th><th scope=col>mean</th></tr>\n",
              "\t<tr><th></th><th scope=col>&lt;chr&gt;</th><th scope=col>&lt;chr&gt;</th><th scope=col>&lt;dbl&gt;</th><th scope=col>&lt;int&gt;</th><th scope=col>&lt;int&gt;</th><th scope=col>&lt;chr&gt;</th><th scope=col>&lt;chr&gt;</th><th scope=col>&lt;int&gt;</th><th scope=col>&lt;int&gt;</th><th scope=col>&lt;chr&gt;</th><th scope=col>&lt;chr&gt;</th><th scope=col>&lt;int&gt;</th><th scope=col>&lt;int&gt;</th><th scope=col>&lt;dbl&gt;</th></tr>\n",
              "</thead>\n",
              "<tbody>\n",
              "\t<tr><th scope=row>1</th><td>volkswagen</td><td>new beetle</td><td>1.9</td><td>1999</td><td>4</td><td>manual(m5)</td><td>f</td><td>35</td><td>44</td><td>d</td><td>subcompact</td><td>79</td><td>79</td><td>39.5</td></tr>\n",
              "\t<tr><th scope=row>2</th><td>volkswagen</td><td>jetta     </td><td>1.9</td><td>1999</td><td>4</td><td>manual(m5)</td><td>f</td><td>33</td><td>44</td><td>d</td><td>compact   </td><td>77</td><td>77</td><td>38.5</td></tr>\n",
              "\t<tr><th scope=row>3</th><td>volkswagen</td><td>new beetle</td><td>1.9</td><td>1999</td><td>4</td><td>auto(l4)  </td><td>f</td><td>29</td><td>41</td><td>d</td><td>subcompact</td><td>70</td><td>70</td><td>35.0</td></tr>\n",
              "</tbody>\n",
              "</table>\n"
            ]
          },
          "metadata": {
            "tags": []
          }
        }
      ]
    },
    {
      "cell_type": "markdown",
      "metadata": {
        "id": "IoyvWgii91Rx",
        "colab_type": "text"
      },
      "source": [
        "Q4. 1~3 번 문제를 해결할 수 있는 하나로 연결된 dplyr 구문을 만들어 출력하세요. 데이터는 복사본 대신 mpg 원본을 이용하세요"
      ]
    },
    {
      "cell_type": "code",
      "metadata": {
        "id": "eZs0pPDd91u4",
        "colab_type": "code",
        "colab": {
          "base_uri": "https://localhost:8080/",
          "height": 141
        },
        "outputId": "9c6f72a1-1b27-41b7-c493-7a97cf3ac507"
      },
      "source": [
        "mpg1 %>%\n",
        "  mutate(total = cty + hwy, mean = total/2) %>%\n",
        "  arrange(desc(mean)) %>%\n",
        "  head(3)"
      ],
      "execution_count": 67,
      "outputs": [
        {
          "output_type": "display_data",
          "data": {
            "text/plain": [
              "  manufacturer model      displ year cyl trans      drv cty hwy fl class     \n",
              "1 volkswagen   new beetle 1.9   1999 4   manual(m5) f   35  44  d  subcompact\n",
              "2 volkswagen   jetta      1.9   1999 4   manual(m5) f   33  44  d  compact   \n",
              "3 volkswagen   new beetle 1.9   1999 4   auto(l4)   f   29  41  d  subcompact\n",
              "  total_mileage total mean\n",
              "1 79            79    39.5\n",
              "2 77            77    38.5\n",
              "3 70            70    35.0"
            ],
            "text/latex": "A data.frame: 3 × 14\n\\begin{tabular}{r|llllllllllllll}\n  & manufacturer & model & displ & year & cyl & trans & drv & cty & hwy & fl & class & total\\_mileage & total & mean\\\\\n  & <chr> & <chr> & <dbl> & <int> & <int> & <chr> & <chr> & <int> & <int> & <chr> & <chr> & <int> & <int> & <dbl>\\\\\n\\hline\n\t1 & volkswagen & new beetle & 1.9 & 1999 & 4 & manual(m5) & f & 35 & 44 & d & subcompact & 79 & 79 & 39.5\\\\\n\t2 & volkswagen & jetta      & 1.9 & 1999 & 4 & manual(m5) & f & 33 & 44 & d & compact    & 77 & 77 & 38.5\\\\\n\t3 & volkswagen & new beetle & 1.9 & 1999 & 4 & auto(l4)   & f & 29 & 41 & d & subcompact & 70 & 70 & 35.0\\\\\n\\end{tabular}\n",
            "text/markdown": "\nA data.frame: 3 × 14\n\n| <!--/--> | manufacturer &lt;chr&gt; | model &lt;chr&gt; | displ &lt;dbl&gt; | year &lt;int&gt; | cyl &lt;int&gt; | trans &lt;chr&gt; | drv &lt;chr&gt; | cty &lt;int&gt; | hwy &lt;int&gt; | fl &lt;chr&gt; | class &lt;chr&gt; | total_mileage &lt;int&gt; | total &lt;int&gt; | mean &lt;dbl&gt; |\n|---|---|---|---|---|---|---|---|---|---|---|---|---|---|---|\n| 1 | volkswagen | new beetle | 1.9 | 1999 | 4 | manual(m5) | f | 35 | 44 | d | subcompact | 79 | 79 | 39.5 |\n| 2 | volkswagen | jetta      | 1.9 | 1999 | 4 | manual(m5) | f | 33 | 44 | d | compact    | 77 | 77 | 38.5 |\n| 3 | volkswagen | new beetle | 1.9 | 1999 | 4 | auto(l4)   | f | 29 | 41 | d | subcompact | 70 | 70 | 35.0 |\n\n",
            "text/html": [
              "<table>\n",
              "<caption>A data.frame: 3 × 14</caption>\n",
              "<thead>\n",
              "\t<tr><th></th><th scope=col>manufacturer</th><th scope=col>model</th><th scope=col>displ</th><th scope=col>year</th><th scope=col>cyl</th><th scope=col>trans</th><th scope=col>drv</th><th scope=col>cty</th><th scope=col>hwy</th><th scope=col>fl</th><th scope=col>class</th><th scope=col>total_mileage</th><th scope=col>total</th><th scope=col>mean</th></tr>\n",
              "\t<tr><th></th><th scope=col>&lt;chr&gt;</th><th scope=col>&lt;chr&gt;</th><th scope=col>&lt;dbl&gt;</th><th scope=col>&lt;int&gt;</th><th scope=col>&lt;int&gt;</th><th scope=col>&lt;chr&gt;</th><th scope=col>&lt;chr&gt;</th><th scope=col>&lt;int&gt;</th><th scope=col>&lt;int&gt;</th><th scope=col>&lt;chr&gt;</th><th scope=col>&lt;chr&gt;</th><th scope=col>&lt;int&gt;</th><th scope=col>&lt;int&gt;</th><th scope=col>&lt;dbl&gt;</th></tr>\n",
              "</thead>\n",
              "<tbody>\n",
              "\t<tr><th scope=row>1</th><td>volkswagen</td><td>new beetle</td><td>1.9</td><td>1999</td><td>4</td><td>manual(m5)</td><td>f</td><td>35</td><td>44</td><td>d</td><td>subcompact</td><td>79</td><td>79</td><td>39.5</td></tr>\n",
              "\t<tr><th scope=row>2</th><td>volkswagen</td><td>jetta     </td><td>1.9</td><td>1999</td><td>4</td><td>manual(m5)</td><td>f</td><td>33</td><td>44</td><td>d</td><td>compact   </td><td>77</td><td>77</td><td>38.5</td></tr>\n",
              "\t<tr><th scope=row>3</th><td>volkswagen</td><td>new beetle</td><td>1.9</td><td>1999</td><td>4</td><td>auto(l4)  </td><td>f</td><td>29</td><td>41</td><td>d</td><td>subcompact</td><td>70</td><td>70</td><td>35.0</td></tr>\n",
              "</tbody>\n",
              "</table>\n"
            ]
          },
          "metadata": {
            "tags": []
          }
        }
      ]
    },
    {
      "cell_type": "markdown",
      "metadata": {
        "id": "ZUkGFhdd9n0J",
        "colab_type": "text"
      },
      "source": [
        "- 집단별로 요약하기"
      ]
    },
    {
      "cell_type": "code",
      "metadata": {
        "id": "wx7bppbz4y7h",
        "colab_type": "code",
        "colab": {
          "base_uri": "https://localhost:8080/",
          "height": 133
        },
        "outputId": "4e3eedb4-fad7-480c-b85f-8ee95b651e6c"
      },
      "source": [
        "# math 평균 산출\n",
        "exam %>% summarise(mean_math = mean(math))  "
      ],
      "execution_count": 48,
      "outputs": [
        {
          "output_type": "display_data",
          "data": {
            "text/plain": [
              "  mean_math\n",
              "1 57.45    "
            ],
            "text/latex": "A data.frame: 1 × 1\n\\begin{tabular}{l}\n mean\\_math\\\\\n <dbl>\\\\\n\\hline\n\t 57.45\\\\\n\\end{tabular}\n",
            "text/markdown": "\nA data.frame: 1 × 1\n\n| mean_math &lt;dbl&gt; |\n|---|\n| 57.45 |\n\n",
            "text/html": [
              "<table>\n",
              "<caption>A data.frame: 1 × 1</caption>\n",
              "<thead>\n",
              "\t<tr><th scope=col>mean_math</th></tr>\n",
              "\t<tr><th scope=col>&lt;dbl&gt;</th></tr>\n",
              "</thead>\n",
              "<tbody>\n",
              "\t<tr><td>57.45</td></tr>\n",
              "</tbody>\n",
              "</table>\n"
            ]
          },
          "metadata": {
            "tags": []
          }
        }
      ]
    },
    {
      "cell_type": "code",
      "metadata": {
        "id": "6ihTxeC_4y-L",
        "colab_type": "code",
        "colab": {
          "base_uri": "https://localhost:8080/",
          "height": 183
        },
        "outputId": "3dd9155a-0829-4100-87ae-f67d55bdf0c7"
      },
      "source": [
        "exam %>%   group_by(class) %>%        # class 별로 분리\n",
        "   summarise(mean_math = mean(math))  # math 평균 산출"
      ],
      "execution_count": 49,
      "outputs": [
        {
          "output_type": "display_data",
          "data": {
            "text/plain": [
              "  class mean_math\n",
              "1 1     46.25    \n",
              "2 2     61.25    \n",
              "3 3     45.00    \n",
              "4 4     56.75    \n",
              "5 5     78.00    "
            ],
            "text/latex": "A tibble: 5 × 2\n\\begin{tabular}{ll}\n class & mean\\_math\\\\\n <int> & <dbl>\\\\\n\\hline\n\t 1 & 46.25\\\\\n\t 2 & 61.25\\\\\n\t 3 & 45.00\\\\\n\t 4 & 56.75\\\\\n\t 5 & 78.00\\\\\n\\end{tabular}\n",
            "text/markdown": "\nA tibble: 5 × 2\n\n| class &lt;int&gt; | mean_math &lt;dbl&gt; |\n|---|---|\n| 1 | 46.25 |\n| 2 | 61.25 |\n| 3 | 45.00 |\n| 4 | 56.75 |\n| 5 | 78.00 |\n\n",
            "text/html": [
              "<table>\n",
              "<caption>A tibble: 5 × 2</caption>\n",
              "<thead>\n",
              "\t<tr><th scope=col>class</th><th scope=col>mean_math</th></tr>\n",
              "\t<tr><th scope=col>&lt;int&gt;</th><th scope=col>&lt;dbl&gt;</th></tr>\n",
              "</thead>\n",
              "<tbody>\n",
              "\t<tr><td>1</td><td>46.25</td></tr>\n",
              "\t<tr><td>2</td><td>61.25</td></tr>\n",
              "\t<tr><td>3</td><td>45.00</td></tr>\n",
              "\t<tr><td>4</td><td>56.75</td></tr>\n",
              "\t<tr><td>5</td><td>78.00</td></tr>\n",
              "</tbody>\n",
              "</table>\n"
            ]
          },
          "metadata": {
            "tags": []
          }
        }
      ]
    },
    {
      "cell_type": "code",
      "metadata": {
        "id": "0laLdnSu4zAi",
        "colab_type": "code",
        "colab": {
          "base_uri": "https://localhost:8080/",
          "height": 183
        },
        "outputId": "ec9a72f4-813e-4eae-dbf5-f899d77ebf8a"
      },
      "source": [
        "exam %>%   group_by(class) %>%           # class 별로 분리\n",
        "   summarise(mean_math = mean(math),     # math 평균\n",
        "             sum_math = sum(math),       # math 합계\n",
        "             median_math = median(math), # math 중앙값\n",
        "             n = n())                    # 학생 수"
      ],
      "execution_count": 50,
      "outputs": [
        {
          "output_type": "display_data",
          "data": {
            "text/plain": [
              "  class mean_math sum_math median_math n\n",
              "1 1     46.25     185      47.5        4\n",
              "2 2     61.25     245      65.0        4\n",
              "3 3     45.00     180      47.5        4\n",
              "4 4     56.75     227      53.0        4\n",
              "5 5     78.00     312      79.0        4"
            ],
            "text/latex": "A tibble: 5 × 5\n\\begin{tabular}{lllll}\n class & mean\\_math & sum\\_math & median\\_math & n\\\\\n <int> & <dbl> & <int> & <dbl> & <int>\\\\\n\\hline\n\t 1 & 46.25 & 185 & 47.5 & 4\\\\\n\t 2 & 61.25 & 245 & 65.0 & 4\\\\\n\t 3 & 45.00 & 180 & 47.5 & 4\\\\\n\t 4 & 56.75 & 227 & 53.0 & 4\\\\\n\t 5 & 78.00 & 312 & 79.0 & 4\\\\\n\\end{tabular}\n",
            "text/markdown": "\nA tibble: 5 × 5\n\n| class &lt;int&gt; | mean_math &lt;dbl&gt; | sum_math &lt;int&gt; | median_math &lt;dbl&gt; | n &lt;int&gt; |\n|---|---|---|---|---|\n| 1 | 46.25 | 185 | 47.5 | 4 |\n| 2 | 61.25 | 245 | 65.0 | 4 |\n| 3 | 45.00 | 180 | 47.5 | 4 |\n| 4 | 56.75 | 227 | 53.0 | 4 |\n| 5 | 78.00 | 312 | 79.0 | 4 |\n\n",
            "text/html": [
              "<table>\n",
              "<caption>A tibble: 5 × 5</caption>\n",
              "<thead>\n",
              "\t<tr><th scope=col>class</th><th scope=col>mean_math</th><th scope=col>sum_math</th><th scope=col>median_math</th><th scope=col>n</th></tr>\n",
              "\t<tr><th scope=col>&lt;int&gt;</th><th scope=col>&lt;dbl&gt;</th><th scope=col>&lt;int&gt;</th><th scope=col>&lt;dbl&gt;</th><th scope=col>&lt;int&gt;</th></tr>\n",
              "</thead>\n",
              "<tbody>\n",
              "\t<tr><td>1</td><td>46.25</td><td>185</td><td>47.5</td><td>4</td></tr>\n",
              "\t<tr><td>2</td><td>61.25</td><td>245</td><td>65.0</td><td>4</td></tr>\n",
              "\t<tr><td>3</td><td>45.00</td><td>180</td><td>47.5</td><td>4</td></tr>\n",
              "\t<tr><td>4</td><td>56.75</td><td>227</td><td>53.0</td><td>4</td></tr>\n",
              "\t<tr><td>5</td><td>78.00</td><td>312</td><td>79.0</td><td>4</td></tr>\n",
              "</tbody>\n",
              "</table>\n"
            ]
          },
          "metadata": {
            "tags": []
          }
        }
      ]
    },
    {
      "cell_type": "code",
      "metadata": {
        "id": "4eWPtZdb5M3F",
        "colab_type": "code",
        "colab": {
          "base_uri": "https://localhost:8080/",
          "height": 288
        },
        "outputId": "15e68191-1245-484b-acf4-819e2911b50a"
      },
      "source": [
        "mpg %>%   group_by(manufacturer, drv) %>%      # 회사별 , 구방방식별 분리\n",
        "   summarise(mean_cty = mean(cty)) %>%  # cty 평균 산출\n",
        "   head(10)                             # 일부 출력\n"
      ],
      "execution_count": 52,
      "outputs": [
        {
          "output_type": "display_data",
          "data": {
            "text/plain": [
              "   manufacturer drv mean_cty\n",
              "1  audi         4   16.81818\n",
              "2  audi         f   18.85714\n",
              "3  chevrolet    4   12.50000\n",
              "4  chevrolet    f   18.80000\n",
              "5  chevrolet    r   14.10000\n",
              "6  dodge        4   12.00000\n",
              "7  dodge        f   15.81818\n",
              "8  ford         4   13.30769\n",
              "9  ford         r   14.75000\n",
              "10 honda        f   24.44444"
            ],
            "text/latex": "A grouped\\_df: 10 × 3\n\\begin{tabular}{lll}\n manufacturer & drv & mean\\_cty\\\\\n <chr> & <chr> & <dbl>\\\\\n\\hline\n\t audi      & 4 & 16.81818\\\\\n\t audi      & f & 18.85714\\\\\n\t chevrolet & 4 & 12.50000\\\\\n\t chevrolet & f & 18.80000\\\\\n\t chevrolet & r & 14.10000\\\\\n\t dodge     & 4 & 12.00000\\\\\n\t dodge     & f & 15.81818\\\\\n\t ford      & 4 & 13.30769\\\\\n\t ford      & r & 14.75000\\\\\n\t honda     & f & 24.44444\\\\\n\\end{tabular}\n",
            "text/markdown": "\nA grouped_df: 10 × 3\n\n| manufacturer &lt;chr&gt; | drv &lt;chr&gt; | mean_cty &lt;dbl&gt; |\n|---|---|---|\n| audi      | 4 | 16.81818 |\n| audi      | f | 18.85714 |\n| chevrolet | 4 | 12.50000 |\n| chevrolet | f | 18.80000 |\n| chevrolet | r | 14.10000 |\n| dodge     | 4 | 12.00000 |\n| dodge     | f | 15.81818 |\n| ford      | 4 | 13.30769 |\n| ford      | r | 14.75000 |\n| honda     | f | 24.44444 |\n\n",
            "text/html": [
              "<table>\n",
              "<caption>A grouped_df: 10 × 3</caption>\n",
              "<thead>\n",
              "\t<tr><th scope=col>manufacturer</th><th scope=col>drv</th><th scope=col>mean_cty</th></tr>\n",
              "\t<tr><th scope=col>&lt;chr&gt;</th><th scope=col>&lt;chr&gt;</th><th scope=col>&lt;dbl&gt;</th></tr>\n",
              "</thead>\n",
              "<tbody>\n",
              "\t<tr><td>audi     </td><td>4</td><td>16.81818</td></tr>\n",
              "\t<tr><td>audi     </td><td>f</td><td>18.85714</td></tr>\n",
              "\t<tr><td>chevrolet</td><td>4</td><td>12.50000</td></tr>\n",
              "\t<tr><td>chevrolet</td><td>f</td><td>18.80000</td></tr>\n",
              "\t<tr><td>chevrolet</td><td>r</td><td>14.10000</td></tr>\n",
              "\t<tr><td>dodge    </td><td>4</td><td>12.00000</td></tr>\n",
              "\t<tr><td>dodge    </td><td>f</td><td>15.81818</td></tr>\n",
              "\t<tr><td>ford     </td><td>4</td><td>13.30769</td></tr>\n",
              "\t<tr><td>ford     </td><td>r</td><td>14.75000</td></tr>\n",
              "\t<tr><td>honda    </td><td>f</td><td>24.44444</td></tr>\n",
              "</tbody>\n",
              "</table>\n"
            ]
          },
          "metadata": {
            "tags": []
          }
        }
      ]
    },
    {
      "cell_type": "code",
      "metadata": {
        "id": "u6lDqMSq5M5w",
        "colab_type": "code",
        "colab": {
          "base_uri": "https://localhost:8080/",
          "height": 183
        },
        "outputId": "bfd3ba74-a22a-4c1a-fc74-0f68d63dcfb8"
      },
      "source": [
        "mpg %>%   group_by(manufacturer) %>%    # 회사별로 분리\n",
        "   filter(class == \"suv\") %>%           # suv 추출\n",
        "   mutate(tot = (cty+hwy)/2) %>%        # 통합 연비 변수 생성\n",
        "   summarise(mean_tot = mean(tot)) %>%  # 통합 연비 평균 산출\n",
        "   arrange(desc(mean_tot)) %>%          # 내림차순 정렬\n",
        "   head(5)                              # 1~5 위까지 출력"
      ],
      "execution_count": 53,
      "outputs": [
        {
          "output_type": "display_data",
          "data": {
            "text/plain": [
              "  manufacturer mean_tot\n",
              "1 subaru       21.91667\n",
              "2 toyota       16.31250\n",
              "3 nissan       15.87500\n",
              "4 mercury      15.62500\n",
              "5 jeep         15.56250"
            ],
            "text/latex": "A tibble: 5 × 2\n\\begin{tabular}{ll}\n manufacturer & mean\\_tot\\\\\n <chr> & <dbl>\\\\\n\\hline\n\t subaru  & 21.91667\\\\\n\t toyota  & 16.31250\\\\\n\t nissan  & 15.87500\\\\\n\t mercury & 15.62500\\\\\n\t jeep    & 15.56250\\\\\n\\end{tabular}\n",
            "text/markdown": "\nA tibble: 5 × 2\n\n| manufacturer &lt;chr&gt; | mean_tot &lt;dbl&gt; |\n|---|---|\n| subaru  | 21.91667 |\n| toyota  | 16.31250 |\n| nissan  | 15.87500 |\n| mercury | 15.62500 |\n| jeep    | 15.56250 |\n\n",
            "text/html": [
              "<table>\n",
              "<caption>A tibble: 5 × 2</caption>\n",
              "<thead>\n",
              "\t<tr><th scope=col>manufacturer</th><th scope=col>mean_tot</th></tr>\n",
              "\t<tr><th scope=col>&lt;chr&gt;</th><th scope=col>&lt;dbl&gt;</th></tr>\n",
              "</thead>\n",
              "<tbody>\n",
              "\t<tr><td>subaru </td><td>21.91667</td></tr>\n",
              "\t<tr><td>toyota </td><td>16.31250</td></tr>\n",
              "\t<tr><td>nissan </td><td>15.87500</td></tr>\n",
              "\t<tr><td>mercury</td><td>15.62500</td></tr>\n",
              "\t<tr><td>jeep   </td><td>15.56250</td></tr>\n",
              "</tbody>\n",
              "</table>\n"
            ]
          },
          "metadata": {
            "tags": []
          }
        }
      ]
    },
    {
      "cell_type": "markdown",
      "metadata": {
        "id": "605-NjBM63Ch",
        "colab_type": "text"
      },
      "source": [
        "혼자서 해보기\n",
        "mpg 데이터를 이용해서 분석 문제를 해결해 보세요. "
      ]
    },
    {
      "cell_type": "markdown",
      "metadata": {
        "id": "21DEwRFT67Ec",
        "colab_type": "text"
      },
      "source": [
        "Q1. mpg 데이터의 class 는 \"suv\", \"compact\" 등 자동차를 특징에 따라 일곱 종류로 분류한 변수입니다. 어떤 차종의 연비가 높은지 비교해보려고 합니다. class 별 cty 평균을 구해보세요. "
      ]
    },
    {
      "cell_type": "markdown",
      "metadata": {
        "id": "3qGB6N2h67Nw",
        "colab_type": "text"
      },
      "source": [
        "Q2. 앞 문제의 출력 결과는 class 값 알파벳 순으로 정렬되어 있습니다. 어떤 차종의 도시 연비가 높은지 쉽게 알아볼 수 있도록 cty 평균이 높은 순으로 정렬해 출력하세요. "
      ]
    },
    {
      "cell_type": "markdown",
      "metadata": {
        "id": "1LBq4OqB67Wp",
        "colab_type": "text"
      },
      "source": [
        "Q3. 어떤 회사 자동차의 hwy(고속도로 연비)가 가장 높은지 알아보려고 합니다. hwy 평균이 가장 높은 회사 세 곳을 출력하세요. "
      ]
    },
    {
      "cell_type": "markdown",
      "metadata": {
        "id": "XQIlO0sG67ey",
        "colab_type": "text"
      },
      "source": [
        "Q4. 어떤 회사에서 \"compact\"(경차) 차종을 가장 많이 생산하는지 알아보려고 합니다. 각 회사별 \"compact\" 차종 수를 내림차순으로 정렬해 출력하세요."
      ]
    },
    {
      "cell_type": "code",
      "metadata": {
        "id": "O8ezGMXY5M8M",
        "colab_type": "code",
        "colab": {}
      },
      "source": [
        "# 가로 합치기\n",
        "# 중간고사 데이터 생성\n",
        "test1 <- data.frame(id = c(1, 2, 3, 4, 5),\n",
        "  midterm = c(60, 80, 70, 90, 85)) \n",
        " \n",
        "# 기말고사 데이터 생성\n",
        "test2 <- data.frame(id = c(1, 2, 3, 4, 5),\n",
        "  final = c(70, 83, 65, 95, 80))"
      ],
      "execution_count": 0,
      "outputs": []
    },
    {
      "cell_type": "code",
      "metadata": {
        "id": "vfTCiEjx_qxs",
        "colab_type": "code",
        "colab": {
          "base_uri": "https://localhost:8080/",
          "height": 200
        },
        "outputId": "956dd8c1-c2ee-4611-a8b5-007e7c990bf4"
      },
      "source": [
        "test1"
      ],
      "execution_count": 68,
      "outputs": [
        {
          "output_type": "display_data",
          "data": {
            "text/plain": [
              "  id midterm\n",
              "1 1  60     \n",
              "2 2  80     \n",
              "3 3  70     \n",
              "4 4  90     \n",
              "5 5  85     "
            ],
            "text/latex": "A data.frame: 5 × 2\n\\begin{tabular}{ll}\n id & midterm\\\\\n <dbl> & <dbl>\\\\\n\\hline\n\t 1 & 60\\\\\n\t 2 & 80\\\\\n\t 3 & 70\\\\\n\t 4 & 90\\\\\n\t 5 & 85\\\\\n\\end{tabular}\n",
            "text/markdown": "\nA data.frame: 5 × 2\n\n| id &lt;dbl&gt; | midterm &lt;dbl&gt; |\n|---|---|\n| 1 | 60 |\n| 2 | 80 |\n| 3 | 70 |\n| 4 | 90 |\n| 5 | 85 |\n\n",
            "text/html": [
              "<table>\n",
              "<caption>A data.frame: 5 × 2</caption>\n",
              "<thead>\n",
              "\t<tr><th scope=col>id</th><th scope=col>midterm</th></tr>\n",
              "\t<tr><th scope=col>&lt;dbl&gt;</th><th scope=col>&lt;dbl&gt;</th></tr>\n",
              "</thead>\n",
              "<tbody>\n",
              "\t<tr><td>1</td><td>60</td></tr>\n",
              "\t<tr><td>2</td><td>80</td></tr>\n",
              "\t<tr><td>3</td><td>70</td></tr>\n",
              "\t<tr><td>4</td><td>90</td></tr>\n",
              "\t<tr><td>5</td><td>85</td></tr>\n",
              "</tbody>\n",
              "</table>\n"
            ]
          },
          "metadata": {
            "tags": []
          }
        }
      ]
    },
    {
      "cell_type": "code",
      "metadata": {
        "id": "EsSjfnMu_rK1",
        "colab_type": "code",
        "colab": {
          "base_uri": "https://localhost:8080/",
          "height": 200
        },
        "outputId": "f41ed681-44a8-4c90-cab3-d694f3352ede"
      },
      "source": [
        "test2"
      ],
      "execution_count": 69,
      "outputs": [
        {
          "output_type": "display_data",
          "data": {
            "text/plain": [
              "  id final\n",
              "1 1  70   \n",
              "2 2  83   \n",
              "3 3  65   \n",
              "4 4  95   \n",
              "5 5  80   "
            ],
            "text/latex": "A data.frame: 5 × 2\n\\begin{tabular}{ll}\n id & final\\\\\n <dbl> & <dbl>\\\\\n\\hline\n\t 1 & 70\\\\\n\t 2 & 83\\\\\n\t 3 & 65\\\\\n\t 4 & 95\\\\\n\t 5 & 80\\\\\n\\end{tabular}\n",
            "text/markdown": "\nA data.frame: 5 × 2\n\n| id &lt;dbl&gt; | final &lt;dbl&gt; |\n|---|---|\n| 1 | 70 |\n| 2 | 83 |\n| 3 | 65 |\n| 4 | 95 |\n| 5 | 80 |\n\n",
            "text/html": [
              "<table>\n",
              "<caption>A data.frame: 5 × 2</caption>\n",
              "<thead>\n",
              "\t<tr><th scope=col>id</th><th scope=col>final</th></tr>\n",
              "\t<tr><th scope=col>&lt;dbl&gt;</th><th scope=col>&lt;dbl&gt;</th></tr>\n",
              "</thead>\n",
              "<tbody>\n",
              "\t<tr><td>1</td><td>70</td></tr>\n",
              "\t<tr><td>2</td><td>83</td></tr>\n",
              "\t<tr><td>3</td><td>65</td></tr>\n",
              "\t<tr><td>4</td><td>95</td></tr>\n",
              "\t<tr><td>5</td><td>80</td></tr>\n",
              "</tbody>\n",
              "</table>\n"
            ]
          },
          "metadata": {
            "tags": []
          }
        }
      ]
    },
    {
      "cell_type": "code",
      "metadata": {
        "id": "3S7hh-Qe5M-r",
        "colab_type": "code",
        "colab": {
          "base_uri": "https://localhost:8080/",
          "height": 183
        },
        "outputId": "2f1cb9e5-2061-4572-d83e-d837bffe78c7"
      },
      "source": [
        "# id 기준으로 합치기 \n",
        "total <- left_join(test1, test2, by = \"id\")  # id 기준으로 합쳐 total 에 할당\n",
        "total                                        # total 출력"
      ],
      "execution_count": 55,
      "outputs": [
        {
          "output_type": "display_data",
          "data": {
            "text/plain": [
              "  id midterm final\n",
              "1 1  60      70   \n",
              "2 2  80      83   \n",
              "3 3  70      65   \n",
              "4 4  90      95   \n",
              "5 5  85      80   "
            ],
            "text/latex": "A data.frame: 5 × 3\n\\begin{tabular}{lll}\n id & midterm & final\\\\\n <dbl> & <dbl> & <dbl>\\\\\n\\hline\n\t 1 & 60 & 70\\\\\n\t 2 & 80 & 83\\\\\n\t 3 & 70 & 65\\\\\n\t 4 & 90 & 95\\\\\n\t 5 & 85 & 80\\\\\n\\end{tabular}\n",
            "text/markdown": "\nA data.frame: 5 × 3\n\n| id &lt;dbl&gt; | midterm &lt;dbl&gt; | final &lt;dbl&gt; |\n|---|---|---|\n| 1 | 60 | 70 |\n| 2 | 80 | 83 |\n| 3 | 70 | 65 |\n| 4 | 90 | 95 |\n| 5 | 85 | 80 |\n\n",
            "text/html": [
              "<table>\n",
              "<caption>A data.frame: 5 × 3</caption>\n",
              "<thead>\n",
              "\t<tr><th scope=col>id</th><th scope=col>midterm</th><th scope=col>final</th></tr>\n",
              "\t<tr><th scope=col>&lt;dbl&gt;</th><th scope=col>&lt;dbl&gt;</th><th scope=col>&lt;dbl&gt;</th></tr>\n",
              "</thead>\n",
              "<tbody>\n",
              "\t<tr><td>1</td><td>60</td><td>70</td></tr>\n",
              "\t<tr><td>2</td><td>80</td><td>83</td></tr>\n",
              "\t<tr><td>3</td><td>70</td><td>65</td></tr>\n",
              "\t<tr><td>4</td><td>90</td><td>95</td></tr>\n",
              "\t<tr><td>5</td><td>85</td><td>80</td></tr>\n",
              "</tbody>\n",
              "</table>\n"
            ]
          },
          "metadata": {
            "tags": []
          }
        }
      ]
    },
    {
      "cell_type": "code",
      "metadata": {
        "id": "Uy_C7e1c5NA8",
        "colab_type": "code",
        "colab": {
          "base_uri": "https://localhost:8080/",
          "height": 200
        },
        "outputId": "7eedacd7-9c33-4916-c1f5-8725b7581daa"
      },
      "source": [
        "# 다른 데이터 활용해 변수 추가하기\n",
        "# 반별 담임교사 명단 생성 \n",
        "name <- data.frame(class = c(1, 2, 3, 4, 5),\n",
        "  teacher = c(\"kim\", \"lee\", \"park\", \"choi\", \"jung\"))\n",
        "name"
      ],
      "execution_count": 56,
      "outputs": [
        {
          "output_type": "display_data",
          "data": {
            "text/plain": [
              "  class teacher\n",
              "1 1     kim    \n",
              "2 2     lee    \n",
              "3 3     park   \n",
              "4 4     choi   \n",
              "5 5     jung   "
            ],
            "text/latex": "A data.frame: 5 × 2\n\\begin{tabular}{ll}\n class & teacher\\\\\n <dbl> & <fct>\\\\\n\\hline\n\t 1 & kim \\\\\n\t 2 & lee \\\\\n\t 3 & park\\\\\n\t 4 & choi\\\\\n\t 5 & jung\\\\\n\\end{tabular}\n",
            "text/markdown": "\nA data.frame: 5 × 2\n\n| class &lt;dbl&gt; | teacher &lt;fct&gt; |\n|---|---|\n| 1 | kim  |\n| 2 | lee  |\n| 3 | park |\n| 4 | choi |\n| 5 | jung |\n\n",
            "text/html": [
              "<table>\n",
              "<caption>A data.frame: 5 × 2</caption>\n",
              "<thead>\n",
              "\t<tr><th scope=col>class</th><th scope=col>teacher</th></tr>\n",
              "\t<tr><th scope=col>&lt;dbl&gt;</th><th scope=col>&lt;fct&gt;</th></tr>\n",
              "</thead>\n",
              "<tbody>\n",
              "\t<tr><td>1</td><td>kim </td></tr>\n",
              "\t<tr><td>2</td><td>lee </td></tr>\n",
              "\t<tr><td>3</td><td>park</td></tr>\n",
              "\t<tr><td>4</td><td>choi</td></tr>\n",
              "\t<tr><td>5</td><td>jung</td></tr>\n",
              "</tbody>\n",
              "</table>\n"
            ]
          },
          "metadata": {
            "tags": []
          }
        }
      ]
    },
    {
      "cell_type": "code",
      "metadata": {
        "id": "ZZchDO4F7Y9O",
        "colab_type": "code",
        "colab": {
          "base_uri": "https://localhost:8080/",
          "height": 498
        },
        "outputId": "3a8c6190-0cd5-4573-a912-81adc4b5d271"
      },
      "source": [
        "# class 기준 합치기 \n",
        "# left_join() 함수 사용\n",
        "exam_new <- left_join(exam, name, by = \"class\") \n",
        "exam_new"
      ],
      "execution_count": 57,
      "outputs": [
        {
          "output_type": "display_data",
          "data": {
            "text/plain": [
              "   id class math english science teacher\n",
              "1   1 1     50   98      50      kim    \n",
              "2   2 1     60   97      60      kim    \n",
              "3   3 1     45   86      78      kim    \n",
              "4   4 1     30   98      58      kim    \n",
              "5   5 2     25   80      65      lee    \n",
              "6   6 2     50   89      98      lee    \n",
              "7   7 2     80   90      45      lee    \n",
              "8   8 2     90   78      25      lee    \n",
              "9   9 3     20   98      15      park   \n",
              "10 10 3     50   98      45      park   \n",
              "11 11 3     65   65      65      park   \n",
              "12 12 3     45   85      32      park   \n",
              "13 13 4     46   98      65      choi   \n",
              "14 14 4     48   87      12      choi   \n",
              "15 15 4     75   56      78      choi   \n",
              "16 16 4     58   98      65      choi   \n",
              "17 17 5     65   68      98      jung   \n",
              "18 18 5     80   78      90      jung   \n",
              "19 19 5     89   68      87      jung   \n",
              "20 20 5     78   83      58      jung   "
            ],
            "text/latex": "A data.frame: 20 × 6\n\\begin{tabular}{llllll}\n id & class & math & english & science & teacher\\\\\n <int> & <dbl> & <int> & <int> & <int> & <fct>\\\\\n\\hline\n\t  1 & 1 & 50 & 98 & 50 & kim \\\\\n\t  2 & 1 & 60 & 97 & 60 & kim \\\\\n\t  3 & 1 & 45 & 86 & 78 & kim \\\\\n\t  4 & 1 & 30 & 98 & 58 & kim \\\\\n\t  5 & 2 & 25 & 80 & 65 & lee \\\\\n\t  6 & 2 & 50 & 89 & 98 & lee \\\\\n\t  7 & 2 & 80 & 90 & 45 & lee \\\\\n\t  8 & 2 & 90 & 78 & 25 & lee \\\\\n\t  9 & 3 & 20 & 98 & 15 & park\\\\\n\t 10 & 3 & 50 & 98 & 45 & park\\\\\n\t 11 & 3 & 65 & 65 & 65 & park\\\\\n\t 12 & 3 & 45 & 85 & 32 & park\\\\\n\t 13 & 4 & 46 & 98 & 65 & choi\\\\\n\t 14 & 4 & 48 & 87 & 12 & choi\\\\\n\t 15 & 4 & 75 & 56 & 78 & choi\\\\\n\t 16 & 4 & 58 & 98 & 65 & choi\\\\\n\t 17 & 5 & 65 & 68 & 98 & jung\\\\\n\t 18 & 5 & 80 & 78 & 90 & jung\\\\\n\t 19 & 5 & 89 & 68 & 87 & jung\\\\\n\t 20 & 5 & 78 & 83 & 58 & jung\\\\\n\\end{tabular}\n",
            "text/markdown": "\nA data.frame: 20 × 6\n\n| id &lt;int&gt; | class &lt;dbl&gt; | math &lt;int&gt; | english &lt;int&gt; | science &lt;int&gt; | teacher &lt;fct&gt; |\n|---|---|---|---|---|---|\n|  1 | 1 | 50 | 98 | 50 | kim  |\n|  2 | 1 | 60 | 97 | 60 | kim  |\n|  3 | 1 | 45 | 86 | 78 | kim  |\n|  4 | 1 | 30 | 98 | 58 | kim  |\n|  5 | 2 | 25 | 80 | 65 | lee  |\n|  6 | 2 | 50 | 89 | 98 | lee  |\n|  7 | 2 | 80 | 90 | 45 | lee  |\n|  8 | 2 | 90 | 78 | 25 | lee  |\n|  9 | 3 | 20 | 98 | 15 | park |\n| 10 | 3 | 50 | 98 | 45 | park |\n| 11 | 3 | 65 | 65 | 65 | park |\n| 12 | 3 | 45 | 85 | 32 | park |\n| 13 | 4 | 46 | 98 | 65 | choi |\n| 14 | 4 | 48 | 87 | 12 | choi |\n| 15 | 4 | 75 | 56 | 78 | choi |\n| 16 | 4 | 58 | 98 | 65 | choi |\n| 17 | 5 | 65 | 68 | 98 | jung |\n| 18 | 5 | 80 | 78 | 90 | jung |\n| 19 | 5 | 89 | 68 | 87 | jung |\n| 20 | 5 | 78 | 83 | 58 | jung |\n\n",
            "text/html": [
              "<table>\n",
              "<caption>A data.frame: 20 × 6</caption>\n",
              "<thead>\n",
              "\t<tr><th scope=col>id</th><th scope=col>class</th><th scope=col>math</th><th scope=col>english</th><th scope=col>science</th><th scope=col>teacher</th></tr>\n",
              "\t<tr><th scope=col>&lt;int&gt;</th><th scope=col>&lt;dbl&gt;</th><th scope=col>&lt;int&gt;</th><th scope=col>&lt;int&gt;</th><th scope=col>&lt;int&gt;</th><th scope=col>&lt;fct&gt;</th></tr>\n",
              "</thead>\n",
              "<tbody>\n",
              "\t<tr><td> 1</td><td>1</td><td>50</td><td>98</td><td>50</td><td>kim </td></tr>\n",
              "\t<tr><td> 2</td><td>1</td><td>60</td><td>97</td><td>60</td><td>kim </td></tr>\n",
              "\t<tr><td> 3</td><td>1</td><td>45</td><td>86</td><td>78</td><td>kim </td></tr>\n",
              "\t<tr><td> 4</td><td>1</td><td>30</td><td>98</td><td>58</td><td>kim </td></tr>\n",
              "\t<tr><td> 5</td><td>2</td><td>25</td><td>80</td><td>65</td><td>lee </td></tr>\n",
              "\t<tr><td> 6</td><td>2</td><td>50</td><td>89</td><td>98</td><td>lee </td></tr>\n",
              "\t<tr><td> 7</td><td>2</td><td>80</td><td>90</td><td>45</td><td>lee </td></tr>\n",
              "\t<tr><td> 8</td><td>2</td><td>90</td><td>78</td><td>25</td><td>lee </td></tr>\n",
              "\t<tr><td> 9</td><td>3</td><td>20</td><td>98</td><td>15</td><td>park</td></tr>\n",
              "\t<tr><td>10</td><td>3</td><td>50</td><td>98</td><td>45</td><td>park</td></tr>\n",
              "\t<tr><td>11</td><td>3</td><td>65</td><td>65</td><td>65</td><td>park</td></tr>\n",
              "\t<tr><td>12</td><td>3</td><td>45</td><td>85</td><td>32</td><td>park</td></tr>\n",
              "\t<tr><td>13</td><td>4</td><td>46</td><td>98</td><td>65</td><td>choi</td></tr>\n",
              "\t<tr><td>14</td><td>4</td><td>48</td><td>87</td><td>12</td><td>choi</td></tr>\n",
              "\t<tr><td>15</td><td>4</td><td>75</td><td>56</td><td>78</td><td>choi</td></tr>\n",
              "\t<tr><td>16</td><td>4</td><td>58</td><td>98</td><td>65</td><td>choi</td></tr>\n",
              "\t<tr><td>17</td><td>5</td><td>65</td><td>68</td><td>98</td><td>jung</td></tr>\n",
              "\t<tr><td>18</td><td>5</td><td>80</td><td>78</td><td>90</td><td>jung</td></tr>\n",
              "\t<tr><td>19</td><td>5</td><td>89</td><td>68</td><td>87</td><td>jung</td></tr>\n",
              "\t<tr><td>20</td><td>5</td><td>78</td><td>83</td><td>58</td><td>jung</td></tr>\n",
              "</tbody>\n",
              "</table>\n"
            ]
          },
          "metadata": {
            "tags": []
          }
        }
      ]
    },
    {
      "cell_type": "code",
      "metadata": {
        "id": "Kjob2UF97bpu",
        "colab_type": "code",
        "colab": {}
      },
      "source": [
        "# 세로로 합치기 \n",
        "# 데이터 생성 \n",
        "# 학생 1~5 번 시험 데이터 생성\n",
        "group_a <- data.frame(id = c(1, 2, 3, 4, 5),                       test = c(60, 80, 70, 90, 85)) \n",
        " \n",
        "# 학생 6~10 번 시험 데이터 생성\n",
        "group_b <- data.frame(id = c(6, 7, 8, 9, 10),                       test = c(70, 83, 65, 95, 80))"
      ],
      "execution_count": 0,
      "outputs": []
    },
    {
      "cell_type": "code",
      "metadata": {
        "id": "2Ay_ISdaAklu",
        "colab_type": "code",
        "colab": {
          "base_uri": "https://localhost:8080/",
          "height": 200
        },
        "outputId": "a4a725e7-9720-40cf-b8d9-8a8bb04de539"
      },
      "source": [
        "group_a"
      ],
      "execution_count": 70,
      "outputs": [
        {
          "output_type": "display_data",
          "data": {
            "text/plain": [
              "  id test\n",
              "1 1  60  \n",
              "2 2  80  \n",
              "3 3  70  \n",
              "4 4  90  \n",
              "5 5  85  "
            ],
            "text/latex": "A data.frame: 5 × 2\n\\begin{tabular}{ll}\n id & test\\\\\n <dbl> & <dbl>\\\\\n\\hline\n\t 1 & 60\\\\\n\t 2 & 80\\\\\n\t 3 & 70\\\\\n\t 4 & 90\\\\\n\t 5 & 85\\\\\n\\end{tabular}\n",
            "text/markdown": "\nA data.frame: 5 × 2\n\n| id &lt;dbl&gt; | test &lt;dbl&gt; |\n|---|---|\n| 1 | 60 |\n| 2 | 80 |\n| 3 | 70 |\n| 4 | 90 |\n| 5 | 85 |\n\n",
            "text/html": [
              "<table>\n",
              "<caption>A data.frame: 5 × 2</caption>\n",
              "<thead>\n",
              "\t<tr><th scope=col>id</th><th scope=col>test</th></tr>\n",
              "\t<tr><th scope=col>&lt;dbl&gt;</th><th scope=col>&lt;dbl&gt;</th></tr>\n",
              "</thead>\n",
              "<tbody>\n",
              "\t<tr><td>1</td><td>60</td></tr>\n",
              "\t<tr><td>2</td><td>80</td></tr>\n",
              "\t<tr><td>3</td><td>70</td></tr>\n",
              "\t<tr><td>4</td><td>90</td></tr>\n",
              "\t<tr><td>5</td><td>85</td></tr>\n",
              "</tbody>\n",
              "</table>\n"
            ]
          },
          "metadata": {
            "tags": []
          }
        }
      ]
    },
    {
      "cell_type": "code",
      "metadata": {
        "id": "LU0LFuIeAkwy",
        "colab_type": "code",
        "colab": {
          "base_uri": "https://localhost:8080/",
          "height": 200
        },
        "outputId": "cae83807-7aad-4190-f44d-0411b1ead0be"
      },
      "source": [
        "group_b"
      ],
      "execution_count": 71,
      "outputs": [
        {
          "output_type": "display_data",
          "data": {
            "text/plain": [
              "  id test\n",
              "1  6 70  \n",
              "2  7 83  \n",
              "3  8 65  \n",
              "4  9 95  \n",
              "5 10 80  "
            ],
            "text/latex": "A data.frame: 5 × 2\n\\begin{tabular}{ll}\n id & test\\\\\n <dbl> & <dbl>\\\\\n\\hline\n\t  6 & 70\\\\\n\t  7 & 83\\\\\n\t  8 & 65\\\\\n\t  9 & 95\\\\\n\t 10 & 80\\\\\n\\end{tabular}\n",
            "text/markdown": "\nA data.frame: 5 × 2\n\n| id &lt;dbl&gt; | test &lt;dbl&gt; |\n|---|---|\n|  6 | 70 |\n|  7 | 83 |\n|  8 | 65 |\n|  9 | 95 |\n| 10 | 80 |\n\n",
            "text/html": [
              "<table>\n",
              "<caption>A data.frame: 5 × 2</caption>\n",
              "<thead>\n",
              "\t<tr><th scope=col>id</th><th scope=col>test</th></tr>\n",
              "\t<tr><th scope=col>&lt;dbl&gt;</th><th scope=col>&lt;dbl&gt;</th></tr>\n",
              "</thead>\n",
              "<tbody>\n",
              "\t<tr><td> 6</td><td>70</td></tr>\n",
              "\t<tr><td> 7</td><td>83</td></tr>\n",
              "\t<tr><td> 8</td><td>65</td></tr>\n",
              "\t<tr><td> 9</td><td>95</td></tr>\n",
              "\t<tr><td>10</td><td>80</td></tr>\n",
              "</tbody>\n",
              "</table>\n"
            ]
          },
          "metadata": {
            "tags": []
          }
        }
      ]
    },
    {
      "cell_type": "code",
      "metadata": {
        "id": "IhZlKus57fk1",
        "colab_type": "code",
        "colab": {
          "base_uri": "https://localhost:8080/",
          "height": 305
        },
        "outputId": "ed617191-c91e-49ec-e8a2-9629d3d81996"
      },
      "source": [
        "# bind_rows() 함수 이용하여 세로로 합치기\n",
        "group_all <- bind_rows(group_a, group_b)  # 데이터 합쳐서 group_all 에 할당\n",
        "group_all                                 # group_all 출력 "
      ],
      "execution_count": 60,
      "outputs": [
        {
          "output_type": "display_data",
          "data": {
            "text/plain": [
              "   id test\n",
              "1   1 60  \n",
              "2   2 80  \n",
              "3   3 70  \n",
              "4   4 90  \n",
              "5   5 85  \n",
              "6   6 70  \n",
              "7   7 83  \n",
              "8   8 65  \n",
              "9   9 95  \n",
              "10 10 80  "
            ],
            "text/latex": "A data.frame: 10 × 2\n\\begin{tabular}{ll}\n id & test\\\\\n <dbl> & <dbl>\\\\\n\\hline\n\t  1 & 60\\\\\n\t  2 & 80\\\\\n\t  3 & 70\\\\\n\t  4 & 90\\\\\n\t  5 & 85\\\\\n\t  6 & 70\\\\\n\t  7 & 83\\\\\n\t  8 & 65\\\\\n\t  9 & 95\\\\\n\t 10 & 80\\\\\n\\end{tabular}\n",
            "text/markdown": "\nA data.frame: 10 × 2\n\n| id &lt;dbl&gt; | test &lt;dbl&gt; |\n|---|---|\n|  1 | 60 |\n|  2 | 80 |\n|  3 | 70 |\n|  4 | 90 |\n|  5 | 85 |\n|  6 | 70 |\n|  7 | 83 |\n|  8 | 65 |\n|  9 | 95 |\n| 10 | 80 |\n\n",
            "text/html": [
              "<table>\n",
              "<caption>A data.frame: 10 × 2</caption>\n",
              "<thead>\n",
              "\t<tr><th scope=col>id</th><th scope=col>test</th></tr>\n",
              "\t<tr><th scope=col>&lt;dbl&gt;</th><th scope=col>&lt;dbl&gt;</th></tr>\n",
              "</thead>\n",
              "<tbody>\n",
              "\t<tr><td> 1</td><td>60</td></tr>\n",
              "\t<tr><td> 2</td><td>80</td></tr>\n",
              "\t<tr><td> 3</td><td>70</td></tr>\n",
              "\t<tr><td> 4</td><td>90</td></tr>\n",
              "\t<tr><td> 5</td><td>85</td></tr>\n",
              "\t<tr><td> 6</td><td>70</td></tr>\n",
              "\t<tr><td> 7</td><td>83</td></tr>\n",
              "\t<tr><td> 8</td><td>65</td></tr>\n",
              "\t<tr><td> 9</td><td>95</td></tr>\n",
              "\t<tr><td>10</td><td>80</td></tr>\n",
              "</tbody>\n",
              "</table>\n"
            ]
          },
          "metadata": {
            "tags": []
          }
        }
      ]
    },
    {
      "cell_type": "markdown",
      "metadata": {
        "id": "r7V2JELU7kkI",
        "colab_type": "text"
      },
      "source": [
        "## 혼자서 해보기(5)"
      ]
    },
    {
      "cell_type": "markdown",
      "metadata": {
        "id": "VPy_GQ1G7l4S",
        "colab_type": "text"
      },
      "source": [
        "mpg 데이터를 이용해서 분석 문제를 해결해 보세요. \n",
        "mpg 데이터의 fl 변수는 자동차에 사용하는 연료(fuel)를 의미합니다. 아래는 자동차 연료별 가격을 나타낸 표입니다. \n",
        "우선 이 정보를 이용해서 연료와 가격으로 구성된 데이터 프레임을 만들어 보세요. "
      ]
    },
    {
      "cell_type": "code",
      "metadata": {
        "id": "s_dnNCKE7jGD",
        "colab_type": "code",
        "colab": {
          "base_uri": "https://localhost:8080/",
          "height": 200
        },
        "outputId": "eeb7e0d7-1baf-41b6-ce27-7a2be6e078b8"
      },
      "source": [
        "fuel <- data.frame(fl = c(\"c\", \"d\", \"e\", \"p\", \"r\"),\n",
        "  price_fl = c(2.35, 2.38, 2.11, 2.76, 2.22),\n",
        "  stringsAsFactors = F) \n",
        "fuel  # 출력"
      ],
      "execution_count": 61,
      "outputs": [
        {
          "output_type": "display_data",
          "data": {
            "text/plain": [
              "  fl price_fl\n",
              "1 c  2.35    \n",
              "2 d  2.38    \n",
              "3 e  2.11    \n",
              "4 p  2.76    \n",
              "5 r  2.22    "
            ],
            "text/latex": "A data.frame: 5 × 2\n\\begin{tabular}{ll}\n fl & price\\_fl\\\\\n <chr> & <dbl>\\\\\n\\hline\n\t c & 2.35\\\\\n\t d & 2.38\\\\\n\t e & 2.11\\\\\n\t p & 2.76\\\\\n\t r & 2.22\\\\\n\\end{tabular}\n",
            "text/markdown": "\nA data.frame: 5 × 2\n\n| fl &lt;chr&gt; | price_fl &lt;dbl&gt; |\n|---|---|\n| c | 2.35 |\n| d | 2.38 |\n| e | 2.11 |\n| p | 2.76 |\n| r | 2.22 |\n\n",
            "text/html": [
              "<table>\n",
              "<caption>A data.frame: 5 × 2</caption>\n",
              "<thead>\n",
              "\t<tr><th scope=col>fl</th><th scope=col>price_fl</th></tr>\n",
              "\t<tr><th scope=col>&lt;chr&gt;</th><th scope=col>&lt;dbl&gt;</th></tr>\n",
              "</thead>\n",
              "<tbody>\n",
              "\t<tr><td>c</td><td>2.35</td></tr>\n",
              "\t<tr><td>d</td><td>2.38</td></tr>\n",
              "\t<tr><td>e</td><td>2.11</td></tr>\n",
              "\t<tr><td>p</td><td>2.76</td></tr>\n",
              "\t<tr><td>r</td><td>2.22</td></tr>\n",
              "</tbody>\n",
              "</table>\n"
            ]
          },
          "metadata": {
            "tags": []
          }
        }
      ]
    },
    {
      "cell_type": "markdown",
      "metadata": {
        "id": "7IQMK-Z876y-",
        "colab_type": "text"
      },
      "source": [
        "Q1. mpg 데이터에는 연료 종류를 나타낸 fl 변수는 있지만 연료 가격을 나타낸 변수는 없습니다. 위에서 만든 fuel 데이터를 이용해서 mpg 데이터에 price_fl(연료 가격) 변수를 추가하세요. "
      ]
    },
    {
      "cell_type": "code",
      "metadata": {
        "id": "unRGZ8BBA8j8",
        "colab_type": "code",
        "colab": {
          "base_uri": "https://localhost:8080/",
          "height": 204
        },
        "outputId": "8aae0342-dbee-48ff-b83e-5c07ac28247a"
      },
      "source": [
        "mpg <- as.data.frame(ggplot2::mpg)      # mpg 데이터 불러오기\n",
        "mpg <- left_join(mpg, fuel, by = \"fl\")  # mpg 에 연료 가격 변수 추가\n",
        "head(mpg)"
      ],
      "execution_count": 73,
      "outputs": [
        {
          "output_type": "display_data",
          "data": {
            "text/plain": [
              "  manufacturer model displ year cyl trans      drv cty hwy fl class   price_fl\n",
              "1 audi         a4    1.8   1999 4   auto(l5)   f   18  29  p  compact 2.76    \n",
              "2 audi         a4    1.8   1999 4   manual(m5) f   21  29  p  compact 2.76    \n",
              "3 audi         a4    2.0   2008 4   manual(m6) f   20  31  p  compact 2.76    \n",
              "4 audi         a4    2.0   2008 4   auto(av)   f   21  30  p  compact 2.76    \n",
              "5 audi         a4    2.8   1999 6   auto(l5)   f   16  26  p  compact 2.76    \n",
              "6 audi         a4    2.8   1999 6   manual(m5) f   18  26  p  compact 2.76    "
            ],
            "text/latex": "A data.frame: 6 × 12\n\\begin{tabular}{r|llllllllllll}\n  & manufacturer & model & displ & year & cyl & trans & drv & cty & hwy & fl & class & price\\_fl\\\\\n  & <chr> & <chr> & <dbl> & <int> & <int> & <chr> & <chr> & <int> & <int> & <chr> & <chr> & <dbl>\\\\\n\\hline\n\t1 & audi & a4 & 1.8 & 1999 & 4 & auto(l5)   & f & 18 & 29 & p & compact & 2.76\\\\\n\t2 & audi & a4 & 1.8 & 1999 & 4 & manual(m5) & f & 21 & 29 & p & compact & 2.76\\\\\n\t3 & audi & a4 & 2.0 & 2008 & 4 & manual(m6) & f & 20 & 31 & p & compact & 2.76\\\\\n\t4 & audi & a4 & 2.0 & 2008 & 4 & auto(av)   & f & 21 & 30 & p & compact & 2.76\\\\\n\t5 & audi & a4 & 2.8 & 1999 & 6 & auto(l5)   & f & 16 & 26 & p & compact & 2.76\\\\\n\t6 & audi & a4 & 2.8 & 1999 & 6 & manual(m5) & f & 18 & 26 & p & compact & 2.76\\\\\n\\end{tabular}\n",
            "text/markdown": "\nA data.frame: 6 × 12\n\n| <!--/--> | manufacturer &lt;chr&gt; | model &lt;chr&gt; | displ &lt;dbl&gt; | year &lt;int&gt; | cyl &lt;int&gt; | trans &lt;chr&gt; | drv &lt;chr&gt; | cty &lt;int&gt; | hwy &lt;int&gt; | fl &lt;chr&gt; | class &lt;chr&gt; | price_fl &lt;dbl&gt; |\n|---|---|---|---|---|---|---|---|---|---|---|---|---|\n| 1 | audi | a4 | 1.8 | 1999 | 4 | auto(l5)   | f | 18 | 29 | p | compact | 2.76 |\n| 2 | audi | a4 | 1.8 | 1999 | 4 | manual(m5) | f | 21 | 29 | p | compact | 2.76 |\n| 3 | audi | a4 | 2.0 | 2008 | 4 | manual(m6) | f | 20 | 31 | p | compact | 2.76 |\n| 4 | audi | a4 | 2.0 | 2008 | 4 | auto(av)   | f | 21 | 30 | p | compact | 2.76 |\n| 5 | audi | a4 | 2.8 | 1999 | 6 | auto(l5)   | f | 16 | 26 | p | compact | 2.76 |\n| 6 | audi | a4 | 2.8 | 1999 | 6 | manual(m5) | f | 18 | 26 | p | compact | 2.76 |\n\n",
            "text/html": [
              "<table>\n",
              "<caption>A data.frame: 6 × 12</caption>\n",
              "<thead>\n",
              "\t<tr><th></th><th scope=col>manufacturer</th><th scope=col>model</th><th scope=col>displ</th><th scope=col>year</th><th scope=col>cyl</th><th scope=col>trans</th><th scope=col>drv</th><th scope=col>cty</th><th scope=col>hwy</th><th scope=col>fl</th><th scope=col>class</th><th scope=col>price_fl</th></tr>\n",
              "\t<tr><th></th><th scope=col>&lt;chr&gt;</th><th scope=col>&lt;chr&gt;</th><th scope=col>&lt;dbl&gt;</th><th scope=col>&lt;int&gt;</th><th scope=col>&lt;int&gt;</th><th scope=col>&lt;chr&gt;</th><th scope=col>&lt;chr&gt;</th><th scope=col>&lt;int&gt;</th><th scope=col>&lt;int&gt;</th><th scope=col>&lt;chr&gt;</th><th scope=col>&lt;chr&gt;</th><th scope=col>&lt;dbl&gt;</th></tr>\n",
              "</thead>\n",
              "<tbody>\n",
              "\t<tr><th scope=row>1</th><td>audi</td><td>a4</td><td>1.8</td><td>1999</td><td>4</td><td>auto(l5)  </td><td>f</td><td>18</td><td>29</td><td>p</td><td>compact</td><td>2.76</td></tr>\n",
              "\t<tr><th scope=row>2</th><td>audi</td><td>a4</td><td>1.8</td><td>1999</td><td>4</td><td>manual(m5)</td><td>f</td><td>21</td><td>29</td><td>p</td><td>compact</td><td>2.76</td></tr>\n",
              "\t<tr><th scope=row>3</th><td>audi</td><td>a4</td><td>2.0</td><td>2008</td><td>4</td><td>manual(m6)</td><td>f</td><td>20</td><td>31</td><td>p</td><td>compact</td><td>2.76</td></tr>\n",
              "\t<tr><th scope=row>4</th><td>audi</td><td>a4</td><td>2.0</td><td>2008</td><td>4</td><td>auto(av)  </td><td>f</td><td>21</td><td>30</td><td>p</td><td>compact</td><td>2.76</td></tr>\n",
              "\t<tr><th scope=row>5</th><td>audi</td><td>a4</td><td>2.8</td><td>1999</td><td>6</td><td>auto(l5)  </td><td>f</td><td>16</td><td>26</td><td>p</td><td>compact</td><td>2.76</td></tr>\n",
              "\t<tr><th scope=row>6</th><td>audi</td><td>a4</td><td>2.8</td><td>1999</td><td>6</td><td>manual(m5)</td><td>f</td><td>18</td><td>26</td><td>p</td><td>compact</td><td>2.76</td></tr>\n",
              "</tbody>\n",
              "</table>\n"
            ]
          },
          "metadata": {
            "tags": []
          }
        }
      ]
    },
    {
      "cell_type": "markdown",
      "metadata": {
        "id": "8LKAFMLu77Tn",
        "colab_type": "text"
      },
      "source": [
        "Q2. 연료 가격 변수가 잘 추가됐는지 확인하기 위해서 model, fl, price_fl 변수를 추출해 앞부분 5 행을 출력해 보세요. "
      ]
    },
    {
      "cell_type": "code",
      "metadata": {
        "id": "TYiK99ghBi0J",
        "colab_type": "code",
        "colab": {
          "base_uri": "https://localhost:8080/",
          "height": 183
        },
        "outputId": "03724781-8fec-4842-981b-831e36129bb9"
      },
      "source": [
        "mpg %>%\n",
        "  select(model, fl, price_fl) %>%\n",
        "head(5)"
      ],
      "execution_count": 78,
      "outputs": [
        {
          "output_type": "display_data",
          "data": {
            "text/plain": [
              "  model fl price_fl\n",
              "1 a4    p  2.76    \n",
              "2 a4    p  2.76    \n",
              "3 a4    p  2.76    \n",
              "4 a4    p  2.76    \n",
              "5 a4    p  2.76    "
            ],
            "text/latex": "A data.frame: 5 × 3\n\\begin{tabular}{r|lll}\n  & model & fl & price\\_fl\\\\\n  & <chr> & <chr> & <dbl>\\\\\n\\hline\n\t1 & a4 & p & 2.76\\\\\n\t2 & a4 & p & 2.76\\\\\n\t3 & a4 & p & 2.76\\\\\n\t4 & a4 & p & 2.76\\\\\n\t5 & a4 & p & 2.76\\\\\n\\end{tabular}\n",
            "text/markdown": "\nA data.frame: 5 × 3\n\n| <!--/--> | model &lt;chr&gt; | fl &lt;chr&gt; | price_fl &lt;dbl&gt; |\n|---|---|---|---|\n| 1 | a4 | p | 2.76 |\n| 2 | a4 | p | 2.76 |\n| 3 | a4 | p | 2.76 |\n| 4 | a4 | p | 2.76 |\n| 5 | a4 | p | 2.76 |\n\n",
            "text/html": [
              "<table>\n",
              "<caption>A data.frame: 5 × 3</caption>\n",
              "<thead>\n",
              "\t<tr><th></th><th scope=col>model</th><th scope=col>fl</th><th scope=col>price_fl</th></tr>\n",
              "\t<tr><th></th><th scope=col>&lt;chr&gt;</th><th scope=col>&lt;chr&gt;</th><th scope=col>&lt;dbl&gt;</th></tr>\n",
              "</thead>\n",
              "<tbody>\n",
              "\t<tr><th scope=row>1</th><td>a4</td><td>p</td><td>2.76</td></tr>\n",
              "\t<tr><th scope=row>2</th><td>a4</td><td>p</td><td>2.76</td></tr>\n",
              "\t<tr><th scope=row>3</th><td>a4</td><td>p</td><td>2.76</td></tr>\n",
              "\t<tr><th scope=row>4</th><td>a4</td><td>p</td><td>2.76</td></tr>\n",
              "\t<tr><th scope=row>5</th><td>a4</td><td>p</td><td>2.76</td></tr>\n",
              "</tbody>\n",
              "</table>\n"
            ]
          },
          "metadata": {
            "tags": []
          }
        }
      ]
    },
    {
      "cell_type": "markdown",
      "metadata": {
        "id": "mT7VD9vV-DOq",
        "colab_type": "text"
      },
      "source": [
        "## 분석 도전 \n",
        "미국 동북중부 437개 지역의 인구통계 정보를 담고 있는 midwest 데이터를 사용해 데이터 분석 문제를 해결해 보세요. midwest는 ggplot2 패키지에 들어 있습니다. "
      ]
    },
    {
      "cell_type": "markdown",
      "metadata": {
        "id": "UmwBm8Et-HLk",
        "colab_type": "text"
      },
      "source": [
        "- 문제 1. popadults 는 해당 지역의 성인 인구, poptotal 은 전체 인구를 나타냅니다. midwest 데이터에 '전체 인구 대비 미성년 인구 백분율' 변수를 추가하세요. "
      ]
    },
    {
      "cell_type": "code",
      "metadata": {
        "id": "qiIgSnim-UZd",
        "colab_type": "code",
        "colab": {
          "base_uri": "https://localhost:8080/",
          "height": 899
        },
        "outputId": "ece90efa-353d-4151-b6e1-7421812b48ba"
      },
      "source": [
        "midwest <- as.data.frame(ggplot2::midwest)\n",
        "summary(midwest)"
      ],
      "execution_count": 100,
      "outputs": [
        {
          "output_type": "display_data",
          "data": {
            "text/plain": [
              "      PID          county             state                area        \n",
              " Min.   : 561   Length:437         Length:437         Min.   :0.00500  \n",
              " 1st Qu.: 670   Class :character   Class :character   1st Qu.:0.02400  \n",
              " Median :1221   Mode  :character   Mode  :character   Median :0.03000  \n",
              " Mean   :1437                                         Mean   :0.03317  \n",
              " 3rd Qu.:2059                                         3rd Qu.:0.03800  \n",
              " Max.   :3052                                         Max.   :0.11000  \n",
              "    poptotal         popdensity          popwhite          popblack      \n",
              " Min.   :   1701   Min.   :   85.05   Min.   :    416   Min.   :      0  \n",
              " 1st Qu.:  18840   1st Qu.:  622.41   1st Qu.:  18630   1st Qu.:     29  \n",
              " Median :  35324   Median : 1156.21   Median :  34471   Median :    201  \n",
              " Mean   :  96130   Mean   : 3097.74   Mean   :  81840   Mean   :  11024  \n",
              " 3rd Qu.:  75651   3rd Qu.: 2330.00   3rd Qu.:  72968   3rd Qu.:   1291  \n",
              " Max.   :5105067   Max.   :88018.40   Max.   :3204947   Max.   :1317147  \n",
              " popamerindian        popasian         popother        percwhite    \n",
              " Min.   :    4.0   Min.   :     0   Min.   :     0   Min.   :10.69  \n",
              " 1st Qu.:   44.0   1st Qu.:    35   1st Qu.:    20   1st Qu.:94.89  \n",
              " Median :   94.0   Median :   102   Median :    66   Median :98.03  \n",
              " Mean   :  343.1   Mean   :  1310   Mean   :  1613   Mean   :95.56  \n",
              " 3rd Qu.:  288.0   3rd Qu.:   401   3rd Qu.:   345   3rd Qu.:99.07  \n",
              " Max.   :10289.0   Max.   :188565   Max.   :384119   Max.   :99.82  \n",
              "   percblack       percamerindan        percasian        percother      \n",
              " Min.   : 0.0000   Min.   : 0.05623   Min.   :0.0000   Min.   :0.00000  \n",
              " 1st Qu.: 0.1157   1st Qu.: 0.15793   1st Qu.:0.1737   1st Qu.:0.09102  \n",
              " Median : 0.5390   Median : 0.21502   Median :0.2972   Median :0.17844  \n",
              " Mean   : 2.6763   Mean   : 0.79894   Mean   :0.4872   Mean   :0.47906  \n",
              " 3rd Qu.: 2.6014   3rd Qu.: 0.38362   3rd Qu.:0.5212   3rd Qu.:0.48050  \n",
              " Max.   :40.2100   Max.   :89.17738   Max.   :5.0705   Max.   :7.52427  \n",
              "   popadults          perchsd        percollege        percprof      \n",
              " Min.   :   1287   Min.   :46.91   Min.   : 7.336   Min.   : 0.5203  \n",
              " 1st Qu.:  12271   1st Qu.:71.33   1st Qu.:14.114   1st Qu.: 2.9980  \n",
              " Median :  22188   Median :74.25   Median :16.798   Median : 3.8142  \n",
              " Mean   :  60973   Mean   :73.97   Mean   :18.273   Mean   : 4.4473  \n",
              " 3rd Qu.:  47541   3rd Qu.:77.20   3rd Qu.:20.550   3rd Qu.: 4.9493  \n",
              " Max.   :3291995   Max.   :88.90   Max.   :48.079   Max.   :20.7913  \n",
              " poppovertyknown   percpovertyknown percbelowpoverty percchildbelowpovert\n",
              " Min.   :   1696   Min.   :80.90    Min.   : 2.180   Min.   : 1.919      \n",
              " 1st Qu.:  18364   1st Qu.:96.89    1st Qu.: 9.199   1st Qu.:11.624      \n",
              " Median :  33788   Median :98.17    Median :11.822   Median :15.270      \n",
              " Mean   :  93642   Mean   :97.11    Mean   :12.511   Mean   :16.447      \n",
              " 3rd Qu.:  72840   3rd Qu.:98.60    3rd Qu.:15.133   3rd Qu.:20.352      \n",
              " Max.   :5023523   Max.   :99.86    Max.   :48.691   Max.   :64.308      \n",
              " percadultpoverty percelderlypoverty    inmetro         category        \n",
              " Min.   : 1.938   Min.   : 3.547     Min.   :0.0000   Length:437        \n",
              " 1st Qu.: 7.668   1st Qu.: 8.912     1st Qu.:0.0000   Class :character  \n",
              " Median :10.008   Median :10.869     Median :0.0000   Mode  :character  \n",
              " Mean   :10.919   Mean   :11.389     Mean   :0.3432                     \n",
              " 3rd Qu.:13.182   3rd Qu.:13.412     3rd Qu.:1.0000                     \n",
              " Max.   :43.312   Max.   :31.162     Max.   :1.0000                     "
            ]
          },
          "metadata": {
            "tags": []
          }
        }
      ]
    },
    {
      "cell_type": "code",
      "metadata": {
        "id": "MzS2L9JFQwq9",
        "colab_type": "code",
        "colab": {}
      },
      "source": [
        "midwest <- midwest %>% mutate(ratio_child = (poptotal-popadults)/poptotal*100) "
      ],
      "execution_count": 0,
      "outputs": []
    },
    {
      "cell_type": "markdown",
      "metadata": {
        "id": "6TLei85X-KTR",
        "colab_type": "text"
      },
      "source": [
        "- 문제 2. 미성년 인구 백분율이 가장 높은 상위 5 개 county(지역)의 미성년 인구 백분율을 출력하세요."
      ]
    },
    {
      "cell_type": "code",
      "metadata": {
        "id": "lowTZ5gz-U3c",
        "colab_type": "code",
        "colab": {
          "base_uri": "https://localhost:8080/",
          "height": 183
        },
        "outputId": "6cea0a43-0d28-43e0-db6c-59480e5ed61b"
      },
      "source": [
        "midwest %>%   arrange(desc(ratio_child)) %>%   \n",
        "   select(county, ratio_child) %>%  \n",
        "   head(5)                        "
      ],
      "execution_count": 102,
      "outputs": [
        {
          "output_type": "display_data",
          "data": {
            "text/plain": [
              "  county    ratio_child\n",
              "1 ISABELLA  51.50117   \n",
              "2 MENOMINEE 50.59126   \n",
              "3 ATHENS    49.32073   \n",
              "4 MECOSTA   49.05918   \n",
              "5 MONROE    47.35818   "
            ],
            "text/latex": "A data.frame: 5 × 2\n\\begin{tabular}{r|ll}\n  & county & ratio\\_child\\\\\n  & <chr> & <dbl>\\\\\n\\hline\n\t1 & ISABELLA  & 51.50117\\\\\n\t2 & MENOMINEE & 50.59126\\\\\n\t3 & ATHENS    & 49.32073\\\\\n\t4 & MECOSTA   & 49.05918\\\\\n\t5 & MONROE    & 47.35818\\\\\n\\end{tabular}\n",
            "text/markdown": "\nA data.frame: 5 × 2\n\n| <!--/--> | county &lt;chr&gt; | ratio_child &lt;dbl&gt; |\n|---|---|---|\n| 1 | ISABELLA  | 51.50117 |\n| 2 | MENOMINEE | 50.59126 |\n| 3 | ATHENS    | 49.32073 |\n| 4 | MECOSTA   | 49.05918 |\n| 5 | MONROE    | 47.35818 |\n\n",
            "text/html": [
              "<table>\n",
              "<caption>A data.frame: 5 × 2</caption>\n",
              "<thead>\n",
              "\t<tr><th></th><th scope=col>county</th><th scope=col>ratio_child</th></tr>\n",
              "\t<tr><th></th><th scope=col>&lt;chr&gt;</th><th scope=col>&lt;dbl&gt;</th></tr>\n",
              "</thead>\n",
              "<tbody>\n",
              "\t<tr><th scope=row>1</th><td>ISABELLA </td><td>51.50117</td></tr>\n",
              "\t<tr><th scope=row>2</th><td>MENOMINEE</td><td>50.59126</td></tr>\n",
              "\t<tr><th scope=row>3</th><td>ATHENS   </td><td>49.32073</td></tr>\n",
              "\t<tr><th scope=row>4</th><td>MECOSTA  </td><td>49.05918</td></tr>\n",
              "\t<tr><th scope=row>5</th><td>MONROE   </td><td>47.35818</td></tr>\n",
              "</tbody>\n",
              "</table>\n"
            ]
          },
          "metadata": {
            "tags": []
          }
        }
      ]
    },
    {
      "cell_type": "markdown",
      "metadata": {
        "id": "xZ6XjDpI-Kny",
        "colab_type": "text"
      },
      "source": [
        "- 문제 3. 분류표의 기준에 따라 미성년 비율 등급 변수를 추가하고, 각 등급에 몇 개의 지역이 있는지 알아보세요"
      ]
    },
    {
      "cell_type": "code",
      "metadata": {
        "id": "hmJzpcYx-VQ6",
        "colab_type": "code",
        "colab": {}
      },
      "source": [
        "midwest <- midwest %>%  \n",
        " mutate(grade = ifelse(ratio_child >= 40, \"large\",\n",
        "                   ifelse(ratio_child >= 30, \"middle\", \"small\"))) "
      ],
      "execution_count": 0,
      "outputs": []
    },
    {
      "cell_type": "code",
      "metadata": {
        "id": "KHitBEtmRNfa",
        "colab_type": "code",
        "colab": {
          "base_uri": "https://localhost:8080/",
          "height": 71
        },
        "outputId": "1b942617-a1f6-4f23-c4e1-a14b1eaf37cf"
      },
      "source": [
        "table(midwest$grade)"
      ],
      "execution_count": 104,
      "outputs": [
        {
          "output_type": "display_data",
          "data": {
            "text/plain": [
              "\n",
              " large middle  small \n",
              "    32    396      9 "
            ]
          },
          "metadata": {
            "tags": []
          }
        }
      ]
    },
    {
      "cell_type": "markdown",
      "metadata": {
        "id": "vigmWOEe-P_8",
        "colab_type": "text"
      },
      "source": [
        "- 문제4. popasian은 해당 지역의 아시아인 인구를 나타냅니다. '전체 인구 대비 아시아인 인구 백분율' 변수를 추가하고, 하위 10개 지역의 state(주), county(지역명), 아시아인 인구 백분율을 출력하세요."
      ]
    },
    {
      "cell_type": "code",
      "metadata": {
        "id": "BIF7BdGu-Tv0",
        "colab_type": "code",
        "colab": {
          "base_uri": "https://localhost:8080/",
          "height": 288
        },
        "outputId": "0364fee1-f1ab-4781-860d-f6f49d091d77"
      },
      "source": [
        "midwest %>% \n",
        "  mutate(ratio_asian = (popasian / poptotal)*100) %>%\n",
        "  arrange(ratio_asian) %>%\n",
        "  select(state, county, ratio_asian) %>%\n",
        "  head(10)"
      ],
      "execution_count": 105,
      "outputs": [
        {
          "output_type": "display_data",
          "data": {
            "text/plain": [
              "   state county    ratio_asian\n",
              "1  WI    MENOMINEE 0.00000000 \n",
              "2  IN    BENTON    0.01059210 \n",
              "3  IN    CARROLL   0.01594981 \n",
              "4  OH    VINTON    0.02703190 \n",
              "5  WI    IRON      0.03250447 \n",
              "6  IL    SCOTT     0.05315379 \n",
              "7  IN    CLAY      0.06071645 \n",
              "8  MI    OSCODA    0.06375925 \n",
              "9  OH    PERRY     0.06654625 \n",
              "10 IL    PIATT     0.07074865 "
            ],
            "text/latex": "A data.frame: 10 × 3\n\\begin{tabular}{r|lll}\n  & state & county & ratio\\_asian\\\\\n  & <chr> & <chr> & <dbl>\\\\\n\\hline\n\t1 & WI & MENOMINEE & 0.00000000\\\\\n\t2 & IN & BENTON    & 0.01059210\\\\\n\t3 & IN & CARROLL   & 0.01594981\\\\\n\t4 & OH & VINTON    & 0.02703190\\\\\n\t5 & WI & IRON      & 0.03250447\\\\\n\t6 & IL & SCOTT     & 0.05315379\\\\\n\t7 & IN & CLAY      & 0.06071645\\\\\n\t8 & MI & OSCODA    & 0.06375925\\\\\n\t9 & OH & PERRY     & 0.06654625\\\\\n\t10 & IL & PIATT     & 0.07074865\\\\\n\\end{tabular}\n",
            "text/markdown": "\nA data.frame: 10 × 3\n\n| <!--/--> | state &lt;chr&gt; | county &lt;chr&gt; | ratio_asian &lt;dbl&gt; |\n|---|---|---|---|\n| 1 | WI | MENOMINEE | 0.00000000 |\n| 2 | IN | BENTON    | 0.01059210 |\n| 3 | IN | CARROLL   | 0.01594981 |\n| 4 | OH | VINTON    | 0.02703190 |\n| 5 | WI | IRON      | 0.03250447 |\n| 6 | IL | SCOTT     | 0.05315379 |\n| 7 | IN | CLAY      | 0.06071645 |\n| 8 | MI | OSCODA    | 0.06375925 |\n| 9 | OH | PERRY     | 0.06654625 |\n| 10 | IL | PIATT     | 0.07074865 |\n\n",
            "text/html": [
              "<table>\n",
              "<caption>A data.frame: 10 × 3</caption>\n",
              "<thead>\n",
              "\t<tr><th></th><th scope=col>state</th><th scope=col>county</th><th scope=col>ratio_asian</th></tr>\n",
              "\t<tr><th></th><th scope=col>&lt;chr&gt;</th><th scope=col>&lt;chr&gt;</th><th scope=col>&lt;dbl&gt;</th></tr>\n",
              "</thead>\n",
              "<tbody>\n",
              "\t<tr><th scope=row>1</th><td>WI</td><td>MENOMINEE</td><td>0.00000000</td></tr>\n",
              "\t<tr><th scope=row>2</th><td>IN</td><td>BENTON   </td><td>0.01059210</td></tr>\n",
              "\t<tr><th scope=row>3</th><td>IN</td><td>CARROLL  </td><td>0.01594981</td></tr>\n",
              "\t<tr><th scope=row>4</th><td>OH</td><td>VINTON   </td><td>0.02703190</td></tr>\n",
              "\t<tr><th scope=row>5</th><td>WI</td><td>IRON     </td><td>0.03250447</td></tr>\n",
              "\t<tr><th scope=row>6</th><td>IL</td><td>SCOTT    </td><td>0.05315379</td></tr>\n",
              "\t<tr><th scope=row>7</th><td>IN</td><td>CLAY     </td><td>0.06071645</td></tr>\n",
              "\t<tr><th scope=row>8</th><td>MI</td><td>OSCODA   </td><td>0.06375925</td></tr>\n",
              "\t<tr><th scope=row>9</th><td>OH</td><td>PERRY    </td><td>0.06654625</td></tr>\n",
              "\t<tr><th scope=row>10</th><td>IL</td><td>PIATT    </td><td>0.07074865</td></tr>\n",
              "</tbody>\n",
              "</table>\n"
            ]
          },
          "metadata": {
            "tags": []
          }
        }
      ]
    },
    {
      "cell_type": "markdown",
      "metadata": {
        "id": "93Ne3FwV-j6e",
        "colab_type": "text"
      },
      "source": [
        "## 정리하기 "
      ]
    },
    {
      "cell_type": "code",
      "metadata": {
        "id": "F_yRjYZb72I8",
        "colab_type": "code",
        "colab": {}
      },
      "source": [
        "# 1. 조건에 맞는 데이터만 추출하기\n",
        "exam %>% filter(english >= 80) \n",
        " \n",
        "# 여러 조건 동시 충족\n",
        "exam %>% filter(class == 1 & math >= 50) \n",
        " \n",
        "# 여러 조건 중 하나 이상 충족\n",
        "exam %>% filter(math >= 90 | english >= 90) exam %>% filter(class %in% c(1,3,5)) \n",
        " \n",
        " \n",
        "# 2. 필요한 변수만 추출하기\n",
        "exam %>% select(math) exam %>% select(class, math, english) \n",
        " \n",
        " \n",
        "# 3. 함수 조합하기 , 일부만 출력하기\n",
        "exam %>%   select(id, math) %>%   head(10) \n",
        "# 4. 순서대로 정렬하기\n",
        "exam %>% arrange(math)         # 오름차순 정렬\n",
        "exam %>% arrange(desc(math))   # 내림차순 정렬\n",
        "exam %>% arrange(class, math)  # 여러 변수 기준 오름차순 정렬\n",
        " \n",
        " \n",
        "# 5. 파생변수 추가하기\n",
        "exam %>% mutate(total = math + english + science) \n",
        " \n",
        "# 여러 파생변수 한 번에 추가하기\n",
        "exam %>%   mutate(total = math + english + science,          mean = (math + english + science)/3) \n",
        " \n",
        "# mutate() 에 ifelse() 적용하기\n",
        "exam %>% mutate(test = ifelse(science >= 60, \"pass\", \"fail\")) \n",
        " \n",
        "# 추가한 변수를 dplyr 코드에 바로 활용하기\n",
        "exam %>%   mutate(total = math + english + science) %>%   arrange(total) \n",
        "# 6. 집단별로 요약하기\n",
        "exam %>%   group_by(class) %>%   summarise(mean_math = mean(math)) \n",
        " \n",
        "# 각 집단별로 다시 집단 나누기\n",
        "mpg %>%   group_by(manufacturer, drv) %>%   summarise(mean_cty = mean(cty)) \n",
        " \n",
        " \n",
        "# 7. 데이터 합치기\n",
        "# 가로로 합치기\n",
        "total <- left_join(test1, test2, by = \"id\") \n",
        " \n",
        "# 세로로 합치기\n",
        "group_all <- bind_rows(group_a, group_b) "
      ],
      "execution_count": 0,
      "outputs": []
    }
  ]
}